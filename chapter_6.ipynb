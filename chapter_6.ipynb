{
  "nbformat": 4,
  "nbformat_minor": 0,
  "metadata": {
    "colab": {
      "provenance": [],
      "authorship_tag": "ABX9TyNCOU9ajxEabY7bHAQ1v4p8"
    },
    "kernelspec": {
      "name": "python3",
      "display_name": "Python 3"
    },
    "language_info": {
      "name": "python"
    }
  },
  "cells": [
    {
      "cell_type": "markdown",
      "source": [
        "# 6장 예외 처리"
      ],
      "metadata": {
        "id": "duF8SABguKkw"
      }
    },
    {
      "cell_type": "markdown",
      "source": [
        "## 6-1 구문 오류와 예외\n",
        "*   구문 오류 : 프로그램 실행 '전' 괄호의개수나 들여쓰기 문제 등으로 발생\n",
        "*   예외 : 런타임 오류라고도 불리우고 프로그램 실행 '중' 발생하는 오류\n",
        "\n"
      ],
      "metadata": {
        "id": "qMY6jjz7uPpT"
      }
    },
    {
      "cell_type": "markdown",
      "source": [
        "### 기본 예외 처리\n",
        "*   조건문을 사용하는 방법\n",
        "*   try 구문을 사용하는방법\n",
        "\n"
      ],
      "metadata": {
        "id": "U5fz9skquPqC"
      }
    },
    {
      "cell_type": "code",
      "execution_count": 1,
      "metadata": {
        "colab": {
          "base_uri": "https://localhost:8080/"
        },
        "id": "2jgRzzneuG6i",
        "outputId": "8301f266-6ebe-43a4-9b23-252a3a5d32eb"
      },
      "outputs": [
        {
          "output_type": "stream",
          "name": "stdout",
          "text": [
            "정수를 입력해주세요 : 654\n",
            "원의 반지름: 654\n",
            "원의 둘레: 4107.12\n",
            "원의 넓이: 1343028.24\n"
          ]
        }
      ],
      "source": [
        "# 조건문으로 예외 처리하기\n",
        "\n",
        "# 숫자를 입력받는다.\n",
        "user_input_a = input(\"정수를 입력해주세요 : \")\n",
        "\n",
        "# 사용자 입력이 숫자로만 구성되어 있을 때\n",
        "if user_input_a.isdigit():\n",
        "  # 숫자로 변환\n",
        "  number_input_a = int(user_input_a)\n",
        "\n",
        "  # 출력\n",
        "  print(\"원의 반지름:\", number_input_a)\n",
        "  print(\"원의 둘레:\", 2 * 3.14 * number_input_a)\n",
        "  print(\"원의 넓이:\", 3.14 * number_input_a * number_input_a)\n",
        "else:\n",
        "  print(\"정수를 입력하지 않았습니다\")"
      ]
    },
    {
      "cell_type": "markdown",
      "source": [
        "#### try except 구문\n",
        "\n",
        "\n",
        "```\n",
        "try:\n",
        "  예외가 발생할 가능성이 있는 코드\n",
        "except:\n",
        "  예외가 발생했을 때 실행할 코드\n",
        "```\n",
        "\n"
      ],
      "metadata": {
        "id": "SYbO9uf4wpGw"
      }
    },
    {
      "cell_type": "code",
      "source": [
        "# try except 구문으로 예외를 처리한다.\n",
        "\n",
        "# 숫자를 입력받는다.\n",
        "user_input_a = input(\"정수를 입력해주세요 : \")\n",
        "\n",
        "try:\n",
        "  # 숫자로 변환\n",
        "  number_input_a = int(user_input_a)\n",
        "\n",
        "  # 출력\n",
        "  print(\"원의 반지름:\", number_input_a)\n",
        "  print(\"원의 둘레:\", 2 * 3.14 * number_input_a)\n",
        "  print(\"원의 넓이:\", 3.14 * number_input_a * number_input_a)\n",
        "except:\n",
        "  print(\"무언가 잘못되었습니다!\")"
      ],
      "metadata": {
        "colab": {
          "base_uri": "https://localhost:8080/"
        },
        "id": "zMskGFmsvmzB",
        "outputId": "2f19cfe8-9ffe-4088-c043-c808fada28b6"
      },
      "execution_count": 3,
      "outputs": [
        {
          "output_type": "stream",
          "name": "stdout",
          "text": [
            "정수를 입력해주세요 : 1d\n",
            "무언가 잘못되었습니다!\n"
          ]
        }
      ]
    },
    {
      "cell_type": "markdown",
      "source": [
        "#### pass 키워드!\n",
        "해당 코드가 중요한 부분이 아닌데, 프로그램이 강제 종료되는 것부터 막자는 목적으로 except 구문에 넣어주는 경우!"
      ],
      "metadata": {
        "id": "2XcRAsgf1yo9"
      }
    },
    {
      "cell_type": "code",
      "source": [
        "# 숫자로 변환되는 것들만 리스트에 넣기\n",
        "\n",
        "# 변수 선언\n",
        "list_input_a = [\"52\", \"273\", \"32\", \"스파이\", \"103\"]\n",
        "\n",
        "# 반복을 적용\n",
        "list_number = []\n",
        "\n",
        "for item in list_input_a:\n",
        "  # 숫자로 변환해서 리스트에 추가한다.\n",
        "  try:\n",
        "    float(item)   # 숫자로 변환할 수 없는 문자열이라면 이를 실행할 때 예외가 발생\n",
        "    list_number.append(item)\n",
        "  except:\n",
        "    pass\n",
        "\n",
        "# 출력\n",
        "print(\"{} 내부에 있는 숫자는\".format(list_input_a))\n",
        "print(\"{} 입니다.\".format(list_number))"
      ],
      "metadata": {
        "colab": {
          "base_uri": "https://localhost:8080/"
        },
        "id": "5jcpvIhgxNsK",
        "outputId": "aaec8cb0-7f1d-4fca-f58e-26eec6dc5bd5"
      },
      "execution_count": null,
      "outputs": [
        {
          "output_type": "stream",
          "name": "stdout",
          "text": [
            "['52', '273', '32', '스파이', '103'] 내부에 있는 숫자는\n",
            "['52', '273', '32', '103'] 입니다.\n"
          ]
        }
      ]
    },
    {
      "cell_type": "markdown",
      "source": [
        "#### try except else 구문\n",
        "\n",
        "\n",
        "```\n",
        "try:\n",
        "  예외가 발생할 가능성이 있는 코드\n",
        "except:\n",
        "  예외가 발생했을 때 실행할 코드\n",
        "else:\n",
        "  예외가 발생하지 않았을 때 실행할 코드\n",
        "```\n",
        "\n"
      ],
      "metadata": {
        "id": "cuNXLuqK2rKZ"
      }
    },
    {
      "cell_type": "code",
      "source": [
        "# try except else 구문\n",
        "\n",
        "try:\n",
        "  # 숫자로 변환합니다.\n",
        "  number_input_a = int(input(\"정수 입력 : \"))\n",
        "except:\n",
        "  print(\"정수를 입력하지 않았습니다\")\n",
        "else:\n",
        "  # 출력\n",
        "  print(\"원의 반지름:\", number_input_a)\n",
        "  print(\"원의 둘레:\", 2 * 3.14 * number_input_a)\n",
        "  print(\"원의 넓이:\", 3.14 * number_input_a * number_input_a)"
      ],
      "metadata": {
        "colab": {
          "base_uri": "https://localhost:8080/"
        },
        "id": "wEd6zsr72T4Q",
        "outputId": "3d1bc98a-97ad-47e8-fe14-7142507d3e0d"
      },
      "execution_count": 5,
      "outputs": [
        {
          "output_type": "stream",
          "name": "stdout",
          "text": [
            "정수 입력 : ㅇ\n",
            "정수를 입력하지 않았습니다\n"
          ]
        }
      ]
    },
    {
      "cell_type": "markdown",
      "source": [
        "#### Finally 구문\n",
        "\n",
        "\n",
        "```\n",
        "try:\n",
        "  예외가 발생할 가능성이 있는 코드\n",
        "except:\n",
        "  예외가 발생했을 때 실행할 코드\n",
        "else:\n",
        "  예외가 발생하지 않았을 때 실행할 코드\n",
        "finally:\n",
        "  무조건 실행할 코드\n",
        "```\n",
        "\n"
      ],
      "metadata": {
        "id": "Q3FnHRd03h6_"
      }
    },
    {
      "cell_type": "code",
      "source": [
        "# finally 구문\n",
        "\n",
        "try:\n",
        "  # 숫자로 변환합니다.\n",
        "  number_input_a = int(input(\"정수 입력 : \"))\n",
        "\n",
        "  # 출력\n",
        "  print(\"원의 반지름:\", number_input_a)\n",
        "  print(\"원의 둘레:\", 2 * 3.14 * number_input_a)\n",
        "  print(\"원의 넓이:\", 3.14 * number_input_a * number_input_a)\n",
        "\n",
        "except:\n",
        "  print(\"정수를 입력하지 않았습니다\")\n",
        "\n",
        "else:\n",
        "  print(\"예외가 발생하지 않았습니다\")\n",
        "\n",
        "finally:\n",
        "  print(\"일단 프로그램이 어떻게든 끝났습니다\")"
      ],
      "metadata": {
        "colab": {
          "base_uri": "https://localhost:8080/"
        },
        "id": "T-WeMLRE3JAr",
        "outputId": "e3094652-c037-4b98-f33a-9788db274091"
      },
      "execution_count": 6,
      "outputs": [
        {
          "output_type": "stream",
          "name": "stdout",
          "text": [
            "정수 입력 : 123\n",
            "원의 반지름: 123\n",
            "원의 둘레: 772.44\n",
            "원의 넓이: 47505.060000000005\n",
            "예외가 발생하지 않았습니다\n",
            "일단 프로그램이 어떻게든 끝났습니다\n"
          ]
        }
      ]
    },
    {
      "cell_type": "markdown",
      "source": [
        "### try, except, finally 구문의 조합 규칙!\n",
        "\n",
        "\n",
        "* try 구문은 단독으로 사용할 수 없으며, 반드시 except 구문 또는 finally 구문과 함께 사용해야 한다.\n",
        "* else 구문은 반드시 except 구문 뒤에 사용해야 한다.\n",
        "\n"
      ],
      "metadata": {
        "id": "4luj477x4RHg"
      }
    },
    {
      "cell_type": "code",
      "source": [
        "# finally 구문의 설명으로 file 의 closed 속성을 많이 예를 들기도 한다.\n",
        "# 파일을 열고 있으면 해당 파일을 이동하거나 덮어 씌우거나 하는 것이 불가능해진다.\n",
        "# 따라서, 파일을 열었으면 반드시 닫아야 한다!!\n",
        "\n",
        "# 파일이 제대로 닫혔는지 확인하기\n",
        "try:\n",
        "  # 파일을 연다\n",
        "  file = open(\"info.txt\", \"w\")\n",
        "\n",
        "  # 여러 가지 처리를 수행 ...\n",
        "\n",
        "  # 파일을 닫는다.\n",
        "  file.close()\n",
        "except:\n",
        "  print(\"오류가 발생했습니다\")\n",
        "\n",
        "print(\"# 파일이 제대로 닫혔는지 확인하기\")\n",
        "print(\"file.closed: \", file.closed)"
      ],
      "metadata": {
        "colab": {
          "base_uri": "https://localhost:8080/"
        },
        "id": "QFn5CMea3-6P",
        "outputId": "6ceb0b5c-37f9-48bf-c7c7-ae939f58e9ce"
      },
      "execution_count": null,
      "outputs": [
        {
          "output_type": "stream",
          "name": "stdout",
          "text": [
            "# 파일이 제대로 닫혔는지 확인하기\n",
            "file.closed:  True\n"
          ]
        }
      ]
    },
    {
      "cell_type": "code",
      "source": [
        "# 파일 처리 중간에 예외가 발생할 경우\n",
        "\n",
        "try:\n",
        "  # 파일을 연다\n",
        "  file = open(\"info.txt\", \"w\")\n",
        "\n",
        "  # 여러 가지 처리 ...\n",
        "  예외.발생해라() # 일부러 예외 발생\n",
        "\n",
        "  # 파일을 닫는다\n",
        "  file.close()\n",
        "\n",
        "except:\n",
        "  print(\"오류가 발생했습니다.\")\n",
        "\n",
        "print(\"# 파일이 제대로 닫혔는지 확인하기\")\n",
        "print(\"file.closed: \", file.closed)"
      ],
      "metadata": {
        "colab": {
          "base_uri": "https://localhost:8080/"
        },
        "id": "PaP_lJAY5Z1s",
        "outputId": "db0c9cea-029b-4cc1-f28e-a438f46b8379"
      },
      "execution_count": null,
      "outputs": [
        {
          "output_type": "stream",
          "name": "stdout",
          "text": [
            "오류가 발생했습니다.\n",
            "# 파일이 제대로 닫혔는지 확인하기\n",
            "file.closed:  False\n"
          ]
        }
      ]
    },
    {
      "cell_type": "code",
      "source": [
        "# finally 구문을 사용해 파일 닫기\n",
        "\n",
        "# 파일 처리 중간에 예외가 발생할 경우\n",
        "\n",
        "try:\n",
        "  # 파일을 연다\n",
        "  file = open(\"info.txt\", \"w\")\n",
        "\n",
        "  # 여러 가지 처리 ...\n",
        "  예외.발생해라() # 일부러 예외 발생\n",
        "\n",
        "  # 파일을 닫는다\n",
        "  file.close()\n",
        "\n",
        "except:\n",
        "  print(\"오류가 발생했습니다.\")\n",
        "\n",
        "finally:\n",
        "  # 파일을 닫는다\n",
        "  file.close()\n",
        "\n",
        "print(\"# 파일이 제대로 닫혔는지 확인하기\")\n",
        "print(\"file.closed: \", file.closed)"
      ],
      "metadata": {
        "colab": {
          "base_uri": "https://localhost:8080/"
        },
        "id": "AbwZNGN46sWZ",
        "outputId": "605608dc-95ca-4a38-a5d8-4d9eece1b739"
      },
      "execution_count": null,
      "outputs": [
        {
          "output_type": "stream",
          "name": "stdout",
          "text": [
            "오류가 발생했습니다.\n",
            "# 파일이 제대로 닫혔는지 확인하기\n",
            "file.closed:  True\n"
          ]
        }
      ]
    },
    {
      "cell_type": "code",
      "source": [
        "# 그냥 try except 구문이 끝난 후 파일 닫기\n",
        "\n",
        "try:\n",
        "  # 파일을 연다\n",
        "  file = open(\"info.txt\", \"w\")\n",
        "\n",
        "  # 여러 가지 처리 ...\n",
        "  예외.발생해라() # 일부러 예외 발생\n",
        "\n",
        "  # 파일을 닫는다\n",
        "  file.close()\n",
        "\n",
        "except:\n",
        "  print(\"오류가 발생했습니다.\")\n",
        "\n",
        "file.close()\n",
        "print(\"# 파일이 제대로 닫혔는지 확인하기\")\n",
        "print(\"file.closed: \", file.closed)\n",
        "\n",
        "\n",
        "# 한마디로 파일 처리를 할 때 무조건 finally 키워드를 사용해야 한다는 것은 아니다!!\n",
        "# finally 키워드를 무조건 사용하라는 것이 아닌, 코드가 깔끔해질 것 같다고 생각되는 경우에 사용한다,"
      ],
      "metadata": {
        "colab": {
          "base_uri": "https://localhost:8080/"
        },
        "id": "2mPo407R63qo",
        "outputId": "e3b1bd6b-34bc-4c76-f896-bcfa7bc5c5f2"
      },
      "execution_count": null,
      "outputs": [
        {
          "output_type": "stream",
          "name": "stdout",
          "text": [
            "오류가 발생했습니다.\n",
            "# 파일이 제대로 닫혔는지 확인하기\n",
            "file.closed:  True\n"
          ]
        }
      ]
    },
    {
      "cell_type": "code",
      "source": [
        "# finally 구문은 반복문 또는 함수 내부에 있을 때 위력을 발휘한다!\n",
        "\n",
        "# try 구문 내부에서 return 키워드를 사용하는 경우\n",
        "\n",
        "def test():\n",
        "  print(\"test() 함수의 첫 줄입니다.\")\n",
        "  try:\n",
        "    print(\"try 구문이 실행되었습니다.\")\n",
        "    return\n",
        "    print(\"try 구문의 return 키워드 뒤입니다.\")\n",
        "  except:\n",
        "    print(\"except 구문이 실행되었습니다.\")\n",
        "  else:\n",
        "    print(\"else 구문이 실행되었습니다.\")\n",
        "  finally:\n",
        "    print(\"finally 구문이 실행되었습니다.\")\n",
        "\n",
        "  print(\"test() 함수의 마지막 줄입니다.\")\n",
        "\n",
        "# 함수 호출\n",
        "test()\n",
        "\n",
        "# 함수 내 return 키워드가 있어도 finally 구문은 무조건 실행된다."
      ],
      "metadata": {
        "colab": {
          "base_uri": "https://localhost:8080/"
        },
        "id": "_G6ekNDD7I2W",
        "outputId": "e6429c18-96b8-4143-aac7-055cf21674de"
      },
      "execution_count": 7,
      "outputs": [
        {
          "output_type": "stream",
          "name": "stdout",
          "text": [
            "test() 함수의 첫 줄입니다.\n",
            "try 구문이 실행되었습니다.\n",
            "finally 구문이 실행되었습니다.\n"
          ]
        }
      ]
    },
    {
      "cell_type": "code",
      "source": [
        "# finally 키워드 활용\n",
        "\n",
        "def write_text_file(filename, text):\n",
        "  # try except 구문을 사용\n",
        "  try:\n",
        "    # 파일을 연다\n",
        "    file = open(\"info.txt\", \"w\")\n",
        "\n",
        "    # 여러 가지 처리 수행 ...\n",
        "    return\n",
        "\n",
        "    # 파일에 텍스트를 입력\n",
        "    file.write(text)\n",
        "\n",
        "  except:\n",
        "    print(\"오류가 발생했습니다.\")\n",
        "\n",
        "  finally:\n",
        "    # 파일을 닫는다\n",
        "    file.close()\n",
        "\n",
        "# 함수 호출\n",
        "write_text_file(\"text.txt\", \"안녕하세요!\")"
      ],
      "metadata": {
        "id": "LSurpUBR8AIX"
      },
      "execution_count": 8,
      "outputs": []
    },
    {
      "cell_type": "code",
      "source": [
        "# 반복문과 함께 사용하는 경우\n",
        "\n",
        "print(\"프로그램이 시작되었습니다.\")\n",
        "\n",
        "while True:\n",
        "  try:\n",
        "    print(\"try 구문이 실행되었습니다.\")\n",
        "    break\n",
        "    print(\"try 구문의 break 키워드 뒤입니다.\")\n",
        "\n",
        "  except:\n",
        "    print(\"except 구문이 실행되었습니다.\")\n",
        "\n",
        "  finally:\n",
        "    print(\"finally 구문이 실행되었습니다.\")\n",
        "\n",
        "  print(\"while 반복문의 마지막 줄입니다.\")\n",
        "\n",
        "print(\"프로그램이 종료되었습니다.\")\n",
        "\n",
        "\n",
        "# break 키워드로 try 구문 전체를 빠져나가도 finally 구문이 실행되는 것을 볼 수 있다."
      ],
      "metadata": {
        "colab": {
          "base_uri": "https://localhost:8080/"
        },
        "id": "0YxSkHg_80HY",
        "outputId": "eccba4c4-95f6-4ba1-9c92-915ce9a009e6"
      },
      "execution_count": 10,
      "outputs": [
        {
          "output_type": "stream",
          "name": "stdout",
          "text": [
            "프로그램이 시작되었습니다.\n",
            "try 구문이 실행되었습니다.\n",
            "finally 구문이 실행되었습니다.\n",
            "프로그램이 종료되었습니다.\n"
          ]
        }
      ]
    },
    {
      "cell_type": "markdown",
      "source": [
        "# 6-1 확인문제"
      ],
      "metadata": {
        "id": "fkK0QFz7AWqB"
      }
    },
    {
      "cell_type": "markdown",
      "source": [
        "## 1번\n",
        "### 구문 오류(Syntax Error)와 예외(Exception)의 차이를 설명하라"
      ],
      "metadata": {
        "id": "WAQ_YNtkAZcf"
      }
    },
    {
      "cell_type": "markdown",
      "source": [
        "구문 오류는 프로그램 실행 '전' 코드 등 잘못 씀으로써 프로그램이 실행되지도 못한다.\n",
        "<br>\n",
        "예외는 프로그램이 실행 '중' 변수의 할당이나 실행하는 데이터에 문제가 있을 경우이다."
      ],
      "metadata": {
        "id": "qH3tzJztAngb"
      }
    },
    {
      "cell_type": "markdown",
      "source": [
        "# 2번"
      ],
      "metadata": {
        "id": "kxruyo5FBV57"
      }
    },
    {
      "cell_type": "markdown",
      "source": [
        "## 리스트 내부에서 특정 값이 어디 있는지 확일할 때 리스트의 index() 함수를 사용한다.\n",
        "\n",
        "\n",
        "\n",
        "```\n",
        "numbers = [52, 273, 32, 103, 90, 10, 275]\n",
        "\n",
        "print(\"# (1) 요소 내부에 있는 값 찾기\")\n",
        "print(\"- {}는 {} 위치에 있습니다.\".format(52, numbers.index(52)))\n",
        "print()\n",
        "\n",
        "print(\"# (2) 요소 내부에 없는 값 찾기\")\n",
        "number = 10000\n",
        "(_________________)\n",
        "  print(\"-{}는 {} 위치에 있습니다.\".format(number, numbers.index(number)))\n",
        "(_________________)\n",
        "  print(\"- 리스트 내부에 없는 값입니다.\")\n",
        "print()\n",
        "\n",
        "print(\"--- 정상적으로 종료되었습니다. ---\")\n",
        "```\n",
        "\n",
        "\n",
        "\n",
        "*   다음 코드의 빈칸을 조건문을 사용한 코드\n",
        "*   try except 구문을 사용한 코드로 채워서 예외가 발생하지 않고 코드가 실행 결과처럼 출력되게 만들라.\n",
        "\n",
        "```\n",
        "--- 실행 결과 ---\n",
        "\n",
        "# (1) 요소 내부에 있는 값 찾기\n",
        "- 52는 0 위치에 있습니다.\n",
        "\n",
        "# (2) 요소 내부에 없는 값 찾기\n",
        "- 리스트 내부에 없는 값입니다.\n",
        "\n",
        "--- 정상적으로 종료되었습니다. ---\n",
        "```\n",
        "\n",
        "\n"
      ],
      "metadata": {
        "id": "uxiscReLBXFI"
      }
    },
    {
      "cell_type": "code",
      "source": [
        "# 조건문으로 풀기\n",
        "\n",
        "numbers = [52, 273, 32, 103, 90, 10, 275]\n",
        "\n",
        "print(\"# (1) 요소 내부에 있는 값 찾기\")\n",
        "print(\"- {}는 {} 위치에 있습니다.\".format(52, numbers.index(52)))\n",
        "print()\n",
        "\n",
        "print(\"# (2) 요소 내부에 없는 값 찾기\")\n",
        "number = 10000\n",
        "\n",
        "if number in numbers:   # number 값이 numbers 리스트 안에 있는 것이 True인 경우에 실행!\n",
        "  print(\"-{}는 {} 위치에 있습니다.\".format(number, numbers.index(number)))\n",
        "else:\n",
        "  print(\"- 리스트 내부에 없는 값입니다.\")\n",
        "print()\n",
        "\n",
        "print(\"--- 정상적으로 종료되었습니다. ---\")"
      ],
      "metadata": {
        "colab": {
          "base_uri": "https://localhost:8080/"
        },
        "id": "Xb4_vg969nAT",
        "outputId": "58aa97a1-6062-4a88-a7e0-fd6af9fac3fb"
      },
      "execution_count": null,
      "outputs": [
        {
          "output_type": "stream",
          "name": "stdout",
          "text": [
            "# (1) 요소 내부에 있는 값 찾기\n",
            "- 52는 0 위치에 있습니다.\n",
            "\n",
            "# (2) 요소 내부에 없는 값 찾기\n",
            "-10000는 2 위치에 있습니다.\n",
            "\n",
            "--- 정상적으로 종료되었습니다. ---\n"
          ]
        }
      ]
    },
    {
      "cell_type": "code",
      "source": [
        "# try except 구문으로 풀기\n",
        "\n",
        "numbers = [52, 273, 32, 103, 90, 10, 275]\n",
        "\n",
        "print(\"# (1) 요소 내부에 있는 값 찾기\")\n",
        "print(\"- {}는 {} 위치에 있습니다.\".format(52, numbers.index(52)))\n",
        "print()\n",
        "\n",
        "print(\"# (2) 요소 내부에 없는 값 찾기\")\n",
        "number = 10000\n",
        "\n",
        "try:\n",
        "  print(\"-{}는 {} 위치에 있습니다.\".format(number, numbers.index(number)))\n",
        "except:\n",
        "  print(\"- 리스트 내부에 없는 값입니다.\")\n",
        "print()\n",
        "\n",
        "print(\"--- 정상적으로 종료되었습니다. ---\")"
      ],
      "metadata": {
        "colab": {
          "base_uri": "https://localhost:8080/"
        },
        "id": "FEY1QDYQDWbZ",
        "outputId": "9e180805-3295-40f5-a8de-628cd33d8a9d"
      },
      "execution_count": null,
      "outputs": [
        {
          "output_type": "stream",
          "name": "stdout",
          "text": [
            "# (1) 요소 내부에 있는 값 찾기\n",
            "- 52는 0 위치에 있습니다.\n",
            "\n",
            "# (2) 요소 내부에 없는 값 찾기\n",
            "- 리스트 내부에 없는 값입니다.\n",
            "\n",
            "--- 정상적으로 종료되었습니다. ---\n"
          ]
        }
      ]
    },
    {
      "cell_type": "code",
      "source": [
        "# 사용자의 입력을 받아 찾아보기 (복습 & 연습)\n",
        "\n",
        "numbers = [52, 273, 32, 103, 90, 10, 275]\n",
        "\n",
        "print(\"리스트 목록 : \", list(numbers))\n",
        "print()\n",
        "\n",
        "print(\"# (1) 요소 내부에 있는 값 찾기\")\n",
        "print(\"- {}는 {} 위치에 있습니다.\".format(52, numbers.index(52)))\n",
        "print()\n",
        "\n",
        "print(\"# (2) 입력받은 값을 리스트에서 찾기\")\n",
        "number = input(\"찾을 숫자를 입력해주세요 : \")\n",
        "\n",
        "try:\n",
        "  print(\"- {}는 {} 위치에 있습니다.\".format(number, numbers.index(int(number))))\n",
        "except:\n",
        "  print(\"- 숫자를 입력하시지 않았거나 리스트 내부에 없는 값입니다.\")\n",
        "finally:\n",
        "  print()\n",
        "  print(\"--- 정상적으로 종료되었습니다. ---\")"
      ],
      "metadata": {
        "colab": {
          "base_uri": "https://localhost:8080/"
        },
        "id": "2VcvRaTyapyW",
        "outputId": "8502c101-1692-4699-90db-532d8f6d2fc8"
      },
      "execution_count": 20,
      "outputs": [
        {
          "output_type": "stream",
          "name": "stdout",
          "text": [
            "리스트 목록 :  [52, 273, 32, 103, 90, 10, 275]\n",
            "\n",
            "# (1) 요소 내부에 있는 값 찾기\n",
            "- 52는 0 위치에 있습니다.\n",
            "\n",
            "# (2) 입력받은 값을 리스트에서 찾기\n",
            "찾을 숫자를 입력해주세요 : 521\n",
            "- 숫자를 입력하시지 않았거나 리스트 내부에 없는 값입니다.\n",
            "\n",
            "--- 정상적으로 종료되었습니다. ---\n"
          ]
        }
      ]
    },
    {
      "cell_type": "markdown",
      "source": [
        "# 3번"
      ],
      "metadata": {
        "id": "0f8t0T1fEfe7"
      }
    },
    {
      "cell_type": "markdown",
      "source": [
        "## 다음 중 구문 오류 발생이 예상되면 '구문 오류'에, 예외 발생이 예상되면 '예외'에 체크를 한 후, 예상되는 에러명도 적으시오.\n",
        "\n",
        "```\n",
        "output = 10 + '개'  # 1번\n",
        "int(\"안녕하세요\")   # 2번\n",
        "cursor.close)       # 3번\n",
        "[1,2,3,4,5][10]     # 4번\n",
        "```"
      ],
      "metadata": {
        "id": "biKmROZMEh3D"
      }
    },
    {
      "cell_type": "markdown",
      "source": [
        "1. '예외' --> int와 str은 '+'연산이 안된다!\n",
        "2. '예외' --> int() 함수 내에 '문자열'이 왔다!\n",
        "3. '구문 오류' --> 소괄호 하나가 빠졌다!\n",
        "4. '예외' --> 리스트 문법 오류?"
      ],
      "metadata": {
        "id": "aVmIlKq8E-0y"
      }
    },
    {
      "cell_type": "markdown",
      "source": [
        "**정답**\n",
        "1. 예외 : TypeError\n",
        "2. 예외 : ValueError\n",
        "3. 구문 오류 : SyntaxError\n",
        "4. 예외 : IndexError"
      ],
      "metadata": {
        "id": "Zio5YzbNFaCe"
      }
    },
    {
      "cell_type": "markdown",
      "source": [
        "# 6-2 예외 고급 **"
      ],
      "metadata": {
        "id": "9YmaNar7Th9S"
      }
    },
    {
      "cell_type": "markdown",
      "source": [
        "## 예외 객체\n",
        "\n",
        "\n",
        "```\n",
        "try:\n",
        "  예외가 발생할 가능성이 있는 구문\n",
        "except 예외의 종류 as 예외 객체를 활용할 변수 이름:\n",
        "  예외가 발생했을 때 실행할 구문\n",
        "```\n",
        "* 예외의 종류 : 예외의 어머니 = **Exception** (클래스)\n",
        "\n"
      ],
      "metadata": {
        "id": "uW2OYJdCT5h1"
      }
    },
    {
      "cell_type": "code",
      "source": [
        "# 예외 객체\n",
        "\n",
        "try:\n",
        "  # 숫자로 변환한다.\n",
        "  number_input_a = int(input(\"정수 입력 : \"))\n",
        "\n",
        "  # 출력\n",
        "  print(\"원의 반지름:\", number_input_a)\n",
        "  print(\"원의 둘레:\", 2 * 3.14 * number_input_a)\n",
        "  print(\"원의 넓이:\", 3.14 * number_input_a * number_input_a)\n",
        "\n",
        "except Exception as exception:    # Exception은 클래스이고, exception은 사용할 변수 이름이다.\n",
        "  # 예외 객체를 출력해본다.\n",
        "  print(\"type(exception):\", type(exception))\n",
        "  print(\"exception:\", exception)"
      ],
      "metadata": {
        "id": "_X0plYRDD_cf",
        "colab": {
          "base_uri": "https://localhost:8080/"
        },
        "outputId": "abebdff1-bc12-46aa-93c1-40fcc427589d"
      },
      "execution_count": 21,
      "outputs": [
        {
          "output_type": "stream",
          "name": "stdout",
          "text": [
            "정수 입력 : asd\n",
            "type(exception): <class 'ValueError'>\n",
            "exception: invalid literal for int() with base 10: 'asd'\n"
          ]
        }
      ]
    },
    {
      "cell_type": "markdown",
      "source": [
        "## 예외 구분하기\n",
        "예외 객체를 사용하면 except 구문을 if 조건문처럼 사용해서 예외를 구분할 수 있다"
      ],
      "metadata": {
        "id": "gj0hA85nViZR"
      }
    },
    {
      "cell_type": "code",
      "source": [
        "# 여러가지 예외가 발생할 수 있는 코드\n",
        "\n",
        "# 변수 선언\n",
        "list_number = [52, 273, 32, 72, 100]\n",
        "\n",
        "# try except 구문으로 예외를 처리\n",
        "try:\n",
        "  # 숫자를 입력 받는다.\n",
        "  number_input = int(input(\"정수 입력 : \"))\n",
        "\n",
        "  # 리스트 요소를 출력\n",
        "  print(\"{}번째 요소: {}\".format(number_input, list_number[number_input]))\n",
        "except Exception as exception:\n",
        "  # 예외 객체를 출력해본다.\n",
        "  print(\"type(exception):\", type(exception))\n",
        "  print(\"exception:\", exception)"
      ],
      "metadata": {
        "colab": {
          "base_uri": "https://localhost:8080/"
        },
        "id": "ziy1yMXTUyOf",
        "outputId": "9ef65f59-1d5c-4a68-c60c-e206b3336470"
      },
      "execution_count": null,
      "outputs": [
        {
          "output_type": "stream",
          "name": "stdout",
          "text": [
            "정수 입력 : 10\n",
            "type(exception): <class 'IndexError'>\n",
            "exception: list index out of range\n"
          ]
        }
      ]
    },
    {
      "cell_type": "markdown",
      "source": [
        "## 예외 구분하기 사용 예시\n",
        "\n",
        "\n",
        "```\n",
        "try:\n",
        "  예외가 발생할 가능성이 있는 구문\n",
        "except 예외의 종류A:\n",
        "  예외A가 발생했을 때 실행할 구문\n",
        "except 예외의 종류B:\n",
        "  예외B가 발생했을 때 실행할 구문\n",
        "except 예외의 종류C:\n",
        "  예외C가 발생했을 때 실행할 구문\n",
        "```\n",
        "\n"
      ],
      "metadata": {
        "id": "oUkzgIO3Wipe"
      }
    },
    {
      "cell_type": "code",
      "source": [
        "# 예외 구분하기\n",
        "\n",
        "# 변수 선언\n",
        "list_number = [52, 273, 32, 72, 100]\n",
        "\n",
        "# try except 구문으로 예외를 처리\n",
        "try:\n",
        "  # 숫자를 입력 받는다.\n",
        "  number_input = int(input(\"정수 입력 : \"))\n",
        "\n",
        "  # 리스트 요소를 출력\n",
        "  print(\"{}번째 요소: {}\".format(number_input, list_number[number_input]))\n",
        "except ValueError:\n",
        "  # ValueError가 발생하는 경우\n",
        "  print(\"정수를 입력해 주세요!\")\n",
        "except IndexError:\n",
        "  # IndexError가 발생하는 경우\n",
        "  print(\"리스트의 인덱스를 벗어났어요!\")"
      ],
      "metadata": {
        "colab": {
          "base_uri": "https://localhost:8080/"
        },
        "id": "c0HbYH_nWK12",
        "outputId": "678fe8c3-f271-426e-bae8-d25d5d26c943"
      },
      "execution_count": 22,
      "outputs": [
        {
          "output_type": "stream",
          "name": "stdout",
          "text": [
            "정수 입력 : 10\n",
            "리스트의 인덱스를 벗어났어요!\n"
          ]
        }
      ]
    },
    {
      "cell_type": "markdown",
      "source": [
        "## '예외 구분' 구문과 '예외 객체'\n",
        "예외를 구분할 때 각각의 except 구문 뒤에 예외 객체를 붙여 활용할 수도 있다. <br>\n",
        "마찬가지로 '**as 키워드**'를 사용하면 된다."
      ],
      "metadata": {
        "id": "r2z9HIb3X3Hw"
      }
    },
    {
      "cell_type": "code",
      "source": [
        "# 예외 구문과 예외 객체\n",
        "\n",
        "# 변수 선언\n",
        "list_number = [52, 273, 32, 72, 100]\n",
        "\n",
        "# try except 구문으로 예외를 처리\n",
        "try:\n",
        "  # 숫자를 입력 받는다.\n",
        "  number_input = int(input(\"정수 입력 : \"))\n",
        "\n",
        "  # 리스트 요소를 출력\n",
        "  print(\"{}번째 요소: {}\".format(number_input, list_number[number_input]))\n",
        "except ValueError as exception:\n",
        "  # ValueError가 발생하는 경우\n",
        "  print(\"정수를 입력해 주세요!\")\n",
        "  print(\"exception:\", exception)\n",
        "except IndexError as exception:\n",
        "  # IndexError가 발생하는 경우\n",
        "  print(\"리스트의 인덱스를 벗어났어요!\")\n",
        "  print(\"exception:\", exception)"
      ],
      "metadata": {
        "colab": {
          "base_uri": "https://localhost:8080/"
        },
        "id": "-z4M7MW6Xj-J",
        "outputId": "6ceaa73b-e70a-442b-e06a-65cacc832967"
      },
      "execution_count": null,
      "outputs": [
        {
          "output_type": "stream",
          "name": "stdout",
          "text": [
            "정수 입력 : asdf\n",
            "정수를 입력해 주세요!\n",
            "exception: invalid literal for int() with base 10: 'asdf'\n"
          ]
        }
      ]
    },
    {
      "cell_type": "markdown",
      "source": [
        "## 모든 예외 잡기\n",
        "except 구문으로 예외를 구분하면 조건문처럼 차례대로 오류를 검출하면서 확인한다. <br>\n",
        "하지만 예외 조건에 일치하는 것이 없다면 당연히 예외가 발생하며 프로그램이 강제 종료된다!<br><br>\n",
        "따라서 else 구문처럼 마지막에는 모든 예외의 부모라고 할 수 있는 \"Exception\"을 넣어서 프로그램이 죽지 않게 하는 것이 좋다!!"
      ],
      "metadata": {
        "id": "ry681x03Yvl3"
      }
    },
    {
      "cell_type": "markdown",
      "source": [
        "1. 예외 처리를 했지만 예외를 못 잡는 경우!"
      ],
      "metadata": {
        "id": "zwu51rmSgpZG"
      }
    },
    {
      "cell_type": "code",
      "source": [
        "# 변수 선언\n",
        "list_number = [52, 273, 32, 72, 100]\n",
        "\n",
        "# try except 구문으로 예외를 처리\n",
        "try:\n",
        "  # 숫자를 입력 받는다.\n",
        "  number_input = int(input(\"정수 입력 : \"))\n",
        "\n",
        "  # 리스트 요소를 출력\n",
        "  print(\"{}번째 요소: {}\".format(number_input, list_number[number_input]))\n",
        "  예외.발생해주세요()\n",
        "except ValueError as exception:\n",
        "  # ValueError가 발생하는 경우\n",
        "  print(\"정수를 입력해 주세요!\")\n",
        "  print(\"exception:\", exception)\n",
        "except IndexError as exception:\n",
        "  # IndexError가 발생하는 경우\n",
        "  print(\"리스트의 인덱스를 벗어났어요!\")\n",
        "  print(\"exception:\", exception)"
      ],
      "metadata": {
        "colab": {
          "base_uri": "https://localhost:8080/",
          "height": 295
        },
        "id": "2tIn-6XQYeYm",
        "outputId": "436bb87c-0e67-4b3c-ebc0-172c8bd71a92"
      },
      "execution_count": 24,
      "outputs": [
        {
          "output_type": "stream",
          "name": "stdout",
          "text": [
            "정수 입력 : 2\n",
            "2번째 요소: 32\n"
          ]
        },
        {
          "output_type": "error",
          "ename": "NameError",
          "evalue": "ignored",
          "traceback": [
            "\u001b[0;31m---------------------------------------------------------------------------\u001b[0m",
            "\u001b[0;31mNameError\u001b[0m                                 Traceback (most recent call last)",
            "\u001b[0;32m<ipython-input-24-da313deac46b>\u001b[0m in \u001b[0;36m<cell line: 5>\u001b[0;34m()\u001b[0m\n\u001b[1;32m      9\u001b[0m   \u001b[0;31m# 리스트 요소를 출력\u001b[0m\u001b[0;34m\u001b[0m\u001b[0;34m\u001b[0m\u001b[0m\n\u001b[1;32m     10\u001b[0m   \u001b[0mprint\u001b[0m\u001b[0;34m(\u001b[0m\u001b[0;34m\"{}번째 요소: {}\"\u001b[0m\u001b[0;34m.\u001b[0m\u001b[0mformat\u001b[0m\u001b[0;34m(\u001b[0m\u001b[0mnumber_input\u001b[0m\u001b[0;34m,\u001b[0m \u001b[0mlist_number\u001b[0m\u001b[0;34m[\u001b[0m\u001b[0mnumber_input\u001b[0m\u001b[0;34m]\u001b[0m\u001b[0;34m)\u001b[0m\u001b[0;34m)\u001b[0m\u001b[0;34m\u001b[0m\u001b[0;34m\u001b[0m\u001b[0m\n\u001b[0;32m---> 11\u001b[0;31m   \u001b[0m예외\u001b[0m\u001b[0;34m.\u001b[0m\u001b[0m발생해주세요\u001b[0m\u001b[0;34m(\u001b[0m\u001b[0;34m)\u001b[0m\u001b[0;34m\u001b[0m\u001b[0;34m\u001b[0m\u001b[0m\n\u001b[0m\u001b[1;32m     12\u001b[0m \u001b[0;32mexcept\u001b[0m \u001b[0mValueError\u001b[0m \u001b[0;32mas\u001b[0m \u001b[0mexception\u001b[0m\u001b[0;34m:\u001b[0m\u001b[0;34m\u001b[0m\u001b[0;34m\u001b[0m\u001b[0m\n\u001b[1;32m     13\u001b[0m   \u001b[0;31m# ValueError가 발생하는 경우\u001b[0m\u001b[0;34m\u001b[0m\u001b[0;34m\u001b[0m\u001b[0m\n",
            "\u001b[0;31mNameError\u001b[0m: name '예외' is not defined"
          ]
        }
      ]
    },
    {
      "cell_type": "markdown",
      "source": [
        "2. 모든 예외 잡기"
      ],
      "metadata": {
        "id": "rYaTyoSWgwbW"
      }
    },
    {
      "cell_type": "code",
      "source": [
        "# 변수 선언\n",
        "list_number = [52, 273, 32, 72, 100]\n",
        "\n",
        "# try except 구문으로 예외를 처리\n",
        "try:\n",
        "  # 숫자를 입력 받는다.\n",
        "  number_input = int(input(\"정수 입력 : \"))\n",
        "\n",
        "  # 리스트 요소를 출력\n",
        "  print(\"{}번째 요소: {}\".format(number_input, list_number[number_input]))\n",
        "  예외.발생해주세요()\n",
        "except ValueError as exception:\n",
        "  # ValueError가 발생하는 경우\n",
        "  print(\"정수를 입력해 주세요!\")\n",
        "  print(\"exception:\", exception)\n",
        "except IndexError as exception:\n",
        "  # IndexError가 발생하는 경우\n",
        "  print(\"리스트의 인덱스를 벗어났어요!\")\n",
        "  print(\"exception:\", exception)\n",
        "except Exception as exception:     # Exception 클래스를 사용!!\n",
        "  # 이외의 예외가 발생한 경우\n",
        "  print(\"미리 파악하지 못한 예외가 발생했습니다!\")\n",
        "  print(type(exception), exception)"
      ],
      "metadata": {
        "colab": {
          "base_uri": "https://localhost:8080/"
        },
        "id": "RpFd_NR6ZTLa",
        "outputId": "ea27b148-d1f1-422c-ee19-8e0b58e2a184"
      },
      "execution_count": 29,
      "outputs": [
        {
          "output_type": "stream",
          "name": "stdout",
          "text": [
            "정수 입력 : 2\n",
            "2번째 요소: 32\n",
            "미리 파악하지 못한 예외가 발생했습니다!\n",
            "<class 'NameError'> name '예외' is not defined\n"
          ]
        }
      ]
    },
    {
      "cell_type": "markdown",
      "source": [
        "# **raise** 구문\n",
        "프로그램이 강제 종료되는 것을 막기 위해 예외는 꼭 처리해야한다! <br><br>\n",
        "하지만, raise 구문을 사용하는 경우는\n",
        "\n",
        "\n",
        "*   아직 구현하지 않은 부분이니까 **확실하게 문제가 생기게 만들자**\n",
        "*   이 부분을 그냥 넘어가면 나중에 큰 문제가 발생하니 **여기서 강제 종료시키자**\n",
        "*   예외를 **강제로 발생시키는 기능**을 한다!!\n",
        "\n",
        "\n",
        "\n",
        "```\n",
        "raise 예외 객체\n",
        "```\n",
        "\n",
        "\n"
      ],
      "metadata": {
        "id": "Xl4ChZb7c-Nw"
      }
    },
    {
      "cell_type": "markdown",
      "source": [
        "* ## 아직 구현되지 않은 부분에서 강제로 예외 발생시키기\n"
      ],
      "metadata": {
        "id": "3n88DUWlhHku"
      }
    },
    {
      "cell_type": "code",
      "source": [
        "# 입력을 받는다.\n",
        "number = input(\"정수 입력 : \")\n",
        "number = int(number)\n",
        "\n",
        "# 조건문 사용\n",
        "if number > 0:\n",
        "  # 양수일 때: 아직 미구현 상태입니다.\n",
        "  raise NotImplementedError\n",
        "else:\n",
        "  # 음수일 때: 아직 미구현 상태입니다.\n",
        "  raise NotImplementedError"
      ],
      "metadata": {
        "colab": {
          "base_uri": "https://localhost:8080/",
          "height": 276
        },
        "id": "_PvouJqgZ0aJ",
        "outputId": "999f47f0-605c-471f-8248-c73397304e53"
      },
      "execution_count": 26,
      "outputs": [
        {
          "name": "stdout",
          "output_type": "stream",
          "text": [
            "정수 입력 : 51\n"
          ]
        },
        {
          "output_type": "error",
          "ename": "NotImplementedError",
          "evalue": "ignored",
          "traceback": [
            "\u001b[0;31m---------------------------------------------------------------------------\u001b[0m",
            "\u001b[0;31mNotImplementedError\u001b[0m                       Traceback (most recent call last)",
            "\u001b[0;32m<ipython-input-26-7ea60f96f816>\u001b[0m in \u001b[0;36m<cell line: 6>\u001b[0;34m()\u001b[0m\n\u001b[1;32m      6\u001b[0m \u001b[0;32mif\u001b[0m \u001b[0mnumber\u001b[0m \u001b[0;34m>\u001b[0m \u001b[0;36m0\u001b[0m\u001b[0;34m:\u001b[0m\u001b[0;34m\u001b[0m\u001b[0;34m\u001b[0m\u001b[0m\n\u001b[1;32m      7\u001b[0m   \u001b[0;31m# 양수일 때: 아직 미구현 상태입니다.\u001b[0m\u001b[0;34m\u001b[0m\u001b[0;34m\u001b[0m\u001b[0m\n\u001b[0;32m----> 8\u001b[0;31m   \u001b[0;32mraise\u001b[0m \u001b[0mNotImplementedError\u001b[0m\u001b[0;34m\u001b[0m\u001b[0;34m\u001b[0m\u001b[0m\n\u001b[0m\u001b[1;32m      9\u001b[0m \u001b[0;32melse\u001b[0m\u001b[0;34m:\u001b[0m\u001b[0;34m\u001b[0m\u001b[0;34m\u001b[0m\u001b[0m\n\u001b[1;32m     10\u001b[0m   \u001b[0;31m# 음수일 때: 아직 미구현 상태입니다.\u001b[0m\u001b[0;34m\u001b[0m\u001b[0;34m\u001b[0m\u001b[0m\n",
            "\u001b[0;31mNotImplementedError\u001b[0m: "
          ]
        }
      ]
    },
    {
      "cell_type": "markdown",
      "source": [
        "## 6-2 확인문제"
      ],
      "metadata": {
        "id": "R08UbA_jia6T"
      }
    },
    {
      "cell_type": "markdown",
      "source": [
        "### 1번\n",
        "#### 예외를 강제로 발생시킬 때 사용하는 키워드로 맞는 것은?\n",
        "\n",
        "\n",
        "1.   throw\n",
        "2.   raise\n",
        "3.   runtime\n",
        "4.   error\n",
        "<br>\n",
        "정답은 2번!!\n",
        "\n"
      ],
      "metadata": {
        "id": "zqk84rU2ie1Y"
      }
    },
    {
      "cell_type": "markdown",
      "source": [
        "### 2번\n",
        "#### 예외를 강제로 발생시키는 raise 구문은 초보 단계에서는 이런 걸 왜 많이 사용하는지 의문이 들 수밖에 없는 구문이다. 하지만 정말로 많이 사용된다. 본문에서 살펴보았던 깃허브에서 코드를 찾는 방법으로 인공지능 개발에서 많이 사용되는 수치 연산 라이브러리인 텐서플로(TensorFlow)에서 raise 구문이 사용되는 예를 세 가지 찾아보자. 정해진 답은 없다."
      ],
      "metadata": {
        "id": "BOMzqXD7i99W"
      }
    },
    {
      "cell_type": "markdown",
      "source": [
        "\n",
        "\n",
        "```\n",
        "raise ValueError(\n",
        "  'incompatible dtype; specified: {}, inferred from {}: {}'.format(\n",
        "    element_dtype, elements, inferred_dtype))\n",
        "\n",
        "raise ValueError(\n",
        "  'element shape may not be spectified when creating list from tensor')\n",
        "\n",
        "raies NotImplemetedError('tensor lists only support removing from the end')\n",
        "```\n",
        "\n",
        "정해진 답은 없다. \"이런 식으로 다른 사람들이 만든 구문을 볼 수 있고, raise 구문을 정말 많이 사용하는구나\" 라는 느낌만 받자\n"
      ],
      "metadata": {
        "id": "D5Kg4cXOjb-L"
      }
    }
  ]
}