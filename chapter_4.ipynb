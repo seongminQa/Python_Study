{
  "cells": [
    {
      "cell_type": "markdown",
      "source": [
        "# 반복문\n",
        "* 리스트, 딕셔너리, 범위 이해하기\n",
        "* for 반복문과 리스트, 딕셔너리, 범위를 조합하는 방법을 배운다\n",
        "* while 반복문을 배운다\n",
        "* break 키워드와 continue 키워드를 이해한다"
      ],
      "metadata": {
        "id": "uM_qnV51XMgz"
      }
    },
    {
      "cell_type": "markdown",
      "source": [
        "# 4-1 리스트와 반복문\n",
        "* 리스트와 딕셔너리 : 여러 개의 값을 나타낼 수 있게 해주는 자료형\n",
        "<br>\n",
        " **리스트**란 사전적 의미로 '목록'이며 여러가지 자료를 저장할 수 있는 자료이다.\n",
        "\n",
        "\n",
        "```\n",
        "리스트 변수 = [요소1, 요소2, 요소3, ... ]\n",
        "```\n",
        "대괄호 [ ] 내부에 넣는 자료를 **요소** 또는 **element**라고 부른다.\n",
        "<br>\n",
        "\n",
        "이 요소들은 문자열 때처럼 인덱스를 0부터 센다.\n",
        "<br><br>\n",
        "\n",
        "```\n",
        "array = [\"문자\", 123, True, \"456\"]\n",
        "```\n",
        "array[0]은 \"문자\"이고, array[-1]은 \"456\"이다.\n",
        "\n",
        "* 대괄호 안에 음수를 넣어 뒤에서부터 요소를 선택할 수 있다.\n",
        "* 리스트 접근 연산자를 이중으로 사용할 수 있다. ex) array[0][0] 은 \"문\"\n",
        "* 리스트 안에 리스트를 사용할 수도 있다. ex) array = [[1,2,3],[5,6]]"
      ],
      "metadata": {
        "id": "hHt3PUAzaJn8"
      }
    },
    {
      "cell_type": "markdown",
      "source": [
        "### 리스트 연산하기 : 연결(+), 반복(*), len( )"
      ],
      "metadata": {
        "id": "ogA5zZUib1Lg"
      }
    },
    {
      "cell_type": "code",
      "source": [
        "list_a = [1,2,3]\n",
        "list_b = [4,5,6]\n",
        "\n",
        "print(\"# 리스트\")\n",
        "print(\"list_a = \", list_a)\n",
        "print(\"list_b = \", list_b)\n",
        "print()\n",
        "\n",
        "print(\"# 기본 연산자\")\n",
        "print(\"list_a + list_b = \", list_a + list_b)\n",
        "print(\"list_a * 3 = \", list_a * 3)\n",
        "print()\n",
        "\n",
        "print(\"# 길이 구하기\")\n",
        "print(\"len(list_a) = \", len(list_a))"
      ],
      "metadata": {
        "colab": {
          "base_uri": "https://localhost:8080/"
        },
        "id": "ZL7HuLLOXM4J",
        "outputId": "25651ce7-ab28-44ba-b709-b566624da63e"
      },
      "execution_count": null,
      "outputs": [
        {
          "output_type": "stream",
          "name": "stdout",
          "text": [
            "# 리스트\n",
            "list_a =  [1, 2, 3]\n",
            "list_b =  [4, 5, 6]\n",
            "\n",
            "# 기본 연산자\n",
            "list_a + list_b =  [1, 2, 3, 4, 5, 6]\n",
            "list_a * 3 =  [1, 2, 3, 1, 2, 3, 1, 2, 3]\n",
            "\n",
            "# 길이 구하기\n",
            "len(list_a) =  3\n"
          ]
        }
      ]
    },
    {
      "cell_type": "markdown",
      "source": [
        "### 리스트에 요소 추가하기 : append( ), insert( ), extend( )\n",
        "```\n",
        "리스트명.append(요소)\n",
        "리스트명.inset(위치,요소)\n",
        "리스트명.extend(리스트)\n",
        "```"
      ],
      "metadata": {
        "id": "rItODVBRc4FM"
      }
    },
    {
      "cell_type": "markdown",
      "source": [
        "리스트 연결 연산자는 원본에 어떠한 영향도 주지 않는다. ex) list_a + list_b <br>\n",
        "따라서 **비파괴적**이라 표현하고, append( ), insert( ), extend( ) 함수와 같이 리스트에 직접적인 영향을 주는 함수 또는 연산을 **파괴적**이라고 표현한다.\n",
        "<br><br>\n",
        "* 원본이 중요해서 비파괴적으로 써야할 때 구분하기\n",
        "* 데이터 용량에 대해 고민하기"
      ],
      "metadata": {
        "id": "sp57Yv1GdBid"
      }
    },
    {
      "cell_type": "markdown",
      "source": [
        "### 리스트에 요소 제거하기\n",
        "* 인덱스로 제거하기\n",
        "* 값으로 제거하기"
      ],
      "metadata": {
        "id": "V6Ptc2P-fY6z"
      }
    },
    {
      "cell_type": "markdown",
      "source": [
        "### 인덱스로 제거하기 : del 키워드, pop( )\n",
        "\n",
        "```\n",
        "del 리스트명[인덱스]\n",
        "\n",
        "리스트명.pop(인덱스)    # 인덱스를 지정하지 않으면 제일 마지막 인덱스로 인식\n",
        "```"
      ],
      "metadata": {
        "id": "cd0-BR8tfkv-"
      }
    },
    {
      "cell_type": "markdown",
      "source": [
        "# 리스트 슬라이싱\n",
        "\n",
        "```\n",
        "리스트[시작_인덱스 : 끝_인덱스 : 단계]\n",
        "```\n",
        "끝_인덱스는 포함하지 않으며, <br>\n",
        "단계가 2일 경우 0 -> 2 -> 4 <br>\n",
        "단계가 -1일 경우 끝_인덱스 ---> 시작_인덱스 방향으로 반대로 출력하게 된다"
      ],
      "metadata": {
        "id": "zx5-y1vYgBSy"
      }
    },
    {
      "cell_type": "markdown",
      "source": [
        "### 값으로 제거하기 : remove( )\n",
        "\n",
        "```\n",
        "리스트.remove(값)\n",
        "```"
      ],
      "metadata": {
        "id": "ykF1KsEwgnD6"
      }
    },
    {
      "cell_type": "markdown",
      "source": [
        "### 모두 제거하기 : clear( )\n",
        "\n",
        "```\n",
        "리스트.clear()\n",
        "```"
      ],
      "metadata": {
        "id": "rX4DrCKwgs9t"
      }
    },
    {
      "cell_type": "markdown",
      "source": [
        "### 리스트 정렬하기 : sort( )\n",
        "\n",
        "```\n",
        "리스트.sort()\n",
        "```"
      ],
      "metadata": {
        "id": "dtVQPIaUgyKd"
      }
    },
    {
      "cell_type": "markdown",
      "source": [
        "### 리스트 내부에 있는지 확인하기 : in / not in 연산자\n",
        "\n",
        "```\n",
        "값 in 리스트\n",
        "```"
      ],
      "metadata": {
        "id": "JZ1Imup7g4m-"
      }
    },
    {
      "cell_type": "markdown",
      "source": [
        "# for 반복문 : 리스트와 함께 사용하기\n",
        "\n",
        "```\n",
        "for 반복자 in 반복할 수 있는 것(이터레이터):\n",
        "  코드\n",
        "```"
      ],
      "metadata": {
        "id": "sw3d3o7UhDs6"
      }
    },
    {
      "cell_type": "code",
      "source": [
        "array = [273, 32, 103, 57, 52]\n",
        "\n",
        "for element in array:\n",
        "  print(element)\n",
        "\n",
        "print()\n",
        "\n",
        "# 문자열도 가능하다\n",
        "for element in \"안녕하세요\":\n",
        "  print(element)"
      ],
      "metadata": {
        "colab": {
          "base_uri": "https://localhost:8080/"
        },
        "id": "Iy6PhUwuhMPu",
        "outputId": "62bdb306-6a0b-4643-ece0-66464972b87a"
      },
      "execution_count": null,
      "outputs": [
        {
          "output_type": "stream",
          "name": "stdout",
          "text": [
            "273\n",
            "32\n",
            "103\n",
            "57\n",
            "52\n",
            "\n",
            "안\n",
            "녕\n",
            "하\n",
            "세\n",
            "요\n"
          ]
        }
      ]
    },
    {
      "cell_type": "markdown",
      "source": [
        "# 중첩 리스트와 중첩 반복문\n",
        "반복문을 여러 겹 중첩해 사용하면 **중첩 반복문**이라고 부른다.<br>\n",
        "일반적으로 n-차원 처리를 할 때 사용한다."
      ],
      "metadata": {
        "id": "sfGf3Un5hn69"
      }
    },
    {
      "cell_type": "markdown",
      "source": [
        "### 2차원 리스트에 반복문 두번 사용하기"
      ],
      "metadata": {
        "id": "ZGl6jL5vh2yp"
      }
    },
    {
      "cell_type": "code",
      "source": [
        "list_of_list = [\n",
        "    [1,2,3],\n",
        "    [5,6,7],\n",
        "    [10,12,14]\n",
        "]\n",
        "\n",
        "for items in list_of_list:\n",
        "  for item in items:\n",
        "    print(item)"
      ],
      "metadata": {
        "colab": {
          "base_uri": "https://localhost:8080/"
        },
        "id": "zt1ss-9th5GB",
        "outputId": "5c094397-f87c-409a-dcd2-774be6c92575"
      },
      "execution_count": null,
      "outputs": [
        {
          "output_type": "stream",
          "name": "stdout",
          "text": [
            "1\n",
            "2\n",
            "3\n",
            "5\n",
            "6\n",
            "7\n",
            "10\n",
            "12\n",
            "14\n"
          ]
        }
      ]
    },
    {
      "cell_type": "markdown",
      "source": [
        "# 전개 연산자\n",
        "전개 연산자를 사용하면 리스트 내용을 전개해서 입력할 수 있다.<br>\n",
        "\n",
        "```\n",
        "*리스트\n",
        "```\n",
        "--> 리스트[0], 리스트[1], ... 리스트[끝인덱스]"
      ],
      "metadata": {
        "id": "1hVFHWH8iN2t"
      }
    },
    {
      "cell_type": "code",
      "source": [
        "a = [1,2,3,4]\n",
        "b = [[*a], [*a]]\n",
        "\n",
        "print(b)"
      ],
      "metadata": {
        "colab": {
          "base_uri": "https://localhost:8080/"
        },
        "id": "xGwBUMjrijUC",
        "outputId": "6a1104fb-9547-4c11-adaf-6123b5eed424"
      },
      "execution_count": null,
      "outputs": [
        {
          "output_type": "stream",
          "name": "stdout",
          "text": [
            "[[1, 2, 3, 4], [1, 2, 3, 4]]\n"
          ]
        }
      ]
    },
    {
      "cell_type": "markdown",
      "source": [
        "# 4-1 확인문제"
      ],
      "metadata": {
        "id": "7cpJpd8jmPxe"
      }
    },
    {
      "cell_type": "markdown",
      "source": [
        "### 2번\n",
        "다음 반복문 내부에 if 조건문의 조건식을 채워서 100 이상의 숫자만 출력하게 만들어 보아라. if 조건문과 for 반복문을 조합하는 코드는 굉장히 많이 사용된다.\n",
        "\n",
        "```\n",
        "numbers = [273, 103, 5, 32, 65, 9, 72, 800, 99]\n",
        "\n",
        "for number in numbers:\n",
        "  if _______ :\n",
        "    print(\"- 100 이상의 수 : \", number)\n",
        "```\n"
      ],
      "metadata": {
        "id": "imNh1siKmSkY"
      }
    },
    {
      "cell_type": "code",
      "source": [
        "numbers = [273, 103, 5, 32, 65, 9, 72, 800, 99]\n",
        "\n",
        "for number in numbers:\n",
        "  if number >= 100:\n",
        "    print(\"- 100 이상의 수 : \", number)"
      ],
      "metadata": {
        "colab": {
          "base_uri": "https://localhost:8080/"
        },
        "id": "4ILGx82NjbeT",
        "outputId": "2897c2e4-4c0f-497e-a7aa-d2caab4769bc"
      },
      "execution_count": null,
      "outputs": [
        {
          "output_type": "stream",
          "name": "stdout",
          "text": [
            "- 100 이상의 수 :  273\n",
            "- 100 이상의 수 :  103\n",
            "- 100 이상의 수 :  800\n"
          ]
        }
      ]
    },
    {
      "cell_type": "markdown",
      "source": [
        "### 3번\n",
        "```\n",
        "numbers = [273, 103, 5, 32, 65, 9, 72, 800, 99]\n",
        "```\n",
        "홀수인지 짝수인지, 몇 자릿수인지 출력으로 확인하는 프로그램은 만드시오."
      ],
      "metadata": {
        "id": "IkwpZGv_m2vA"
      }
    },
    {
      "cell_type": "code",
      "source": [
        "numbers = [273, 103, 5, 32, 65, 9, 72, 800, 99]\n",
        "\n",
        "for number in numbers:\n",
        "  if number % 2 == 0:\n",
        "    print(\"{}는 짝수이고, {} 자릿수입니다.\".format(number, len(str(number))))\n",
        "  elif number % 2 == 1:\n",
        "    print(\"{}는 홀수이고, {} 자릿수입니다.\".format(number, len(str(number))))"
      ],
      "metadata": {
        "colab": {
          "base_uri": "https://localhost:8080/"
        },
        "id": "a939e7aBjbcD",
        "outputId": "9d9de3b6-d3ee-469d-f783-51d44abd44f4"
      },
      "execution_count": null,
      "outputs": [
        {
          "output_type": "stream",
          "name": "stdout",
          "text": [
            "273는 홀수이고, 3 자릿수입니다.\n",
            "103는 홀수이고, 3 자릿수입니다.\n",
            "5는 홀수이고, 1 자릿수입니다.\n",
            "32는 짝수이고, 2 자릿수입니다.\n",
            "65는 홀수이고, 2 자릿수입니다.\n",
            "9는 홀수이고, 1 자릿수입니다.\n",
            "72는 짝수이고, 2 자릿수입니다.\n",
            "800는 짝수이고, 3 자릿수입니다.\n",
            "99는 홀수이고, 2 자릿수입니다.\n"
          ]
        }
      ]
    },
    {
      "cell_type": "markdown",
      "source": [
        "### 4번\n",
        "다음 코드의 빈칸을 채워서 실행 결과처럼 출력되도록 완성해보시오.\n",
        "```\n",
        "numbers = [1, 2, 3, 4, 5, 6, 7, 8, 9]\n",
        "output = [[], [], []]\n",
        "\n",
        "for number in numbers:\n",
        "  output[ _______ ].append(number)\n",
        "\n",
        "print(output)\n",
        "```\n",
        "\n",
        "실행 결과<br>\n",
        "[[1,4,7], [2,5,8], [3,6,9]]"
      ],
      "metadata": {
        "id": "gafAa9s9obxM"
      }
    },
    {
      "cell_type": "code",
      "source": [
        "numbers = [1, 2, 3, 4, 5, 6, 7, 8, 9]\n",
        "output = [[], [], []]\n",
        "\n",
        "for number in numbers:\n",
        "  output[(number % 3) - 1].append(number)\n",
        "\n",
        "print(output)\n",
        "\n",
        "# output 내부의 구조(인덱스)를 생각하며 각각 배치를 생각하면 된다."
      ],
      "metadata": {
        "colab": {
          "base_uri": "https://localhost:8080/"
        },
        "id": "eQToNdhVjbZz",
        "outputId": "ad3672fd-b2fe-496c-bcab-909e496fae78"
      },
      "execution_count": null,
      "outputs": [
        {
          "output_type": "stream",
          "name": "stdout",
          "text": [
            "[[1, 4, 7], [2, 5, 8], [3, 6, 9]]\n"
          ]
        }
      ]
    },
    {
      "cell_type": "markdown",
      "source": [
        "### 5번\n",
        "다음 코드의 빈칸을 채워서 실행 결과처럼 출력되도록 완성해보시오. 짝수 번째 요소를 제곱하는 것이다.\n",
        "\n",
        "```\n",
        "numbers = [1, 2, 3, 4, 5, 6, 7, 8, 9]\n",
        "\n",
        "for i in range(0, len(numbers) // 2):\n",
        "  # j가 1, 3, 5, 7이 나오려면\n",
        "  # 어떤 식을 사용해야 할까?\n",
        "  j = _________\n",
        "  print(f\"i = {i}, j = {j}\")\n",
        "  numbers[j] = numbers[j] ** 2\n",
        "\n",
        "print(numbers)\n",
        "```\n",
        "실행 결과<br>\n",
        "i = 0, j = 1<br>\n",
        "i = 1, j = 3<br>\n",
        "i = 2, j = 5<br>\n",
        "i = 3, j = 7<br>\n",
        "[1, 4, 3, 16, 5, 36, 7, 64, 9]"
      ],
      "metadata": {
        "id": "i_UTwde6p3TW"
      }
    },
    {
      "cell_type": "code",
      "source": [
        "numbers = [1, 2, 3, 4, 5, 6, 7, 8, 9]\n",
        "\n",
        "for i in range(0, len(numbers) // 2):   # //는 몫만 나온다.\n",
        "  # j가 1, 3, 5, 7이 나오려면\n",
        "  # 어떤 식을 사용해야 할까?\n",
        "  j = (i * 2) + 1\n",
        "  print(f\"i = {i}, j = {j}\")\n",
        "  numbers[j] = numbers[j] ** 2\n",
        "\n",
        "print(numbers)"
      ],
      "metadata": {
        "colab": {
          "base_uri": "https://localhost:8080/"
        },
        "id": "H98B7vLijbXT",
        "outputId": "fbe7a3a7-8212-488d-e936-4345fdbcedd3"
      },
      "execution_count": null,
      "outputs": [
        {
          "output_type": "stream",
          "name": "stdout",
          "text": [
            "i = 0, j = 1\n",
            "i = 1, j = 3\n",
            "i = 2, j = 5\n",
            "i = 3, j = 7\n",
            "[1, 4, 3, 16, 5, 36, 7, 64, 9]\n"
          ]
        }
      ]
    },
    {
      "cell_type": "markdown",
      "source": [
        "\n",
        "\n",
        "---\n",
        "\n",
        "\n",
        "\n",
        "---\n",
        "\n"
      ],
      "metadata": {
        "id": "jv9SrmwlrTuC"
      }
    },
    {
      "cell_type": "markdown",
      "source": [
        "# 4-2 딕셔너리와 반복문\n",
        "* 리스트 : '인덱스를 기반으로 값을 저장하는 것'\n",
        "* 딕셔너리 : '키를 기반으로 값을 저장하는 것'\n",
        "\n",
        "```\n",
        "변수 = {\n",
        "  키 : 값,\n",
        "  키 : 값,\n",
        "  ...\n",
        "  키 : 값\n",
        "}\n",
        "```\n",
        "\n",
        "값에 리스트도 들어갈 수 있으며, 인덱스를 지정하여 특정 값을 출력할 수도 있다."
      ],
      "metadata": {
        "id": "OidmRlp-rU1r"
      }
    },
    {
      "cell_type": "markdown",
      "source": [
        "### 딕셔너리의 요소에 접근하기"
      ],
      "metadata": {
        "id": "4C6MAl8qsIU-"
      }
    },
    {
      "cell_type": "code",
      "source": [
        "# 딕셔너리 선언\n",
        "dictionary = {\n",
        "    \"name\" : \"7D 건조 망고\",\n",
        "    \"type\" : \"당절임\",\n",
        "    \"ingredient\" : [\"망고\", \"설탕\", \"메타중아황산나트륨\", \"치자황색소\"],\n",
        "    \"origin\" : \"필리핀\"\n",
        "}\n",
        "\n",
        "print(\"name : \", dictionary[\"name\"])\n",
        "print(\"type : \", dictionary[\"type\"])\n",
        "print(\"ingredient : \", dictionary[\"ingredient\"])\n",
        "print(\"origin : \", dictionary[\"origin\"])\n",
        "print()\n",
        "\n",
        "# 값 변경하기\n",
        "dictionary[\"name\"] = \"8D 건조 망고\"\n",
        "print(\"name : \", dictionary[\"name\"])\n",
        "print(\"ingredient[1] : \", dictionary[\"ingredient\"][1])"
      ],
      "metadata": {
        "colab": {
          "base_uri": "https://localhost:8080/"
        },
        "id": "EEde68KSjbUk",
        "outputId": "fe12b8e8-43ea-44c7-e189-554bb31ce04b"
      },
      "execution_count": null,
      "outputs": [
        {
          "output_type": "stream",
          "name": "stdout",
          "text": [
            "name :  7D 건조 망고\n",
            "type :  당절임\n",
            "ingredient :  ['망고', '설탕', '메타중아황산나트륨', '치자황색소']\n",
            "origin :  필리핀\n",
            "\n",
            "name :  8D 건조 망고\n",
            "ingredient[1] :  설탕\n"
          ]
        }
      ]
    },
    {
      "cell_type": "markdown",
      "source": [
        "### 딕셔너리에 값 추가하기 / 제거하기\n",
        "```\n",
        "딕셔너리[새로운 키] = 새로운 값\n",
        "```"
      ],
      "metadata": {
        "id": "-DzwM9IOtSk2"
      }
    },
    {
      "cell_type": "code",
      "source": [
        "# 딕셔너리 선언\n",
        "dic = {}\n",
        "\n",
        "# 요소 추가 전\n",
        "print(\"요소 추가 이전 : \", dic)\n",
        "\n",
        "# 딕셔너리에 요소 추가\n",
        "dic[\"name\"] = \"새로운 이름\"\n",
        "dic[\"head\"] = \"새로운 정신\"\n",
        "dic[\"body\"] = \"새로운 몸\"\n",
        "\n",
        "# 출력\n",
        "print(\"요소 추가 이후 : \", dic)\n",
        "\n",
        "# 딕셔너리의 요소 제거\n",
        "del dic[\"body\"]\n",
        "del dic[\"head\"]\n",
        "\n",
        "print(\"요소 제거 이후 : \", dic)"
      ],
      "metadata": {
        "colab": {
          "base_uri": "https://localhost:8080/"
        },
        "id": "pstein-1jbO0",
        "outputId": "22bdc3b6-ef7d-4916-8fd2-e6c30578a540"
      },
      "execution_count": null,
      "outputs": [
        {
          "output_type": "stream",
          "name": "stdout",
          "text": [
            "요소 추가 이전 :  {}\n",
            "요소 추가 이후 :  {'name': '새로운 이름', 'head': '새로운 정신', 'body': '새로운 몸'}\n",
            "요소 제거 이후 :  {'name': '새로운 이름'}\n"
          ]
        }
      ]
    },
    {
      "cell_type": "markdown",
      "source": [
        "### 딕셔너리 내부에 키가 있는지 확인하기\n",
        "딕셔너리에 존재하지 않는 키에 접근하면 KeyError가 발생한다.<br><br>\n",
        "* in 키워드 사용하기\n",
        "* get( ) 함수 사용하기<br>\n",
        " **get( ) 함수**는 존재하지 않는 키에 접근할 경우 KeyError를 발생시키지 않고, None을 출력한다.\n",
        "* keys( ) 함수 사용하기\n",
        "<br><br>\n",
        "### 딕셔너리 값 확인하기\n",
        "* values( ) 함수 사용하기"
      ],
      "metadata": {
        "id": "-n2xCkcXwagl"
      }
    },
    {
      "cell_type": "code",
      "source": [
        "dictionary = {\n",
        "    \"name\" : \"7D 건조 망고\",\n",
        "    \"type\" : \"당절임\",\n",
        "    \"ingredient\" : [\"망고\", \"설탕\", \"메타중아황산나트륨\", \"치자황색소\"],\n",
        "    \"origin\" : \"필리핀\"\n",
        "}\n",
        "\n",
        "# 사용자로부터 입력을 받는다\n",
        "key = input(\" > 접근하고자 하는 키 : \")\n",
        "\n",
        "# 출력\n",
        "if key in dictionary:\n",
        "  print(dictionary[key])\n",
        "else:\n",
        "  print(\"존재하지 않는 키에 접근하고 있습니다.\")"
      ],
      "metadata": {
        "colab": {
          "base_uri": "https://localhost:8080/"
        },
        "id": "RyIjl9nJjbHV",
        "outputId": "1077d703-3f64-4176-d413-db1e62773264"
      },
      "execution_count": null,
      "outputs": [
        {
          "output_type": "stream",
          "name": "stdout",
          "text": [
            " > 접근하고자 하는 키 : 망고\n",
            "존재하지 않는 키에 접근하고 있습니다.\n"
          ]
        }
      ]
    },
    {
      "cell_type": "markdown",
      "source": [
        "### 키가 존재하지 않을 때 None을 출력하는지 확인하기"
      ],
      "metadata": {
        "id": "F3f4bQIixSPQ"
      }
    },
    {
      "cell_type": "code",
      "source": [
        "dictionary = {\n",
        "    \"name\" : \"7D 건조 망고\",\n",
        "    \"type\" : \"당절임\",\n",
        "    \"ingredient\" : [\"망고\", \"설탕\", \"메타중아황산나트륨\", \"치자황색소\"],\n",
        "    \"origin\" : \"필리핀\"\n",
        "}\n",
        "\n",
        "# 존재하지 않는 키에 접근해본다.\n",
        "value = dictionary.get(\"존재하지 않는 키\")\n",
        "print(\"값 : \", value)\n",
        "\n",
        "# None 확인 방법\n",
        "if value == None:\n",
        "  print(\"존재하지 않는 키에 접근했었습니다.\")"
      ],
      "metadata": {
        "colab": {
          "base_uri": "https://localhost:8080/"
        },
        "id": "Z7vKD9U9xN14",
        "outputId": "6789a847-b12b-4405-f415-e3492ac26216"
      },
      "execution_count": null,
      "outputs": [
        {
          "output_type": "stream",
          "name": "stdout",
          "text": [
            "값 :  None\n",
            "존재하지 않는 키에 접근했었습니다.\n"
          ]
        }
      ]
    },
    {
      "cell_type": "markdown",
      "source": [
        "### keys( ) 함수와 values( ) 함수 사용하여 딕셔너리 확인하기"
      ],
      "metadata": {
        "id": "1ozXBBT_ygL5"
      }
    },
    {
      "cell_type": "code",
      "source": [
        "dictionary = {\n",
        "    \"name\" : \"7D 건조 망고\",\n",
        "    \"type\" : \"당절임\",\n",
        "    \"ingredient\" : [\"망고\", \"설탕\", \"메타중아황산나트륨\", \"치자황색소\"],\n",
        "    \"origin\" : \"필리핀\"\n",
        "}\n",
        "\n",
        "print(dictionary)\n",
        "print(dictionary.keys())\n",
        "print(dictionary.values())\n",
        "print()\n",
        "\n",
        "print(dictionary.get(\"name\"))"
      ],
      "metadata": {
        "colab": {
          "base_uri": "https://localhost:8080/"
        },
        "id": "CI9n6tHByHSX",
        "outputId": "f2e60513-3d00-457d-9f20-09791a6ba376"
      },
      "execution_count": null,
      "outputs": [
        {
          "output_type": "stream",
          "name": "stdout",
          "text": [
            "{'name': '7D 건조 망고', 'type': '당절임', 'ingredient': ['망고', '설탕', '메타중아황산나트륨', '치자황색소'], 'origin': '필리핀'}\n",
            "dict_keys(['name', 'type', 'ingredient', 'origin'])\n",
            "dict_values(['7D 건조 망고', '당절임', ['망고', '설탕', '메타중아황산나트륨', '치자황색소'], '필리핀'])\n",
            "\n",
            "7D 건조 망고\n"
          ]
        }
      ]
    },
    {
      "cell_type": "markdown",
      "source": [
        "### for 반복문과 딕셔너리"
      ],
      "metadata": {
        "id": "MPAPUs48ymNj"
      }
    },
    {
      "cell_type": "code",
      "source": [
        "dictionary = {\n",
        "    \"name\" : \"7D 건조 망고\",\n",
        "    \"type\" : \"당절임\",\n",
        "    \"ingredient\" : [\"망고\", \"설탕\", \"메타중아황산나트륨\", \"치자황색소\"],\n",
        "    \"origin\" : \"필리핀\"\n",
        "}\n",
        "\n",
        "for key in dictionary:\n",
        "  print(key, \":\", dictionary[key])"
      ],
      "metadata": {
        "colab": {
          "base_uri": "https://localhost:8080/"
        },
        "id": "ERg3XmbsyoaA",
        "outputId": "96025b35-c59f-4946-da22-93a802296201"
      },
      "execution_count": null,
      "outputs": [
        {
          "output_type": "stream",
          "name": "stdout",
          "text": [
            "name : 7D 건조 망고\n",
            "type : 당절임\n",
            "ingredient : ['망고', '설탕', '메타중아황산나트륨', '치자황색소']\n",
            "origin : 필리핀\n"
          ]
        }
      ]
    },
    {
      "cell_type": "markdown",
      "source": [
        "# 4-2 확인문제"
      ],
      "metadata": {
        "id": "0x_6TtZvzdNw"
      }
    },
    {
      "cell_type": "markdown",
      "source": [
        "### 2번\n",
        "딕셔너리와 리스트를 조합하면 다음 코드의 변수 pets처럼 다양한 정보를 축적할 수 있다. 이를 실행 결과처럼 출력되도록 반복문과 print( ) 함수를 조합해보아라.\n",
        "\n",
        "```\n",
        "pets = [\n",
        "  {\"name\" : \"구름\", \"age\" : 5},\n",
        "  {\"name\" : \"초코\", \"age\" : 3},\n",
        "  {\"name\" : \"아지\", \"age\" : 1},\n",
        "  {\"name\" : \"호랑이\", \"age\" : 1}\n",
        "]\n",
        "\n",
        "print(\"# 우리 동네 애완 동물들\")\n",
        "```\n",
        "실행 결과 <br><br>\n",
        "우리 동네 애완 동물들<br>\n",
        "구름  5살<br>\n",
        "초코  3살<br>\n",
        "아지  1살<br>\n",
        "호랑이  1살\n"
      ],
      "metadata": {
        "id": "A4BBvSNqzgIR"
      }
    },
    {
      "cell_type": "code",
      "source": [
        "pets = [\n",
        "  {\"name\" : \"구름\", \"age\" : 5},\n",
        "  {\"name\" : \"초코\", \"age\" : 3},\n",
        "  {\"name\" : \"아지\", \"age\" : 1},\n",
        "  {\"name\" : \"호랑이\", \"age\" : 1}\n",
        "]\n",
        "print(\"# 우리 동네 애완 동물들\")\n",
        "\n",
        "for pet in pets:\n",
        "  print(pet[\"name\"], str(pet[\"age\"]) + \"살\")\n",
        "\n",
        "print()\n",
        "\n",
        "for pet in pets:\n",
        "  print(f'{pet[\"name\"]} {pet[\"age\"]}살')\n",
        "\n",
        "print()\n",
        "\n",
        "for pet in pets:\n",
        "  print(\"{} {}살\".format(pet[\"name\"], pet[\"age\"]))"
      ],
      "metadata": {
        "colab": {
          "base_uri": "https://localhost:8080/"
        },
        "id": "_Ka4ys9N0MMc",
        "outputId": "bca6c634-521e-408c-ee65-f39aafd951dd"
      },
      "execution_count": null,
      "outputs": [
        {
          "output_type": "stream",
          "name": "stdout",
          "text": [
            "# 우리 동네 애완 동물들\n",
            "구름 5살\n",
            "초코 3살\n",
            "아지 1살\n",
            "호랑이 1살\n",
            "\n",
            "구름 5살\n",
            "초코 3살\n",
            "아지 1살\n",
            "호랑이 1살\n",
            "\n",
            "구름 5살\n",
            "초코 3살\n",
            "아지 1살\n",
            "호랑이 1살\n"
          ]
        }
      ]
    },
    {
      "cell_type": "markdown",
      "source": [
        "### 3번 ( 여러번 복습 )**\n",
        "numbers 내부에 들어 있는 숫자가 몇 번 등장하는지를 출력하는 코드를 작성해라\n",
        "\n",
        "```\n",
        "numbers = [1,2,6,8,4,3,2,1,9,5,4,9,7,2,1,3,5,4,8,9,7,2,3]\n",
        "counter = {}\n",
        "\n",
        "for number in numbers:\n",
        "  코드\n",
        "\n",
        "print(counter)\n",
        "```\n",
        "실행 결과 <br>\n",
        "{1: 3, 2: 4, 6: 1, 8: 2, 4: 3, 3: 3, 9: 3, 5: 2, 7: 2}"
      ],
      "metadata": {
        "id": "Hy_r5FL21WSL"
      }
    },
    {
      "cell_type": "code",
      "source": [
        "numbers = [1,2,6,8,4,3,2,1,9,5,4,9,7,2,1,3,5,4,8,9,7,2,3]\n",
        "counter = {}\n",
        "\n",
        "# 실행 결과 key - 1 2 6 8 4 3 9 5 7\n",
        "for number in numbers:\n",
        "  if number in counter:\n",
        "    counter[number] = counter[number] + 1\n",
        "  else:\n",
        "    counter[number] = 1\n",
        "\n",
        "print(counter)"
      ],
      "metadata": {
        "colab": {
          "base_uri": "https://localhost:8080/"
        },
        "id": "K2HZen0PTKWn",
        "outputId": "af471fa9-9079-4810-c69d-9ba36f35c0d9"
      },
      "execution_count": null,
      "outputs": [
        {
          "output_type": "stream",
          "name": "stdout",
          "text": [
            "{1: 3, 2: 4, 6: 1, 8: 2, 4: 3, 3: 3, 9: 3, 5: 2, 7: 2}\n"
          ]
        }
      ]
    },
    {
      "cell_type": "markdown",
      "source": [
        "### 4번 ( 여러번 복습 ) ** 딕셔너리 안 딕셔너리와 리스트 추출하기\n",
        "파이썬은 다음과 같은 방법으로 특정 값이 어떤 자료형인지 확인할 수 있다.<br>\n",
        "type(\"문자열\") is str --> 문자열인지 확인<br>\n",
        "type([]) is list --> 리스트인지 확인<br>\n",
        "type({}) is dict --> 딕셔너리인지 확인<br>\n",
        "<br>\n",
        "이를 활용하여 빈칸을 채워 실행 결과와 같이 출력되게 만드시오.\n",
        "\n",
        "```\n",
        "character = {\n",
        "    \"name\" : \"기사\",\n",
        "    \"level\" : 12,\n",
        "    \"item\" : {\n",
        "        \"sword\" : \"불꽃의 검\",\n",
        "        \"armor\" : \"풀플레이트\"\n",
        "    },\n",
        "    \"skill\" : [\"베기\", \"세게 베기\", \"아주 세게 베기\"]\n",
        "}\n",
        "\n",
        "for key in character:\n",
        "  빈칸\n",
        "```\n",
        "실행 결과<br>\n",
        "name : 기사<br>\n",
        "level : 12<br>\n",
        "sword : 불꽃의 검<br>\n",
        "armor : 풀플레이트<br>\n",
        "skill : 베기<br>\n",
        "skill : 세게 베기<br>\n",
        "skill : 아주 세게 베기<br>"
      ],
      "metadata": {
        "id": "Xwv-3XghZRs7"
      }
    },
    {
      "cell_type": "code",
      "source": [
        "character = {\n",
        "    \"name\" : \"기사\",\n",
        "    \"level\" : 12,\n",
        "    \"item\" : {\n",
        "        \"sword\" : \"불꽃의 검\",\n",
        "        \"armor\" : \"풀플레이트\"\n",
        "    },\n",
        "    \"skill\" : [\"베기\", \"세게 베기\", \"아주 세게 베기\"]\n",
        "}\n",
        "\n",
        "for key in character:     # 딕셔너리를 for 반복문으로 돌릴 때 반복인자는 \"KEY\"가 된다!!!***\n",
        "  if type(character[key]) is dict:\n",
        "    for dic in character[key]:  # 여기에서 character[key]는 딕셔너리!\n",
        "      print(dic, \" : \", character[key][dic])\n",
        "\n",
        "  elif type(character[key]) is list:\n",
        "    for lis in character[key]:  # 여기에서 character[key]는 리스트!\n",
        "      print(key, \" : \", lis)\n",
        "\n",
        "  else:\n",
        "    print(key, \" : \", character[key])"
      ],
      "metadata": {
        "colab": {
          "base_uri": "https://localhost:8080/"
        },
        "id": "LG3jQ_aMaEVK",
        "outputId": "a0050bf8-a649-4335-825c-8333b1ddea41"
      },
      "execution_count": null,
      "outputs": [
        {
          "output_type": "stream",
          "name": "stdout",
          "text": [
            "name  :  기사\n",
            "level  :  12\n",
            "sword  :  불꽃의 검\n",
            "armor  :  풀플레이트\n",
            "skill  :  베기\n",
            "skill  :  세게 베기\n",
            "skill  :  아주 세게 베기\n"
          ]
        }
      ]
    },
    {
      "cell_type": "code",
      "execution_count": null,
      "metadata": {
        "id": "LHOANkSb_cEk"
      },
      "outputs": [],
      "source": [
        "# 정답지\n",
        "# 딕셔너리 선언\n",
        "character = {\n",
        "    \"name\" : \"기사\",\n",
        "    \"level\" : 12,\n",
        "    \"item\" : {\n",
        "        \"sword\" : \"불꽃의 검\",\n",
        "        \"armor\" : \"풀플레이트\"\n",
        "    },\n",
        "    \"skill\" : [\"베기\", \"세게 베기\", \"아주 세게 베기\"]\n",
        "}"
      ]
    },
    {
      "cell_type": "code",
      "execution_count": null,
      "metadata": {
        "id": "WoHJsVnn_cEk",
        "outputId": "a2727309-8c0b-4975-e88c-3c53fb60b9e4"
      },
      "outputs": [
        {
          "name": "stdout",
          "output_type": "stream",
          "text": [
            "name : 기사\n",
            "level : 12\n",
            "sword : 불꽃의 검\n",
            "armor : 풀플레이트\n",
            "skill : 베기\n",
            "skill : 세게 베기\n",
            "skill : 아주 세게 베기\n"
          ]
        }
      ],
      "source": [
        "for key in character:\n",
        "    if type(character[key]) is str:\n",
        "        print(key + \" : \" + character[key])\n",
        "    elif type(character[key]) is int:\n",
        "        print(key + \" : \" + str(character[key]))\n",
        "    elif type(character[key]) is dict:\n",
        "        for di in character[key]:\n",
        "            print(di + \" : \" + character[key][di])\n",
        "    elif type(character[key]) is list:\n",
        "        for li in character[key]:\n",
        "            print(key + \" : \" + li)"
      ]
    },
    {
      "cell_type": "markdown",
      "source": [
        "# 4-3 범위 자료형과 while 반복문\n",
        "for 반복문과 함께 많이 사용되는 자료형을 하나 더 꼽자면 **범위(range)**가 있다."
      ],
      "metadata": {
        "id": "U7ZLBsJBpWOM"
      }
    },
    {
      "cell_type": "markdown",
      "source": [
        "### 범위 range( )함수\n",
        "cf) 매개변수는 \"정수\"이다.\n",
        "1. range(A) -> 0부터 (A-1)까지의 정수로 범위를 만든다.\n",
        "2. range(A, B) -> A 부터 (B - 1)까지의 정수로 범위를 만든다.\n",
        "3. range(A, B, C) -> A 부터 (B - 1)까지의 정수로 범위를 만들고, 앞뒤의 숫자가 C 만큼의 차이를 가진다."
      ],
      "metadata": {
        "id": "ljR-f9z0pkYe"
      }
    },
    {
      "cell_type": "code",
      "source": [
        "a = range(5)\n",
        "\n",
        "b = list(range(4))\n",
        "\n",
        "print(a)\n",
        "print(b)"
      ],
      "metadata": {
        "colab": {
          "base_uri": "https://localhost:8080/"
        },
        "id": "ehcPcCFfqcR-",
        "outputId": "d6cd7c00-00f8-43b7-b3b5-a537d38988e8"
      },
      "execution_count": null,
      "outputs": [
        {
          "output_type": "stream",
          "name": "stdout",
          "text": [
            "range(0, 5)\n",
            "[0, 1, 2, 3]\n"
          ]
        }
      ]
    },
    {
      "cell_type": "markdown",
      "source": [
        "### for 반복문 : 범위와 함께 사용하기\n",
        "```\n",
        "for 숫자 변수 in 범위:\n",
        "  코드\n",
        "```"
      ],
      "metadata": {
        "id": "Gv_PQKqGqvq-"
      }
    },
    {
      "cell_type": "code",
      "execution_count": null,
      "metadata": {
        "id": "JhH0kmTF_cEm",
        "outputId": "87a3232c-ed4c-4be5-800c-2689db5b764b",
        "colab": {
          "base_uri": "https://localhost:8080/"
        }
      },
      "outputs": [
        {
          "output_type": "stream",
          "name": "stdout",
          "text": [
            "0\t1\t2\t3\t4\t\n",
            "5\t6\t7\t8\t9\t\n",
            "0\t2\t4\t6\t8\t"
          ]
        }
      ],
      "source": [
        "for i in range(5):\n",
        "  print(i, end=\"\\t\")\n",
        "\n",
        "print()\n",
        "\n",
        "for i in range(5,10):\n",
        "  print(i, end=\"\\t\")\n",
        "\n",
        "print()\n",
        "\n",
        "for i in range(0,10,2):\n",
        "    print(i, end=\"\\t\")"
      ]
    },
    {
      "cell_type": "markdown",
      "source": [
        "### for 반복문 : 리스트와 범위 조합하기"
      ],
      "metadata": {
        "id": "YKMsltpwrUeL"
      }
    },
    {
      "cell_type": "code",
      "source": [
        "array = [273, 32, 103, 57, 52]\n",
        "\n",
        "for i in range(len(array)):\n",
        "  print(\"{}번째 반복 : {}\".format(i, array[i]))"
      ],
      "metadata": {
        "colab": {
          "base_uri": "https://localhost:8080/"
        },
        "id": "KQNL3pGgrXxO",
        "outputId": "d583f166-8285-4fd5-e9da-b3387ea0a094"
      },
      "execution_count": null,
      "outputs": [
        {
          "output_type": "stream",
          "name": "stdout",
          "text": [
            "0번째 반복 : 273\n",
            "1번째 반복 : 32\n",
            "2번째 반복 : 103\n",
            "3번째 반복 : 57\n",
            "4번째 반복 : 52\n"
          ]
        }
      ]
    },
    {
      "cell_type": "markdown",
      "source": [
        "### for 반복문 : 반대로 반복하기 (역반복문)"
      ],
      "metadata": {
        "id": "XOKqENZ1rnrJ"
      }
    },
    {
      "cell_type": "code",
      "source": [
        "array = [273, 32, 103, 57, 52]\n",
        "\n",
        "for i in range(len(array) - 1, 0 - 1, -1):    # 0 - 1을 넣어주는 이유: 0이면 0-1까지만 출력하기 때문!!\n",
        "  print(\"{}번째 반복 : {}\".format(i, array[i]))"
      ],
      "metadata": {
        "colab": {
          "base_uri": "https://localhost:8080/"
        },
        "id": "AiLSPs8qrqpz",
        "outputId": "7de215a0-32a5-46d4-c010-788d2b1c507a"
      },
      "execution_count": null,
      "outputs": [
        {
          "output_type": "stream",
          "name": "stdout",
          "text": [
            "4번째 반복 : 52\n",
            "3번째 반복 : 57\n",
            "2번째 반복 : 103\n",
            "1번째 반복 : 32\n",
            "0번째 반복 : 273\n"
          ]
        }
      ]
    },
    {
      "cell_type": "code",
      "source": [
        "# reversed()함수 사용하는 방법\n",
        "\n",
        "for i in reversed(range(5)):\n",
        "  print(\"현재 반복 변수 : {}\".format(i))"
      ],
      "metadata": {
        "colab": {
          "base_uri": "https://localhost:8080/"
        },
        "id": "fKmkvk1rsPsl",
        "outputId": "9c927957-154e-46dc-cde4-21c5c98d1c26"
      },
      "execution_count": null,
      "outputs": [
        {
          "output_type": "stream",
          "name": "stdout",
          "text": [
            "현재 반복 변수 : 4\n",
            "현재 반복 변수 : 3\n",
            "현재 반복 변수 : 2\n",
            "현재 반복 변수 : 1\n",
            "현재 반복 변수 : 0\n"
          ]
        }
      ]
    },
    {
      "cell_type": "code",
      "source": [
        "array = [273, 32, 103, 57, 52]\n",
        "\n",
        "print(list(reversed(array)))\n",
        "print(array)\n",
        "\n",
        "# reversed( ) 함수는 비파괴적 함수!!"
      ],
      "metadata": {
        "colab": {
          "base_uri": "https://localhost:8080/"
        },
        "id": "iXv3AhVfsiiF",
        "outputId": "12378047-1d43-4a6e-a14d-9f3dbe80a793"
      },
      "execution_count": null,
      "outputs": [
        {
          "output_type": "stream",
          "name": "stdout",
          "text": [
            "[52, 57, 103, 32, 273]\n",
            "[273, 32, 103, 57, 52]\n"
          ]
        }
      ]
    },
    {
      "cell_type": "markdown",
      "source": [
        "### 중첩 반복문으로 피라미드 만들기"
      ],
      "metadata": {
        "id": "dNFW4Rr-s08K"
      }
    },
    {
      "cell_type": "markdown",
      "source": [
        "### 제일 쉬운 삼각형"
      ],
      "metadata": {
        "id": "rgQV-ZqjtvCN"
      }
    },
    {
      "cell_type": "code",
      "execution_count": null,
      "metadata": {
        "id": "9J62DKPN_cEm",
        "colab": {
          "base_uri": "https://localhost:8080/"
        },
        "outputId": "9b719518-ad1e-488e-8702-fefbd46291d4"
      },
      "outputs": [
        {
          "output_type": "stream",
          "name": "stdout",
          "text": [
            "*\n",
            "**\n",
            "***\n",
            "****\n",
            "*****\n",
            "******\n",
            "*******\n",
            "********\n",
            "*********\n",
            "\n",
            "*\n",
            "**\n",
            "***\n",
            "****\n",
            "*****\n",
            "******\n",
            "*******\n",
            "********\n",
            "*********\n"
          ]
        }
      ],
      "source": [
        "output = \"*\"\n",
        "\n",
        "for i in range(1, 10):\n",
        "  print(output * i)\n",
        "\n",
        "print()\n",
        "\n",
        "for a in range(1,10):\n",
        "    print(\"*\"*a)"
      ]
    },
    {
      "cell_type": "code",
      "execution_count": null,
      "metadata": {
        "id": "vLX-nNzn_cEm",
        "outputId": "6023f310-f6b5-469a-f093-395125d4e947"
      },
      "outputs": [
        {
          "name": "stdout",
          "output_type": "stream",
          "text": [
            "*\n",
            "**\n",
            "***\n",
            "****\n",
            "*****\n",
            "******\n",
            "*******\n",
            "********\n",
            "*********\n"
          ]
        }
      ],
      "source": [
        "# '*' 연산자 사용하지 않고 만들기\n",
        "for a in range(1,10):\n",
        "    for b in range(a):\n",
        "        print(\"*\",end=\"\")\n",
        "    print(\"\")"
      ]
    },
    {
      "cell_type": "code",
      "execution_count": null,
      "metadata": {
        "id": "M2oel4iN_cEm",
        "outputId": "fa29b0a7-c2cd-4c36-e247-cbc4aff59429"
      },
      "outputs": [
        {
          "name": "stdout",
          "output_type": "stream",
          "text": [
            "*\n",
            "**\n",
            "***\n",
            "****\n",
            "*****\n",
            "******\n",
            "*******\n",
            "********\n",
            "*********\n",
            "\n"
          ]
        }
      ],
      "source": [
        "# 함수에 넣어서 만들어보기\n",
        "output = \"\"\n",
        "\n",
        "for i in range(1,10):\n",
        "    for j in range(0,i):\n",
        "        output = output + \"*\"\n",
        "    output = output + \"\\n\"\n",
        "\n",
        "print(output)"
      ]
    },
    {
      "cell_type": "code",
      "execution_count": null,
      "metadata": {
        "id": "ST_19OL2_cEm",
        "outputId": "640edb40-9697-48bf-d410-7a64df53c2da"
      },
      "outputs": [
        {
          "name": "stdout",
          "output_type": "stream",
          "text": [
            "+\n",
            "+\n",
            "+\n",
            "+\n",
            "+\n",
            "-\n",
            "-\n",
            "-\n",
            "-\n",
            "-\n"
          ]
        }
      ],
      "source": [
        "# for문 활용 range함수 개념 복습...\n",
        "for i in range(0,5,1):\n",
        "    print(\"+\")\n",
        "for j in range(30,25,-1):\n",
        "    print(\"-\")"
      ]
    },
    {
      "cell_type": "markdown",
      "source": [
        "### 이등변 삼각형"
      ],
      "metadata": {
        "id": "sEErua5ht1ld"
      }
    },
    {
      "cell_type": "code",
      "source": [
        "# 출력 변수 없이 만들기..\n",
        "for a in range(1, 15):\n",
        "  for b in range(15 - a, -1, -1):\n",
        "    print(\" \", end=\"\")\n",
        "\n",
        "  print(\"*\" * (2*a-1))\n",
        "  print()\n",
        "\n",
        "# 따로 변수만 불러서 삼각형을 불러오려면 변수를 지정해서 연산하는 것이 좋다."
      ],
      "metadata": {
        "colab": {
          "base_uri": "https://localhost:8080/"
        },
        "id": "p7mtk98ptqLB",
        "outputId": "ec60ea14-71f4-4512-95e3-fe338f5bf35f"
      },
      "execution_count": null,
      "outputs": [
        {
          "output_type": "stream",
          "name": "stdout",
          "text": [
            "               *\n",
            "\n",
            "              ***\n",
            "\n",
            "             *****\n",
            "\n",
            "            *******\n",
            "\n",
            "           *********\n",
            "\n",
            "          ***********\n",
            "\n",
            "         *************\n",
            "\n",
            "        ***************\n",
            "\n",
            "       *****************\n",
            "\n",
            "      *******************\n",
            "\n",
            "     *********************\n",
            "\n",
            "    ***********************\n",
            "\n",
            "   *************************\n",
            "\n",
            "  ***************************\n",
            "\n"
          ]
        }
      ]
    },
    {
      "cell_type": "code",
      "execution_count": null,
      "metadata": {
        "id": "maPvBnBg_cEn",
        "colab": {
          "base_uri": "https://localhost:8080/"
        },
        "outputId": "fd7e735b-223d-4219-e9d5-519f29e92b8c"
      },
      "outputs": [
        {
          "output_type": "stream",
          "name": "stdout",
          "text": [
            "             *\n",
            "            ***\n",
            "           *****\n",
            "          *******\n",
            "         *********\n",
            "        ***********\n",
            "       *************\n",
            "      ***************\n",
            "     *****************\n",
            "    *******************\n",
            "   *********************\n",
            "  ***********************\n",
            " *************************\n",
            "***************************\n",
            "\n"
          ]
        }
      ],
      "source": [
        "# 이등변 삼각형 피라미드 (1 내가 푼 방식)\n",
        "output = \"\"\n",
        "\n",
        "for i in range(1,15):\n",
        "    for j in range(14,i,-1):\n",
        "        output = output + \" \"\n",
        "    output = output + (\"*\"*(2*i-1))\n",
        "    output = output + \"\\n\"\n",
        "\n",
        "print(output)"
      ]
    },
    {
      "cell_type": "code",
      "source": [
        "# 변수 만들어서 적용해보기 (복습)\n",
        "output = \"\"\n",
        "\n",
        "for a in range(1,15):\n",
        "  for b in range(14, a, -1):\n",
        "    output = output + \" \"\n",
        "  output = output + (\"*\" * (2 * a -1))\n",
        "  output = output + \"\\n\"\n",
        "\n",
        "print(output)"
      ],
      "metadata": {
        "colab": {
          "base_uri": "https://localhost:8080/"
        },
        "id": "IREWazPww_hh",
        "outputId": "1454b4d3-aa63-4095-e298-3373b8ac5504"
      },
      "execution_count": null,
      "outputs": [
        {
          "output_type": "stream",
          "name": "stdout",
          "text": [
            "             *\n",
            "            ***\n",
            "           *****\n",
            "          *******\n",
            "         *********\n",
            "        ***********\n",
            "       *************\n",
            "      ***************\n",
            "     *****************\n",
            "    *******************\n",
            "   *********************\n",
            "  ***********************\n",
            " *************************\n",
            "***************************\n",
            "\n"
          ]
        }
      ]
    },
    {
      "cell_type": "code",
      "execution_count": null,
      "metadata": {
        "id": "CTdoptMe_cEn",
        "colab": {
          "base_uri": "https://localhost:8080/"
        },
        "outputId": "d7c1cb32-7703-4a5e-f483-d7f044bc75ff"
      },
      "outputs": [
        {
          "output_type": "stream",
          "name": "stdout",
          "text": [
            "             *\n",
            "            ***\n",
            "           *****\n",
            "          *******\n",
            "         *********\n",
            "        ***********\n",
            "       *************\n",
            "      ***************\n",
            "     *****************\n",
            "    *******************\n",
            "   *********************\n",
            "  ***********************\n",
            " *************************\n",
            "***************************\n",
            "\n"
          ]
        }
      ],
      "source": [
        "# 이등변 삼각형 피라미드 (2 교재)\n",
        "output = \"\"\n",
        "\n",
        "for i in range(1,15):\n",
        "    for j in range(14,i,-1):\n",
        "        output += ' '\n",
        "    for k in range(0, 2 * i - 1):\n",
        "        output += '*'\n",
        "    output += '\\n'\n",
        "\n",
        "print(output)"
      ]
    },
    {
      "cell_type": "markdown",
      "source": [
        "### while 반복문\n",
        "* for문 : 특정 횟수만큼 반복하는 경우에 사용\n",
        "* while문 : 범용적으로 사용할수 있음, 특정 횟수가 아니라 특정 조건만큼 반복할 때 사용\n",
        "\n",
        "```\n",
        "while 불 표현식:\n",
        "  코드\n",
        "```\n",
        " **break가 걸리지 않으면 무한반복을 할 수 있기 때문에 조심해야한다!!**"
      ],
      "metadata": {
        "id": "vl6An_ZT72-x"
      }
    },
    {
      "cell_type": "markdown",
      "source": [
        "### while 반복문을 for 반복문처럼 사용하기"
      ],
      "metadata": {
        "id": "VKJ6aH_78SY_"
      }
    },
    {
      "cell_type": "code",
      "source": [
        "i = 0\n",
        "\n",
        "while i < 10:\n",
        "  print(\"{}번째 반복입니다.\".format(i))\n",
        "  i = i + 1"
      ],
      "metadata": {
        "colab": {
          "base_uri": "https://localhost:8080/"
        },
        "id": "_oupMeLi8SAY",
        "outputId": "f47a445e-038f-441e-d79e-eecafdcd4fbd"
      },
      "execution_count": null,
      "outputs": [
        {
          "output_type": "stream",
          "name": "stdout",
          "text": [
            "0번째 반복입니다.\n",
            "1번째 반복입니다.\n",
            "2번째 반복입니다.\n",
            "3번째 반복입니다.\n",
            "4번째 반복입니다.\n",
            "5번째 반복입니다.\n",
            "6번째 반복입니다.\n",
            "7번째 반복입니다.\n",
            "8번째 반복입니다.\n",
            "9번째 반복입니다.\n"
          ]
        }
      ]
    },
    {
      "cell_type": "markdown",
      "source": [
        "### while 반복문 : 상태를 기반으로 반복하기"
      ],
      "metadata": {
        "id": "UK7vw5rJ8oCr"
      }
    },
    {
      "cell_type": "markdown",
      "source": [
        "### 해당하는 값 모두 제거하기"
      ],
      "metadata": {
        "id": "2MbdC2z88q3U"
      }
    },
    {
      "cell_type": "code",
      "source": [
        "list_test = [1,2,1,2]\n",
        "value = 2\n",
        "\n",
        "while value in list_test:\n",
        "  list_test.remove(value)\n",
        "\n",
        "print(list_test)"
      ],
      "metadata": {
        "colab": {
          "base_uri": "https://localhost:8080/"
        },
        "id": "nEonukmM8t74",
        "outputId": "7472188e-f91b-431d-f3f8-8bf5af2ccc48"
      },
      "execution_count": null,
      "outputs": [
        {
          "output_type": "stream",
          "name": "stdout",
          "text": [
            "[1, 1]\n"
          ]
        }
      ]
    },
    {
      "cell_type": "markdown",
      "source": [
        "### while 반복문 : 시간을 기반으로 반복하기\n",
        "시간을 기반으로 반복하려면 유닉스 타임이라는 개념을 알아야 한다.<br>\n",
        "* 유닉스 타임(Unix Time) : 세계 표준시. (1970년 1월 1일 0시 0분 0초를 기준으로 몇 초가 지났는지를 정수로 나타낸 것)"
      ],
      "metadata": {
        "id": "KS5FVB0T86oN"
      }
    },
    {
      "cell_type": "code",
      "execution_count": null,
      "metadata": {
        "id": "EVs1J53o_cEn",
        "outputId": "d6642ffd-94e8-4281-a0a9-ca94e87e9ad0",
        "colab": {
          "base_uri": "https://localhost:8080/"
        }
      },
      "outputs": [
        {
          "output_type": "stream",
          "name": "stdout",
          "text": [
            "5초 동안 17670270번 반복했습니다.\n",
            "1692619329.2172835\n",
            "1692619334.2178998\n"
          ]
        }
      ],
      "source": [
        "# while문과 유닉스 타임(UTC)을 이용\n",
        "# 5초 동안 반복하기\n",
        "import time\n",
        "\n",
        "number = 0\n",
        "\n",
        "target_tick = time.time() + 5   # time.time()은 코드를 실행한 경우 지금의 초단위를 나타내고,\n",
        "                                # time.time() + 5 를 할 경우, 실행하고 5초의 갭을 만들어 낸다.\n",
        "\n",
        "while time.time() < target_tick:\n",
        "    number += 1\n",
        "\n",
        "print(\"5초 동안 {}번 반복했습니다.\".format(number))\n",
        "print(time.time())\n",
        "print(time.time()+5)"
      ]
    },
    {
      "cell_type": "markdown",
      "source": [
        "### while 반복문 : break 키워드 / continue 키워드\n",
        "* break 키워드 : 반복문을 벗어날 때 사용\n",
        "* continue 키워드 : 현재 반복을 생략하고, 다음 반복으로 넘어갈 때 사용"
      ],
      "metadata": {
        "id": "osTUVF7q-bMY"
      }
    },
    {
      "cell_type": "code",
      "source": [
        "i = 0\n",
        "\n",
        "while True:  # 무한 반복으로 시작\n",
        "  print(\"{}번째 반복문입니다.\".format(i))\n",
        "  i = i + 1\n",
        "\n",
        "  # 반복을 종료할 코드\n",
        "  input_test = input(\"> 종료하시겠습니까?(y/n) : \")\n",
        "\n",
        "  if input_test in [\"y\", \"Y\"]:\n",
        "    print(\"반복을 종료합니다.\")\n",
        "    break"
      ],
      "metadata": {
        "colab": {
          "base_uri": "https://localhost:8080/"
        },
        "id": "1ezQLtGd-qpT",
        "outputId": "c78ba488-8cfa-450e-d44a-d5e9bd943af3"
      },
      "execution_count": null,
      "outputs": [
        {
          "output_type": "stream",
          "name": "stdout",
          "text": [
            "0번째 반복문입니다.\n",
            "> 종료하시겠습니까?(y/n) : 1\n",
            "1번째 반복문입니다.\n",
            "> 종료하시겠습니까?(y/n) : 2\n",
            "2번째 반복문입니다.\n",
            "> 종료하시겠습니까?(y/n) : n\n",
            "3번째 반복문입니다.\n",
            "> 종료하시겠습니까?(y/n) : t\n",
            "4번째 반복문입니다.\n",
            "> 종료하시겠습니까?(y/n) : y\n",
            "반복을 종료합니다.\n"
          ]
        }
      ]
    },
    {
      "cell_type": "code",
      "source": [
        "numbers = [5, 15, 6, 20, 7, 25]\n",
        "count = 0\n",
        "\n",
        "for number in numbers:\n",
        "  count = count + 1\n",
        "  if number < 10:\n",
        "    continue\n",
        "\n",
        "  print(\"number : \", number)\n",
        "print(\"총 반복 횟수 : \", count)"
      ],
      "metadata": {
        "colab": {
          "base_uri": "https://localhost:8080/"
        },
        "id": "bDhGFWCB_IPK",
        "outputId": "becdcbb1-3a80-4e38-bd41-bfe4ed250041"
      },
      "execution_count": null,
      "outputs": [
        {
          "output_type": "stream",
          "name": "stdout",
          "text": [
            "number :  15\n",
            "number :  20\n",
            "number :  25\n",
            "총 반복 횟수 :  6\n"
          ]
        }
      ]
    },
    {
      "cell_type": "markdown",
      "source": [
        "# 4-3 확인문제"
      ],
      "metadata": {
        "id": "cCMs2vUZAk__"
      }
    },
    {
      "cell_type": "markdown",
      "source": [
        "### 2번\n",
        "빈칸을 채워 키와 값으로 이루어진 각 리스트를 조합해 하나의 딕셔너리를 만들어 보시오.\n",
        "```\n",
        "# 숫자는 무작위로 입력해도 상관없습니다.\n",
        "key_list = [\"name\", \"hp\", \"mp\", \"level\"]\n",
        "value_list = [\"기사\", 200, 30, 5]\n",
        "character = {}\n",
        "\n",
        "빈칸\n",
        "\n",
        "print(character)\n",
        "```\n",
        "실행 결과 <br>\n",
        "{'name' : '기사', 'hp' : 200, 'mp' : 30, 'level' : 5}"
      ],
      "metadata": {
        "id": "YkzL-GFhAnwm"
      }
    },
    {
      "cell_type": "code",
      "source": [
        "# 복습\n",
        "# 숫자는 무작위로 입력해도 상관없습니다.\n",
        "key_list = [\"name\", \"hp\", \"mp\", \"level\"]\n",
        "value_list = [\"기사\", 200, 30, 5]\n",
        "character = {}\n",
        "\n",
        "for i in range(len(key_list)):\n",
        "  character[key_list[i]] = value_list[i]\n",
        "\n",
        "print(character)"
      ],
      "metadata": {
        "colab": {
          "base_uri": "https://localhost:8080/"
        },
        "id": "PVe-wkJmBDbZ",
        "outputId": "cdaa2850-3800-49f2-c2ca-7675b83daaa5"
      },
      "execution_count": null,
      "outputs": [
        {
          "output_type": "stream",
          "name": "stdout",
          "text": [
            "{'name': '기사', 'hp': 200, 'mp': 30, 'level': 5}\n"
          ]
        }
      ]
    },
    {
      "cell_type": "code",
      "execution_count": null,
      "metadata": {
        "id": "Eiqth-O0_cEn"
      },
      "outputs": [],
      "source": [
        "# 답안\n",
        "key_list = [\"name\", \"hp\", \"mp\", \"level\"]\n",
        "value_list = [\"기사\", 200, 30, 5]\n",
        "\n",
        "character = {}"
      ]
    },
    {
      "cell_type": "code",
      "execution_count": null,
      "metadata": {
        "id": "blXtmx-P_cEn",
        "outputId": "9638201d-9a32-4df0-8ec8-3e4cd3068fd2"
      },
      "outputs": [
        {
          "name": "stdout",
          "output_type": "stream",
          "text": [
            "{'name': '기사', 'hp': 200, 'mp': 30, 'level': 5}\n"
          ]
        }
      ],
      "source": [
        "for i in range(0, len(key_list)):\n",
        "    character[key_list[i]] = value_list[i]\n",
        "\n",
        "print(character)"
      ]
    },
    {
      "cell_type": "markdown",
      "source": [
        "### 3번\n",
        "1부터 숫자를 하나씩 증가시키면서 더하는 경우를 생각해보자. 몇을 더할 때 1000을 넘는지 구해보자. 그리고 그때의 값도 출력해보자. 다음은 10000이 넘는 경우를 구한 예이다.<br><br>\n",
        "\n",
        "1, 1 + 2 = 3, 1 + 2 + 3 = 6, 1 + 2 + 3 + 4 = 10 ... <br><br>\n",
        "\n",
        "```\n",
        "limit = 10000\n",
        "i = 1\n",
        "\n",
        "# sum은 파이썬 내부에서 사용하는 식별자이므로 sum_value라는 변수 이름을 사용한다.\n",
        "\n",
        "빈칸\n",
        "\n",
        "print(\"{}를 더할 때 {}을 넘으며 그때의 값은 {}입니다.\".format(i-1, limit, sum_value))\n",
        "```\n",
        "실행 결과 <br>\n",
        "141을 더할 때 10000을 넘으며 그때의 값은 10011 입니다."
      ],
      "metadata": {
        "id": "cIZi5mq9ByFL"
      }
    },
    {
      "cell_type": "code",
      "execution_count": null,
      "metadata": {
        "id": "n_OlYdah_cEo",
        "outputId": "69dfd14b-6960-45a5-aba1-7bf2d78e8fcd",
        "colab": {
          "base_uri": "https://localhost:8080/"
        }
      },
      "outputs": [
        {
          "output_type": "stream",
          "name": "stdout",
          "text": [
            "141를 더할 때 10000을 넘으며 그때의 값은 10011입니다.\n"
          ]
        }
      ],
      "source": [
        "# 3-3 연습문제 (성민)\n",
        "# 리스트를 활용하여 해보기\n",
        "\n",
        "limit = 10000\n",
        "i = 1\n",
        "li = []\n",
        "\n",
        "while True:\n",
        "    li.append(i)\n",
        "    i = i + 1\n",
        "    sum_value = sum(li)\n",
        "    if sum_value > limit:\n",
        "        break\n",
        "\n",
        "print(\"{}를 더할 때 {}을 넘으며 그때의 값은 {}입니다.\".format(i-1, limit, sum_value))"
      ]
    },
    {
      "cell_type": "code",
      "source": [
        "# 복습!!\n",
        "limit = 10000\n",
        "i = 1\n",
        "\n",
        "# sum은 파이썬 내부에서 사용하는 식별자이므로 sum_value라는 변수 이름을 사용한다.\n",
        "sum_value = 0\n",
        "\n",
        "while True:\n",
        "  sum_value = sum_value + i\n",
        "  i = i + 1\n",
        "\n",
        "  if sum_value > limit:\n",
        "    break\n",
        "\n",
        "print(\"{}를 더할 때 {}을 넘으며 그때의 값은 {}입니다.\".format(i-1, limit, sum_value))"
      ],
      "metadata": {
        "colab": {
          "base_uri": "https://localhost:8080/"
        },
        "id": "2x8nuGyVCdRK",
        "outputId": "0c00d587-b0f5-48cd-dea0-7ba05cef994f"
      },
      "execution_count": null,
      "outputs": [
        {
          "output_type": "stream",
          "name": "stdout",
          "text": [
            "141를 더할 때 10000을 넘으며 그때의 값은 10011입니다.\n"
          ]
        }
      ]
    },
    {
      "cell_type": "code",
      "execution_count": null,
      "metadata": {
        "id": "RuGkYiyQ_cEo",
        "outputId": "9b597fd1-3d08-409f-e0c6-e6c4569f76cc"
      },
      "outputs": [
        {
          "name": "stdout",
          "output_type": "stream",
          "text": [
            "141를 더할 때 10000을 넘으며 그때의 값은 10011입니다.\n"
          ]
        }
      ],
      "source": [
        "# 3-3 연습문제 (답안)\n",
        "limit = 10000\n",
        "i = 1\n",
        "\n",
        "sum_value = 0\n",
        "while True:\n",
        "    sum_value = sum_value + i  # 수식에 대한 이해.. 많이 사용하여 이용해보자\n",
        "    i = i + 1\n",
        "    if sum_value > limit:\n",
        "        break\n",
        "\n",
        "print(\"{}를 더할 때 {}을 넘으며 그때의 값은 {}입니다.\".format(i-1, limit, sum_value))"
      ]
    },
    {
      "cell_type": "markdown",
      "source": [
        "### 4번\n",
        "1부터 100까지의 숫자가 있다고 하자. 이를 다음과 같이 계산한다고 했을 때, 최대가 되는 경우는 어떤 숫자를 곱했을 때인지를 찾아보자.\n",
        "```\n",
        "1 * 99, 2 * 98, 3 * 97, 4 * 96, ...\n",
        "```\n",
        "```\n",
        "max_value = 0\n",
        "a = 0\n",
        "b = 0\n",
        "\n",
        "for i in _____ :\n",
        "  j = 100 - i\n",
        "\n",
        "# 최댓값 구하기\n",
        "빈칸\n",
        "\n",
        "print(\"최대가 되는 경우 : {} * {} = {}\".format(a, b, max_value))\n",
        "```\n",
        "실행 결과<br>\n",
        "최대가 되는 경우 : 50 * 50 = 2500\n"
      ],
      "metadata": {
        "id": "jl3dFYjZEdA7"
      }
    },
    {
      "cell_type": "code",
      "execution_count": null,
      "metadata": {
        "id": "9Vp_aiLN_cEo",
        "outputId": "96f33044-b116-4a0a-93fa-388ec81486f9"
      },
      "outputs": [
        {
          "name": "stdout",
          "output_type": "stream",
          "text": [
            "최대가 되는 경우 : 50 * 50 = 2500\n"
          ]
        }
      ],
      "source": [
        "# 3-4 연습문제(성민) # 다시 풀어보기!!\n",
        "# 1부터 100까지 두개의 곱이 가장 클 때를 구하기\n",
        "max_value = 0\n",
        "a = 0\n",
        "b = 0\n",
        "\n",
        "for i in range(1,100):\n",
        "    j = 100 - i\n",
        "\n",
        "    # 최대값 구하기\n",
        "    current = j * i\n",
        "\n",
        "    if max_value < current:\n",
        "        max_value = current\n",
        "        a = i\n",
        "        b = j\n",
        "\n",
        "print(\"최대가 되는 경우 : {} * {} = {}\".format(a,b,max_value))"
      ]
    },
    {
      "cell_type": "code",
      "source": [
        "## 복습!!\n",
        "\n",
        "max_value = 0\n",
        "a = 0\n",
        "b = 0\n",
        "\n",
        "for i in range(1, 100) :\n",
        "  j = 100 - i\n",
        "\n",
        "  # print(\"{} * {} = {}\".format(i, j, i*j))\n",
        "  # 최댓값 구하기\n",
        "  if i * j > max_value:\n",
        "    max_value = i * j\n",
        "    a = i\n",
        "    b = j\n",
        "\n",
        "print(\"최대가 되는 경우 : {} * {} = {}\".format(a, b, max_value))"
      ],
      "metadata": {
        "colab": {
          "base_uri": "https://localhost:8080/"
        },
        "id": "zwQuVFX8FKkR",
        "outputId": "f0d8d221-3fb6-4a98-8d5d-bad2989b57bd"
      },
      "execution_count": null,
      "outputs": [
        {
          "output_type": "stream",
          "name": "stdout",
          "text": [
            "최대가 되는 경우 : 50 * 50 = 2500\n"
          ]
        }
      ]
    },
    {
      "cell_type": "markdown",
      "source": [
        "# 4-4 문자열, 리스트, 딕셔너리와 관련된 기본 함수\n",
        "* 리스트에 적용할 수 있는 기본 함수 : min( ), max( ), sum( )\n",
        "* 리스트 뒤집기 : reversed( )\n",
        "* 현재 인덱스가 몇 번째인지 확인하기 : enumerate( )\n",
        "* 딕셔너리로 쉽게 반복문 작성하기 : items( )\n",
        "* 리스트 안에 for문 사용하기 : 리스트 내포"
      ],
      "metadata": {
        "id": "dzHD5gCSvyl8"
      }
    },
    {
      "cell_type": "markdown",
      "source": [
        "### reversed( ) 함수로 리스트 뒤집기"
      ],
      "metadata": {
        "id": "nCKyYm5XxHdf"
      }
    },
    {
      "cell_type": "code",
      "execution_count": null,
      "metadata": {
        "id": "VQAdA4J4_cEo",
        "outputId": "fe4b706f-bcfa-4e88-d7c6-ccb06553625d",
        "colab": {
          "base_uri": "https://localhost:8080/"
        }
      },
      "outputs": [
        {
          "output_type": "stream",
          "name": "stdout",
          "text": [
            "# reversed() 함수\n",
            "reversed([1,2,3,4,5]) :  <list_reverseiterator object at 0x7af8e5e1b250>\n",
            "list_reversed :  <list_reverseiterator object at 0x7af8e5e1ada0>\n",
            "list(reversed([1,2,3,4,5])) :  [5, 4, 3, 2, 1]\n",
            "\n",
            "= 5\n",
            "= 4\n",
            "= 3\n",
            "= 2\n",
            "= 1\n"
          ]
        }
      ],
      "source": [
        "# reversed() 함수\n",
        "\n",
        "# 리스트를 선언하고 뒤집는다.\n",
        "list_a = [1,2,3,4,5]\n",
        "list_reversed = reversed(list_a)\n",
        "\n",
        "print(\"# reversed() 함수\")\n",
        "print(\"reversed([1,2,3,4,5]) : \", list_reversed) # 주소가 출력된다. 힙(heap)의 개념 알기!!!***\n",
        "print(\"list_reversed : \", reversed(list_a))\n",
        "print(\"list(reversed([1,2,3,4,5])) : \", list(list_reversed))\n",
        "print()\n",
        "\n",
        "# 반복문 적용해보자.\n",
        "for i in reversed([1,2,3,4,5]):\n",
        "    print(\"=\",i)"
      ]
    },
    {
      "cell_type": "markdown",
      "source": [
        "\n",
        "\n",
        "---\n",
        "\n",
        "\n",
        "\n",
        "---\n",
        "\n"
      ],
      "metadata": {
        "id": "pYHNQOO2AQCP"
      }
    },
    {
      "cell_type": "markdown",
      "source": [
        "# 이해 필요!!\n",
        "\n",
        "```\n",
        "temp = reversed([1,2,3,4,5,6])\n",
        "\n",
        "for i in temp:\n",
        "  print(\"첫 번째 반복문 : {}\".format(temp))\n",
        "\n",
        "for i in temp:\n",
        "  print(\"두 번째 반복문 : {}\".format(temp))\n",
        "```\n",
        "코드를 실행하면 \"첫 번째 반복문\" 부분만 실행되고 \"두 번째 반복문\" 부분은 전혀 출력되지 않는다.<br><br>\n",
        "\n",
        "reversed( ) 함수의 결과가 **제너레이터**이기 때문!!<br>\n",
        "함수의 결과가 **제너레이터** 일 때, 반복문을 조합할 때는 함수의 결과를 여러번 활용하지 않고 다음과 같이 for 구문 내부에 함수를 곧바로 넣어서 사용한다!!\n",
        "\n",
        "```\n",
        "numbers = [1,2,3,4,5,6]\n",
        "\n",
        "for i in reversed(numbers):\n",
        "  print(\"첫 번째 반복문 : {}\".format(temp))\n",
        "\n",
        "for i in reversed(numbers):\n",
        "  print(\"두 번째 반복문 : {}\".format(temp))\n",
        "```"
      ],
      "metadata": {
        "id": "7-4i0l6t_ALN"
      }
    },
    {
      "cell_type": "code",
      "source": [
        "temp = reversed([1,2,3,4,5,6])\n",
        "\n",
        "for i in temp:\n",
        "  print(\"첫 번째 반복문 : {}\".format(temp))\n",
        "\n",
        "for i in temp:\n",
        "  print(\"두 번째 반복문 : {}\".format(temp))"
      ],
      "metadata": {
        "colab": {
          "base_uri": "https://localhost:8080/"
        },
        "id": "EG9imAsX_79H",
        "outputId": "bb423de8-080b-4571-8b48-11ffb78dea6c"
      },
      "execution_count": null,
      "outputs": [
        {
          "output_type": "stream",
          "name": "stdout",
          "text": [
            "첫 번째 반복문 : <list_reverseiterator object at 0x7c156e3c7640>\n",
            "첫 번째 반복문 : <list_reverseiterator object at 0x7c156e3c7640>\n",
            "첫 번째 반복문 : <list_reverseiterator object at 0x7c156e3c7640>\n",
            "첫 번째 반복문 : <list_reverseiterator object at 0x7c156e3c7640>\n",
            "첫 번째 반복문 : <list_reverseiterator object at 0x7c156e3c7640>\n",
            "첫 번째 반복문 : <list_reverseiterator object at 0x7c156e3c7640>\n"
          ]
        }
      ]
    },
    {
      "cell_type": "code",
      "source": [
        "numbers = [1,2,3,4,5,6]\n",
        "\n",
        "for i in reversed(numbers):\n",
        "  print(\"첫 번째 반복문 : {}\".format(temp))\n",
        "\n",
        "for i in reversed(numbers):\n",
        "  print(\"두 번째 반복문 : {}\".format(temp))"
      ],
      "metadata": {
        "colab": {
          "base_uri": "https://localhost:8080/"
        },
        "id": "NHqhCWkw_9E_",
        "outputId": "6349c9bc-800e-4649-97fe-4ca75f579969"
      },
      "execution_count": null,
      "outputs": [
        {
          "output_type": "stream",
          "name": "stdout",
          "text": [
            "첫 번째 반복문 : <list_reverseiterator object at 0x7c156e3c7640>\n",
            "첫 번째 반복문 : <list_reverseiterator object at 0x7c156e3c7640>\n",
            "첫 번째 반복문 : <list_reverseiterator object at 0x7c156e3c7640>\n",
            "첫 번째 반복문 : <list_reverseiterator object at 0x7c156e3c7640>\n",
            "첫 번째 반복문 : <list_reverseiterator object at 0x7c156e3c7640>\n",
            "첫 번째 반복문 : <list_reverseiterator object at 0x7c156e3c7640>\n",
            "두 번째 반복문 : <list_reverseiterator object at 0x7c156e3c7640>\n",
            "두 번째 반복문 : <list_reverseiterator object at 0x7c156e3c7640>\n",
            "두 번째 반복문 : <list_reverseiterator object at 0x7c156e3c7640>\n",
            "두 번째 반복문 : <list_reverseiterator object at 0x7c156e3c7640>\n",
            "두 번째 반복문 : <list_reverseiterator object at 0x7c156e3c7640>\n",
            "두 번째 반복문 : <list_reverseiterator object at 0x7c156e3c7640>\n"
          ]
        }
      ]
    },
    {
      "cell_type": "markdown",
      "source": [
        "\n",
        "\n",
        "---\n",
        "\n",
        "\n",
        "\n",
        "---\n",
        "\n"
      ],
      "metadata": {
        "id": "WlPRozArARpS"
      }
    },
    {
      "cell_type": "markdown",
      "source": [
        "### enumerate( ) 함수와 반복문 조합하기\n",
        "* 현재 인덱스가 몇 번째인지 확인해야 하는 경우에 사용\n",
        "* 반복인자를 두 개 사용 가능하다!!"
      ],
      "metadata": {
        "id": "ZSf2Or8sAYZj"
      }
    },
    {
      "cell_type": "code",
      "execution_count": null,
      "metadata": {
        "id": "5JhHtkgC_cEo",
        "outputId": "654491a2-be49-4b2b-ead2-75a2cd393e57",
        "colab": {
          "base_uri": "https://localhost:8080/"
        }
      },
      "outputs": [
        {
          "output_type": "stream",
          "name": "stdout",
          "text": [
            "['A', 'B', 'C']\n",
            "<enumerate object at 0x7c1551c24ec0>\n",
            "\n",
            "A\n",
            "B\n",
            "C\n",
            "\n",
            "0번쨰 요소 A\n",
            "1번쨰 요소 B\n",
            "2번쨰 요소 C\n",
            "\n",
            "0번째 요소 A\n",
            "1번째 요소 B\n",
            "2번째 요소 C\n"
          ]
        }
      ],
      "source": [
        "example_list = [\"A\", \"B\", \"C\"]\n",
        "\n",
        "print(example_list)\n",
        "print(enumerate(example_list))\n",
        "print()\n",
        "\n",
        "for i in example_list:\n",
        "    print(i)\n",
        "print()\n",
        "\n",
        "for i,j in enumerate(example_list):\n",
        "    print(\"{}번쨰 요소 {}\".format(i,j))\n",
        "print()\n",
        "\n",
        "for i in range(len(example_list)):\n",
        "    print(\"{}번째 요소 {}\".format(i,example_list[i]))"
      ]
    },
    {
      "cell_type": "code",
      "execution_count": null,
      "metadata": {
        "id": "JqX53pfv_cEo",
        "outputId": "25a710c2-c7e8-4424-ea89-b04881556636",
        "colab": {
          "base_uri": "https://localhost:8080/"
        }
      },
      "outputs": [
        {
          "output_type": "stream",
          "name": "stdout",
          "text": [
            "# 단순출력\n",
            "['요소A', '요소B', '요소C']\n",
            "\n",
            "# enumerate() 함수 적용 출력\n",
            "<enumerate object at 0x7c1551c25000>\n",
            "\n",
            "list()함수를 이용하여 강제로 출력하기\n",
            "[(0, '요소A'), (1, '요소B'), (2, '요소C')]\n",
            "\n",
            "# 반복문과 조합하기\n",
            "0번째 요소는 요소A입니다.\n",
            "1번째 요소는 요소B입니다.\n",
            "2번째 요소는 요소C입니다.\n"
          ]
        }
      ],
      "source": [
        "# enumerate() 함수와 리스트\n",
        "example_list = [\"요소A\",\"요소B\",\"요소C\"]\n",
        "\n",
        "print(\"# 단순출력\")\n",
        "print(example_list)\n",
        "print()\n",
        "\n",
        "# enumerate() 함수 적용 출력\n",
        "print(\"# enumerate() 함수 적용 출력\")\n",
        "print(enumerate(example_list)) # --> 주소를 출력\n",
        "print()\n",
        "\n",
        "# list() 함수로 강제 변환해 출력하기\n",
        "print(\"list()함수를 이용하여 강제로 출력하기\")\n",
        "print(list(enumerate(example_list))) # 튜플 형식으로 인덱스와 값을 강제로 출력!!\n",
        "print()\n",
        "\n",
        "# for 반복문과 enumerate() 함수 조합해서 사용하기\n",
        "print(\"# 반복문과 조합하기\")\n",
        "for i, value in enumerate(example_list):\n",
        "    # enumerate() 함수를 사용하면 반복 변수를 두개 사용 가능하다. (인덱스, 값)\n",
        "    print(\"{}번째 요소는 {}입니다.\".format(i,value))"
      ]
    },
    {
      "cell_type": "markdown",
      "source": [
        "### 이터레이터와 튜플 **\n",
        "위의 예제들의 실행 결과를 보면 reversed( ) 함수, enumerate( ) 함수의 결과가 곧바로 리스트로 출력되지 않고 <list_reverseiterator object at 0x7af8e5e1b250>, <enumerate object at 0x0000020A010EF580> 등으로 나오는 볼 수 있다. **이터레이터**에 관한 개념"
      ],
      "metadata": {
        "id": "PM6ZNN5lBi8p"
      }
    },
    {
      "cell_type": "markdown",
      "source": [
        "### 딕셔너리의 items( ) 함수와 반복문 조합하기\n",
        "* for i, value in enumerate(리스트)\n",
        "* for key, value in 딕셔너리.items( )"
      ],
      "metadata": {
        "id": "KA5B7yhuCDIU"
      }
    },
    {
      "cell_type": "code",
      "execution_count": null,
      "metadata": {
        "id": "BpoxmJL__cEo",
        "outputId": "dd13a614-c524-4db0-ec62-83c66af4db73",
        "colab": {
          "base_uri": "https://localhost:8080/"
        }
      },
      "outputs": [
        {
          "output_type": "stream",
          "name": "stdout",
          "text": [
            "# 딕셔너리의 items() 함수\n",
            "items() :  dict_items([('키A', '값A'), ('키B', '값B'), ('키C', '값C')])\n",
            "\n",
            "# 딕셔너리의 items() 함수와 반복문 조합하기\n",
            "dictionary[키A] = 값A\n",
            "dictionary[키B] = 값B\n",
            "dictionary[키C] = 값C\n"
          ]
        }
      ],
      "source": [
        "# 딕셔너리의 items() 함수와 반복문 // 딕셔너리는 items()함수와 같이 사용가능\n",
        "example_dic = {\n",
        "    \"키A\" : \"값A\",\n",
        "    \"키B\" : \"값B\",\n",
        "    \"키C\" : \"값C\"\n",
        "    }\n",
        "\n",
        "\n",
        "# 딕셔너리의 items() 함수 결과 출력해보기\n",
        "print(\"# 딕셔너리의 items() 함수\")\n",
        "print(\"items() : \", example_dic.items())\n",
        "# 딕셔너리의 키와 값을 리스트안의 튜플형식으로 보여줌\n",
        "print()\n",
        "\n",
        "# for 반복문과 items() 함수 조합해서 사용해보기\n",
        "print(\"# 딕셔너리의 items() 함수와 반복문 조합하기\")\n",
        "for key, element in example_dic.items():\n",
        "    # items() 함수를 적용시 반복변수 두개를 쓸 수 있다. (키,값)\n",
        "    print(\"dictionary[{}] = {}\".format(key,element))"
      ]
    },
    {
      "cell_type": "code",
      "execution_count": null,
      "metadata": {
        "id": "Y61r2Pot_cEo",
        "outputId": "8c79a29b-50e2-458b-bb3e-9256aec90168"
      },
      "outputs": [
        {
          "name": "stdout",
          "output_type": "stream",
          "text": [
            "[0, 4, 16, 36, 64, 100, 144, 196, 256, 324]\n"
          ]
        }
      ],
      "source": [
        "# 반복문을 사용한 리스트 생성\n",
        "array = []\n",
        "\n",
        "for i in range(0, 20, 2):\n",
        "    array.append(i*i)\n",
        "print(array)"
      ]
    },
    {
      "cell_type": "markdown",
      "source": [
        "### 리스트 내포 **\n",
        "프로그램을 만들 때는 반복문을 사용해 리스트를 재조합하는 경우가 많다.<br>\n",
        "\n",
        "for문 한줄 표현 방식 예시\n",
        "```\n",
        "i*i for i in range(0,10)\n",
        "```\n",
        "\n",
        "```\n",
        "리스트 이름 = [ 표현식 for 반복자 in 반복할 수 있는 것]\n",
        "리스트 이름 = [ 표현식 for 반복자 in 반복할 수 있는 것 if 조건문]\n",
        "\n",
        "# 가독성을 위해 줄바꿈하여 선언하기\n",
        "리스트 이름 = [ 표현식\n",
        "            for 반복자 in 반복할 수 있는 것\n",
        "            if 조건문 ]\n",
        "```\n",
        "최종 결과를 앞에 작성한다!"
      ],
      "metadata": {
        "id": "wNDfyOolDUrq"
      }
    },
    {
      "cell_type": "code",
      "source": [
        "# 반복문을 통한 리스트 생성방법\n",
        "array = []\n",
        "\n",
        "for i in range(0,20,2):\n",
        "  array.append(i*i)\n",
        "\n",
        "print(array)"
      ],
      "metadata": {
        "colab": {
          "base_uri": "https://localhost:8080/"
        },
        "id": "YMY66Rs7Dfed",
        "outputId": "097a369d-6a01-494c-d428-13c2df8a45a3"
      },
      "execution_count": null,
      "outputs": [
        {
          "output_type": "stream",
          "name": "stdout",
          "text": [
            "[0, 4, 16, 36, 64, 100, 144, 196, 256, 324]\n"
          ]
        }
      ]
    },
    {
      "cell_type": "code",
      "execution_count": null,
      "metadata": {
        "id": "rkHDqUX4_cEo",
        "outputId": "c2a5f2bb-2b8d-4623-dcdd-7b89770eaa7d",
        "colab": {
          "base_uri": "https://localhost:8080/"
        }
      },
      "outputs": [
        {
          "output_type": "stream",
          "name": "stdout",
          "text": [
            "[0, 4, 16, 36, 64, 100, 144, 196, 256, 324]\n"
          ]
        }
      ],
      "source": [
        "## 리스트 내포\n",
        "# 리스트 안에 for문 사용하기 **\n",
        "array = [i*i for i in range(0,20,2)]\n",
        "print(array)\n",
        "\n",
        "# 리스트 이름 = [표현식 for 반복자 in 반복할 수 있는 것 if 조건문] *****"
      ]
    },
    {
      "cell_type": "code",
      "execution_count": null,
      "metadata": {
        "id": "hp_bBegb_cEo",
        "outputId": "9fc56c15-b785-4c37-9819-f9f2d380317b"
      },
      "outputs": [
        {
          "name": "stdout",
          "output_type": "stream",
          "text": [
            "['사과', '자두', '바나나', '체리']\n"
          ]
        }
      ],
      "source": [
        "# 조건을 활용한 리스트 내포\n",
        "array2 = [\"사과\", \"자두\", \"초콜릿\", \"바나나\", \"체리\"]\n",
        "\n",
        "output = [fruit for fruit in array2 if fruit != \"초콜릿\"]   # array2 리스트 내의 \"초콜릿\" 값만 빼고 output 변수에 저장하겠다라는 의미.\n",
        "print(output)"
      ]
    },
    {
      "cell_type": "markdown",
      "source": [
        "\n",
        "\n",
        "---\n",
        "\n",
        "\n",
        "\n",
        "---\n",
        "\n"
      ],
      "metadata": {
        "id": "r58gbo2snlie"
      }
    },
    {
      "cell_type": "markdown",
      "source": [
        "# 좀더 알아보기 1\n",
        "# 구문 내부에 여러 줄 문자열을 사용했을 때 문제점"
      ],
      "metadata": {
        "id": "U_QVsYmHnYHq"
      }
    },
    {
      "cell_type": "code",
      "source": [
        "number = int(input(\"정수 입력 > \"))\n",
        "\n",
        "if number % 2 == 0:\n",
        "  print(\"\"\"\\\n",
        "  입력한 문자열은 {}입니다.\n",
        "  {}는 짝수입니다.\"\"\".format(number, number))\n",
        "else:\n",
        "  print(\"\"\"\\\n",
        "  입력한 문자열은 {}입니다.\n",
        "  {}는 홀수입니다.\"\"\".format(number, number))\n",
        "\n",
        "## 출력의 결과에 들여쓰기가 적용된 것을 볼 수 있다!!"
      ],
      "metadata": {
        "colab": {
          "base_uri": "https://localhost:8080/"
        },
        "id": "QVKRSUuanfwh",
        "outputId": "3fb24190-d5d1-4cbf-b76c-c252327b7254"
      },
      "execution_count": null,
      "outputs": [
        {
          "output_type": "stream",
          "name": "stdout",
          "text": [
            "정수 입력 > 123\n",
            "  입력한 문자열은 123입니다.\n",
            "  123는 홀수입니다.\n"
          ]
        }
      ]
    },
    {
      "cell_type": "code",
      "source": [
        "number = int(input(\"정수 입력 > \"))\n",
        "\n",
        "if number % 2 == 0:\n",
        "  print(\"\"\"입력한 문자열은 {}입니다.\n",
        "{}는 짝수입니다.\"\"\".format(number, number))\n",
        "else:\n",
        "  print(\"\"\"입력한 문자열은 {}입니다.\n",
        "{}는 홀수입니다.\"\"\".format(number, number))\n",
        "\n",
        "## 출력의 결과가 들여쓰기가 적용되지 않지만, 코드 구조가 이상하다!!"
      ],
      "metadata": {
        "colab": {
          "base_uri": "https://localhost:8080/"
        },
        "id": "haRAFKyXoF3h",
        "outputId": "705fc67a-fd37-4144-eb31-38a9b1a7edb8"
      },
      "execution_count": null,
      "outputs": [
        {
          "output_type": "stream",
          "name": "stdout",
          "text": [
            "정수 입력 > 123\n",
            "입력한 문자열은 123입니다.\n",
            "123는 홀수입니다.\n"
          ]
        }
      ]
    },
    {
      "cell_type": "code",
      "source": [
        "number = int(input(\"정수 입력 > \"))\n",
        "\n",
        "if number % 2 == 0:\n",
        "  print(\"입력한 문자열은 {}입니다.\\n{}는 짝수입니다.\".format(number, number))\n",
        "else:\n",
        "  print(\"입력한 문자열은 {}입니다.\\n{}는 홀수입니다.\".format(number, number))\n",
        "\n",
        "## 출력의 결과가 들여쓰기가 적용되지 않지만, 긴 코드가 한줄로 되어있어 복잡해보인다!!"
      ],
      "metadata": {
        "colab": {
          "base_uri": "https://localhost:8080/"
        },
        "id": "Bv5dLZ7WoT0n",
        "outputId": "e9d03458-df73-4876-c4e0-2e517c146234"
      },
      "execution_count": null,
      "outputs": [
        {
          "output_type": "stream",
          "name": "stdout",
          "text": [
            "정수 입력 > 123\n",
            "입력한 문자열은 123입니다.\n",
            "123는 홀수입니다.\n"
          ]
        }
      ]
    },
    {
      "cell_type": "markdown",
      "source": [
        "### 괄호로 문자열 연결하기"
      ],
      "metadata": {
        "id": "6svfkzuQosL2"
      }
    },
    {
      "cell_type": "code",
      "source": [
        "test = (\n",
        "    \"이렇게 입력해도 \"\n",
        "    \"하나의 문자열로 연결되어 \"\n",
        "    \"생성됩니다.\"\n",
        ")\n",
        "\n",
        "print(\"test : \", test)\n",
        "print(\"type(test) : \", type(test))\n",
        "\n",
        "# 변수 test의 자료형이 '튜플'이라고 생각할 수 있는데,\n",
        "# '튜플'은 괄호 내부의 문자열이 쉼표( , )로 연결되어야 '튜플'이다!!\n",
        "\n",
        "# 이를 활용해보자!!\n",
        "number = int(input(\"정수 입력 > \"))\n",
        "\n",
        "if number % 2 == 0:\n",
        "  print(\n",
        "      (\"입력한 문자열은 {}입니다.\\n\"\n",
        "        \"{}는 짝수입니다.\"\n",
        "      ).format(number, number)\n",
        "  )\n",
        "else:\n",
        "  print(\n",
        "      (\"입력한 문자열은 {}입니다.\\n\"\n",
        "        \"{}는 홀수입니다.\"\n",
        "      ).format(number, number)\n",
        "  )\n",
        "\n",
        "## 출력의 결과가 들여쓰기가 적용되지 않지만, 긴 코드가 한줄로 되어있어 복잡해보인다!!"
      ],
      "metadata": {
        "colab": {
          "base_uri": "https://localhost:8080/"
        },
        "id": "nGEkk83_or2K",
        "outputId": "3a1abaf0-b806-4221-f148-852fd2c65278"
      },
      "execution_count": null,
      "outputs": [
        {
          "output_type": "stream",
          "name": "stdout",
          "text": [
            "test :  이렇게 입력해도 하나의 문자열로 연결되어 생성됩니다.\n",
            "type(test) :  <class 'str'>\n",
            "정수 입력 > 123\n",
            "입력한 문자열은 123입니다.\n",
            "123는 홀수입니다.\n"
          ]
        }
      ]
    },
    {
      "cell_type": "markdown",
      "source": [
        "### 문자열의 join( ) 함수\n",
        "```\n",
        "문자열.join(문자열로 구성된 리스트)\n",
        "```"
      ],
      "metadata": {
        "id": "uXQBJpkNq6pk"
      }
    },
    {
      "cell_type": "code",
      "execution_count": null,
      "metadata": {
        "id": "kNzmIXlD_cEo",
        "outputId": "e5b54346-6cc4-445b-a1be-1570155c6bfa",
        "colab": {
          "base_uri": "https://localhost:8080/"
        }
      },
      "outputs": [
        {
          "output_type": "stream",
          "name": "stdout",
          "text": [
            "1::2::3::4::5\n",
            "일AB이AB삼AB사AB오\n",
            "정수 입력 > 123\n",
            "입력한 문자열은 123입니다.\n",
            "123는 홀수입니다.\n"
          ]
        }
      ],
      "source": [
        "print(\"::\".join([\"1\",\"2\",\"3\",\"4\",\"5\"]))\n",
        "print(\"AB\".join([\"일\", \"이\", \"삼\", \"사\", \"오\"]))\n",
        "\n",
        "# \"문자열\"이 join 매개변수로 넣는 리스트 값들의 사이로 들어가게 된다!\n",
        "# 마지막 인덱스의 값 뒤에는 들어가지 않는다!!\n",
        "\n",
        "# 이를 활용해보자!!\n",
        "number = int(input(\"정수 입력 > \"))\n",
        "\n",
        "if number % 2 == 0:\n",
        "  print(\"\\n\".join([\"입력한 문자열은 {}입니다.\",\n",
        "                   \"{}는 짝수입니다.\"]).format(number, number)\n",
        "  )\n",
        "else:\n",
        "  print(\"\\n\".join([\"입력한 문자열은 {}입니다.\",\n",
        "                   \"{}는 홀수입니다.\"]).format(number, number)\n",
        "  )"
      ]
    },
    {
      "cell_type": "markdown",
      "source": [
        "# 좀더 알아보기 2\n",
        "# 이터레이터\n",
        "반복문의 구문은 다음과 같다.\n",
        "```\n",
        "for 반복자 in 반복할 수 있는 것\n",
        "```\n",
        "여기서 '반복할 수 있는 것'을 프로그래밍 용어로 **이터러블(iterable)**이라고 한다.<br>\n",
        "즉 이터러블은 내부에 있는 요소들을 차례차례 꺼낼 수 있는 **객체**를 의미한다.<br>\n",
        "리스트, 딕셔너리, 문자열, 튜플 등은 모두 내부에서 요소를 차례차례 꺼낼 수 있으므로 이터러블이다.<br>\n",
        "이터러블 중에서 ```next()``` 함수를 적용해 하나하나 꺼낼 수 있는 요소를 **이터레이터(iterator)**라고 한다."
      ],
      "metadata": {
        "id": "eecySAsrs7Hm"
      }
    },
    {
      "cell_type": "markdown",
      "source": [
        "### reversed( ) 함수와 이터레이터"
      ],
      "metadata": {
        "id": "3VidDmu4t7Z6"
      }
    },
    {
      "cell_type": "code",
      "source": [
        "numbers = [1,2,3,4,5,6]\n",
        "r_num = reversed(numbers)\n",
        "\n",
        "print(\"reversed_numbers : \", r_num)\n",
        "print(next(r_num))\n",
        "print(next(r_num))\n",
        "print(next(r_num))\n",
        "print(next(r_num))\n",
        "print(next(r_num))\n",
        "print(next(r_num))\n",
        "\n"
      ],
      "metadata": {
        "colab": {
          "base_uri": "https://localhost:8080/"
        },
        "id": "JjnZMaC6sWHc",
        "outputId": "b09a3215-97fe-4de4-d41b-1cedeac9f8cb"
      },
      "execution_count": null,
      "outputs": [
        {
          "output_type": "stream",
          "name": "stdout",
          "text": [
            "reversed_numbers :  <list_reverseiterator object at 0x7e0a71346f80>\n",
            "6\n",
            "5\n",
            "4\n",
            "3\n",
            "2\n",
            "1\n"
          ]
        }
      ]
    },
    {
      "cell_type": "markdown",
      "source": [
        "reversed 함수를 사용했을 때 <list_reverseiterator object at 주소>를 출력한다. <br>\n",
        "reversed( ) 함수의 리턴값이 바로 'reverseiterator'로 '이터레이터'이다.<br>\n",
        "이와 같은 이터레이터는 반복문의 매개변수로 전달할 수 있으며, 현재 코드처럼 next( ) 함수로 내부의 요소를 하나하나 꺼낼 수 있다.<br><br>\n",
        "\n",
        "for 반복문의 매개변수에 넣으면 반복할 때마다 next( ) 함수를 사용해서 요소를 하나하나 꺼내주는 것이다.<br><br>\n",
        "\n",
        "그렇다면 왜 reversed( ) 함수는 리스트를 바로 리턴해 주지 않고 이터레이터를 리턴해주는 것일까?? <br><br>\n",
        "\n",
        "이는 **메모리의 효율성**을 위해서이다. 만약 1만 개의 요소가 들어 있는 리스트라면 복제한 뒤 뒤집어서 리턴하는 것보다 기존에 있던 리스트를 활용해서 작업하는 것이 훨씬 효율적이라고 판단하기 때문이다!!"
      ],
      "metadata": {
        "id": "Iw3a9r7bubee"
      }
    },
    {
      "cell_type": "markdown",
      "source": [
        "\n",
        "\n",
        "---\n",
        "\n",
        "\n",
        "\n",
        "---\n",
        "\n"
      ],
      "metadata": {
        "id": "rkRTgRrN0MsL"
      }
    },
    {
      "cell_type": "markdown",
      "source": [
        "# 4-4 확인문제"
      ],
      "metadata": {
        "id": "J5ufZnosv1ZA"
      }
    },
    {
      "cell_type": "markdown",
      "source": [
        "### 2번\n",
        "2진수, 8진수, 16진수로 변환하는 코드는 많이 사용된다. **알아두기**\n",
        "```\n",
        "# 10진수와 2진수 변환\n",
        "\"{:b}\".format(10)\n",
        "출력 : '1010'\n",
        "int(\"1010\", 2)\n",
        "출력 : 10\n",
        "\n",
        "# 10진수와 8진수 변환\n",
        "\"{:o}\".format(10)\n",
        "출력 : '12'\n",
        "int(\"12\", 8)\n",
        "출력 : 10\n",
        "\n",
        "# 10진수와 16진수 변환\n",
        "\"{:x}\".format(10)\n",
        "출력 : 'a'\n",
        "int(\"10\", 16)\n",
        "출력 : 16\n",
        "```\n",
        "이외에도 bin( ), oct( ), hex( )라는 함수를 사용하는 방법도 있지만, format( ) 함수를 사용하는 방법이 더 유연해서 편리한 경우가 많다!<br><br>\n",
        "\n",
        "추가로 반복 가능한 객체(문자열, 리스트, 범위 등)의 count( ) 함수는 다음과 같이 사용한다.\n",
        "```\n",
        "\"안녕안녕하세요\".count(\"안\")\n",
        "출력 : 2\n",
        "```\n",
        "\n",
        "\n",
        "---\n",
        "\n",
        "\n",
        "이를 활용하여 1 ~ 100 사이에 있는 숫자 중 2진수로 변환했을 때 0이 하나만 포함된 숫자를 찾고, 그 숫자들의 합을 구하는 코드를 만들어보자.\n",
        "```\n",
        "# 리스트 내포를 사용해본 코드\n",
        "output = ______________\n",
        "\n",
        "for i in _____ :\n",
        "  print(\"{} : {}\".format(i, \"{:b}\".format(i)))\n",
        "\n",
        "print(\"합계 : \", sum(output))\n",
        "```\n",
        "실행결과 <br>\n",
        "2 : 10 <br>\n",
        "5 : 101<br>\n",
        "6 : 110<br>\n",
        "11 : 1011<br>\n",
        "...<br>\n",
        "62 : 111110<br>\n",
        "95 : 1011111<br>\n",
        "합계 : 539\n"
      ],
      "metadata": {
        "id": "4fhguW1nv-O9"
      }
    },
    {
      "cell_type": "code",
      "source": [
        "# 복습!\n",
        "# 리스트 내포를 사용해본 코드\n",
        "output = [result\n",
        "          for result in range(1, 100 + 1)\n",
        "          if \"{:b}\".format(result).count(\"0\") == 1]\n",
        "\n",
        "for i in output :\n",
        "  print(\"{} : {}\".format(i, \"{:b}\".format(i)))\n",
        "\n",
        "print(\"합계 : \", sum(output))"
      ],
      "metadata": {
        "colab": {
          "base_uri": "https://localhost:8080/"
        },
        "id": "R1MN4gwayyBg",
        "outputId": "2705a141-77b6-4d05-c3b9-5c214b2a2c61"
      },
      "execution_count": null,
      "outputs": [
        {
          "output_type": "stream",
          "name": "stdout",
          "text": [
            "2 : 10\n",
            "5 : 101\n",
            "6 : 110\n",
            "11 : 1011\n",
            "13 : 1101\n",
            "14 : 1110\n",
            "23 : 10111\n",
            "27 : 11011\n",
            "29 : 11101\n",
            "30 : 11110\n",
            "47 : 101111\n",
            "55 : 110111\n",
            "59 : 111011\n",
            "61 : 111101\n",
            "62 : 111110\n",
            "95 : 1011111\n",
            "합계 :  539\n"
          ]
        }
      ]
    },
    {
      "cell_type": "code",
      "execution_count": null,
      "metadata": {
        "id": "OMxi-FUy_cEp",
        "outputId": "f9d812fb-d03a-4bb6-d6bb-cf8eb54a97b6"
      },
      "outputs": [
        {
          "name": "stdout",
          "output_type": "stream",
          "text": [
            "2 : 10\n",
            "5 : 101\n",
            "6 : 110\n",
            "11 : 1011\n",
            "13 : 1101\n",
            "14 : 1110\n",
            "23 : 10111\n",
            "27 : 11011\n",
            "29 : 11101\n",
            "30 : 11110\n",
            "47 : 101111\n",
            "55 : 110111\n",
            "59 : 111011\n",
            "61 : 111101\n",
            "62 : 111110\n",
            "95 : 1011111\n",
            "합계 =  539\n"
          ]
        }
      ],
      "source": [
        "# 4장 마무리 문제\n",
        "# 1~100 사이에 있는 숫자 중 2진수로 변환했을 때\n",
        "# 0이 하나만 포함된 숫자를 찾고, 그 숫자들의 합을 구하는 코드를 만들어보자.\n",
        "# 리스트 내포를 이용\n",
        "\n",
        "output = [value\n",
        "          for value in range(1,101)\n",
        "          if \"{:b}\".format(value).count('0') == 1]\n",
        "\n",
        "for i in output:\n",
        "    print(\"{} : {}\".format(i, \"{:b}\".format(i)))\n",
        "print(\"합계 = \", sum(output))"
      ]
    },
    {
      "cell_type": "markdown",
      "metadata": {
        "id": "0qN1wgSN_cEp"
      },
      "source": [
        "# 4장 끝난 후의 도전문제"
      ]
    },
    {
      "cell_type": "markdown",
      "source": [
        "### 1번 숫자의 종류\n",
        "다음 리스트에서 몇 가지 종류의 숫자가 사용되었는지 구하는 프로그램을 만들어 보시오. 1,2,3,4가 사용되었으므로 4개가 사용되었다고 출력하면 된다.\n",
        "* [1, 2, 3, 4, 1, 2, 3, 1, 4, 1, 2, 3]\n",
        "실행 결과\n",
        "[1, 2, 3, 4, 1, 2, 3, 1, 4, 1, 2, 3]에서<br>\n",
        "사용된 숫자의 종류는 4개 입니다.<br>\n",
        "참고 : {1: 4, 2: 3, 3: 3, 4: 2}"
      ],
      "metadata": {
        "id": "65WGxT2B05Z0"
      }
    },
    {
      "cell_type": "code",
      "source": [
        "# 복습!!\n",
        "numbers = [1, 2, 3, 4, 1, 2, 3, 1, 4, 1, 2, 3]\n",
        "dic = {}\n",
        "\n",
        "for number in numbers:\n",
        "  if number in dic:   # 반복할 수 있는 것에 딕셔너리가 들어간다면 키값만 내놓는다. 값은 내놓지 않음.\n",
        "    dic[number] = dic[number] + 1\n",
        "  else:\n",
        "    dic[number] = 1\n",
        "\n",
        "print(\n",
        "    (\"{}에서\\n\"\n",
        "    \"사용된 숫자의 종류는 {}개입니다.\").format(numbers, len(dic.keys()))\n",
        ")\n",
        "\n",
        "print(\"참고 : \", dic)\n",
        "\n",
        "# 딕셔너리 공부!!\n",
        "for i in dic:\n",
        "  print(\"dic : \", i)  # 이런듯 반복자는 딕셔너리의 키값만 내놓는다!!"
      ],
      "metadata": {
        "colab": {
          "base_uri": "https://localhost:8080/"
        },
        "id": "m4tzFbn51VIU",
        "outputId": "35649913-b10d-4a76-b2b2-9675b2c67921"
      },
      "execution_count": null,
      "outputs": [
        {
          "output_type": "stream",
          "name": "stdout",
          "text": [
            "[1, 2, 3, 4, 1, 2, 3, 1, 4, 1, 2, 3]에서\n",
            "사용된 숫자의 종류는 4개입니다.\n",
            "참고 :  {1: 4, 2: 3, 3: 3, 4: 2}\n",
            "dic :  1\n",
            "dic :  2\n",
            "dic :  3\n",
            "dic :  4\n"
          ]
        }
      ]
    },
    {
      "cell_type": "code",
      "execution_count": null,
      "metadata": {
        "id": "5c4oKpZO_cEq",
        "outputId": "87402114-729b-408b-f7f0-26c227b31e0d"
      },
      "outputs": [
        {
          "name": "stdout",
          "output_type": "stream",
          "text": [
            "{1: 4, 2: 3, 3: 3, 4: 2}\n",
            "[1, 2, 3, 4, 1, 2, 3, 1, 4, 1, 2, 3]에서 /n 사용된 숫자의 종류는 4개 입니다.\n"
          ]
        }
      ],
      "source": [
        "# 1.숫자의 종류\n",
        "# 다음 리스트에서 몇 가지 종류의 숫자가 사용되었는지 구하는 프로그램 만들기\n",
        "# 1,2,3,4가 사용되었으므로 4개가 사용되었다고 출력하면 된다.\n",
        "# [1,2,3,4,1,2,3,1,4,1,2,3]\n",
        "a = [1,2,3,4,1,2,3,1,4,1,2,3]\n",
        "dic = {}\n",
        "\n",
        "for number in a:\n",
        "    if number in dic:\n",
        "        dic[number] = dic[number] + 1\n",
        "    else:\n",
        "        dic[number] = 1\n",
        "print(dic)\n",
        "print(\"{}에서 /n 사용된 숫자의 종류는 {}개 입니다.\".format(a,len(dic)))"
      ]
    },
    {
      "cell_type": "markdown",
      "source": [
        "### 2번 염기의 개수\n",
        "우리 몸은 DNA라는 설계도에 의해 만들어진다.<br>\n",
        "DNA는 A(아데닌), T(티민), G(구아닌), C(사이토신)이라는 4가지 요소로 구성되는 리스트라고 볼 수 있다.<br>\n",
        "염기 서열을 입력했을 때 각각의 염기가 몇 개 포되어 있는지 세는 프로그램을 구현해보자.<br>\n",
        "\n",
        "`ctacaatgtcagtatacccattgcattagccgg`\n",
        "염기 서열을 입력했을 때 각각의 염기가 몇 개 포함되어 있는지 세는 프로그램을 구현해보자.<br><br>\n",
        "\n",
        "실행 결과<br>\n",
        "염기의 서열을 입력해주세요 : ctacaatgtcagtatacccattgcattagccgg<br>\n",
        "a의 개수 : 9<br>\n",
        "t의 개수 : 9<br>\n",
        "g의 개수 : 6<br>\n",
        "c의 개수 : 9"
      ],
      "metadata": {
        "id": "1O49utc-7bfp"
      }
    },
    {
      "cell_type": "code",
      "source": [
        "# 복습!!\n",
        "dna = input(\"염기의 서열을 입력해주세요 : \")\n",
        "dic2 = {}\n",
        "\n",
        "for i in dna:\n",
        "  if i in dic2:\n",
        "    dic2[i] = dic2[i] + 1\n",
        "  else:\n",
        "    dic2[i] = 1\n",
        "\n",
        "print(\n",
        "    (\"a의 개수 : {}\\n\"\n",
        "    \"t의 개수 : {}\\n\"\n",
        "    \"g의 개수 : {}\\n\"\n",
        "    \"c의 개수 : {}\").format(dic2[\"a\"], dic2[\"t\"], dic2[\"g\"], dic2[\"c\"])\n",
        ")"
      ],
      "metadata": {
        "colab": {
          "base_uri": "https://localhost:8080/"
        },
        "id": "eYVgu6nQ8KS8",
        "outputId": "22e5685b-cc93-4305-d0a5-47cc21a6e304"
      },
      "execution_count": null,
      "outputs": [
        {
          "output_type": "stream",
          "name": "stdout",
          "text": [
            "염기의 서열을 입력해주세요 : ctacaatgtcagtatacccattgcattagccgg\n",
            "a의 개수 : 9\n",
            "t의 개수 : 9\n",
            "g의 개수 : 6\n",
            "c의 개수 : 9\n"
          ]
        }
      ]
    },
    {
      "cell_type": "code",
      "execution_count": null,
      "metadata": {
        "id": "ASgYexMI_cEr",
        "outputId": "d3ee3eb6-be8f-48ab-918e-bcae81d33799"
      },
      "outputs": [
        {
          "name": "stdout",
          "output_type": "stream",
          "text": [
            "a의 개수 : 9\n",
            "t의 개수 : 9\n",
            "g의 개수 : 6\n",
            "c의 개수 : 9\n",
            "\n",
            "a의 개수 : 3\n",
            "t의 개수 : 5\n",
            "g의 개수 : 9\n",
            "c의 개수 : 5\n",
            "\n",
            "a의 개수 : 3\n",
            "t의 개수 : 5\n",
            "g의 개수 : 9\n",
            "c의 개수 : 5\n"
          ]
        }
      ],
      "source": [
        "# 2.염기의 개수\n",
        "# 우리 몸은 DNA라는 설계도에 의해 만들어진다.\n",
        "# DNA는 A(아데닌), T(티민), G(구아닌), C(사이토신)이라는 4가지 요소로 구성되는 리스트라고 볼 수 있다.\n",
        "# 염기 서열을 입력했을 때 각각의 염기가 몇 개 포되어 있는지 세는 프로그램을 구현해보자.\n",
        "# \"ctacaatgtcagtatacccattgcattagccgg\"\n",
        "\n",
        "# 예)\n",
        "exam = \"ctacaatgtcagtatacccattgcattagccgg\"\n",
        "a = t = g = c = 0\n",
        "\n",
        "for i in exam:\n",
        "    if i == \"a\":\n",
        "        a = a + 1\n",
        "    if i == \"t\":\n",
        "        t = t + 1\n",
        "    if i == \"g\":\n",
        "        g = g + 1\n",
        "    if i == \"c\":\n",
        "        c = c + 1\n",
        "# print((\n",
        "#     \"a의 개수 : {} \"\n",
        "#     \"t의 개수 : {} \"\n",
        "#     \"g의 개수 : {} \"\n",
        "#     \"c의 개수 : {}\").format(a,t,g,c)\n",
        "# )\n",
        "print(\"a의 개수 : {}\".format(a))\n",
        "print(\"t의 개수 : {}\".format(t))\n",
        "print(\"g의 개수 : {}\".format(g))\n",
        "print(\"c의 개수 : {}\".format(c))\n",
        "print()\n",
        "# -----------------------------\n",
        "# 딕셔너리를 이용 (정답지 유사하게)\n",
        "dic = {\n",
        "    \"a\" : 0,\n",
        "    \"t\" : 0,\n",
        "    \"g\" : 0,\n",
        "    \"c\" : 0\n",
        "}\n",
        "\n",
        "second = input(\"염기 서열을 입력해 주세요 : \")\n",
        "for i in second:\n",
        "    if i in dic:\n",
        "        dic[i] = dic[i] + 1\n",
        "    else:\n",
        "        dic[i] = 1\n",
        "print(\"a의 개수 : {}\".format(dic[\"a\"]))\n",
        "print(\"t의 개수 : {}\".format(dic[\"t\"]))\n",
        "print(\"g의 개수 : {}\".format(dic[\"g\"]))\n",
        "print(\"c의 개수 : {}\".format(dic[\"c\"]))\n",
        "print()\n",
        "# -----------------------------\n",
        "# 정답지\n",
        "nucleos = input(\"염기 서열을 입력해주세요: \")\n",
        "counter = {\n",
        "    \"a\" : 0,\n",
        "    \"t\" : 0,\n",
        "    \"g\" : 0,\n",
        "    \"c\" : 0\n",
        "}\n",
        "\n",
        "for nucleo in nucleos:\n",
        "    counter[nucleo] += 1\n",
        "\n",
        "for key in counter:\n",
        "    print(f\"{key}의 개수 : {counter[key]}\")"
      ]
    },
    {
      "cell_type": "markdown",
      "source": [
        "### 3번 염기 코돈 개수\n",
        "코돈(codon)의 개수를 세는 프로그램을 만들어보자.<br>\n",
        "염기 서열은 일반적으로 3개씩 묶여서 하나의 의미를 나타낸다.<br>\n",
        "즉, `ctacaatgtcagtatacccattgcattagccgg` 과 같은 염기 서열이 있다면<br>\n",
        "cta / caa / tgt / ... / cgg 이렇게 3개씩 나뉘어서 의미를 갖는다.<br><br>\n",
        "\n",
        "실행 결과<br>\n",
        "염기 서열을 입력해주세요 : ctacaatgtcagtatacccattgcattagccgg <br>\n",
        "{'cta' : 1, 'caa' : 1, 'tgt' : 1, 'cag' : 1, 'tat' : 1, 'acc' : 1, 'cat' : 1, 'tgc' : 1, 'att' : 1, 'agc' : 1, 'cgg' : 1}"
      ],
      "metadata": {
        "id": "i5IVWQV_9vgc"
      }
    },
    {
      "cell_type": "code",
      "source": [
        "# 복습!!\n",
        "codon = input(\"염기 서열을 입력해세요 : \")\n",
        "dic = {}\n",
        "\n",
        "for i in range(0, len(codon), 3):\n",
        "  if codon[i] + codon[i+1] + codon[i+2] in dic:\n",
        "    dic[codon[i] + codon[i+1] + codon[i+2]] = dic[codon[i] + codon[i+1] + codon[i+2]] + 1\n",
        "  else:\n",
        "    dic[codon[i] + codon[i+1] + codon[i+2]] = 1\n",
        "\n",
        "print(dic)\n",
        "\n",
        "# 이렇게 코드를 작성할 경우, codon의 길이가 3의배수가 아닐 시, 인덱스 오류가 발생하게 된다.\n",
        "# 따라서 아래 복습2 에 보안하였다."
      ],
      "metadata": {
        "colab": {
          "base_uri": "https://localhost:8080/"
        },
        "id": "eisIaknKMS8l",
        "outputId": "c83e0034-48cd-4b98-a75f-031b04545775"
      },
      "execution_count": null,
      "outputs": [
        {
          "output_type": "stream",
          "name": "stdout",
          "text": [
            "염기 서열을 입력해세요 : ctacaatgtcagtatacccattgcattagccgg\n",
            "{'cta': 1, 'caa': 1, 'tgt': 1, 'cag': 1, 'tat': 1, 'acc': 1, 'cat': 1, 'tgc': 1, 'att': 1, 'agc': 1, 'cgg': 1}\n"
          ]
        }
      ]
    },
    {
      "cell_type": "code",
      "source": [
        "# 복습 2!!!\n",
        "nucleos = input(\"염기서열을 입력해주세요 : \")\n",
        "dic = {}\n",
        "\n",
        "for i in range(0, len(nucleos), 3):\n",
        "  codon = nucleos[i:i + 3]\n",
        "\n",
        "  if codon in dic:\n",
        "    dic[codon] = dic[codon] + 1\n",
        "  elif len(codon) == 3:\n",
        "    dic[codon] = 1\n",
        "\n",
        "print(dic)"
      ],
      "metadata": {
        "colab": {
          "base_uri": "https://localhost:8080/"
        },
        "id": "gogc_R8d7g1f",
        "outputId": "422b84e3-cab7-4e08-a4d7-a09356fcba22"
      },
      "execution_count": 7,
      "outputs": [
        {
          "output_type": "stream",
          "name": "stdout",
          "text": [
            "염기서열을 입력해주세요 : ctacaatgtcagtatacccattgcattagccggctacaatgtcagtatacccattgcattagccggaa\n",
            "{'cta': 2, 'caa': 2, 'tgt': 2, 'cag': 2, 'tat': 2, 'acc': 2, 'cat': 2, 'tgc': 2, 'att': 2, 'agc': 2, 'cgg': 2}\n"
          ]
        }
      ]
    },
    {
      "cell_type": "code",
      "execution_count": null,
      "metadata": {
        "id": "BOLmccpo_cEr",
        "outputId": "09e600fe-0fba-4b14-fab1-13b46e2de651",
        "colab": {
          "base_uri": "https://localhost:8080/"
        }
      },
      "outputs": [
        {
          "output_type": "stream",
          "name": "stdout",
          "text": [
            "염기 서열을 입력해주세요 : ctacaatgtcagtatacccattgcattagccggctacaatgtcagtatacccattgcattagccgg\n",
            "{'cta': 2, 'caa': 2, 'tgt': 2, 'cag': 2, 'tat': 2, 'acc': 2, 'cat': 2, 'tgc': 2, 'att': 2, 'agc': 2, 'cgg': 2}\n",
            "\n",
            "염기 서열을 입력해주세요 : ctacaatgtcagtatacccattgcattagccggctacaatgtcagtatacccattgcattagccg\n",
            "{'cta': 2, 'caa': 2, 'tgt': 2, 'cag': 2, 'tat': 2, 'acc': 2, 'cat': 2, 'tgc': 2, 'att': 2, 'agc': 2, 'cgg': 1}\n"
          ]
        }
      ],
      "source": [
        "# 3.염기 코돈 개수\n",
        "# 이번에는 코돈의 개수를 세는 프로그램을 만들어보자.\n",
        "# 염기 서열은 일반적으로 3개씩 묶여서 하나의 의미를 나타낸다.\n",
        "# 염기 서열을 입력했을 때 어떤 코돈이 몇 개 존재하는지 다음과 같이 출력하는 프로그램을 구현해보자.\n",
        "\n",
        "# 염기 서열을 입력해주세요 : ctacaatgtcagtatacccattgcattagccgg\n",
        "# {'cta' : 1, 'caa' : 1, 'tgt' : 1, 'cag' : 1, 'tat' : 1, 'acc' : 1, 'cat' : 1, 'tgc' : 1, 'att' : 1, 'agc' : 1, 'cgg' : 1}\n",
        "\n",
        "dic = {}\n",
        "\n",
        "a = input(\"염기 서열을 입력해주세요 : \")\n",
        "\n",
        "for i in range(1,len(a)+1):\n",
        "    if (i % 3) == 0:\n",
        "        if a[i-3:i] in dic:\n",
        "            dic[a[i-3:i]] = dic[a[i-3:i]] + 1\n",
        "        else:\n",
        "            dic[a[i-3:i]] = 1\n",
        "\n",
        "print(dic)\n",
        "\n",
        "print()\n",
        "\n",
        "# 정답지\n",
        "nucleos = input(\"염기 서열을 입력해주세요 : \")\n",
        "counter = {}\n",
        "\n",
        "for i in range(0,len(nucleos),3):\n",
        "    codon = nucleos[i:i+3]\n",
        "\n",
        "    if len(codon) == 3:\n",
        "        if codon not in counter:\n",
        "            counter[codon] = 0\n",
        "        counter[codon] = counter[codon] + 1\n",
        "\n",
        "print(counter)"
      ]
    },
    {
      "cell_type": "code",
      "execution_count": null,
      "metadata": {
        "id": "OB_Fo4lY_cEs",
        "outputId": "72acf3ee-ab69-42fb-dbd8-c7956b5484c0"
      },
      "outputs": [
        {
          "name": "stdout",
          "output_type": "stream",
          "text": [
            "0\n",
            "1\n",
            "2\n",
            "3\n",
            "4\n",
            "5\n",
            "6\n",
            "7\n",
            "8\n"
          ]
        }
      ],
      "source": [
        "# range함수 다시 연습..\n",
        "li = [1,2,3,1,2,3,1,2,3]\n",
        "\n",
        "for i in range(len(li)): # 0부터 시작한다.\n",
        "    print(i)"
      ]
    },
    {
      "cell_type": "markdown",
      "source": [
        "# 4번  2차원 리스트 평탄화\n",
        "다음과 같이 리스트가 중첩되어 있을 때 중첩을 제거하는 처리를 **리스트 평탄화**라고 한다.<br>\n",
        "`[1,2, [3,4], 5, [6,7], [8,9]] --> [1,2,3,4,5,6,7,8,9]` <br><br>\n",
        "\n",
        "실행 결과 <br>\n",
        "[1,2, [3,4], 5, [6,7], [8,9]]를 평탄화하면 <br>\n",
        "[1,2,3,4,5,6,7,8,9]입니다. <br><br>\n",
        "\n",
        "위 프로그램을 만들어 보시오."
      ],
      "metadata": {
        "id": "QHC2laNIX3ub"
      }
    },
    {
      "cell_type": "code",
      "source": [
        "# 복습1\n",
        "test = [1,2, [3,4], 5, [6,7], [8,9]]\n",
        "anser = []\n",
        "\n",
        "for i in range(len(test)):\n",
        "  if type(test[i]) == list:\n",
        "    for j in range(0, len(test[i])):\n",
        "      anser.append(test[i][j])\n",
        "  else:\n",
        "    anser.append(test[i])\n",
        "\n",
        "print(anser)"
      ],
      "metadata": {
        "id": "vSsdor5VYcxL",
        "colab": {
          "base_uri": "https://localhost:8080/"
        },
        "outputId": "8ad8386f-143b-4165-a5fa-ab4d7be816fd"
      },
      "execution_count": 9,
      "outputs": [
        {
          "output_type": "stream",
          "name": "stdout",
          "text": [
            "[1, 2, 3, 4, 5, 6, 7, 8, 9]\n"
          ]
        }
      ]
    },
    {
      "cell_type": "code",
      "execution_count": null,
      "metadata": {
        "id": "5JQC4bhx_cEs",
        "outputId": "fbd0e468-9ccf-4c80-9be5-44baddc4d2ce"
      },
      "outputs": [
        {
          "name": "stdout",
          "output_type": "stream",
          "text": [
            "[1, 2, 3, 4, 5, 6, 7, 8, 9]\n"
          ]
        }
      ],
      "source": [
        "# 4. 2차원 리스트 평탄화\n",
        "# 다음과 같이 리스트가 중첩되어 있을 때 중첩을 제거하는 처리를 리스트 평탄화라고 한다.\n",
        "# [1,2, [3,4], 5, [6,7], [8,9]] --> [1,2,3,4,5,6,7,8,9]\n",
        "\n",
        "li = [1,2, [3,4], 5, [6,7], [8,9]]\n",
        "li2 = []\n",
        "\n",
        "for i in li:\n",
        "    if type(i) == list:\n",
        "        for j in i:\n",
        "            li2.append(j)\n",
        "    else:\n",
        "        li2.append(i)\n",
        "print(li2)"
      ]
    },
    {
      "cell_type": "code",
      "execution_count": null,
      "metadata": {
        "id": "7GfuYjf__cEt"
      },
      "outputs": [],
      "source": []
    }
  ],
  "metadata": {
    "kernelspec": {
      "display_name": "base",
      "language": "python",
      "name": "python3"
    },
    "language_info": {
      "codemirror_mode": {
        "name": "ipython",
        "version": 3
      },
      "file_extension": ".py",
      "mimetype": "text/x-python",
      "name": "python",
      "nbconvert_exporter": "python",
      "pygments_lexer": "ipython3",
      "version": "3.9.12"
    },
    "orig_nbformat": 4,
    "colab": {
      "provenance": []
    }
  },
  "nbformat": 4,
  "nbformat_minor": 0
}