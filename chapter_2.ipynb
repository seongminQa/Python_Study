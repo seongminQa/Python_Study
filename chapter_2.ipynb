{
  "nbformat": 4,
  "nbformat_minor": 0,
  "metadata": {
    "colab": {
      "provenance": []
    },
    "kernelspec": {
      "name": "python3",
      "display_name": "Python 3"
    },
    "language_info": {
      "name": "python"
    }
  },
  "cells": [
    {
      "cell_type": "markdown",
      "source": [
        "# 자료형\n",
        "\n",
        "* 자료(data) : 프로그램이 처리할 수 있는 모든 것<br>\n",
        " ex) 사진을 찍으면 사진이 '자료'이고, 이를 카메라에 저장하는 것이 '처리'이다.<br>\n",
        " 일상에서 만나는 모든 것들은 자료가 될 수 있고, '프로그램'은 이러한 자료를 처리하기 위한 모든 행위라고 생각할 수 있다.<br><br>\n",
        "\n",
        "기능과 역할에 따라 자료를 구분된 종류를 '자료형(data type)'이라 부른다.<br>\n",
        "* 문자열(string) : 메일 제목, 메시지 내용 등\n",
        "* 숫자(number) : 물건의 가격, 학생의 성적 등\n",
        "* 불(boolean) : 친구의 로그인 상태 등\n",
        "<br><br>"
      ],
      "metadata": {
        "id": "HgMA5exuPRLP"
      }
    },
    {
      "cell_type": "markdown",
      "source": [
        "### 자료형 확인하기\n",
        "자료의 형식을 확인할 때는 ```type()``` 함수를 사용"
      ],
      "metadata": {
        "id": "p3BCGUP9P-FC"
      }
    },
    {
      "cell_type": "code",
      "execution_count": null,
      "metadata": {
        "colab": {
          "base_uri": "https://localhost:8080/"
        },
        "id": "rF1sUHXOPBXw",
        "outputId": "7194684e-8cc5-4dc7-df34-450b5d17656d"
      },
      "outputs": [
        {
          "output_type": "stream",
          "name": "stdout",
          "text": [
            "<class 'str'>\n",
            "<class 'int'>\n"
          ]
        }
      ],
      "source": [
        "print(type(\"안녕하세요\"))\n",
        "print(type(1234))"
      ]
    },
    {
      "cell_type": "markdown",
      "source": [
        "### 문자열 내부에 따옴표 넣기"
      ],
      "metadata": {
        "id": "tSM_2yJKREZe"
      }
    },
    {
      "cell_type": "code",
      "source": [
        "print(\"'작은 따옴표'를 안에 넣기\")\n",
        "print('\"큰 따옴표\"를 안에 넣기')"
      ],
      "metadata": {
        "colab": {
          "base_uri": "https://localhost:8080/"
        },
        "id": "m6puXnwUQxHC",
        "outputId": "6c7d0dd4-9937-482b-d8b4-11c342649c32"
      },
      "execution_count": null,
      "outputs": [
        {
          "output_type": "stream",
          "name": "stdout",
          "text": [
            "'작은 따옴표'를 안에 넣기\n",
            "\"큰 따옴표\"를 안에 넣기\n"
          ]
        }
      ]
    },
    {
      "cell_type": "markdown",
      "source": [
        "### 구문 오류(Syntax Error)란?\n",
        "작성한 코드에 문제가 있어서 아예 실행조차 되지 않는다는 의미<br>\n",
        "대표적인 오류가 괄호를 열고, 닫지 않을 때이다."
      ],
      "metadata": {
        "id": "EOX2tB88RYzV"
      }
    },
    {
      "cell_type": "markdown",
      "source": [
        "### 이스케이프 문자(escape character)를 사용해 문자열 만들기\n",
        "역슬래시(\\) 기호와 함께 조합해서 사용하는 특수한 문자\n",
        "* ```\\\"``` : 큰 따옴표를 의미한다.\n",
        "* ```\\'``` : 작은 따옴표를 의미한다.\n",
        "* ```\\n``` : 줄바꿈을 의미한다.\n",
        "* ```\\t``` : 탭을 의미한다.\n",
        "* ```\\\\``` : 역슬래시를 의미한다."
      ],
      "metadata": {
        "id": "-Ca4AHF4Rl59"
      }
    },
    {
      "cell_type": "code",
      "source": [
        "print(\"\\\"안녕하세요\\\"라고 말했습니다.\")\n",
        "print('\\'안녕하세요\\'라고 말했습니다.')\n",
        "\n",
        "print(\"안녕?\\n안녕!\\n\")\n",
        "print(\"이름\\t나이\\t지역\")\n",
        "print(\"성민\\t32\\t강동구\")\n",
        "print()\n",
        "\n",
        "print(\"\\\\ \\\\ \\\\ \\\\\")\n",
        "print()\n",
        "\n",
        "# 여러 줄의 문자열 만들기\n",
        "print(\"\"\"\n",
        "동해물과 백두산이\n",
        "마르고 닳도록\"\"\")\n",
        "\n",
        "# 줄바꿈 없이 문자열 만들기 ** (위의 print()문 사이에 줄바꿈(\\n)을 생략해준다는 뜻..)\n",
        "print(\"\"\"\\\n",
        "동해물과 백두산이\n",
        "마르고 닳도록\\\n",
        "\"\"\")"
      ],
      "metadata": {
        "colab": {
          "base_uri": "https://localhost:8080/"
        },
        "id": "rCigf22_RTV4",
        "outputId": "c8da47a5-acc2-47b6-b120-577ff2bccb57"
      },
      "execution_count": null,
      "outputs": [
        {
          "output_type": "stream",
          "name": "stdout",
          "text": [
            "\"안녕하세요\"라고 말했습니다.\n",
            "'안녕하세요'라고 말했습니다.\n",
            "안녕?\n",
            "안녕!\n",
            "\n",
            "이름\t나이\t지역\n",
            "성민\t32\t강동구\n",
            "\n",
            "\\ \\ \\ \\\n",
            "\n",
            "\n",
            "동해물과 백두산이\n",
            "마르고 닳도록\n",
            "동해물과 백두산이 \n",
            "마르고 닳도록\n"
          ]
        }
      ]
    },
    {
      "cell_type": "markdown",
      "source": [
        "### 문자열 연산자\n",
        "숫자에는 숫자에만 적용할 수 있는 연산자가 있고, 문자열에는 문자열에만 적용할 수 있는 연산자가 있다.<br>\n",
        "\n",
        "\n",
        "\n"
      ],
      "metadata": {
        "id": "9px3J9EYWS7b"
      }
    },
    {
      "cell_type": "markdown",
      "source": [
        "* 문자열 연결 연산자(+) : \"문자열\" + \"문자열\""
      ],
      "metadata": {
        "id": "JU879D-oXSZc"
      }
    },
    {
      "cell_type": "code",
      "source": [
        "print(\"안녕\"+\"하세요\")"
      ],
      "metadata": {
        "colab": {
          "base_uri": "https://localhost:8080/"
        },
        "id": "nbJaJH-sSAZH",
        "outputId": "37db6dfa-3df1-4f31-8095-7f17f554d6db"
      },
      "execution_count": null,
      "outputs": [
        {
          "output_type": "stream",
          "name": "stdout",
          "text": [
            "안녕하세요\n"
          ]
        }
      ]
    },
    {
      "cell_type": "code",
      "source": [
        "print(\"안녕\"+1)"
      ],
      "metadata": {
        "colab": {
          "base_uri": "https://localhost:8080/",
          "height": 186
        },
        "id": "Lyyx8Nv6W2ht",
        "outputId": "69c4c634-f609-4c3d-f04c-923df463406f"
      },
      "execution_count": null,
      "outputs": [
        {
          "output_type": "error",
          "ename": "TypeError",
          "evalue": "ignored",
          "traceback": [
            "\u001b[0;31m---------------------------------------------------------------------------\u001b[0m",
            "\u001b[0;31mTypeError\u001b[0m                                 Traceback (most recent call last)",
            "\u001b[0;32m<ipython-input-16-beef7f99b592>\u001b[0m in \u001b[0;36m<cell line: 1>\u001b[0;34m()\u001b[0m\n\u001b[0;32m----> 1\u001b[0;31m \u001b[0mprint\u001b[0m\u001b[0;34m(\u001b[0m\u001b[0;34m\"안녕\"\u001b[0m\u001b[0;34m+\u001b[0m\u001b[0;36m1\u001b[0m\u001b[0;34m)\u001b[0m\u001b[0;34m\u001b[0m\u001b[0;34m\u001b[0m\u001b[0m\n\u001b[0m",
            "\u001b[0;31mTypeError\u001b[0m: can only concatenate str (not \"int\") to str"
          ]
        }
      ]
    },
    {
      "cell_type": "code",
      "source": [
        "print(\"안녕\" + \"1\")"
      ],
      "metadata": {
        "colab": {
          "base_uri": "https://localhost:8080/"
        },
        "id": "xKKw0t2IW4i6",
        "outputId": "169e595b-b1e7-4aad-bdae-6c899f9a23d3"
      },
      "execution_count": null,
      "outputs": [
        {
          "output_type": "stream",
          "name": "stdout",
          "text": [
            "안녕1\n"
          ]
        }
      ]
    },
    {
      "cell_type": "markdown",
      "source": [
        "문자열은 무조건 문자열끼리 + 연산자를 사용해서 연결해야 하고, 숫자라 하더라도 문자열과 함께 +연산하려면 큰따옴표를 붙여 문자열로 인식시켜야만 오류 없이 결과를 얻을 수 있다."
      ],
      "metadata": {
        "id": "P-lh9zKNW-_E"
      }
    },
    {
      "cell_type": "markdown",
      "source": [
        "* 문자열 반복 연산자(*)"
      ],
      "metadata": {
        "id": "2Xe-KcDSXJpc"
      }
    },
    {
      "cell_type": "code",
      "source": [
        "print(\"안녕?\" * 3)"
      ],
      "metadata": {
        "colab": {
          "base_uri": "https://localhost:8080/"
        },
        "id": "ybowsTkRW8hA",
        "outputId": "868ea21d-97fa-4aea-e023-84444bfb8da2"
      },
      "execution_count": null,
      "outputs": [
        {
          "output_type": "stream",
          "name": "stdout",
          "text": [
            "안녕?안녕?안녕?\n"
          ]
        }
      ]
    },
    {
      "cell_type": "markdown",
      "source": [
        "* 문자 선택 연산자(인덱싱) : [ ]<br>\n",
        "문자열 내부의 문자 하나를 선택하는 연산자이다.<br>"
      ],
      "metadata": {
        "id": "22BLutl1XWb0"
      }
    },
    {
      "cell_type": "code",
      "source": [
        "print(\"안녕하세요\"[0])\n",
        "print(\"안녕하세요\"[1])\n",
        "print(\"안녕하세요\"[2])\n",
        "print(\"안녕하세요\"[3])\n",
        "print(\"안녕하세요\"[4])"
      ],
      "metadata": {
        "colab": {
          "base_uri": "https://localhost:8080/"
        },
        "id": "XhBiVE1vXU8R",
        "outputId": "6cfc6c35-1dfa-4fdb-d016-35f6e7796808"
      },
      "execution_count": null,
      "outputs": [
        {
          "output_type": "stream",
          "name": "stdout",
          "text": [
            "안\n",
            "녕\n",
            "하\n",
            "세\n",
            "요\n"
          ]
        }
      ]
    },
    {
      "cell_type": "code",
      "source": [
        "print(\"안녕하세요\"[-5])\n",
        "print(\"안녕하세요\"[-4])\n",
        "print(\"안녕하세요\"[-3])\n",
        "print(\"안녕하세요\"[-2])\n",
        "print(\"안녕하세요\"[-1])"
      ],
      "metadata": {
        "colab": {
          "base_uri": "https://localhost:8080/"
        },
        "id": "fKaltAwrXrQ8",
        "outputId": "a00f182a-b7a4-48af-8d22-cccd310ddfe2"
      },
      "execution_count": null,
      "outputs": [
        {
          "output_type": "stream",
          "name": "stdout",
          "text": [
            "안\n",
            "녕\n",
            "하\n",
            "세\n",
            "요\n"
          ]
        }
      ]
    },
    {
      "cell_type": "markdown",
      "source": [
        "* 문자열 범위 선택 연산자(슬라이싱) = [ : ] <br>\n",
        " [0:3]이런식으로 마지막 인덱스 번호를 지정하면 __마지막 숫자를 포함하지 않음__"
      ],
      "metadata": {
        "id": "En4UBdzfX1CH"
      }
    },
    {
      "cell_type": "code",
      "source": [
        "print(\"안녕하세요\"[0:2])\n",
        "# 0이상 2미만을 출력\n",
        "# **슬라이싱은 '마지막 숫자를 포함하지 않음'"
      ],
      "metadata": {
        "colab": {
          "base_uri": "https://localhost:8080/"
        },
        "id": "wK67mYWcXyqK",
        "outputId": "98d5a827-0f69-4522-c223-45f6809a503c"
      },
      "execution_count": null,
      "outputs": [
        {
          "output_type": "stream",
          "name": "stdout",
          "text": [
            "안녕\n"
          ]
        }
      ]
    },
    {
      "cell_type": "code",
      "source": [
        "print(\"안녕하세요\"[3:])\n",
        "# 마지막 인덱스 번호를 지정하지 않으면 끝까지 출력"
      ],
      "metadata": {
        "colab": {
          "base_uri": "https://localhost:8080/"
        },
        "id": "b9fzqOZ-X9rR",
        "outputId": "e510321b-af26-4cd5-9fb8-8a4c64d800ab"
      },
      "execution_count": null,
      "outputs": [
        {
          "output_type": "stream",
          "name": "stdout",
          "text": [
            "세요\n"
          ]
        }
      ]
    },
    {
      "cell_type": "code",
      "source": [
        "print(\"안녕하세요\"[:3])"
      ],
      "metadata": {
        "colab": {
          "base_uri": "https://localhost:8080/"
        },
        "id": "zixTmfHrYfKU",
        "outputId": "2d090917-69b3-4fd4-bf30-56f47a2c4ba8"
      },
      "execution_count": null,
      "outputs": [
        {
          "output_type": "stream",
          "name": "stdout",
          "text": [
            "안녕하\n"
          ]
        }
      ]
    },
    {
      "cell_type": "markdown",
      "source": [
        "### 문자열의 길이 구하기\n",
        "* len() 함수를 사용!"
      ],
      "metadata": {
        "id": "vpOxBPywYuJd"
      }
    },
    {
      "cell_type": "code",
      "source": [
        "string1 = \"안녕하세요\"\n",
        "print(string1)\n",
        "print(len(string1))"
      ],
      "metadata": {
        "colab": {
          "base_uri": "https://localhost:8080/"
        },
        "id": "34IAKf6tYolG",
        "outputId": "6d110be3-da84-407c-d940-3c9af5c32f1e"
      },
      "execution_count": null,
      "outputs": [
        {
          "output_type": "stream",
          "name": "stdout",
          "text": [
            "안녕하세요\n",
            "5\n"
          ]
        }
      ]
    },
    {
      "cell_type": "markdown",
      "source": [
        "# 숫자\n",
        "소수점이 없는 숫자 : 정수형 <br>\n",
        "소수점이 있는 숫자 : 실수형 <br>\n",
        "<br>\n",
        "* integer : 정수\n",
        "* floating point : 실수 또는 부동 소수점\n",
        "<br>\n",
        "ex) 실수는 `52.273 = 0.52273 * 10**3` 과 같이 소수점의 위치를 바꿔도 결국 같은 숫자이므로, '소수점이 움직이는 숫자'라는 의미로 '부동 소수점'이라고 표현하기도 한다."
      ],
      "metadata": {
        "id": "2qzFICs2ZJvi"
      }
    },
    {
      "cell_type": "code",
      "source": [
        "print(type(52))\n",
        "print(type(52.273))"
      ],
      "metadata": {
        "colab": {
          "base_uri": "https://localhost:8080/"
        },
        "id": "6CfStKBOY5Se",
        "outputId": "9b5e58e5-8521-4096-9d51-c2560589c1ea"
      },
      "execution_count": null,
      "outputs": [
        {
          "output_type": "stream",
          "name": "stdout",
          "text": [
            "<class 'int'>\n",
            "<class 'float'>\n"
          ]
        }
      ]
    },
    {
      "cell_type": "markdown",
      "source": [
        "### 파이썬에서의 지수 표현\n",
        "```\n",
        "0.52273e2 = 0.52273 * (10 ** 2)\n",
        "0.52273e-2 = 0.52273 * (10 ** -2)\n",
        "```"
      ],
      "metadata": {
        "id": "capZRrPoaWYX"
      }
    },
    {
      "cell_type": "markdown",
      "source": [
        "### 숫자 연산자\n",
        "* ```+``` : 덧셈 연산자\n",
        "* ```-``` : 뺄셈 연산자\n",
        "* ```*``` : 곱셈 연산자\n",
        "* ```/``` : 나눗셈 연산자\n",
        "* ```//``` : 정수 나누기 연산자\n",
        "* ```%``` : 나머지 연산자\n",
        "* ```**``` : 제곱 연산자\n",
        "<br><br>\n",
        "\n",
        "### 연산자의 우선순위\n",
        "곱셈과 나눗셈이 덧셈과 뺄셈보다 우선한다.<br>\n",
        "소괄호를 이용하여 확실하게 표현해주면 분별성과 가독성이 좋아진다."
      ],
      "metadata": {
        "id": "4z2Ep0hwav6J"
      }
    },
    {
      "cell_type": "markdown",
      "source": [
        "# 변수와 입력"
      ],
      "metadata": {
        "id": "zUqiFTs6btZS"
      }
    },
    {
      "cell_type": "markdown",
      "source": [
        "* 변수 : 값을 저장할 때 사용하는 식별자"
      ],
      "metadata": {
        "id": "evZ7uqsHbvmu"
      }
    },
    {
      "cell_type": "code",
      "source": [
        "pi = 3.141592652\n",
        "print(pi)"
      ],
      "metadata": {
        "colab": {
          "base_uri": "https://localhost:8080/"
        },
        "id": "KhonqBn3aULR",
        "outputId": "b3b67301-63fd-4ba6-cf76-565130bb1ad5"
      },
      "execution_count": null,
      "outputs": [
        {
          "output_type": "stream",
          "name": "stdout",
          "text": [
            "3.141592652\n"
          ]
        }
      ]
    },
    {
      "cell_type": "markdown",
      "source": [
        "이때 \"=\" 기호는 \"같다\"라는 의미가 아닌 '넣겠다', '할당하겠다'의 의미이다."
      ],
      "metadata": {
        "id": "mOXmq7bjb62W"
      }
    },
    {
      "cell_type": "markdown",
      "source": [
        "### 파이썬의 유연성\n",
        "C, C++, C#, 자바 등에서는 변수를 사용할 때 변수의 자료형을 미리 선언해야 했다.\n",
        "```\n",
        "int pi\n",
        "\n",
        "pi = 3.1592\n",
        "```\n",
        "파이썬은 다른 프로그래밍 언어와는 다르게 변수에 자료형을 지정하지 않는다.<br>\n",
        "따라서 같은 변수에 여러 종류의 자료형을 넣을 수도 있다.\n",
        "```\n",
        "a = \"안녕?\"\n",
        "a = True\n",
        "a = 5\n",
        "```\n",
        "이러한 유연성 때문에 변수에 어떠한 자료형이 들어 있는지 모르고 실수하는 경우가 있기 때문에 하나의 변수에는 되도록 하나의 자료형을 넣어 활용하는 것이 좋다!!"
      ],
      "metadata": {
        "id": "xh43W1gWdR8x"
      }
    },
    {
      "cell_type": "markdown",
      "source": [
        "### 복합 대입 연산자\n",
        "* ```+=``` : 숫자 덧셈 후 대입\n",
        "* ```-=``` : 숫자 뺄셈 후 대입\n",
        "* ```*=``` : 숫자 곱셈 후 대입\n",
        "* ```/=``` : 숫자 나눗셈 후 대입\n",
        "* ```%=``` : 숫자의 나머지를 구한 후 대입\n",
        "* ```**=``` : 숫자 제곱 후 대입"
      ],
      "metadata": {
        "id": "eGUs3UoPdyCy"
      }
    },
    {
      "cell_type": "code",
      "source": [
        "number = 100\n",
        "print(number)\n",
        "number += 10\n",
        "print(number)\n",
        "\n",
        "string2 = \"안녕\"\n",
        "print(string2)\n",
        "string2 += \"하세요\"\n",
        "print(string2)"
      ],
      "metadata": {
        "colab": {
          "base_uri": "https://localhost:8080/"
        },
        "id": "bivetj1_b3Kj",
        "outputId": "f63147c0-317e-45d1-830a-8a706d89ee72"
      },
      "execution_count": null,
      "outputs": [
        {
          "output_type": "stream",
          "name": "stdout",
          "text": [
            "100\n",
            "110\n",
            "안녕\n",
            "안녕하세요\n"
          ]
        }
      ]
    },
    {
      "cell_type": "markdown",
      "source": [
        "### 사용자 입력 : input()\n",
        "명령 프롬프트에서 사용자로부터 데이터를 입력받을 때 input()함수를 사용!<br>\n",
        "input 함수 괄호 안에 입력한 내용을 '프롬프트 문자열'이라고 한다.\n",
        "<br><br>\n",
        "다른 변수에 대입해서 사용할 수 있다.\n",
        "<br><br>\n",
        " **input()함수는 사용자가 무엇을 입력해도 결과는 무조건 문자열 자료형!!**"
      ],
      "metadata": {
        "id": "_Xzv32hdea1q"
      }
    },
    {
      "cell_type": "code",
      "source": [
        "input(\"인사말을 입력하세요: \")"
      ],
      "metadata": {
        "colab": {
          "base_uri": "https://localhost:8080/",
          "height": 54
        },
        "id": "dTBqJAfoeIqe",
        "outputId": "81d157f5-58ba-4f2b-970c-b1a504ed2696"
      },
      "execution_count": null,
      "outputs": [
        {
          "name": "stdout",
          "output_type": "stream",
          "text": [
            "인사말을 입력하세요: 안녕\n"
          ]
        },
        {
          "output_type": "execute_result",
          "data": {
            "text/plain": [
              "'안녕'"
            ],
            "application/vnd.google.colaboratory.intrinsic+json": {
              "type": "string"
            }
          },
          "metadata": {},
          "execution_count": 34
        }
      ]
    },
    {
      "cell_type": "code",
      "source": [
        "string3 = input(\"인사말을 입력하세요 : \")\n",
        "print(string3)"
      ],
      "metadata": {
        "colab": {
          "base_uri": "https://localhost:8080/"
        },
        "id": "m4_qNrMyev79",
        "outputId": "ec76ae69-5cac-4b97-c1db-661b3d908a5e"
      },
      "execution_count": null,
      "outputs": [
        {
          "output_type": "stream",
          "name": "stdout",
          "text": [
            "인사말을 입력하세요 : Hello\n",
            "Hello\n"
          ]
        }
      ]
    },
    {
      "cell_type": "code",
      "source": [
        "test = input(\"어떤 자료형을 입력해보세요 : \")\n",
        "print(type(test))"
      ],
      "metadata": {
        "colab": {
          "base_uri": "https://localhost:8080/"
        },
        "id": "IKWYYnihe2pA",
        "outputId": "f71318ad-f490-41f9-99c5-dbac2d040c37"
      },
      "execution_count": null,
      "outputs": [
        {
          "output_type": "stream",
          "name": "stdout",
          "text": [
            "어떤 자료형을 입력해보세요 : 1\n",
            "<class 'str'>\n"
          ]
        }
      ]
    },
    {
      "cell_type": "code",
      "source": [
        "test = input(\"어떤 자료형을 입력해보세요 : \")\n",
        "print(type(test))"
      ],
      "metadata": {
        "colab": {
          "base_uri": "https://localhost:8080/"
        },
        "id": "26XSTBCsfSVV",
        "outputId": "e33ffb14-745e-4a23-9887-3b6ee8389fb5"
      },
      "execution_count": null,
      "outputs": [
        {
          "output_type": "stream",
          "name": "stdout",
          "text": [
            "어떤 자료형을 입력해보세요 : True\n",
            "<class 'str'>\n"
          ]
        }
      ]
    },
    {
      "cell_type": "markdown",
      "source": [
        "### 문자열을 숫자로 바꾸기\n",
        "input() 함수의 입력 자료형은 항상 문자열이기 때문에 문자열을 숫자로 변환해야 숫자 연산에 활용할 수 있다.<br>\n",
        " **캐스트(cast)**라고 부른다."
      ],
      "metadata": {
        "id": "_dZO15cbfb9G"
      }
    },
    {
      "cell_type": "code",
      "source": [
        "num1 = input(\"숫자를 입력해주세요 : \")\n",
        "print(\"num1 * 5 = \", int(num1) * 5)"
      ],
      "metadata": {
        "colab": {
          "base_uri": "https://localhost:8080/"
        },
        "id": "VI4Yec-AfUbv",
        "outputId": "fd71473e-23c0-4733-a8e2-e284bc7441c7"
      },
      "execution_count": null,
      "outputs": [
        {
          "output_type": "stream",
          "name": "stdout",
          "text": [
            "숫자를 입력해주세요 : 5\n",
            "num1 * 5 =  25\n"
          ]
        }
      ]
    },
    {
      "cell_type": "code",
      "source": [
        "num2 = input(\"정수를 입력해주세요 : \")\n",
        "num3 = input(\"실수를 입력해주세요 : \")\n",
        "print(\"num2 = \", num2)\n",
        "print(\"num3 = \", num3)\n",
        "print(\"num2 * num3 = \", int(num2) * float(num3)) # 정수와 실수는 곱이 가능하다 그 이후의 자료형은 실수가 된다."
      ],
      "metadata": {
        "colab": {
          "base_uri": "https://localhost:8080/"
        },
        "id": "KhjiDzAafxcb",
        "outputId": "12ab19a6-f80b-49f4-b593-34b715ee37b5"
      },
      "execution_count": null,
      "outputs": [
        {
          "output_type": "stream",
          "name": "stdout",
          "text": [
            "정수를 입력해주세요 : 5\n",
            "실수를 입력해주세요 : 3.3\n",
            "num2 =  5\n",
            "num3 =  3.3\n",
            "num2 * num3 =  16.5\n"
          ]
        }
      ]
    },
    {
      "cell_type": "markdown",
      "source": [
        "### ValueError 예외\n",
        "'변환할 수 없는 것'을 변환하려 할 때 발생하는 예외이다.\n",
        "```\n",
        "int(\"안녕하세요\")\n",
        "float(\"안녕\")\n",
        "int(\"51.152\")\n",
        "```"
      ],
      "metadata": {
        "id": "Gab6ZyoziO_4"
      }
    },
    {
      "cell_type": "markdown",
      "source": [
        "### 숫자를 문자열로 바꾸기\n",
        "str()함수와 format()함수를 활용"
      ],
      "metadata": {
        "id": "BgAbxkdHilsB"
      }
    },
    {
      "cell_type": "code",
      "source": [
        "num4 = 51\n",
        "num5 = 15.2\n",
        "\n",
        "num4 = str(num4)\n",
        "num5 = str(num5)\n",
        "\n",
        "print(num4, num5)\n",
        "print(type(num4), type(num5))"
      ],
      "metadata": {
        "colab": {
          "base_uri": "https://localhost:8080/"
        },
        "id": "A26JCdoCgJd8",
        "outputId": "353f7f48-9022-4f3c-83f3-b110872d892b"
      },
      "execution_count": null,
      "outputs": [
        {
          "output_type": "stream",
          "name": "stdout",
          "text": [
            "51 15.2\n",
            "<class 'str'> <class 'str'>\n"
          ]
        }
      ]
    },
    {
      "cell_type": "markdown",
      "source": [
        "\n",
        "\n",
        "---\n",
        "\n"
      ],
      "metadata": {
        "id": "C8PpEhwLjDOE"
      }
    },
    {
      "cell_type": "markdown",
      "source": [
        "# 파이썬 튜터로 코드 분석하기\n",
        "프로그래밍 초보자가 코드 흐름을 쉽게 이해할 수 있도록 파이썬 코드를 시각적으로 분석해 주는 도구이다. <br>\n",
        "* https://pythontutor.com"
      ],
      "metadata": {
        "id": "vl1oe9eNjMmT"
      }
    },
    {
      "cell_type": "markdown",
      "source": [
        "\n",
        "\n",
        "---\n",
        "\n",
        "\n"
      ],
      "metadata": {
        "id": "eX4ZttsejWvQ"
      }
    },
    {
      "cell_type": "markdown",
      "source": [
        "# 숫자와 문자열의 다양한 기능\n",
        "식별자 뒤에 괄호( )가 붙으면 '함수'"
      ],
      "metadata": {
        "id": "8wsgEVgrjdR_"
      }
    },
    {
      "cell_type": "markdown",
      "source": [
        "### 문자열의 format( ) 함수\n",
        "문자열이 가지고 있는 함수이다.<br>\n",
        "중괄호 { }를 포함한 문자열 뒤에 마침표(.)를 찍고 format( )함수를 사용하는데,<br>\n",
        "중괄호의 개수와 format 함수 괄호 안 매개변수의 개수는 반드시 같아야 한다!"
      ],
      "metadata": {
        "id": "zIlWknErjluP"
      }
    },
    {
      "cell_type": "code",
      "source": [
        "string_a = \"{}\".format(10)\n",
        "\n",
        "print(string_a)\n",
        "print(type(string_a))"
      ],
      "metadata": {
        "colab": {
          "base_uri": "https://localhost:8080/"
        },
        "id": "OxKoryVviuZZ",
        "outputId": "e401ebba-a9e8-4a83-aa44-7303ec55dc7e"
      },
      "execution_count": null,
      "outputs": [
        {
          "output_type": "stream",
          "name": "stdout",
          "text": [
            "10\n",
            "<class 'str'>\n"
          ]
        }
      ]
    },
    {
      "cell_type": "markdown",
      "source": [
        "### format( ) 함수의 다양한 형태"
      ],
      "metadata": {
        "id": "eq1yt-KBk330"
      }
    },
    {
      "cell_type": "code",
      "source": [
        "format_a = \"{}만원\".format(5000)\n",
        "format_b = \"파이썬 열공하여 첫 연봉 {}만원 만들기 \".format(5000)\n",
        "format_c = \"{} {} {}\".format(3000, 4000, 5000)\n",
        "format_d = \"{} {} {}\".format(1, \"문자열\", True)\n",
        "\n",
        "print(format_a)\n",
        "print(format_b)\n",
        "print(format_c)\n",
        "print(format_d)\n",
        "\n",
        "print(type(format_a))\n",
        "print(type(format_b))\n",
        "print(type(format_c)) # 리스트 일 줄 알았는데.. str이다.\n",
        "print(type(format_d))\n",
        "\n",
        "print(len(format_c))\n",
        "print(len(format_d))"
      ],
      "metadata": {
        "colab": {
          "base_uri": "https://localhost:8080/"
        },
        "id": "2e1-Bj3Fj-rB",
        "outputId": "9981ab6c-f232-4598-c074-06a9e84c8d7b"
      },
      "execution_count": null,
      "outputs": [
        {
          "output_type": "stream",
          "name": "stdout",
          "text": [
            "5000만원\n",
            "파이썬 열공하여 첫 연봉 5000만원 만들기 \n",
            "3000 4000 5000\n",
            "1 문자열 True\n",
            "<class 'str'>\n",
            "<class 'str'>\n",
            "<class 'str'>\n",
            "<class 'str'>\n",
            "14\n",
            "10\n"
          ]
        }
      ]
    },
    {
      "cell_type": "markdown",
      "source": [
        "### format( ) 함수를 사용한 정수를 특정 칸에 출력하기"
      ],
      "metadata": {
        "id": "83xIyTTlk8DE"
      }
    },
    {
      "cell_type": "code",
      "source": [
        "# 정수형식 d\n",
        "output_a = \"{:d}\".format(52)\n",
        "\n",
        "# 특정 칸에 출력하기\n",
        "output_b = \"{:5d}\".format(52)   # 5칸 --> 52값을 포함하여 5칸!\n",
        "output_c = \"{:10d}\".format(52)    # 10칸\n",
        "\n",
        "# 빈칸을 0으로 채우기\n",
        "output_d = \"{:05d}\".format(52)    # 양수\n",
        "output_e = \"{:05d}\".format(-52)   # 음수\n",
        "\n",
        "# 출력\n",
        "print(\"# 기본\")\n",
        "print(output_a)\n",
        "\n",
        "print(\"# 특정 칸에 출력하기\")\n",
        "print(output_b)\n",
        "print(output_c)\n",
        "\n",
        "print(\"# 빈칸을 0으로 채우기\")\n",
        "print(output_d)\n",
        "print(output_e)"
      ],
      "metadata": {
        "colab": {
          "base_uri": "https://localhost:8080/"
        },
        "id": "L7G_2Jmdkhqi",
        "outputId": "1b2852c7-5157-43b9-8532-d4a985a90fc4"
      },
      "execution_count": null,
      "outputs": [
        {
          "output_type": "stream",
          "name": "stdout",
          "text": [
            "# 기본\n",
            "52\n",
            "# 특정 칸에 출력하기\n",
            "   52\n",
            "        52\n",
            "# 빈칸을 0으로 채우기\n",
            "00052\n",
            "-0052\n"
          ]
        }
      ]
    },
    {
      "cell_type": "markdown",
      "source": [
        "### 기호 붙여 출력하기"
      ],
      "metadata": {
        "id": "izyhf829mEiI"
      }
    },
    {
      "cell_type": "code",
      "source": [
        "# 기호와 함께 출력하기\n",
        "output_f = \"{:+d}\".format(52)   # 양수\n",
        "output_g = \"{:+d}\".format(-52)    # 음수\n",
        "output_h = \"{: d}\".format(52)   # 양수 : 기호 부분 공백\n",
        "output_i = \"{: d}\".format(-52)    # 음수 : 기호 부분 공백\n",
        "\n",
        "print(\"# 기호와 함께 출력하기\")\n",
        "print(output_f, type(output_f))\n",
        "print(output_g, type(output_g))\n",
        "print(output_h, type(output_h))\n",
        "print(output_i, type(output_i))"
      ],
      "metadata": {
        "colab": {
          "base_uri": "https://localhost:8080/"
        },
        "id": "p2NtQPO_lZsI",
        "outputId": "e5d5ade0-bc33-485e-acae-3b71aa126164"
      },
      "execution_count": null,
      "outputs": [
        {
          "output_type": "stream",
          "name": "stdout",
          "text": [
            "# 기호와 함께 출력하기\n",
            "+52 <class 'str'>\n",
            "-52 <class 'str'>\n",
            " 52 <class 'str'>\n",
            "-52 <class 'str'>\n"
          ]
        }
      ]
    },
    {
      "cell_type": "markdown",
      "source": [
        "### 조합해보기"
      ],
      "metadata": {
        "id": "3WpER6Ojmz_b"
      }
    },
    {
      "cell_type": "code",
      "source": [
        "# 조합하기\n",
        "output_h = \"{:+5d}\".format(52)    # 기호를 뒤로 밀기 : 양수\n",
        "output_i = \"{:+5d}\".format(-52)   # 기호를 뒤로 밀기 : 음수\n",
        "output_j = \"{:=+5d}\".format(52)   # 기호를 앞으로 밀기 : 양수\n",
        "output_k = \"{:=+5d}\".format(-52)    # 기호를 뒤로 밀기 : 음수\n",
        "output_l = \"{:+05d}\".format(52)   # 0으로 채우기 : 양수\n",
        "output_m = \"{:+05d}\".format(-52)    # 0으로 채우기 : 음수\n",
        "\n",
        "print(\"# 조합하기\")\n",
        "print(output_h)\n",
        "print(output_i)\n",
        "print(output_j)\n",
        "print(output_k)\n",
        "print(output_l)\n",
        "print(output_m)"
      ],
      "metadata": {
        "colab": {
          "base_uri": "https://localhost:8080/"
        },
        "id": "NbL8lWxdmXV2",
        "outputId": "1da55e5c-e2c2-4c16-de7f-38dfebf85e6a"
      },
      "execution_count": null,
      "outputs": [
        {
          "output_type": "stream",
          "name": "stdout",
          "text": [
            "# 조합하기\n",
            "  +52\n",
            "  -52\n",
            "+  52\n",
            "-  52\n",
            "+0052\n",
            "-0052\n"
          ]
        }
      ]
    },
    {
      "cell_type": "markdown",
      "source": [
        "### format( ) 함수 위의 코드 정리..\n",
        "{:5d} 라고 입력하면 5칸을 빈 칸으로 잡고 뒤에서부터 52라는 숫자를 채운다.<br>\n",
        "{:05d} 라고 지정하면 5칸을 잡고 뒤에서부터 52라는 숫자를 넣은 후, 앞의 빈 곳을 0으로 채운다.<br>\n",
        "output_d는 양수, output_e는 음수인데, 부호가 있을 때는 맨 앞자리를 부호로 채우고 나머지 빈 곳을 0으로 채운다.<br><br>\n",
        "\n",
        "{:+d} 처럼 d앞에 + 기호를 붙이면 양수와 음수 기호를 표현할 수 있다.<br>\n",
        "{: d} 처럼 앞에 공백을 두어 기호 위치를 비워 주면 함수에 입력한 기호가 표현된다.<br><br>\n",
        "\n",
        "기호와 공백을 조합할 때 = 기호를 앞에 붙일 수 있다.<br>\n",
        "이는 5칸의 공간을 잡았을 때 기호를 빈칸 앞에 붙일 것인지, 숫자 앞에 붙일 것인지 지정하는 기호이다.<br><br>\n",
        "\n",
        " **조합 순서가 중요**<br>\n",
        " 조합 순서가 달라지면 출력이 이상하게 된다."
      ],
      "metadata": {
        "id": "i-UGcKrinexW"
      }
    },
    {
      "cell_type": "markdown",
      "source": [
        "### 부동 소수점 출력의 다양한 형태\n",
        "소수점이 들어가는 float 자료형 출력을 강제로 지정할 때는 {:f}를 사용한다."
      ],
      "metadata": {
        "id": "FEiWhVnDHh60"
      }
    },
    {
      "cell_type": "code",
      "source": [
        "output_a = \"{:f}\".format(52.273)\n",
        "output_b = \"{:15f}\".format(52.273)    # 15칸 만들기\n",
        "output_c = \"{:+15f}\".format(-52.273)   # 15칸에 부호 추가하기\n",
        "output_d = \"{:+015f}\".format(-52.273)    # 15칸에 부호 추가하고 0으로 채우기\n",
        "\n",
        "print(output_a)\n",
        "print(output_b)\n",
        "print(output_c)\n",
        "print(output_d)"
      ],
      "metadata": {
        "id": "jy5A06NonQzs",
        "colab": {
          "base_uri": "https://localhost:8080/"
        },
        "outputId": "8b8bca1b-7778-41b1-8cdd-655dfb4ac904"
      },
      "execution_count": null,
      "outputs": [
        {
          "output_type": "stream",
          "name": "stdout",
          "text": [
            "52.273000\n",
            "      52.273000\n",
            "     -52.273000\n",
            "-0000052.273000\n"
          ]
        }
      ]
    },
    {
      "cell_type": "markdown",
      "source": [
        "### 소수점 아래 자릿수 지정하기"
      ],
      "metadata": {
        "id": "8x3PSsvfIEcw"
      }
    },
    {
      "cell_type": "code",
      "source": [
        "output_a = \"{:15.3f}\".format(52.273)    # 15칸, .뒤에 3개 출력\n",
        "output_b = \"{:15.2f}\".format(52.273)     # 15칸, .뒤에 2개 출력\n",
        "output_c = \"{:15.1f}\".format(52.273)     # 15칸, .뒤에 1개 출력\n",
        "\n",
        "print(output_a)\n",
        "print(output_b)\n",
        "print(output_c)"
      ],
      "metadata": {
        "colab": {
          "base_uri": "https://localhost:8080/"
        },
        "id": "Jq5L6LpRH0vY",
        "outputId": "f3f050b5-84dc-42bf-873d-85c8b03261a3"
      },
      "execution_count": null,
      "outputs": [
        {
          "output_type": "stream",
          "name": "stdout",
          "text": [
            "         52.273\n",
            "          52.27\n",
            "           52.3\n"
          ]
        }
      ]
    },
    {
      "cell_type": "markdown",
      "source": [
        "### 의미없는 소수점 제거하기\n",
        "파이썬은 0과 0.0을 출력했을 때 내부적으로 자료형이 다르므로 서로 다른 값을 출력한다.<br>\n",
        "그런데 의미 없는 0을 제거한 후 출력하고 싶을 때 {:g}를 사용한다."
      ],
      "metadata": {
        "id": "1DeDy02LIhJJ"
      }
    },
    {
      "cell_type": "code",
      "source": [
        "output_a = 52.00\n",
        "output_b = \"{:g}\".format(output_a)\n",
        "\n",
        "print(output_a)\n",
        "print(output_b)"
      ],
      "metadata": {
        "colab": {
          "base_uri": "https://localhost:8080/"
        },
        "id": "2S3_c-ctIPTH",
        "outputId": "30fc18d8-d713-4e7b-a887-01cf2c15a026"
      },
      "execution_count": null,
      "outputs": [
        {
          "output_type": "stream",
          "name": "stdout",
          "text": [
            "52.0\n",
            "52\n"
          ]
        }
      ]
    },
    {
      "cell_type": "markdown",
      "source": [
        "### 대소문자 바꾸기 : upper( )와 lower( )\n",
        "upper( ) 함수는 문자열의 알파벳을 대문자로,<br>\n",
        "lower( ) 함수는 문자열의 알파벳을 소문자로 바꿔준다."
      ],
      "metadata": {
        "id": "D71wM8_hJJcn"
      }
    },
    {
      "cell_type": "markdown",
      "source": [
        "\n",
        "\n",
        "---\n",
        "\n",
        "\n",
        "# 파괴적 함수와 비파괴적 함수\n",
        "upper( )와 lower( ) 함수를 사용하면 '변수'의 문자열이 바뀔 것으로 생각하는데, 절대로 원본은 변하지 않는다. 이렇게 원본을 변화시키지 않는 함수를 **비파괴적 함수**라고 부른다.\n",
        "\n",
        "\n",
        "---\n",
        "\n",
        "\n",
        "\n",
        "---\n",
        "\n"
      ],
      "metadata": {
        "id": "M_A1zuQEJbFq"
      }
    },
    {
      "cell_type": "markdown",
      "source": [
        "### 문자열 양옆의 공백 제거하기 : strip( ) 함수\n",
        "* 왼쪽의 공백을 제거하는 lstrip( ) 함수\n",
        "* 오른쪽의 공백을 제거하는 rstrip( ) 함수"
      ],
      "metadata": {
        "id": "vutTPZlFJxjm"
      }
    },
    {
      "cell_type": "code",
      "source": [
        "a = \"      안녕하세요      \"\n",
        "\n",
        "print(a)\n",
        "print(a.strip())\n",
        "print(a.lstrip())\n",
        "print(a.rstrip())"
      ],
      "metadata": {
        "colab": {
          "base_uri": "https://localhost:8080/"
        },
        "id": "J9NcQJZFItCO",
        "outputId": "62a15bf5-504b-48ee-cdfc-e622d2570501"
      },
      "execution_count": null,
      "outputs": [
        {
          "output_type": "stream",
          "name": "stdout",
          "text": [
            "      안녕하세요      \n",
            "안녕하세요\n",
            "안녕하세요      \n",
            "      안녕하세요\n"
          ]
        }
      ]
    },
    {
      "cell_type": "markdown",
      "source": [
        "# 문자열의 구성 파악하기 : is__( ) 함수\n",
        "\n",
        "* `isalnum( )` : 문자열이 알파벳 또는 숫자로만 구성되어 있는지 확인\n",
        "* `isalpha( )` : 문자열이 알파벳으로만 구성되어 있는지 확인\n",
        "* `isidentifier( )` : 문자열이 식별자로 사용할 수 있는 것인지 확인\n",
        "* `isdecimal( )` : 문자열이 정수 형태인지 확인\n",
        "* `isdigit( )` : 문자열이 숫자로 인식될 수 있는 것인지 확인\n",
        "* `isspace( )` : 문자열이 공백으로만 구성되어 있는지 확인\n",
        "* `isupper( )` : 문자열이 대문자로만 구성되어 있는지 확인\n",
        "* `islower( )` : 문자열이 소문자로만 구성되어 있는지 확인\n",
        "<br><br>\n",
        "\n",
        "출력은 True / False 인 **불** 형태로 나온다."
      ],
      "metadata": {
        "id": "uprAxVMtKh_-"
      }
    },
    {
      "cell_type": "markdown",
      "source": [
        "# 문자열 찾기 : find( ) 와 rfind( )\n",
        "* `find()` : 왼쪽부터 찾아서 처음 등장하는 위치의 인덱스를 반환\n",
        "* `rfind()` : 오른쪽부터 찾아서 처음 등장하는 위치의 인덱스를 반환"
      ],
      "metadata": {
        "id": "2Rz1ysCqLkoj"
      }
    },
    {
      "cell_type": "code",
      "source": [
        "A = \"안녕안녕하세요\"\n",
        "#    0 1 2 3 4 5 6  --> 인덱스\n",
        "\n",
        "print(A.find(\"안녕\"))\n",
        "print(A.rfind(\"안녕\"))"
      ],
      "metadata": {
        "colab": {
          "base_uri": "https://localhost:8080/"
        },
        "id": "PU_dyKC5KMfL",
        "outputId": "d451e5ac-05ef-439d-f6d9-7f27c2ec67d7"
      },
      "execution_count": null,
      "outputs": [
        {
          "output_type": "stream",
          "name": "stdout",
          "text": [
            "0\n",
            "2\n"
          ]
        }
      ]
    },
    {
      "cell_type": "markdown",
      "source": [
        "# 문자열과 in 연산자\n",
        "문자열 내부에 어떤 문자열이 있는지 확인하려면 **in 연산자**를 사용한다.<br>\n",
        "출력은 True / Flase"
      ],
      "metadata": {
        "id": "ftT3nMsPMLsX"
      }
    },
    {
      "cell_type": "code",
      "source": [
        "print(\"안녕\" in \"안녕하세요\")   # \"안녕하세요\" 문자열 안에 \"안녕\"이 들어있는지 확인\n",
        "\n",
        "print(\"잘자\" in \"안녕하세요\")"
      ],
      "metadata": {
        "colab": {
          "base_uri": "https://localhost:8080/"
        },
        "id": "PZq3CH-SL7-a",
        "outputId": "9e3d94f0-ac35-4e1f-aa01-3816f896e480"
      },
      "execution_count": null,
      "outputs": [
        {
          "output_type": "stream",
          "name": "stdout",
          "text": [
            "True\n",
            "False\n"
          ]
        }
      ]
    },
    {
      "cell_type": "markdown",
      "source": [
        "# 문자열 자르기 : split( )\n",
        "특정한 문자로 자를 때는 split( )함수를 사용한다.<br>\n",
        "실행 결과로 **리스트**가 나온다!!"
      ],
      "metadata": {
        "id": "tKY3D5xUMo_e"
      }
    },
    {
      "cell_type": "code",
      "source": [
        "a = \"10 20 30 40 50\".split(\" \")\n",
        "\n",
        "print(a)"
      ],
      "metadata": {
        "colab": {
          "base_uri": "https://localhost:8080/"
        },
        "id": "eY_kLNmTMnzl",
        "outputId": "19470569-21c7-46f4-8639-8458b484a93d"
      },
      "execution_count": null,
      "outputs": [
        {
          "output_type": "stream",
          "name": "stdout",
          "text": [
            "['10', '20', '30', '40', '50']\n"
          ]
        }
      ]
    },
    {
      "cell_type": "markdown",
      "source": [
        "# f-문자열\n",
        "문자열 내부에 표현식을 삽입하고 싶을 때 **문자열 연결 연산자**를 사용한다.\n",
        "```\n",
        "\"3 + 4 = \" + str(3 + 4)\n",
        "```\n",
        "표현식을 여러 개 삽입할 때마다 str( ) 함수로 감싸는 것 자체가 귀찮을 것이다. 이럴 때 편리한 것이 ```format()```함수 이다.\n",
        "```\n",
        "\"3 + 4 = {}\".format(3 + 4)\n",
        "```\n",
        "파이썬 3.6버전 이상부터는 더 간단하게 사용할 수 있는 방법을 제공한다.<br>\n",
        "이 방법이 **f-문자열** 이다.\n",
        "```\n",
        "f'문자열{표현식}문자열'\n",
        "```"
      ],
      "metadata": {
        "id": "cN_XLGtDNNMD"
      }
    },
    {
      "cell_type": "code",
      "source": [
        "f\"3 + 4 = {3 + 4}\""
      ],
      "metadata": {
        "colab": {
          "base_uri": "https://localhost:8080/",
          "height": 36
        },
        "id": "m6nhAytaM0AV",
        "outputId": "9852d9de-5a1d-4bf4-b6a6-e2edfc295e73"
      },
      "execution_count": null,
      "outputs": [
        {
          "output_type": "execute_result",
          "data": {
            "text/plain": [
              "'3 + 4 = 7'"
            ],
            "application/vnd.google.colaboratory.intrinsic+json": {
              "type": "string"
            }
          },
          "metadata": {},
          "execution_count": 19
        }
      ]
    },
    {
      "cell_type": "code",
      "source": [
        "f\"\"\"\n",
        "1 + 2 = {1 + 2}\n",
        "3 * 3 = {3 * 3}\n",
        "2의 3제곱은 = {2 ** 3}\n",
        "\"\"\""
      ],
      "metadata": {
        "colab": {
          "base_uri": "https://localhost:8080/",
          "height": 36
        },
        "id": "l2373LxPOBaQ",
        "outputId": "67aa4f97-3304-43b8-cfc9-58f67967842e"
      },
      "execution_count": null,
      "outputs": [
        {
          "output_type": "execute_result",
          "data": {
            "text/plain": [
              "'\\n1 + 2 = 3\\n3 * 3 = 9\\n2의 3제곱은 = 8\\n'"
            ],
            "application/vnd.google.colaboratory.intrinsic+json": {
              "type": "string"
            }
          },
          "metadata": {},
          "execution_count": 20
        }
      ]
    },
    {
      "cell_type": "markdown",
      "source": [
        "# f-문자열보다 format( ) 함수를 사용하는 것이 더 좋은 경우\n",
        "1. 문자열 내용이 너무 많을 때\n",
        "\n",
        "```\n",
        "name = \"구름\"\n",
        "age = 7\n",
        "\n",
        "\"\"\"# 문자열이 너무 긴 경우\n",
        "문자열이 너무 긴 상황에서\n",
        "데이터 {}을 출력해야 하는 경우가 있다.\n",
        " ~\n",
        " ~\n",
        "이때 f-문자열을 사용하면\n",
        "어떤 위치에 어떤 데이터 {}가 출력되는지 확인하기 위해서\n",
        "문자열 전체를 읽어야 하는 문제가 있다.\n",
        " ~\n",
        " ~\n",
        " ~\"\"\".format(name, age)\n",
        "```\n",
        "이럴 땐 데이터를 뒤에 모아서 볼 수 있는 format( ) 함수가 더 유용하다.\n",
        "<br><br>\n",
        "\n",
        "2. 데이터를 리스트에 담아서 사용할 때\n",
        "\n",
        "```\n",
        "data = ['별', 2, 'M', '서울특별시 강서구', 'Y']\n",
        "\n",
        "f\"\"\"이름: {data[0]}\n",
        "나이: {data[1]}\n",
        "성별: {data[2]}\n",
        "지역: {data[3]}\n",
        "중성화 여부: {data[4]}\"\"\"\n",
        "```\n",
        "이러한 경우 format( )함수와 전개 연산자를 사용하면 더 간단하게 출력 가능하다.\n",
        "\n",
        "\n",
        "```\n",
        "data = ['별', 2, 'M', '서울특별시 강서구', 'Y']\n",
        "\n",
        "\"\"\"이름: {}\n",
        "나이: {}\n",
        "성별: {}\n",
        "지역: {}\n",
        "중성화 여부: {}\"\"\".format(*data)\n",
        "```\n",
        "\n",
        "\n",
        "\n",
        "\n"
      ],
      "metadata": {
        "id": "z4Ch_WRGOzts"
      }
    },
    {
      "cell_type": "code",
      "source": [],
      "metadata": {
        "id": "eNttdTKVOb52"
      },
      "execution_count": null,
      "outputs": []
    }
  ]
}