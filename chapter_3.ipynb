{
  "nbformat": 4,
  "nbformat_minor": 0,
  "metadata": {
    "colab": {
      "provenance": []
    },
    "kernelspec": {
      "name": "python3",
      "display_name": "Python 3"
    },
    "language_info": {
      "name": "python"
    }
  },
  "cells": [
    {
      "cell_type": "markdown",
      "source": [
        "# 조건문\n",
        "* 불(bool)에 대한 이해\n",
        "* if 조건문의 기본적인 사용 방법\n",
        "* 현실의 조건과 프로그래밍에서의 조건에 차이가 있다는 것을 이해"
      ],
      "metadata": {
        "id": "zPr3c467ONtU"
      }
    },
    {
      "cell_type": "markdown",
      "source": [
        "### 불 자료형과 if 조건문\n",
        "Boolean은 불린 또는 불리언이라 부른다.<br>\n",
        "불은 오직 True(참) / False(거짓) 값만 가질 수 있다."
      ],
      "metadata": {
        "id": "3qXiRsrEOcR8"
      }
    },
    {
      "cell_type": "markdown",
      "source": [
        "### 불 만들기 : 비교 연산자\n",
        "```\n",
        "  연산자       설명\n",
        "    ==         같다\n",
        "    !=        다르다\n",
        "    <          작다\n",
        "    >          크다\n",
        "    <=       작거나 같다\n",
        "    >=       크거나 같다\n",
        "```"
      ],
      "metadata": {
        "id": "pn20eaPiOo2a"
      }
    },
    {
      "cell_type": "markdown",
      "source": [
        "### 불 연산하기 : 논리 연산자\n",
        "* not : 아니다 (불을 반대로 전환한다)\n",
        "* and : 그리고 (피연산자 두 개가 모두 참일 때 True를 출력, 그 외에는 모두 False 출력)\n",
        "* or : 또는 (피연산자 두 개 중에 하나만 참이라도 True를 출력, 두 개가 모두 거짓일 때만 False를 출력)\n",
        "<br><br>\n",
        "* 단항 연산자 : 피연산자가 한 개라는 뜻\n",
        "* 이항 연산자 : 피연산자가 두 개라는 뜻"
      ],
      "metadata": {
        "id": "aTuGDSk5PGrb"
      }
    },
    {
      "cell_type": "code",
      "execution_count": 1,
      "metadata": {
        "colab": {
          "base_uri": "https://localhost:8080/"
        },
        "id": "jErGsy4pOLNJ",
        "outputId": "b3a5d8d9-8a92-4727-b55a-4e9bbdda7f85"
      },
      "outputs": [
        {
          "output_type": "stream",
          "name": "stdout",
          "text": [
            "under_20 :  True\n",
            "not under_20 :  False\n"
          ]
        }
      ],
      "source": [
        "# not 연산자 조합해보기\n",
        "\n",
        "x = 10\n",
        "under_20 = x < 20     # x는 20보다 작기 때문에 True가 대입된다.\n",
        "\n",
        "print(\"under_20 : \", under_20)\n",
        "print(\"not under_20 : \", not under_20)"
      ]
    },
    {
      "cell_type": "markdown",
      "source": [
        "### if 조건문이란?\n",
        "```\n",
        "if 불 값이 나오는 표현식:\n",
        "  불 값이 참일 때 실행할 문장\n",
        "```"
      ],
      "metadata": {
        "id": "Mvr2bBqpQGt-"
      }
    },
    {
      "cell_type": "code",
      "source": [
        "# 조건문의 기본 사용\n",
        "\n",
        "number = input(\"정수 입력 > \")\n",
        "number = int(number)\n",
        "\n",
        "# 양수라면\n",
        "if number > 0:\n",
        "  print(\"양수입니다.\")\n",
        "\n",
        "# 음수라면\n",
        "if number < 0:\n",
        "  print(\"음수입니다.\")\n",
        "\n",
        "# 0이라면\n",
        "if number == 0:\n",
        "  print(\"0입니다.\")"
      ],
      "metadata": {
        "colab": {
          "base_uri": "https://localhost:8080/"
        },
        "id": "JrkmDz1oP_cB",
        "outputId": "97ab5b28-0d15-4b5e-f292-fd36a565dfd1"
      },
      "execution_count": 3,
      "outputs": [
        {
          "output_type": "stream",
          "name": "stdout",
          "text": [
            "정수 입력 > -1\n",
            "음수입니다.\n"
          ]
        }
      ]
    },
    {
      "cell_type": "markdown",
      "source": [
        "### 날짜 / 시간 활용하기"
      ],
      "metadata": {
        "id": "PZqjWn0BQxn5"
      }
    },
    {
      "cell_type": "code",
      "source": [
        "# datetime 모듈 활용\n",
        "import datetime\n",
        "\n",
        "# 현재 날짜 / 시간을 구한다\n",
        "now = datetime.datetime.now()\n",
        "\n",
        "# 출력\n",
        "print(now.year, \"년\")\n",
        "print(now.month, \"월\")\n",
        "print(now.day, \"일\")\n",
        "print(now.hour, \"시\")\n",
        "print(now.minute, \"분\")\n",
        "print(now.second, \"초\")\n",
        "\n",
        "# 한줄로 출력하기\n",
        "print(\"{}년 {}월 {}일 {}시 {}분 {}초\".format(\n",
        "    now.year,\n",
        "    now.month,\n",
        "    now.day,\n",
        "    now.hour,\n",
        "    now.minute,\n",
        "    now.second\n",
        "))"
      ],
      "metadata": {
        "colab": {
          "base_uri": "https://localhost:8080/"
        },
        "id": "TkMIvIPCQrsZ",
        "outputId": "73826731-bb69-4385-e6d2-b3543e0dfa6d"
      },
      "execution_count": 6,
      "outputs": [
        {
          "output_type": "stream",
          "name": "stdout",
          "text": [
            "2023 년\n",
            "8 월\n",
            "19 일\n",
            "10 시\n",
            "10 분\n",
            "21 초\n",
            "2023년 8월 19일 10시 10분 21초\n"
          ]
        }
      ]
    },
    {
      "cell_type": "markdown",
      "source": [
        "### 오전과 오후를 구분하는 프로그램 만들기"
      ],
      "metadata": {
        "id": "yXARjvAMRoCr"
      }
    },
    {
      "cell_type": "code",
      "source": [
        "import datetime\n",
        "\n",
        "now = datetime.datetime.now()\n",
        "\n",
        "# 오전 구분\n",
        "if now.hour < 12:\n",
        "  print(\"현재 시각은 {}시로 오전입니다\".format(now.hour))\n",
        "\n",
        "# 오후 구분\n",
        "if now.hour >= 12:\n",
        "  print(\"현재 시각은 {}시로 오후입니다.\".format(now.hour))\n",
        "\n",
        "# now.month로 계절도 구분가능"
      ],
      "metadata": {
        "colab": {
          "base_uri": "https://localhost:8080/"
        },
        "id": "sb_VPCdWRJDF",
        "outputId": "80c4c7d5-bf21-4512-abfe-6845e653f0cb"
      },
      "execution_count": 7,
      "outputs": [
        {
          "output_type": "stream",
          "name": "stdout",
          "text": [
            "현재 시각은 10시로 오전입니다\n"
          ]
        }
      ]
    },
    {
      "cell_type": "code",
      "source": [
        "# 끝자리로 짝수와 홀수 구분\n",
        "number = input(\"정수 입력 > \")\n",
        "\n",
        "# 마지막 자리 숫자를 추출\n",
        "last_character = number[-1]\n",
        "last_number = int(last_character)\n",
        "\n",
        "# 짝수 확인\n",
        "if last_number == 0 \\\n",
        "    or last_number == 2 \\\n",
        "    or last_number == 4 \\\n",
        "    or last_number == 6 \\\n",
        "    or last_number == 8:\n",
        "    print(\"짝수입니다.\")\n",
        "\n",
        "# 홀수 확인\n",
        "if last_number == 1 \\\n",
        "    or last_number == 3 \\\n",
        "    or last_number == 5 \\\n",
        "    or last_number == 7 \\\n",
        "    or last_number == 9:\n",
        "    print(\"홀수입니다.\")"
      ],
      "metadata": {
        "colab": {
          "base_uri": "https://localhost:8080/"
        },
        "id": "lUtsW_ukR-Qq",
        "outputId": "e582d6b9-fec7-4565-aa52-111ec458fe32"
      },
      "execution_count": 9,
      "outputs": [
        {
          "output_type": "stream",
          "name": "stdout",
          "text": [
            "정수 입력 > 18\n",
            "짝수입니다.\n"
          ]
        }
      ]
    },
    {
      "cell_type": "code",
      "source": [
        "# in 문자열 연산자를 활용하여 짝수와 홀수 구분\n",
        "\n",
        "number = input(\"정수 입력 > \")\n",
        "last_character = number[-1]\n",
        "\n",
        "# 짝수 조건\n",
        "if last_character in \"0248\":\n",
        "  print(\"짝수입니다.\")\n",
        "\n",
        "# 홀수 조건\n",
        "if last_character in \"13579\":\n",
        "  print(\"홀수입니다.\")"
      ],
      "metadata": {
        "colab": {
          "base_uri": "https://localhost:8080/"
        },
        "id": "VncbT6KOTBz9",
        "outputId": "51864c97-989c-41c0-c6d4-253d695d2c7b"
      },
      "execution_count": 10,
      "outputs": [
        {
          "output_type": "stream",
          "name": "stdout",
          "text": [
            "정수 입력 > 489\n",
            "홀수입니다.\n"
          ]
        }
      ]
    },
    {
      "cell_type": "code",
      "source": [
        "# 나머지 연산자를 활용한 짝수와 홀수 구분\n",
        "number = input(\"정수 입력 > \")\n",
        "number = int(number)\n",
        "\n",
        "# 짝수 구분\n",
        "if (number % 2) == 0:\n",
        "  print(\"짝수입니다.\")\n",
        "\n",
        "# 홀수 구분\n",
        "if (number % 2) == 1:\n",
        "  print(\"홀수입니다.\")"
      ],
      "metadata": {
        "colab": {
          "base_uri": "https://localhost:8080/"
        },
        "id": "ZhVIqWfeTmXY",
        "outputId": "5a1fe802-86fd-4b56-ef18-e4bd32c4d824"
      },
      "execution_count": 12,
      "outputs": [
        {
          "output_type": "stream",
          "name": "stdout",
          "text": [
            "정수 입력 > 33\n",
            "홀수입니다.\n"
          ]
        }
      ]
    },
    {
      "cell_type": "markdown",
      "source": [
        "# if~else 와 elif 구문\n",
        "```\n",
        "if 조건1:\n",
        "  조건1이 참일 때 실행할 문장\n",
        "elif 조건2:\n",
        "  조건2가 참일 때 실행할 문장\n",
        "elif 조건3:\n",
        "  조건3이 참일 때 실행할 문장\n",
        "else:\n",
        "  조건1, 조건2, 조건3이 거짓일 때 실행할 문장\n",
        "```"
      ],
      "metadata": {
        "id": "WLwr2mAHUZqx"
      }
    },
    {
      "cell_type": "markdown",
      "source": [
        "### pass 키워드\n",
        "전체 골격을 잡아 놓고 내부에서 처리할 내용은 차근차근 만들겠다는 의도로 다음과 같이 코딩하는 경우가 많다.\n",
        "```\n",
        "if 조건:\n",
        "  pass\n",
        "elif 조건:\n",
        "  pass\n",
        "else:\n",
        "  pass\n",
        "```"
      ],
      "metadata": {
        "id": "Hzsh-y0iU7KK"
      }
    },
    {
      "cell_type": "markdown",
      "source": [
        "# raise NotImplementedError\n",
        "\"아직 구현하지 않은 부분\" 이라는 뜻으로 오류를 강제로 발생시킨다."
      ],
      "metadata": {
        "id": "QlLbOrRCVS5K"
      }
    },
    {
      "cell_type": "code",
      "source": [
        "number = input(\"정수 입력 > \")\n",
        "number = int(number)\n",
        "\n",
        "# 짝수 구분\n",
        "if number > 0:\n",
        "  raise NotImplementedError\n",
        "\n",
        "# 홀수 구분\n",
        "if number <= 0:\n",
        "  raise NotImplementedError"
      ],
      "metadata": {
        "colab": {
          "base_uri": "https://localhost:8080/",
          "height": 279
        },
        "id": "Jqw9WjpDULW6",
        "outputId": "38783118-c99e-45d6-c6a6-7ee780551f68"
      },
      "execution_count": 13,
      "outputs": [
        {
          "name": "stdout",
          "output_type": "stream",
          "text": [
            "정수 입력 > 123\n"
          ]
        },
        {
          "output_type": "error",
          "ename": "NotImplementedError",
          "evalue": "ignored",
          "traceback": [
            "\u001b[0;31m---------------------------------------------------------------------------\u001b[0m",
            "\u001b[0;31mNotImplementedError\u001b[0m                       Traceback (most recent call last)",
            "\u001b[0;32m<ipython-input-13-51a24058fe77>\u001b[0m in \u001b[0;36m<cell line: 5>\u001b[0;34m()\u001b[0m\n\u001b[1;32m      4\u001b[0m \u001b[0;31m# 짝수 구분\u001b[0m\u001b[0;34m\u001b[0m\u001b[0;34m\u001b[0m\u001b[0m\n\u001b[1;32m      5\u001b[0m \u001b[0;32mif\u001b[0m \u001b[0mnumber\u001b[0m \u001b[0;34m>\u001b[0m \u001b[0;36m0\u001b[0m\u001b[0;34m:\u001b[0m\u001b[0;34m\u001b[0m\u001b[0;34m\u001b[0m\u001b[0m\n\u001b[0;32m----> 6\u001b[0;31m   \u001b[0;32mraise\u001b[0m \u001b[0mNotImplementedError\u001b[0m\u001b[0;34m\u001b[0m\u001b[0;34m\u001b[0m\u001b[0m\n\u001b[0m\u001b[1;32m      7\u001b[0m \u001b[0;34m\u001b[0m\u001b[0m\n\u001b[1;32m      8\u001b[0m \u001b[0;31m# 홀수 구분\u001b[0m\u001b[0;34m\u001b[0m\u001b[0;34m\u001b[0m\u001b[0m\n",
            "\u001b[0;31mNotImplementedError\u001b[0m: "
          ]
        }
      ]
    },
    {
      "cell_type": "code",
      "source": [],
      "metadata": {
        "id": "NRymWtsPVnko"
      },
      "execution_count": null,
      "outputs": []
    }
  ]
}