{
  "nbformat": 4,
  "nbformat_minor": 0,
  "metadata": {
    "colab": {
      "provenance": [],
      "authorship_tag": "ABX9TyP+sOpleinS+HwKQT2Eydlg"
    },
    "kernelspec": {
      "name": "python3",
      "display_name": "Python 3"
    },
    "language_info": {
      "name": "python"
    }
  },
  "cells": [
    {
      "cell_type": "markdown",
      "source": [
        "# 7장 모듈\n",
        "\n",
        "* 모듈의 기본적인 사용 방법을 이해한다.\n",
        "* 파이썬의 표준 모듈에는 어떤 것이 있는지 알아본다.\n",
        "* 파이썬 표준 문서를 활용해 모듈의 기능을 찾는 방법에 대해 이해한다.\n"
      ],
      "metadata": {
        "id": "yIOxHE6gk8zL"
      }
    },
    {
      "cell_type": "markdown",
      "source": [
        "## 7-1 표준 모듈\n",
        "\n",
        "\n",
        "*   표준 모듈 : 기본적으로 내장되어 있는 모듈 (파이썬 라이브러리 문서 찾아보기)\n",
        "*   외부 모듈 : 다른 사람들이 만들어서 공개한 모듈\n",
        "\n",
        "\n",
        "\n",
        "```\n",
        "import 모듈 이름\n",
        "```\n",
        "\n",
        "\n",
        "\n"
      ],
      "metadata": {
        "id": "yaeARIuvlBgD"
      }
    },
    {
      "cell_type": "markdown",
      "source": [
        "### 모듈 사용의 기본 : **math 모듈**\n",
        "자동 완성 기능을 사용하면 math 모듈이 어떤 변수와 함수를 가졌는지 확인 가능하다!"
      ],
      "metadata": {
        "id": "DZzXSkrju89R"
      }
    },
    {
      "cell_type": "code",
      "execution_count": null,
      "metadata": {
        "id": "kg_gcG1vk5Qy",
        "colab": {
          "base_uri": "https://localhost:8080/"
        },
        "outputId": "5c65cb94-0f93-4b88-adf2-d49477289c95"
      },
      "outputs": [
        {
          "output_type": "stream",
          "name": "stdout",
          "text": [
            "0.8414709848078965\n",
            "1.5574077246549023\n",
            "0.5403023058681398\n",
            "2\n",
            "3\n",
            "2\n",
            "2\n",
            "4\n",
            "4\n",
            "6\n"
          ]
        }
      ],
      "source": [
        "import math\n",
        "\n",
        "print(math.sin(1))\n",
        "print(math.tan(1))\n",
        "print(math.cos(1))\n",
        "print(math.floor(2.5))  # 내림 (실수를 정수로 변환)\n",
        "print(math.ceil(2.5))   # 올림 (실수를 정수로 변환)\n",
        "\n",
        "# 반올림은 파이썬 내장 함수 round\n",
        "# 컴퓨터가 내부적으로 소수를 제대로 표현할 수 없기 때문에,\n",
        "# 정수 부분이 짝수일 때 소수점이 5라면 내리고, 홀수일 때 소수점이 5라면 올리는 방식이다...(일반적인 상식과 다름)\n",
        "print(round(1.5))\n",
        "print(round(2.5))\n",
        "print(round(3.5))\n",
        "print(round(4.5))\n",
        "print(round(5.5))"
      ]
    },
    {
      "cell_type": "markdown",
      "source": [
        "## **from 구문**\n",
        "모듈에는 정말 많은 변수와 함수가 들어있다.<br>\n",
        "하지만 그중에서 우리가 활용하고 싶은 기능은 극히 일부일 수 있으며,<br>\n",
        "math.cos(), math.sin(), math.pi처럼 앞에 무언가를 계속 입력하는 것이 귀찮다고 느껴질 수 있다.\n",
        "\n",
        "```\n",
        "from 모듈 이름 import 가져오고 싶은 변수 또는 함수\n",
        "```"
      ],
      "metadata": {
        "id": "uaiTvaVEw4qU"
      }
    },
    {
      "cell_type": "code",
      "source": [
        "# 예시\n",
        "from math import sin, cos, tan, floor, ceil\n",
        "\n",
        "print(sin(1))\n",
        "print(cos(1))\n",
        "print(tan(1))\n",
        "print(floor(1))\n",
        "print(ceil(1))"
      ],
      "metadata": {
        "colab": {
          "base_uri": "https://localhost:8080/"
        },
        "id": "t9ZU8DxevKX-",
        "outputId": "371bac05-abba-4381-8c62-2ad4e977578b"
      },
      "execution_count": null,
      "outputs": [
        {
          "output_type": "stream",
          "name": "stdout",
          "text": [
            "0.8414709848078965\n",
            "0.5403023058681398\n",
            "1.5574077246549023\n",
            "1\n",
            "1\n"
          ]
        }
      ]
    },
    {
      "cell_type": "markdown",
      "source": [
        "```\n",
        "from math import *\n",
        "```\n",
        "앞에 'math'를 붙이는 것이 싫고, 모든 기능을 가져오는 것이 목적일 때.."
      ],
      "metadata": {
        "id": "r7JetU2mxiAL"
      }
    },
    {
      "cell_type": "markdown",
      "source": [
        "### as 구문\n",
        "```\n",
        "import 모듈 as 사용하고 싶은 식별자\n",
        "```"
      ],
      "metadata": {
        "id": "4TP5_odBx9pc"
      }
    },
    {
      "cell_type": "code",
      "source": [
        "import math as m\n",
        "\n",
        "print(m.sin(1))\n",
        "print(m.cos(1))"
      ],
      "metadata": {
        "colab": {
          "base_uri": "https://localhost:8080/"
        },
        "id": "rizsDMBCxa6c",
        "outputId": "d7b9c604-d8c1-4dd0-9d46-8f60af6b675e"
      },
      "execution_count": null,
      "outputs": [
        {
          "output_type": "stream",
          "name": "stdout",
          "text": [
            "0.8414709848078965\n",
            "0.5403023058681398\n"
          ]
        }
      ]
    },
    {
      "cell_type": "markdown",
      "source": [
        "## **random 모듈**\n",
        "랜덤한 값을 생성할 때 사용하는 모듈"
      ],
      "metadata": {
        "id": "82pOuVqw064f"
      }
    },
    {
      "cell_type": "code",
      "source": [
        "import random\n",
        "\n",
        "print(\"# 랜덤 모듈\")\n",
        "\n",
        "# random() : 0.0 <= x < 1.0 사이의 float를 리턴합니다.\n",
        "print(\"- random():\", random.random())\n",
        "\n",
        "# uniform(min, max): 지정한 범위의 float를 리턴합니다.\n",
        "print(\"- uniform(10, 20):\", random.uniform(10, 20))\n",
        "\n",
        "# randrange(): 지정한 범위의 int를 리턴합니다.\n",
        "# - randrange(max): 0부터 max 사이의 값을 리턴\n",
        "# - randrange(min, max): min부터 max사이의 값을 리턴\n",
        "print(\"- randrange(10):\", random.randrange(10))\n",
        "print(\"- randrange(10,30):\", random.randrange(10, 20))\n",
        "\n",
        "# choice(list): 리스트 내부에 있는 요소를 랜덤하게 선택합니다.\n",
        "print(\"- choice([1,2,3,4,5]):\", random.choice([1,2,3,4,5]))\n",
        "\n",
        "# shuffle(list): 리스트의 요소들을 랜덤하게 섞습니다.\n",
        "print(\"- shuffle([1,2,3,4,5]):\", random.shuffle([1,2,3,4,5]))\n",
        "\n",
        "# sample(list, k=<숫자>): 리스트의 요소 중에 k개를 뽑습니다.\n",
        "print(\"- sample([1,2,3,4,5], k=2)\", random.sample([1,2,3,4,5], k=2))"
      ],
      "metadata": {
        "colab": {
          "base_uri": "https://localhost:8080/"
        },
        "id": "-Hfh_LGH0zBo",
        "outputId": "8337978d-3395-41e6-8758-71d7b78bd46c"
      },
      "execution_count": null,
      "outputs": [
        {
          "output_type": "stream",
          "name": "stdout",
          "text": [
            "# 랜덤 모듈\n",
            "- random(): 0.393317036286814\n",
            "- uniform(10, 20): 16.184870804941866\n",
            "- randrange(10): 2\n",
            "- randrange(10,30): 16\n",
            "- choice([1,2,3,4,5]): 5\n",
            "- shuffle([1,2,3,4,5]): None\n",
            "- sample([1,2,3,4,5], k=2) [4, 2]\n"
          ]
        }
      ]
    },
    {
      "cell_type": "markdown",
      "source": [
        "# 주의!!\n",
        "파이썬의 모듈은 사실 단순한 파이썬 파일이다.<br>\n",
        "import 구문은 가장 먼저 현재 폴더에서 import 뒤에 적어 놓은 파일을 찾는다. 만약 찾으면 이를 '모듈'로 인식하고 읽어 들인다.<br>\n",
        "따라서 모듈과 같은 이름으로 파일을 저장하지 않게 주의해야한다!!"
      ],
      "metadata": {
        "id": "S_nL5vii3Qe8"
      }
    },
    {
      "cell_type": "markdown",
      "source": [
        "## **sys 모듈**\n",
        "시스템과 관련된 정보를 가지고 있는 모듈이다.<br>\n",
        "명령 매개변수를 받을 때 많이 사용한다."
      ],
      "metadata": {
        "id": "t3ls0V-z3w6A"
      }
    },
    {
      "cell_type": "code",
      "source": [
        "import sys\n",
        "\n",
        "# 명령 매개변수를 출력\n",
        "print(sys.argv)\n",
        "print(\" --- \")\n",
        "\n",
        "# 컴퓨터 환경과 관련된 정보를 출력한다.\n",
        "print(\"getwindowsversion:()\", sys.getwindowsversion())\n",
        "print(\" --- \")\n",
        "print(\"copyright:\", sys.copyright)\n",
        "print(\" --- \")\n",
        "print(\"version:\", sys.version)\n",
        "\n",
        "# 프로그램을 강제로 종료\n",
        "sys.exit()"
      ],
      "metadata": {
        "colab": {
          "base_uri": "https://localhost:8080/",
          "height": 307
        },
        "id": "jyL1MMN92dfd",
        "outputId": "08482c9d-aa7a-47b1-b507-ddbbebf2b731"
      },
      "execution_count": null,
      "outputs": [
        {
          "output_type": "stream",
          "name": "stdout",
          "text": [
            "['/usr/local/lib/python3.10/dist-packages/ipykernel_launcher.py', '-f', '/root/.local/share/jupyter/runtime/kernel-eb0439e8-ad24-454c-8326-be243f19145c.json']\n",
            " --- \n"
          ]
        },
        {
          "output_type": "error",
          "ename": "AttributeError",
          "evalue": "ignored",
          "traceback": [
            "\u001b[0;31m---------------------------------------------------------------------------\u001b[0m",
            "\u001b[0;31mAttributeError\u001b[0m                            Traceback (most recent call last)",
            "\u001b[0;32m<ipython-input-15-d45ed640a2d7>\u001b[0m in \u001b[0;36m<cell line: 8>\u001b[0;34m()\u001b[0m\n\u001b[1;32m      6\u001b[0m \u001b[0;34m\u001b[0m\u001b[0m\n\u001b[1;32m      7\u001b[0m \u001b[0;31m# 컴퓨터 환경과 관련된 정보를 출력한다.\u001b[0m\u001b[0;34m\u001b[0m\u001b[0;34m\u001b[0m\u001b[0m\n\u001b[0;32m----> 8\u001b[0;31m \u001b[0mprint\u001b[0m\u001b[0;34m(\u001b[0m\u001b[0;34m\"getwindowsversion:()\"\u001b[0m\u001b[0;34m,\u001b[0m \u001b[0msys\u001b[0m\u001b[0;34m.\u001b[0m\u001b[0mgetwindowsversion\u001b[0m\u001b[0;34m(\u001b[0m\u001b[0;34m)\u001b[0m\u001b[0;34m)\u001b[0m\u001b[0;34m\u001b[0m\u001b[0;34m\u001b[0m\u001b[0m\n\u001b[0m\u001b[1;32m      9\u001b[0m \u001b[0mprint\u001b[0m\u001b[0;34m(\u001b[0m\u001b[0;34m\" --- \"\u001b[0m\u001b[0;34m)\u001b[0m\u001b[0;34m\u001b[0m\u001b[0;34m\u001b[0m\u001b[0m\n\u001b[1;32m     10\u001b[0m \u001b[0mprint\u001b[0m\u001b[0;34m(\u001b[0m\u001b[0;34m\"copyright:\"\u001b[0m\u001b[0;34m,\u001b[0m \u001b[0msys\u001b[0m\u001b[0;34m.\u001b[0m\u001b[0mcopyright\u001b[0m\u001b[0;34m)\u001b[0m\u001b[0;34m\u001b[0m\u001b[0;34m\u001b[0m\u001b[0m\n",
            "\u001b[0;31mAttributeError\u001b[0m: module 'sys' has no attribute 'getwindowsversion'"
          ]
        }
      ]
    },
    {
      "cell_type": "markdown",
      "source": [
        "## **os 모듈**\n",
        "운영체제와 관련된 기능을 가진 모듈. <br>\n",
        "새로운 폴더를 만들거나 폴더 내부의 파일목록을 보는 일도 모두 os 모듈을 활용해서 처리"
      ],
      "metadata": {
        "id": "_y3Wvav-5eLj"
      }
    },
    {
      "cell_type": "code",
      "source": [
        "import os\n",
        "\n",
        "# 기본 정보 몇 개 출력\n",
        "print(\"현재 운영체제:\", os.name)\n",
        "print(\"현재 폴더:\", os.getcwd())\n",
        "print(\"현재 폴더 내부의 요소:\", os.listdir())\n",
        "\n",
        "# 폴더를 만들고 제거한다(폴더가 비어있을 때만 제거 가능)\n",
        "os.mkdir(\"hello\")   # make directory\n",
        "os.rmdir(\"hello\")   # remove directory\n",
        "\n",
        "# 파일을 생성하고 + 파일 이름을 변경한다\n",
        "with open(\"original.txt\", \"w\") as file:\n",
        "  file.write(\"hello\").\n",
        "\n",
        "os.rename(\"original.txt\", \"new.txt\")\n",
        "\n",
        "# 파일을 제거\n",
        "os.remove(\"new.txt\")\n",
        "# os.unlink(\"new.txt\")\n",
        "\n",
        "# 시스템 명령어 실행\n",
        "os.system(\"dir\")"
      ],
      "metadata": {
        "colab": {
          "base_uri": "https://localhost:8080/"
        },
        "id": "yBBH-KZQ4AhO",
        "outputId": "8b8fc52f-9d90-470a-daaf-c2deb6f60b19"
      },
      "execution_count": null,
      "outputs": [
        {
          "output_type": "stream",
          "name": "stdout",
          "text": [
            "현재 운영체제: posix\n",
            "현재 폴더: /content\n",
            "현재 폴더 내부의 요소: ['.config', 'sample_data']\n"
          ]
        },
        {
          "output_type": "execute_result",
          "data": {
            "text/plain": [
              "0"
            ]
          },
          "metadata": {},
          "execution_count": 16
        }
      ]
    },
    {
      "cell_type": "markdown",
      "source": [
        "## **datetime 모듈**\n",
        "date(날짜), time(시간)과 관련된 모듈로, 날짜 형식을 만들 때 자주 사용되는 코드들로 구성되어 있다."
      ],
      "metadata": {
        "id": "ankKVeTHGA0J"
      }
    },
    {
      "cell_type": "code",
      "source": [
        "import datetime\n",
        "\n",
        "# 현재 시각을 구하고 출력하기\n",
        "print(\"# 현재 시각 출력하기\")\n",
        "\n",
        "now = datetime.datetime.now()\n",
        "\n",
        "print(now.year, \"년\")\n",
        "print(now.month, \"월\")\n",
        "print(now.day, \"일\")\n",
        "print(now.hour, \"시\")\n",
        "print(now.minute, \"분\")\n",
        "print(now.second, \"초\")\n",
        "print()\n",
        "\n",
        "# 시간 출력 방법\n",
        "print(\"# 시간을 포맷에 맞춰 출력하기\")\n",
        "\n",
        "output_a = now.strftime(\"%Y.%m.%d %H:%M:%S\")\n",
        "output_b = \"{}년 {}월 {}일 {}시 {}분 {}초\".format(now.year, \\\n",
        "                                            now.month, \\\n",
        "                                            now.day, \\\n",
        "                                            now.hour, \\\n",
        "                                            now.minute, \\\n",
        "                                            now.second)\n",
        "output_c = now.strftime(\"%Y{} %m{} %d{} %H{} %M{} %S{}\".format(*\"년월일시분초\"))\n",
        "# 문자열, 리스트 앞에 '*'를 붙이면 요소 하나하나가 매개변수로 지정된다!!\n",
        "\n",
        "print(output_a)\n",
        "print(output_b)\n",
        "print(output_c)\n",
        "print()\n",
        "\n",
        "# strftime()함수를 사용하면 시간을 형식에 맞춰 출력할 수 있다.\n",
        "# 다만 한국어 등의 문자는 매개변수에 넣을 수 없어서 이를 보완하고자 output_b / output_c 같은 형식을 사용한다!"
      ],
      "metadata": {
        "id": "b2GPIEIW6Sae",
        "colab": {
          "base_uri": "https://localhost:8080/"
        },
        "outputId": "6943b49b-f960-482e-febb-ab6c0cea4c27"
      },
      "execution_count": null,
      "outputs": [
        {
          "output_type": "stream",
          "name": "stdout",
          "text": [
            "# 현재 시각 출력하기\n",
            "2023 년\n",
            "7 월\n",
            "21 일\n",
            "11 시\n",
            "34 분\n",
            "18 초\n",
            "\n",
            "# 시간을 포맷에 맞춰 출력하기\n",
            "2023.07.21 11:34:18\n",
            "2023년 7월 21일 11시 34분 18초\n",
            "2023년 07월 21일 11시 34분 18초\n",
            "\n"
          ]
        }
      ]
    },
    {
      "cell_type": "code",
      "source": [
        "# 시간 처리하기\n",
        "\n",
        "# 모듈을 읽어 들인다\n",
        "import datetime\n",
        "\n",
        "now = datetime.datetime.now()\n",
        "\n",
        "# 특정 시간 이후의 시간 구하기\n",
        "print(\"# datetime.timedelta로 시간 더하기\")\n",
        "\n",
        "after = now + datetime.timedelta(\\\n",
        "                                 weeks=1, \\\n",
        "                                 days=1, \\\n",
        "                                 hours=1, \\\n",
        "                                 minutes=1, \\\n",
        "                                 seconds=1)\n",
        "\n",
        "print(after.strftime(\"%Y{} %m{} %d{} %H{} %M{} %S{}\").format(*\"년월일시분초\"))\n",
        "print()\n",
        "\n",
        "# 특정 시간 요소 교체하기\n",
        "print(\"# now.replace()로 1년 더하기\")\n",
        "\n",
        "output = now.replace(year=(now.year + 1))\n",
        "print(output.strftime(\"%Y{} %m{} %d{} %H{} %M{} %S{}\").format(*\"년월일시분초\"))\n",
        "\n",
        "# timedelta() 함수를 사용하면 특정한 시간의 이전 or 이후를 구할 수 있다.\n",
        "# 다만 1년 후, 2년 후 등의 면 년 후를 구하는 기능이 없기 때문에 replace() 함수를 사용하여 아예 날짜 값을 교체한다."
      ],
      "metadata": {
        "colab": {
          "base_uri": "https://localhost:8080/"
        },
        "id": "oxpgLJcRNL11",
        "outputId": "6bbb3a01-809f-4422-9d4f-ccb25579e166"
      },
      "execution_count": null,
      "outputs": [
        {
          "output_type": "stream",
          "name": "stdout",
          "text": [
            "# datetime.timedelta로 시간 더하기\n",
            "2023년 07월 29일 12시 44분 12초\n",
            "\n",
            "# now.replace()로 1년 더하기\n",
            "2024년 07월 21일 11시 43분 11초\n"
          ]
        }
      ]
    },
    {
      "cell_type": "markdown",
      "source": [
        "## **time 모듈**\n",
        "시간과 관련된 기능을 다룰 때 time 모듈을 사용한다.<br>\n",
        "time 모듈로도 날짜와 관련된 처리를 할 수 있지만, 그런 처리는 datetime 모듈을 사용하는 경우가 더 많다.<br>\n",
        "4챕터에서 살펴보았던 것 처럼 유닉스 타임(1970년 1월 1일 0시 0분 0초를 기준으로 계산한 시간 단위)을 구할 때, **특정 시간 동안 코드 진행을 정지할 때** 많이 사용한다."
      ],
      "metadata": {
        "id": "0lDgddugQ0Tl"
      }
    },
    {
      "cell_type": "code",
      "source": [
        "import time\n",
        "\n",
        "print(\"지금부터 5초 동안 정지합니다!\")\n",
        "time.sleep(5)\n",
        "print(\"프로그램을 종료합니다\")"
      ],
      "metadata": {
        "colab": {
          "base_uri": "https://localhost:8080/"
        },
        "id": "bopLusTQPtIK",
        "outputId": "48cf97e7-7186-4e8e-e87d-b0c363c580d4"
      },
      "execution_count": null,
      "outputs": [
        {
          "output_type": "stream",
          "name": "stdout",
          "text": [
            "지금부터 5초 동안 정지합니다!\n",
            "프로그램을 종료합니다\n"
          ]
        }
      ]
    },
    {
      "cell_type": "markdown",
      "source": [
        "## **urllib 모듈**\n",
        "URL을 다루는 라이브러리이다.<br>\n",
        "(Uniform Resource Locator\n",
        "= 네트워크의 자원이 어디에 위치하는지 확인할 때 사용하는 것 <br>\n",
        "or 웹 브라우저의 주소창에 입력하는 주소라고 이해)<br>\n",
        "<br>\n",
        "따라서, 인터넷 주소를 활용할 때 사용하는 라이브러리이다."
      ],
      "metadata": {
        "id": "e2uNYBhbRj9Y"
      }
    },
    {
      "cell_type": "code",
      "source": [
        "from urllib import request\n",
        "\n",
        "# urlopen() 함수로 구글의 메인 페이지를 읽는다.\n",
        "target = request.urlopen(\"https://google.com\")\n",
        "output = target.read()\n",
        "\n",
        "# 출력\n",
        "print(output)\n",
        "\n",
        "# 맨 앞에 'b'는 바이너리 데이터(binary data)를 의미한다.\n",
        "# Binary는 2진법을 의미하며, '1'과 '0'만을 사용하여 수를 나타내는 진법이다.\n",
        "# 모든 컴퓨터는 데이터를 2진법을 사용하여 저장하고 사용한다.\n",
        "# 이러한 Binary Digits를 좀 더 편하게 부르기 위해 \"bits\"라는 용어를 사용한다.\n",
        "\n",
        "# https://brunch.co.kr/@ericbaek/94 --> 참고!!"
      ],
      "metadata": {
        "colab": {
          "base_uri": "https://localhost:8080/"
        },
        "id": "6eSh89ovRbgO",
        "outputId": "abb2a758-0421-4014-8994-7258fcf82635"
      },
      "execution_count": null,
      "outputs": [
        {
          "output_type": "stream",
          "name": "stdout",
          "text": [
            "b'<!doctype html><html itemscope=\"\" itemtype=\"http://schema.org/WebPage\" lang=\"en\"><head><meta content=\"Search the world\\'s information, including webpages, images, videos and more. Google has many special features to help you find exactly what you\\'re looking for.\" name=\"description\"><meta content=\"noodp\" name=\"robots\"><meta content=\"text/html; charset=UTF-8\" http-equiv=\"Content-Type\"><meta content=\"/images/branding/googleg/1x/googleg_standard_color_128dp.png\" itemprop=\"image\"><title>Google</title><script nonce=\"eF6e7mfdwmTqCifIn99h9Q\">(function(){var _g={kEI:\\'KHG6ZO69L4-lqtsP7ZW4uAU\\',kEXPI:\\'0,1359409,1710,4349,206,4804,2316,383,246,5,1129120,1748,12,2,1195945,694,380090,16111,28687,22430,1362,12319,2815,14765,4998,17075,38444,2872,2891,3926,213,4209,3406,606,30668,30022,6398,8926,2025,1,16916,2652,4,1528,2304,29062,13064,13659,2980,1457,9358,13255,6624,7596,1,42154,2,16395,342,23024,5679,1021,31122,4567,6259,23418,1246,5841,19300,7484,445,2,2,1,10957,13669,2006,8155,7381,2,3,15964,874,9625,10008,7,1922,9779,42459,20199,927,19209,14,82,16514,3692,109,2412,5856,3785,15203,1640,638,3097,3030,6110,9706,1804,7734,2738,2884,1004,1,8476,2995,7265,529,1643,7851,935,3027,1635,2170,1071,1,4706,891,5001,1146,8275,3437,7915,4951,3899,8033,1271,2041,372,4234,5205699,388,1236,2,22,17,4,8797897,3311,141,795,19735,2,346,6989,12,23,3,5,8,10,265,5,21,16,7,64,3,3,3,18,74,9,51,58,23942837,4060779,29032,3918,1406990,23759270,3601,255,2465,495,1,1346,266,3348,1022,339,1,2605,645,2259,1678,881,1083,835,266,73,623,45,1248,103,201,586,206,728,1358,613,60,423,1285,74,1,2084,1494,505,1,96,453,15,241,1491,201,274,2157,407,178,8,200,168,629,622,179,392,3078,2679,434,421,989,225,825,50,131,76,322,211,1468,100,1,612,3,925,441,36,93,260,2,1,1,2,3,653,733,1139,3,700,71,733,671,82,204,1347,622,1,192,121,12,3,312,50,265,3,30,3,391,74,1276,2,73,1133,693,311,902,6,52,165,165,194,309,400,13,25,115,9,358,7,134,368,4,23,370,2,43,8,541,293,555,136,1802,1,4,46,292,486,3,30,11,52,1795\\',kBL:\\'_RjE\\',kOPI:89978449};(function(){var a;(null==(a=window.google)?0:a.stvsc)?google.kEI=_g.kEI:window.google=_g;}).call(this);})();(function(){google.sn=\\'webhp\\';google.kHL=\\'en\\';})();(function(){\\nvar h=this||self;function l(){return void 0!==window.google&&void 0!==window.google.kOPI&&0!==window.google.kOPI?window.google.kOPI:null};var m,n=[];function p(a){for(var b;a&&(!a.getAttribute||!(b=a.getAttribute(\"eid\")));)a=a.parentNode;return b||m}function q(a){for(var b=null;a&&(!a.getAttribute||!(b=a.getAttribute(\"leid\")));)a=a.parentNode;return b}function r(a){/^http:/i.test(a)&&\"https:\"===window.location.protocol&&(google.ml&&google.ml(Error(\"a\"),!1,{src:a,glmm:1}),a=\"\");return a}\\nfunction t(a,b,c,d,k){var e=\"\";-1===b.search(\"&ei=\")&&(e=\"&ei=\"+p(d),-1===b.search(\"&lei=\")&&(d=q(d))&&(e+=\"&lei=\"+d));d=\"\";var g=-1===b.search(\"&cshid=\")&&\"slh\"!==a,f=[];f.push([\"zx\",Date.now().toString()]);h._cshid&&g&&f.push([\"cshid\",h._cshid]);c=c();null!=c&&f.push([\"opi\",c.toString()]);for(c=0;c<f.length;c++){if(0===c||0<c)d+=\"&\";d+=f[c][0]+\"=\"+f[c][1]}return\"/\"+(k||\"gen_204\")+\"?atyp=i&ct=\"+String(a)+\"&cad=\"+(b+e+d)};m=google.kEI;google.getEI=p;google.getLEI=q;google.ml=function(){return null};google.log=function(a,b,c,d,k,e){e=void 0===e?l:e;c||(c=t(a,b,e,d,k));if(c=r(c)){a=new Image;var g=n.length;n[g]=a;a.onerror=a.onload=a.onabort=function(){delete n[g]};a.src=c}};google.logUrl=function(a,b){b=void 0===b?l:b;return t(\"\",a,b)};}).call(this);(function(){google.y={};google.sy=[];google.x=function(a,b){if(a)var c=a.id;else{do c=Math.random();while(google.y[c])}google.y[c]=[a,b];return!1};google.sx=function(a){google.sy.push(a)};google.lm=[];google.plm=function(a){google.lm.push.apply(google.lm,a)};google.lq=[];google.load=function(a,b,c){google.lq.push([[a],b,c])};google.loadAll=function(a,b){google.lq.push([a,b])};google.bx=!1;google.lx=function(){};}).call(this);google.f={};(function(){\\ndocument.documentElement.addEventListener(\"submit\",function(b){var a;if(a=b.target){var c=a.getAttribute(\"data-submitfalse\");a=\"1\"===c||\"q\"===c&&!a.elements.q.value?!0:!1}else a=!1;a&&(b.preventDefault(),b.stopPropagation())},!0);document.documentElement.addEventListener(\"click\",function(b){var a;a:{for(a=b.target;a&&a!==document.documentElement;a=a.parentElement)if(\"A\"===a.tagName){a=\"1\"===a.getAttribute(\"data-nohref\");break a}a=!1}a&&b.preventDefault()},!0);}).call(this);</script><style>#gbar,#guser{font-size:13px;padding-top:1px !important;}#gbar{height:22px}#guser{padding-bottom:7px !important;text-align:right}.gbh,.gbd{border-top:1px solid #c9d7f1;font-size:1px}.gbh{height:0;position:absolute;top:24px;width:100%}@media all{.gb1{height:22px;margin-right:.5em;vertical-align:top}#gbar{float:left}}a.gb1,a.gb4{text-decoration:underline !important}a.gb1,a.gb4{color:#00c !important}.gbi .gb4{color:#dd8e27 !important}.gbf .gb4{color:#900 !important}\\n</style><style>body,td,a,p,.h{font-family:arial,sans-serif}body{margin:0;overflow-y:scroll}#gog{padding:3px 8px 0}td{line-height:.8em}.gac_m td{line-height:17px}form{margin-bottom:20px}.h{color:#1967d2}em{font-weight:bold;font-style:normal}.lst{height:25px;width:496px}.gsfi,.lst{font:18px arial,sans-serif}.gsfs{font:17px arial,sans-serif}.ds{display:inline-box;display:inline-block;margin:3px 0 4px;margin-left:4px}input{font-family:inherit}body{background:#fff;color:#000}a{color:#681da8;text-decoration:none}a:hover,a:active{text-decoration:underline}.fl a{color:#1967d2}a:visited{color:#681da8}.sblc{padding-top:5px}.sblc a{display:block;margin:2px 0;margin-left:13px;font-size:11px}.lsbb{background:#f8f9fa;border:solid 1px;border-color:#dadce0 #70757a #70757a #dadce0;height:30px}.lsbb{display:block}#WqQANb a{display:inline-block;margin:0 12px}.lsb{background:url(/images/nav_logo229.png) 0 -261px repeat-x;color:#000;border:none;cursor:pointer;height:30px;margin:0;outline:0;font:15px arial,sans-serif;vertical-align:top}.lsb:active{background:#dadce0}.lst:focus{outline:none}</style><script nonce=\"eF6e7mfdwmTqCifIn99h9Q\">(function(){window.google.erd={jsr:1,bv:1833,de:true};\\nvar l=this||self;var m,n=null!=(m=l.mei)?m:1,p,q=null!=(p=l.sdo)?p:!0,r=0,t,u=google.erd,v=u.jsr;google.ml=function(a,b,d,h,e){e=void 0===e?2:e;b&&(t=a&&a.message);if(google.dl)return google.dl(a,e,d),null;if(0>v){window.console&&console.error(a,d);if(-2===v)throw a;b=!1}else b=!a||!a.message||\"Error loading script\"===a.message||r>=n&&!h?!1:!0;if(!b)return null;r++;d=d||{};b=encodeURIComponent;var c=\"/gen_204?atyp=i&ei=\"+b(google.kEI);google.kEXPI&&(c+=\"&jexpid=\"+b(google.kEXPI));c+=\"&srcpg=\"+b(google.sn)+\"&jsr=\"+b(u.jsr)+\"&bver=\"+b(u.bv);var f=a.lineNumber;void 0!==f&&(c+=\"&line=\"+f);var g=\\na.fileName;g&&(0<g.indexOf(\"-extension:/\")&&(e=3),c+=\"&script=\"+b(g),f&&g===window.location.href&&(f=document.documentElement.outerHTML.split(\"\\\\n\")[f],c+=\"&cad=\"+b(f?f.substring(0,300):\"No script found.\")));c+=\"&cad=ple_\"+google.ple+\".aple_\"+google.aple;google.ple&&1===google.ple&&(e=2);c+=\"&jsel=\"+e;for(var k in d)c+=\"&\",c+=b(k),c+=\"=\",c+=b(d[k]);c=c+\"&emsg=\"+b(a.name+\": \"+a.message);c=c+\"&jsst=\"+b(a.stack||\"N/A\");12288<=c.length&&(c=c.substr(0,12288));a=c;h||google.log(0,\"\",a);return a};window.onerror=function(a,b,d,h,e){if(t!==a){a=e instanceof Error?e:Error(a);void 0===d||\"lineNumber\"in a||(a.lineNumber=d);void 0===b||\"fileName\"in a||(a.fileName=b);b=void 0;if(a.stack&&(-1!==a.stack.indexOf(\"?xjs=s0\")||-1!==a.stack.indexOf(\"&xjs=s0\"))){b=document.querySelectorAll(\"script[src*=\\\\\\\\/xjs\\\\\\\\/_\\\\\\\\/js\\\\\\\\/]\");for(h=d=0;h<b.length;h++)d+=b[h].async?1:0;var c=e=h=-1,f=-1,g=-1;if(performance&&google.xjsu){h=0;e=google.timers.load.t.xjsee?1:0;f=c=0;g=performance.getEntriesByType(\"resource\");for(var k=\\n0;k<g.length;k++)-1!==g[k].name.indexOf(google.xjsu)&&(h=1),-1!==g[k].name.indexOf(\"/xjs/_/js/\")&&(c+=1,f+=\"script\"===g[k].initiatorType?1:0);g=c-f}b={cad:\"pl_\"+h+\".pe_\"+e+\".asc_\"+d+\".tsc_\"+b.length+\".fasc_\"+(b.length-d)+\".lxc_\"+c+\".lsx_\"+f+\".lnsx_\"+g}}google.ml(a,!1,b,!1,\"SyntaxError\"===a.name||\"SyntaxError\"===a.message.substring(0,11)||-1!==a.message.indexOf(\"Script error\")?3:0)}t=null;q&&r>=n&&(window.onerror=null)};})();</script></head><body bgcolor=\"#fff\"><script nonce=\"eF6e7mfdwmTqCifIn99h9Q\">(function(){var src=\\'/images/nav_logo229.png\\';var iesg=false;document.body.onload = function(){window.n && window.n();if (document.images){new Image().src=src;}\\nif (!iesg){document.f&&document.f.q.focus();document.gbqf&&document.gbqf.q.focus();}\\n}\\n})();</script><div id=\"mngb\"><div id=gbar><nobr><b class=gb1>Search</b> <a class=gb1 href=\"https://www.google.com/imghp?hl=en&tab=wi\">Images</a> <a class=gb1 href=\"https://maps.google.com/maps?hl=en&tab=wl\">Maps</a> <a class=gb1 href=\"https://play.google.com/?hl=en&tab=w8\">Play</a> <a class=gb1 href=\"https://www.youtube.com/?tab=w1\">YouTube</a> <a class=gb1 href=\"https://news.google.com/?tab=wn\">News</a> <a class=gb1 href=\"https://mail.google.com/mail/?tab=wm\">Gmail</a> <a class=gb1 href=\"https://drive.google.com/?tab=wo\">Drive</a> <a class=gb1 style=\"text-decoration:none\" href=\"https://www.google.com/intl/en/about/products?tab=wh\"><u>More</u> &raquo;</a></nobr></div><div id=guser width=100%><nobr><span id=gbn class=gbi></span><span id=gbf class=gbf></span><span id=gbe></span><a href=\"http://www.google.com/history/optout?hl=en\" class=gb4>Web History</a> | <a  href=\"/preferences?hl=en\" class=gb4>Settings</a> | <a target=_top id=gb_70 href=\"https://accounts.google.com/ServiceLogin?hl=en&passive=true&continue=https://www.google.com/&ec=GAZAAQ\" class=gb4>Sign in</a></nobr></div><div class=gbh style=left:0></div><div class=gbh style=right:0></div></div><center><br clear=\"all\" id=\"lgpd\"><div id=\"lga\"><img alt=\"Google\" height=\"92\" src=\"/images/branding/googlelogo/1x/googlelogo_white_background_color_272x92dp.png\" style=\"padding:28px 0 14px\" width=\"272\" id=\"hplogo\"><br><br></div><form action=\"/search\" name=\"f\"><table cellpadding=\"0\" cellspacing=\"0\"><tr valign=\"top\"><td width=\"25%\">&nbsp;</td><td align=\"center\" nowrap=\"\"><input name=\"ie\" value=\"ISO-8859-1\" type=\"hidden\"><input value=\"en\" name=\"hl\" type=\"hidden\"><input name=\"source\" type=\"hidden\" value=\"hp\"><input name=\"biw\" type=\"hidden\"><input name=\"bih\" type=\"hidden\"><div class=\"ds\" style=\"height:32px;margin:4px 0\"><input class=\"lst\" style=\"margin:0;padding:5px 8px 0 6px;vertical-align:top;color:#000\" autocomplete=\"off\" value=\"\" title=\"Google Search\" maxlength=\"2048\" name=\"q\" size=\"57\"></div><br style=\"line-height:0\"><span class=\"ds\"><span class=\"lsbb\"><input class=\"lsb\" value=\"Google Search\" name=\"btnG\" type=\"submit\"></span></span><span class=\"ds\"><span class=\"lsbb\"><input class=\"lsb\" id=\"tsuid_1\" value=\"I\\'m Feeling Lucky\" name=\"btnI\" type=\"submit\"><script nonce=\"eF6e7mfdwmTqCifIn99h9Q\">(function(){var id=\\'tsuid_1\\';document.getElementById(id).onclick = function(){if (this.form.q.value){this.checked = 1;if (this.form.iflsig)this.form.iflsig.disabled = false;}\\nelse top.location=\\'/doodles/\\';};})();</script><input value=\"AD69kcEAAAAAZLp_OA7rNasaaZArfDrz2Lm6msWy9pwA\" name=\"iflsig\" type=\"hidden\"></span></span></td><td class=\"fl sblc\" align=\"left\" nowrap=\"\" width=\"25%\"><a href=\"/advanced_search?hl=en&amp;authuser=0\">Advanced search</a></td></tr></table><input id=\"gbv\" name=\"gbv\" type=\"hidden\" value=\"1\"><script nonce=\"eF6e7mfdwmTqCifIn99h9Q\">(function(){var a,b=\"1\";if(document&&document.getElementById)if(\"undefined\"!=typeof XMLHttpRequest)b=\"2\";else if(\"undefined\"!=typeof ActiveXObject){var c,d,e=[\"MSXML2.XMLHTTP.6.0\",\"MSXML2.XMLHTTP.3.0\",\"MSXML2.XMLHTTP\",\"Microsoft.XMLHTTP\"];for(c=0;d=e[c++];)try{new ActiveXObject(d),b=\"2\"}catch(h){}}a=b;if(\"2\"==a&&-1==location.search.indexOf(\"&gbv=2\")){var f=google.gbvu,g=document.getElementById(\"gbv\");g&&(g.value=a);f&&window.setTimeout(function(){location.href=f},0)};}).call(this);</script></form><div id=\"gac_scont\"></div><div style=\"font-size:83%;min-height:3.5em\"><br></div><span id=\"footer\"><div style=\"font-size:10pt\"><div style=\"margin:19px auto;text-align:center\" id=\"WqQANb\"><a href=\"/intl/en/ads/\">Advertising</a><a href=\"/services/\">Business Solutions</a><a href=\"/intl/en/about.html\">About Google</a></div></div><p style=\"font-size:8pt;color:#70757a\">&copy; 2023 - <a href=\"/intl/en/policies/privacy/\">Privacy</a> - <a href=\"/intl/en/policies/terms/\">Terms</a></p></span></center><script nonce=\"eF6e7mfdwmTqCifIn99h9Q\">(function(){window.google.cdo={height:757,width:1440};(function(){var a=window.innerWidth,b=window.innerHeight;if(!a||!b){var c=window.document,d=\"CSS1Compat\"==c.compatMode?c.documentElement:c.body;a=d.clientWidth;b=d.clientHeight}\\nif(a&&b&&(a!=google.cdo.width||b!=google.cdo.height)){var e=google,f=e.log,g=\"/client_204?&atyp=i&biw=\"+a+\"&bih=\"+b+\"&ei=\"+google.kEI,h=\"\",k=[],l=void 0!==window.google&&void 0!==window.google.kOPI&&0!==window.google.kOPI?window.google.kOPI:null;null!=l&&k.push([\"opi\",l.toString()]);for(var m=0;m<k.length;m++){if(0===m||0<m)h+=\"&\";h+=k[m][0]+\"=\"+k[m][1]}f.call(e,\"\",\"\",g+h)};}).call(this);})();</script> <script nonce=\"eF6e7mfdwmTqCifIn99h9Q\">(function(){google.xjs={ck:\\'xjs.hp.s2H2D6UJ-8o.L.X.O\\',cs:\\'ACT90oGkFvlmkR5jsejFYQ2mTWk073_BrA\\',csss:\\'ACT90oH3M5Ryrdx46zrAqB3B95pFOUBtzw\\',excm:[],sepcss:false};})();</script>     <script nonce=\"eF6e7mfdwmTqCifIn99h9Q\">(function(){var u=\\'/xjs/_/js/k\\\\x3dxjs.hp.en.kFtFMuRdpdA.O/am\\\\x3dAAAAAAAAAAAAAAACAAAAAAAAAEAAQCcAQAEACw/d\\\\x3d1/ed\\\\x3d1/rs\\\\x3dACT90oH2NEwiw6xVVVpsWVrz4w0TnNFnbQ/m\\\\x3dsb_he,d,cEt90b,SNUn3,qddgKe,sTsDMc,dtl0hd,eHDfl\\';var amd=0;\\nvar d=this||self,e=function(b){return b};var f;var h=function(b){this.g=b};h.prototype.toString=function(){return this.g+\"\"};var l={};var n=function(){var b=document;var a=\"SCRIPT\";\"application/xhtml+xml\"===b.contentType&&(a=a.toLowerCase());return b.createElement(a)};\\nfunction p(){var b=u,a=function(){};google.lx=google.stvsc?a:function(){q(b);google.lx=a};google.bx||google.lx()}\\nfunction r(b,a){a=null===a?\"null\":void 0===a?\"undefined\":a;if(void 0===f){var c=null;var k=d.trustedTypes;if(k&&k.createPolicy){try{c=k.createPolicy(\"goog#html\",{createHTML:e,createScript:e,createScriptURL:e})}catch(t){d.console&&d.console.error(t.message)}f=c}else f=c}a=(c=f)?c.createScriptURL(a):a;a=new h(a,l);b.src=a instanceof h&&a.constructor===h?a.g:\"type_error:TrustedResourceUrl\";var g,m;(g=(a=null==(m=(g=(b.ownerDocument&&b.ownerDocument.defaultView||window).document).querySelector)?void 0:m.call(g,\"script[nonce]\"))?a.nonce||a.getAttribute(\"nonce\")||\"\":\"\")&&b.setAttribute(\"nonce\",g);google.as?google.as(b):document.body.appendChild(b)}function q(b){google.timers&&google.timers.load&&google.tick&&google.tick(\"load\",\"xjsls\");var a=n();a.onerror=function(){google.ple=1};a.onload=function(){google.ple=0};r(a,b);google.aple=-1;google.psa=!0};google.xjsu=u;d._F_jsUrl=u;setTimeout(function(){0<amd?google.caft(function(){return p()},amd):p()},0);})();window._ = window._ || {};window._DumpException = _._DumpException = function(e){throw e;};window._s = window._s || {};_s._DumpException = _._DumpException;window._qs = window._qs || {};_qs._DumpException = _._DumpException;function _F_installCss(c){}\\n(function(){google.jl={blt:\\'none\\',chnk:0,dw:false,dwu:true,emtn:0,end:0,ico:false,ikb:0,ine:false,injs:\\'none\\',injt:0,injth:0,injv2:false,lls:\\'default\\',pdt:0,rep:0,snet:true,strt:0,ubm:false,uwp:true};})();(function(){var pmc=\\'{\\\\x22d\\\\x22:{},\\\\x22sb_he\\\\x22:{\\\\x22agen\\\\x22:true,\\\\x22cgen\\\\x22:true,\\\\x22client\\\\x22:\\\\x22heirloom-hp\\\\x22,\\\\x22dh\\\\x22:true,\\\\x22ds\\\\x22:\\\\x22\\\\x22,\\\\x22fl\\\\x22:true,\\\\x22host\\\\x22:\\\\x22google.com\\\\x22,\\\\x22jsonp\\\\x22:true,\\\\x22msgs\\\\x22:{\\\\x22cibl\\\\x22:\\\\x22Clear Search\\\\x22,\\\\x22dym\\\\x22:\\\\x22Did you mean:\\\\x22,\\\\x22lcky\\\\x22:\\\\x22I\\\\\\\\u0026#39;m Feeling Lucky\\\\x22,\\\\x22lml\\\\x22:\\\\x22Learn more\\\\x22,\\\\x22psrc\\\\x22:\\\\x22This search was removed from your \\\\\\\\u003Ca href\\\\x3d\\\\\\\\\\\\x22/history\\\\\\\\\\\\x22\\\\\\\\u003EWeb History\\\\\\\\u003C/a\\\\\\\\u003E\\\\x22,\\\\x22psrl\\\\x22:\\\\x22Remove\\\\x22,\\\\x22sbit\\\\x22:\\\\x22Search by image\\\\x22,\\\\x22srch\\\\x22:\\\\x22Google Search\\\\x22},\\\\x22ovr\\\\x22:{},\\\\x22pq\\\\x22:\\\\x22\\\\x22,\\\\x22rfs\\\\x22:[],\\\\x22sbas\\\\x22:\\\\x220 3px 8px 0 rgba(0,0,0,0.2),0 0 0 1px rgba(0,0,0,0.08)\\\\x22,\\\\x22stok\\\\x22:\\\\x22iZRUaLS6ogbaK4buYODmF227kmU\\\\x22}}\\';google.pmc=JSON.parse(pmc);})();(function(){\\nvar b=function(a){var c=0;return function(){return c<a.length?{done:!1,value:a[c++]}:{done:!0}}},e=this||self;var g,h;a:{for(var k=[\"CLOSURE_FLAGS\"],l=e,n=0;n<k.length;n++)if(l=l[k[n]],null==l){h=null;break a}h=l}var p=h&&h[610401301];g=null!=p?p:!1;var q,r=e.navigator;q=r?r.userAgentData||null:null;function t(a){return g?q?q.brands.some(function(c){return(c=c.brand)&&-1!=c.indexOf(a)}):!1:!1}function u(a){var c;a:{if(c=e.navigator)if(c=c.userAgent)break a;c=\"\"}return-1!=c.indexOf(a)};function v(){return g?!!q&&0<q.brands.length:!1}function w(){return u(\"Safari\")&&!(x()||(v()?0:u(\"Coast\"))||(v()?0:u(\"Opera\"))||(v()?0:u(\"Edge\"))||(v()?t(\"Microsoft Edge\"):u(\"Edg/\"))||(v()?t(\"Opera\"):u(\"OPR\"))||u(\"Firefox\")||u(\"FxiOS\")||u(\"Silk\")||u(\"Android\"))}function x(){return v()?t(\"Chromium\"):(u(\"Chrome\")||u(\"CriOS\"))&&!(v()?0:u(\"Edge\"))||u(\"Silk\")}function y(){return u(\"Android\")&&!(x()||u(\"Firefox\")||u(\"FxiOS\")||(v()?0:u(\"Opera\"))||u(\"Silk\"))};var z=v()?!1:u(\"Trident\")||u(\"MSIE\");y();x();w();var A=!z&&!w(),D=function(a){if(/-[a-z]/.test(\"ved\"))return null;if(A&&a.dataset){if(y()&&!(\"ved\"in a.dataset))return null;a=a.dataset.ved;return void 0===a?null:a}return a.getAttribute(\"data-\"+\"ved\".replace(/([A-Z])/g,\"-$1\").toLowerCase())};var E=[],F=null;function G(a){a=a.target;var c=performance.now(),f=[],H=f.concat,d=E;if(!(d instanceof Array)){var m=\"undefined\"!=typeof Symbol&&Symbol.iterator&&d[Symbol.iterator];if(m)d=m.call(d);else if(\"number\"==typeof d.length)d={next:b(d)};else throw Error(\"a`\"+String(d));for(var B=[];!(m=d.next()).done;)B.push(m.value);d=B}E=H.call(f,d,[c]);if(a&&a instanceof HTMLElement)if(a===F){if(c=4<=E.length)c=5>(E[E.length-1]-E[E.length-4])/1E3;if(c){c=google.getEI(a);a.hasAttribute(\"data-ved\")?f=a?D(a)||\"\":\"\":f=(f=\\na.closest(\"[data-ved]\"))?D(f)||\"\":\"\";f=f||\"\";if(a.hasAttribute(\"jsname\"))a=a.getAttribute(\"jsname\");else{var C;a=null==(C=a.closest(\"[jsname]\"))?void 0:C.getAttribute(\"jsname\")}google.log(\"rcm\",\"&ei=\"+c+\"&ved=\"+f+\"&jsname=\"+(a||\"\"))}}else F=a,E=[c]}window.document.addEventListener(\"DOMContentLoaded\",function(){document.body.addEventListener(\"click\",G)});}).call(this);</script></body></html>'\n"
          ]
        }
      ]
    },
    {
      "cell_type": "markdown",
      "source": [
        "# 좀 더 알아보기 // operator.itemgetter() 함수\n",
        "람다에서 다룬 코드를 다시 한번 보자.\n",
        "```\n",
        "books = [{\n",
        "  \"제목\": \"혼자 공부하는 파이썬\",\n",
        "  \"가격\": 18000\n",
        "}, {\n",
        "  \"제목\": \"혼자 공부하는 머신러닝 + 딥러닝\",\n",
        "  \"가격\": 26000\n",
        "}, {\n",
        "  \"제목\": \"혼자 공부하는 자바스크립트\",\n",
        "  \"가격\": 24000\n",
        "}]\n",
        "\n",
        "def value_exract(book): # 콜백 함수\n",
        "  return book[\"가격\"]\n",
        "\n",
        "min(books, key = value_extract)\n",
        "min(books, key = lambda book: book[\"가격\"]) # 람다 사용\n",
        "```\n",
        "\n",
        "\n",
        "\n",
        "* 콜백 함수를 활용한 경우\n",
        "<br>\n",
        "코드를 위에서 아래로 읽어 내리다가 '가격추출함수'가 무엇인지 알기위해 함수를 찾아서 내용을 살펴봐야한다.\n",
        "<br>\n",
        "* 람다를 활용한 경우\n",
        "<br>\n",
        "생각보다 어려운 문법이다. 개발자들 중 람다의 존재 자체를 모르는 개발자도 있다.(다른 프로그래밍 언어를 다루던 개발자들)<br>\n",
        "따라서 람다를 사용하면 다른 사람이 코드를 읽는 것이 어려울 수 있다.\n"
      ],
      "metadata": {
        "id": "fb_Gmhosbalm"
      }
    },
    {
      "cell_type": "markdown",
      "source": [
        "## operator 모듈의 itemgetter() 함수는 특정 요소를 추출하는 함수를 만드는 함수이다.\n",
        "이 함수를 사용하면 위의 문제를 해결할 수 있다.\n",
        "* 코드를 읽으면서 바로 이해 가능\n",
        "* 람다 함수를 사용한 것보다 코드 읽는 것이 쉽다. itemgetter() 함수가 무엇인지 몰라도 코드와 함수 이름만 보아도 '어떠한 기능을 하겠다'고 생각 할 수 있다.\n",
        "\n",
        "```\n",
        "# key 매개변수를 itemgetter() 함수로 작성한 코드로 완전히 변경하면 다음과 같다.\n",
        "\n",
        "from operator import itemgetter\n",
        "\n",
        "books = [{\n",
        "  \"제목\": \"혼자 공부하는 파이썬\",\n",
        "  \"가격\": 18000\n",
        "}, {\n",
        "  \"제목\": \"혼자 공부하는 머신러닝 + 딥러닝\",\n",
        "  \"가격\": 26000\n",
        "}, {\n",
        "  \"제목\": \"혼자 공부하는 자바스크립트\",\n",
        "  \"가격\": 24000\n",
        "}]\n",
        "\n",
        "print(\"# 가장 저렴한 책\")\n",
        "print(min(books, key = itemgetter(\"가격\")))\n",
        "print()\n",
        "\n",
        "print(\"# 가장 비싼 책\")\n",
        "print(max(books, key = itemgetter(\"가격\")))\n",
        "```"
      ],
      "metadata": {
        "id": "4KH7c68UdFkD"
      }
    },
    {
      "cell_type": "code",
      "source": [
        "from operator import itemgetter\n",
        "\n",
        "books = [{\n",
        "  \"제목\": \"혼자 공부하는 파이썬\",\n",
        "  \"가격\": 18000\n",
        "}, {\n",
        "  \"제목\": \"혼자 공부하는 머신러닝 + 딥러닝\",\n",
        "  \"가격\": 26000\n",
        "}, {\n",
        "  \"제목\": \"혼자 공부하는 자바스크립트\",\n",
        "  \"가격\": 24000\n",
        "}]\n",
        "\n",
        "print(\"# 가장 저렴한 책\")\n",
        "print(min(books, key = itemgetter(\"가격\")))\n",
        "print()\n",
        "\n",
        "print(\"# 가장 비싼 책\")\n",
        "print(max(books, key = itemgetter(\"가격\")))"
      ],
      "metadata": {
        "colab": {
          "base_uri": "https://localhost:8080/"
        },
        "id": "0G3KkMHzSg9H",
        "outputId": "6e604ba4-de93-4924-fa48-29a4d03325ef"
      },
      "execution_count": null,
      "outputs": [
        {
          "output_type": "stream",
          "name": "stdout",
          "text": [
            "# 가장 저렴한 책\n",
            "{'제목': '혼자 공부하는 파이썬', '가격': 18000}\n",
            "\n",
            "# 가장 비싼 책\n",
            "{'제목': '혼자 공부하는 머신러닝 + 딥러닝', '가격': 26000}\n"
          ]
        }
      ]
    },
    {
      "cell_type": "markdown",
      "source": [
        "# 7-1 확인 문제"
      ],
      "metadata": {
        "id": "SyftK7HIDS7k"
      }
    },
    {
      "cell_type": "markdown",
      "source": [
        "## 3번\n",
        "os 모듈의 os.listdir() 함수와 os.path.isdir() 함수를 사용하면 특정 디렉터리를 읽어 파일인지 디렉터리인지를 확인할 수 있다. 직접 코드를 작성하고 실행해보자. 실행하는 위치에 따라서 출력 결과가 달리진다."
      ],
      "metadata": {
        "id": "paBFWpU1DVv9"
      }
    },
    {
      "cell_type": "markdown",
      "source": [
        "### 현재 디렉터리를 읽어 들이고 파일인지 디렉터리인지 구분하기"
      ],
      "metadata": {
        "id": "megI-2s1DrjG"
      }
    },
    {
      "cell_type": "code",
      "source": [
        "# 모듈을 읽어 들인다\n",
        "import os\n",
        "\n",
        "# 현재 폴더의 파일/폴더를 출력한다.\n",
        "output = os.listdir(\".\")    # . 는 현재의 폴더를 의미한다.\n",
        "print(\"os.listdir():\", output)\n",
        "print()\n",
        "\n",
        "# 현재 폴더의 파일/폴더를 구분한다.\n",
        "print(\"# 폴더와 파일 구분하기\")\n",
        "for path in output:         # output에는 현재 폴더의 갯수만큼 이터레이터가 되는지??\n",
        "  if os.path.isdir(path):\n",
        "    print(\"폴더:\", path)\n",
        "  else:\n",
        "    print(\"파일:\", path)"
      ],
      "metadata": {
        "id": "Ew_bwXyfd9if",
        "colab": {
          "base_uri": "https://localhost:8080/"
        },
        "outputId": "a552bb46-d6a4-4903-eb70-56efe253c334"
      },
      "execution_count": null,
      "outputs": [
        {
          "output_type": "stream",
          "name": "stdout",
          "text": [
            "os.listdir(): ['.config', 'sample_data']\n",
            "\n",
            "# 폴더와 파일 구분하기\n",
            "폴더: .config\n",
            "폴더: sample_data\n"
          ]
        }
      ]
    },
    {
      "cell_type": "markdown",
      "source": [
        "위를 활용해서 '폴더라면 또 탐색하기' 라는 재귀 구성으로 현재 폴더 내부에 있는 모든 파일을 탐색하도록 코드를 작성해보자"
      ],
      "metadata": {
        "id": "LgJf0WFeEO5S"
      }
    },
    {
      "cell_type": "code",
      "source": [
        "# 모듈을 읽어 들인다.\n",
        "import os\n",
        "\n",
        "# 폴더를 읽어 들이는 함수\n",
        "def read_folder(path):\n",
        "  # 폴더의 요소 읽어 들이기\n",
        "  output = os.listdir(path)\n",
        "\n",
        "  # 폴더의 요소 구분하기\n",
        "  for item in output:\n",
        "    if os.path.isdir(item):\n",
        "      # 폴더라면 계속 읽어 들이기\n",
        "      read_folder(path+\"/\"+item)\n",
        "    else:\n",
        "      # 파일이라면 출력하기\n",
        "      print(\"파일:\", item)\n",
        "\n",
        "# 현재 폴더의 파일/폴더를 출력한다.\n",
        "read_folder(\".\")"
      ],
      "metadata": {
        "colab": {
          "base_uri": "https://localhost:8080/"
        },
        "id": "eVhWKmfrDJh9",
        "outputId": "7afaa181-998f-4955-8d6d-3ae95988d4c8"
      },
      "execution_count": null,
      "outputs": [
        {
          "output_type": "stream",
          "name": "stdout",
          "text": [
            "파일: config_sentinel\n",
            "파일: active_config\n",
            "파일: default_configs.db\n",
            "파일: logs\n",
            "파일: .last_opt_in_prompt.yaml\n",
            "파일: .last_survey_prompt.yaml\n",
            "파일: configurations\n",
            "파일: gce\n",
            "파일: .last_update_check.json\n",
            "파일: README.md\n",
            "파일: anscombe.json\n",
            "파일: mnist_train_small.csv\n",
            "파일: mnist_test.csv\n",
            "파일: california_housing_test.csv\n",
            "파일: california_housing_train.csv\n"
          ]
        }
      ]
    },
    {
      "cell_type": "markdown",
      "source": [
        "# 7-2 외부모듈"
      ],
      "metadata": {
        "id": "tD2of55iVcJJ"
      }
    },
    {
      "cell_type": "markdown",
      "source": [
        "## 모듈 설치하기\n",
        "\n",
        "# `pip install 모듈이름`\n",
        "\n"
      ],
      "metadata": {
        "id": "Ww3hhgj2VgE0"
      }
    },
    {
      "cell_type": "code",
      "source": [
        "pip install beautifulsoup4"
      ],
      "metadata": {
        "id": "hQ_iCkNmExg3",
        "colab": {
          "base_uri": "https://localhost:8080/"
        },
        "outputId": "d263bde6-1c87-406f-c630-2536ad4603ce"
      },
      "execution_count": null,
      "outputs": [
        {
          "output_type": "stream",
          "name": "stdout",
          "text": [
            "Requirement already satisfied: beautifulsoup4 in /usr/local/lib/python3.10/dist-packages (4.11.2)\n",
            "Requirement already satisfied: soupsieve>1.2 in /usr/local/lib/python3.10/dist-packages (from beautifulsoup4) (2.4.1)\n"
          ]
        }
      ]
    },
    {
      "cell_type": "markdown",
      "source": [
        "### Beautiful Soup 모듈로 날씨 가져오기"
      ],
      "metadata": {
        "id": "N6iJC7ndfIFG"
      }
    },
    {
      "cell_type": "code",
      "source": [
        "# 모듈을 읽어 들인다.\n",
        "from urllib import request\n",
        "from bs4 import BeautifulSoup\n",
        "\n",
        "# urlopen() 함수로 기상청의 전국 날씨를 읽는다.\n",
        "target = request.urlopen(\"http://www.kma.go.kr/weather/forecast/mid-term-rss3.jsp?stnId=109\")\n",
        "\n",
        "# BeautifulSoup을 사용해 웹 페이지를 분석한다.\n",
        "soup = BeautifulSoup(target, \"html.parser\")\n",
        "\n",
        "# location 태그를 찾는다.   # 태그를 볼 줄 알아야한다.\n",
        "for location in soup.select(\"loaction\"):\n",
        "  # 내부의 city, wf, tmn, tmx 태그를 찾아 출력한다.\n",
        "  print(\"도시 : \", location.select_one(\"city\").string)\n",
        "  print(\"날씨 : \", location.select_one(\"wf\").string)\n",
        "  print(\"최저기온 : \", location.select_one(\"tmn\").string)\n",
        "  print(\"최고기온 : \", location.select_one(\"tmx\").string)\n",
        "  print()"
      ],
      "metadata": {
        "colab": {
          "base_uri": "https://localhost:8080/"
        },
        "id": "pNHE2g29Vv-R",
        "outputId": "5cedc28f-1647-4603-a600-5f649aa58bbb"
      },
      "execution_count": null,
      "outputs": [
        {
          "output_type": "stream",
          "name": "stderr",
          "text": [
            "/usr/local/lib/python3.10/dist-packages/bs4/builder/__init__.py:545: XMLParsedAsHTMLWarning: It looks like you're parsing an XML document using an HTML parser. If this really is an HTML document (maybe it's XHTML?), you can ignore or filter this warning. If it's XML, you should know that using an XML parser will be more reliable. To parse this document as XML, make sure you have the lxml package installed, and pass the keyword argument `features=\"xml\"` into the BeautifulSoup constructor.\n",
            "  warnings.warn(\n"
          ]
        }
      ]
    },
    {
      "cell_type": "markdown",
      "source": [
        "## Flask 모듈 (작은 기능만을 제공하는 웹 개발 프레임워크)"
      ],
      "metadata": {
        "id": "5aYjmIAhhiKM"
      }
    },
    {
      "cell_type": "code",
      "source": [
        "pip install flask"
      ],
      "metadata": {
        "colab": {
          "base_uri": "https://localhost:8080/"
        },
        "id": "rlTnVEXEgfYp",
        "outputId": "867e8c52-3c03-47c2-9a7a-9cd33a9a6037"
      },
      "execution_count": null,
      "outputs": [
        {
          "output_type": "stream",
          "name": "stdout",
          "text": [
            "Requirement already satisfied: flask in /usr/local/lib/python3.10/dist-packages (2.2.5)\n",
            "Requirement already satisfied: Werkzeug>=2.2.2 in /usr/local/lib/python3.10/dist-packages (from flask) (2.3.6)\n",
            "Requirement already satisfied: Jinja2>=3.0 in /usr/local/lib/python3.10/dist-packages (from flask) (3.1.2)\n",
            "Requirement already satisfied: itsdangerous>=2.0 in /usr/local/lib/python3.10/dist-packages (from flask) (2.1.2)\n",
            "Requirement already satisfied: click>=8.0 in /usr/local/lib/python3.10/dist-packages (from flask) (8.1.6)\n",
            "Requirement already satisfied: MarkupSafe>=2.0 in /usr/local/lib/python3.10/dist-packages (from Jinja2>=3.0->flask) (2.1.3)\n"
          ]
        }
      ]
    },
    {
      "cell_type": "code",
      "source": [
        "from flask import Flask\n",
        "\n",
        "app = Flask(__name__)\n",
        "\n",
        "@app.route(\"/\")\n",
        "def hello():\n",
        "  return \"<h1>Hello World!</h1>\""
      ],
      "metadata": {
        "id": "abQ46Z15hqEQ"
      },
      "execution_count": null,
      "outputs": []
    },
    {
      "cell_type": "markdown",
      "source": [
        "## Beautiful Soup 스크레이핑 실행하기"
      ],
      "metadata": {
        "id": "JA1BGuDRjEX0"
      }
    },
    {
      "cell_type": "code",
      "source": [
        "# 모듈 읽기\n",
        "from flask import Flask\n",
        "from urllib import request\n",
        "from bs4 import BeautifulSoup\n",
        "\n",
        "# 웹 서버 생성하기\n",
        "app = Flask(__name__)\n",
        "@app.route(\"/\")\n",
        "\n",
        "def hello():\n",
        "  # urlopen() 함수로 기상청의 전국 날씨를 읽는다\n",
        "  target = request.urlopen(\"http://www.kma.go.kr/weather/forecast/mid-term-rss3.jsp?stnId=109\")\n",
        "\n",
        "  # BeautifulSoup를 사용해 웹 페이지를 분석\n",
        "  soup = BeautifulSoup(target, \"html.parser\")\n",
        "\n",
        "  # location 태그를 찾는다\n",
        "  output = \"\"\n",
        "  for location in soup.select(\"location\"):\n",
        "    # 내부의 city, wf, tmn, tmx 태그를 찾아 출력\n",
        "    output += \"<h3>{}</h3>\".format(location.select_one(\"city\").string)\n",
        "    output += \"날씨 : {}<br/>\".format(location.select_one(\"wf\").string)\n",
        "    output += \"최저/최고 기온 : {}/{}\"\\\n",
        "    .format(\\\n",
        "            location.select_one(\"tmn\").string,\\\n",
        "            location.select_one(\"tmx\").string\\\n",
        "           )\n",
        "    output += \"<hr/>\"\n",
        "\n",
        "  return output"
      ],
      "metadata": {
        "id": "AnxKqgCJh6dA"
      },
      "execution_count": null,
      "outputs": []
    },
    {
      "cell_type": "markdown",
      "source": [
        "# **라이브러리**와 **프레임워크**\n",
        "* **라이브러리 (library)** : 정상적인 제어를 하는 모듈<br>\n",
        ": 개발자가 모듈의 기능을 호출하는 형태의 모듈<br><br>\n",
        "* **프레임워크 (framework)** : 제어 역전이 발생하는 모듈<br>\n",
        ": 내부에 함수만 정의했지 직접적으로 무언가 진행하는 코드는 단 하나도 없다<br>\n",
        ": 모듈이 개발자가 작성한 코드를 실행하는 형태의 모듈"
      ],
      "metadata": {
        "id": "hHkEnIuDlRMH"
      }
    },
    {
      "cell_type": "markdown",
      "source": [
        "## **함수 데코레이터**\n",
        "\n",
        ": @로 시작하는 구문을 파이썬에서는 '데코레이터'라고 부른다<br>\n",
        "* 함수 데코레이터<br>\n",
        ": 함수의 앞뒤에 꾸밀 부가적인 내용, 혹은 반복할 내용을 데코레이터로 정의해서 손쉽게 사용할 수 있도록 한 것<br><br>\n",
        "* 클래스 데코레이터<br>\n",
        ": 데코레이터는 함수로 만들 수도 있지만 클래스로도 만드는 것이 가능하다."
      ],
      "metadata": {
        "id": "eP8p_McQlgbA"
      }
    },
    {
      "cell_type": "markdown",
      "source": [
        "### 함수 데코레이터 기본"
      ],
      "metadata": {
        "id": "cKgd62Bouqvh"
      }
    },
    {
      "cell_type": "code",
      "source": [
        "# 함수 데코레이터를 생성\n",
        "def test(function):\n",
        "  def wrapper():\n",
        "    print(\"인사가 시작되었습니다.\")\n",
        "    function()\n",
        "    print(\"인사가 종료되었습니다.\")\n",
        "    return wrapper\n",
        "\n",
        "# 데코레이터를 붙여 함수를 만든다\n",
        "@test\n",
        "def hello():\n",
        "  print(\"hello\")\n",
        "\n",
        "# 함수 호출\n",
        "hello()"
      ],
      "metadata": {
        "colab": {
          "base_uri": "https://localhost:8080/",
          "height": 223
        },
        "id": "vyrQzna6kmG4",
        "outputId": "4cef0a91-dddb-4846-fceb-fcbdc5a127b8"
      },
      "execution_count": 3,
      "outputs": [
        {
          "output_type": "error",
          "ename": "TypeError",
          "evalue": "ignored",
          "traceback": [
            "\u001b[0;31m---------------------------------------------------------------------------\u001b[0m",
            "\u001b[0;31mTypeError\u001b[0m                                 Traceback (most recent call last)",
            "\u001b[0;32m<ipython-input-3-4c65b3943ab4>\u001b[0m in \u001b[0;36m<cell line: 15>\u001b[0;34m()\u001b[0m\n\u001b[1;32m     13\u001b[0m \u001b[0;34m\u001b[0m\u001b[0m\n\u001b[1;32m     14\u001b[0m \u001b[0;31m# 함수 호출\u001b[0m\u001b[0;34m\u001b[0m\u001b[0;34m\u001b[0m\u001b[0m\n\u001b[0;32m---> 15\u001b[0;31m \u001b[0mhello\u001b[0m\u001b[0;34m(\u001b[0m\u001b[0;34m)\u001b[0m\u001b[0;34m\u001b[0m\u001b[0;34m\u001b[0m\u001b[0m\n\u001b[0m",
            "\u001b[0;31mTypeError\u001b[0m: 'NoneType' object is not callable"
          ]
        }
      ]
    },
    {
      "cell_type": "markdown",
      "source": [
        "# 7-2 확인문제"
      ],
      "metadata": {
        "id": "8udFb34Xw5WJ"
      }
    },
    {
      "cell_type": "markdown",
      "source": [
        "## 1번\n",
        "- 구글에서 \"python prime module\"이라고 검색하여 파이썬에서 소수를 구하는 모듈을 찾아보아라. prime, primenumbers, pyprimes, pyprimesieve 등 다양한 모듈이 나올 것이다. 적당한 것을 선택해서 100 ~ 1000 사이에 있는 소수가 몇 개인지 구해보자."
      ],
      "metadata": {
        "id": "ePniMENjw8B4"
      }
    },
    {
      "cell_type": "code",
      "source": [
        "pip install primePy"
      ],
      "metadata": {
        "id": "K0g5teJiu-rK",
        "colab": {
          "base_uri": "https://localhost:8080/"
        },
        "outputId": "3835d8b4-a1e8-447a-db8f-2968c88df615"
      },
      "execution_count": 4,
      "outputs": [
        {
          "output_type": "stream",
          "name": "stdout",
          "text": [
            "Collecting primePy\n",
            "  Downloading primePy-1.3-py3-none-any.whl (4.0 kB)\n",
            "Installing collected packages: primePy\n",
            "Successfully installed primePy-1.3\n"
          ]
        }
      ]
    },
    {
      "cell_type": "code",
      "source": [
        "from primePy import primes\n",
        "\n",
        "test = primes.between(100, 1000)\n",
        "\n",
        "print(test)\n",
        "\n",
        "print(\"100 ~ 1000 사이의 소수의 갯수 : \", len(test))\n",
        "\n",
        "# 확인 점검\n",
        "a = primes.between(1, 10)\n",
        "print(a)\n",
        "print(len(a))"
      ],
      "metadata": {
        "colab": {
          "base_uri": "https://localhost:8080/"
        },
        "id": "9Z6Vv0roRTWQ",
        "outputId": "0e7f4f5e-987e-4523-fbc0-0860c5e9d8c2"
      },
      "execution_count": 7,
      "outputs": [
        {
          "output_type": "stream",
          "name": "stdout",
          "text": [
            "[101, 103, 107, 109, 113, 127, 131, 137, 139, 149, 151, 157, 163, 167, 173, 179, 181, 191, 193, 197, 199, 211, 223, 227, 229, 233, 239, 241, 251, 257, 263, 269, 271, 277, 281, 283, 293, 307, 311, 313, 317, 331, 337, 347, 349, 353, 359, 367, 373, 379, 383, 389, 397, 401, 409, 419, 421, 431, 433, 439, 443, 449, 457, 461, 463, 467, 479, 487, 491, 499, 503, 509, 521, 523, 541, 547, 557, 563, 569, 571, 577, 587, 593, 599, 601, 607, 613, 617, 619, 631, 641, 643, 647, 653, 659, 661, 673, 677, 683, 691, 701, 709, 719, 727, 733, 739, 743, 751, 757, 761, 769, 773, 787, 797, 809, 811, 821, 823, 827, 829, 839, 853, 857, 859, 863, 877, 881, 883, 887, 907, 911, 919, 929, 937, 941, 947, 953, 967, 971, 977, 983, 991, 997]\n",
            "100 ~ 1000 사이의 소수의 갯수 :  143\n",
            "[1, 3, 5, 7]\n",
            "4\n"
          ]
        }
      ]
    },
    {
      "cell_type": "markdown",
      "source": [
        "## 2번\n",
        "자신이 나아가고자 하는 분야에서 사용되는 모듈을 찾아보자. 어떤 과정으로 찾으면 되는지 간단한 예를 살펴보겠다.<br>\n",
        "\n",
        "* **웹 서버 개발**<br>\n",
        ": 유튜브로 동영상을 보았던 적이 있는가? 카카오톡으로 친구와 메시지를 나누었던 적이 있는가?<br>\n",
        "우리는 어떻게 다른 사람이 올린 동영상을 볼 수 있고, 내가 보낸 메시지는 친구에게 어떻게 전달되는 것일까?<br>\n",
        "이는 어딘가에 이러한 처리를 하는 프로그램이 있기 때문이다. 이러한 프로그램을 통신 **서버**라고 부르며, 웹을 통해 이러한 처리를 한다면 그것을 **웹 서버**라고 부른다. 파이썬으로 웹 서버를 개발할 때는 **Dango**와 **Flask**라는 모듈을 사용한다.\n",
        "<br><br>\n",
        "\n",
        "* **인공지능 개발**<br>\n",
        ": 알파고는 어떻게 바둑을 둘 수 있는 것일까? 자율 주행 자동차는 어떻게 사물을 인식하고 이를 피해 달리는 것일까? 10년 전만 해도 '컴퓨터가 바둑으로는 사람을 이길 수 없을 것이다', '컴퓨터가 이미지를 인식하는 일은 하기 힘든 일이다'라고 했지만 지금은 가능한 일이 되었다.<br>\n",
        "이는 딥러닝(심층 학습)이라는 분야의 발전 덕분이다. 그리고 딥러닝과 관련된 모듈을 가장 많이 제공하며, 쉽게 사용할 수 있는 프로그래밍 언어가 바로 파이썬이다. 아마 서점에 가서 인공지능, 머신러닝, 딥러닝 책을 보면 대부분 파이썬을 사용한다는 것을 알 수 있을 것이다.<br>\n",
        "파이썬으로 인공지능을 개발할 때는 **scikit-learn**, **tensorflow**, **keras** 등의 모듈을 활용한다.\n",
        "<br><br>\n",
        "\n",
        "* **데이터 분석**<br>\n",
        ": 일반적으로 개발자를 꿈꾸는 독자가 파이썬을 공부한다고 하면 위에서 언급한 두 가지가 목적일 것이다. 하지만 개발자가 아닌 사람들이 파이썬을 공부한다면 업무적으로 프로그래밍을 활용하기 위해서일 가능성이 크다.<br>\n",
        "기업에서 지금까지의 정보를 기반으로 데이터를 분석해 상황을 확인하거나 미래의 마케팅/경영전략을 세우는 등의 작업을 할 때 파이썬을 활용할 수 있다. 최근에는 데이터 분석이 인공지능과 결합되어 미래의 데이터를 예측하는 경우도 많다.<br>\n",
        "파이썬으로 데이터를 분석할 때는 **pandas**, **matplotlib** 등의 모듈을 활용한다. 사실 분석하고자 하는 데이터에 따라서 너무 많은 선택지가 펼쳐지므로, 무엇을 많이 사용한다고 설명하기는 어렵다.\n",
        "<br><br>\n",
        "\n",
        "* **크롤러 개발**<br>\n",
        ": 인공지능 개발, 데이터 분석 등을 할 때는 데이터가 필요하다. 기업과 연구소라면 내부 데이터를 활용할 수 있지만, 그러한 경우가 아니라면 필요한 데이터를 직접 수집해야 한다. 또한 기업과 연구소라도 외부 데이터, 예를 들어 트위터에서 우리 기업과 관련된 긍정적인 평가가 많은지, 부정적인 평가가 많은지 알고 싶다면 외부 데이터(트위터에 있는 데이터)를 수집해야 할 것이다.<br>\n",
        "이러한 데이터를 수집할 때는 파이썬의 **BeautifulSoup**, **request**, **scrapy** 모듈 등을 활용한다.<br>\n",
        "<br><br>\n",
        "분야를 결정했다면 인터넷에서 분야와 관련된 책을 찾아보고, 그 책의 목차를 확인해 보기 바란다. 그럼 어떤 모듈들이 활용되는지 알 수 있다. 이러한 모듈을 세 개 정도 정리해보자. 이 책을 모두 마친 후에 어떤 것을 공부할 것인지 감을 잡을 수 있을 것이다."
      ],
      "metadata": {
        "id": "B4LizoDLxQLA"
      }
    },
    {
      "cell_type": "markdown",
      "source": [
        "# 7-3 모듈 만들기\n",
        "```\n",
        "파이썬은 모듈을 만드는 방법이 간단하다.\n",
        "단순하게 파이썬 파일을 만들고, 이를 외부에서 읽어들이면 모듈이 된다!\n",
        "너무 간단하고 유연해서 모듈을 코드로 인식하고 실행해 버리는 문제 등이 발생할 수 있다.\n",
        "그러나 파이썬은 이를 막기 위한 다양한 대처 방법도 제공해준다. 또한 모듈을 구조화해서 거대한 모듈(패키지)을 만드는 기능도 제공해 준다.\n",
        "```"
      ],
      "metadata": {
        "id": "htKX0A4lzurc"
      }
    },
    {
      "cell_type": "markdown",
      "source": [
        "## **현재 경로 확인하기**"
      ],
      "metadata": {
        "id": "ok73_atihXx_"
      }
    },
    {
      "cell_type": "code",
      "source": [
        "import os\n",
        "\n",
        "dir_path = os.getcwd()\n",
        "file_list = os.listdir(dir_path)\n",
        "\n",
        "print(dir_path)   # 현재의 폴더경로\n",
        "print(file_list)    # 현재 폴더 경로안에 있는 파일들을 리스트형식으로 보여줌"
      ],
      "metadata": {
        "colab": {
          "base_uri": "https://localhost:8080/"
        },
        "id": "THlFxvP3hbxv",
        "outputId": "2109a659-9122-4786-aeb4-721192d0137c"
      },
      "execution_count": 10,
      "outputs": [
        {
          "output_type": "stream",
          "name": "stdout",
          "text": [
            "/content\n",
            "['.config', 'test_module2.py', 'sample_data']\n"
          ]
        }
      ]
    },
    {
      "cell_type": "markdown",
      "source": [
        "### 쉬운 모듈 만들기\n",
        "<br>\n",
        "먼저 module_basic 디렉터리를 만든 다음 아래 두 파일을 저장한 후 main.py 파일을 실행한다"
      ],
      "metadata": {
        "id": "Da1vqUPM7aYM"
      }
    },
    {
      "cell_type": "code",
      "source": [
        "# test_module.py 파일\n",
        "PI = 3.141592\n",
        "\n",
        "def number_input():\n",
        "  output = input(\"숫자 입력 > \")\n",
        "  return float(output)\n",
        "\n",
        "def get_circumference(radius):\n",
        "  return 2 * PI * radius\n",
        "\n",
        "def get_circle_area(radius):\n",
        "  return PI * radius * radius\n",
        "\n",
        "# 구글 코랩의 모듈 디렉터리 주소 찾아보기\n",
        "# 위의 코드를 file 함수를 사용하여 저장하여 실행해보기"
      ],
      "metadata": {
        "id": "q51qDjQfz0xZ"
      },
      "execution_count": null,
      "outputs": []
    },
    {
      "cell_type": "code",
      "source": [
        "# main.py 파일 (현재 chapter_7.ipynb에서 실행)\n",
        "import test_module as test\n",
        "\n",
        "radius = test.number_input()\n",
        "print(test.get_circumference(radius))\n",
        "print(test.get_circle_area(radius))"
      ],
      "metadata": {
        "colab": {
          "base_uri": "https://localhost:8080/"
        },
        "id": "qbNSUWrB7vtq",
        "outputId": "6e11264d-1c2d-4a0e-a7d8-0c27bdf1ddd2"
      },
      "execution_count": null,
      "outputs": [
        {
          "output_type": "stream",
          "name": "stdout",
          "text": [
            "숫자 입력 > 2\n",
            "12.566368\n",
            "12.566368\n"
          ]
        }
      ]
    },
    {
      "cell_type": "markdown",
      "source": [
        "# **chapter_5에서 배운 파일 열고 닫기로 module 생성해보기**"
      ],
      "metadata": {
        "id": "UCtRE3NWii6G"
      }
    },
    {
      "cell_type": "code",
      "source": [
        "# 파일 열어보기\n",
        "file = open(\"test_module2.py\", \"w\")\n",
        "\n",
        "# 파일에 텍스트를 쓴다.\n",
        "file.write('''\n",
        "PI = 3.141592\n",
        "\n",
        "def number_input():\n",
        "  output = input(\"숫자 입력 > \")\n",
        "  return float(output)\n",
        "\n",
        "def get_circumference(radius):\n",
        "  return 2 * PI * radius\n",
        "\n",
        "def get_circle_area(radius):\n",
        "  return PI * radius * radius\n",
        "  ''')\n",
        "\n",
        "# 파일 닫기\n",
        "file.close()"
      ],
      "metadata": {
        "id": "PmVobocsgxnw"
      },
      "execution_count": 9,
      "outputs": []
    },
    {
      "cell_type": "code",
      "source": [
        "import test_module2 as test\n",
        "\n",
        "radius = test.number_input()\n",
        "print(test.get_circumference(radius))\n",
        "print(test.get_circle_area(radius))"
      ],
      "metadata": {
        "colab": {
          "base_uri": "https://localhost:8080/"
        },
        "id": "7kicTGqAi3t_",
        "outputId": "55c5b861-f970-4c4c-c980-2308966e6977"
      },
      "execution_count": 11,
      "outputs": [
        {
          "output_type": "stream",
          "name": "stdout",
          "text": [
            "숫자 입력 > 3\n",
            "18.849552000000003\n",
            "28.274328000000004\n"
          ]
        }
      ]
    },
    {
      "cell_type": "markdown",
      "source": [
        "## 모듈 이름을 출력하는 모듈 만들기"
      ],
      "metadata": {
        "id": "bDsgLMuXgoaE"
      }
    },
    {
      "cell_type": "code",
      "source": [
        "# main.py 파일에서\n",
        "import test_module\n",
        "\n",
        "print(\"# 메인의 __name__ 출력하기\")\n",
        "print(__name__)\n",
        "print()"
      ],
      "metadata": {
        "id": "eJs_Spwm8EuG",
        "colab": {
          "base_uri": "https://localhost:8080/"
        },
        "outputId": "1f164565-618c-422d-88d1-78f4330f22b8"
      },
      "execution_count": null,
      "outputs": [
        {
          "output_type": "stream",
          "name": "stdout",
          "text": [
            "# 메인의 __name__ 출력하기\n",
            "__main__\n",
            "\n"
          ]
        }
      ]
    },
    {
      "cell_type": "markdown",
      "source": [
        "### **module_main 파일에서 예제 실행**\n",
        "쉬운 모듈 만들기<br>\n",
        "모듈 이름을 출력하는 모듈 만들기<br>\n",
        " **import로 모듈을 읽어들이면 모듈을 먼저 실행시키게 된다**"
      ],
      "metadata": {
        "id": "qAbOyurPJkWP"
      }
    },
    {
      "cell_type": "markdown",
      "source": [
        "### **module_example 파일에서 예제 실행**\n",
        "모듈 활용하기<br>\n",
        "역시 import로 모듈을 읽어 오면 모듈먼저 실행하게 된다<br>\n",
        "엔트리 포인트(main)를 확인하는 모듈 만들기"
      ],
      "metadata": {
        "id": "FBQJBHOIJtM0"
      }
    },
    {
      "cell_type": "markdown",
      "source": [
        "## **패키지**\n",
        "import로 가져오는 모든 것을 모듈(module)이라고 했다.<br>\n",
        "pip는 Python Package Index의 줄임말로 패키지 관리 시스템이다.<br>\n",
        "따라서, **모듈이 모여서 구조를 이루면 패키지라고 부른다**\n"
      ],
      "metadata": {
        "id": "Ce-6CjwQKOOp"
      }
    },
    {
      "cell_type": "markdown",
      "source": [
        "### module_package 폴더 안에 main.py는 엔트리 포인트로 사용, test_package 폴더는 패키지로 사용한 폴더\n",
        "test_package 폴더 내부에 모듈을 하나 이상 넣으면 된다.<br>\n",
        "패키지 폴더 내부에 `__init__.py` 파일은 어떤 처리를 수행해야 하거나 패키지 내부의 모듈들을 한꺼번에 가져오고 싶을 때 사용한다.<br>\n",
        "`__init__.py`은 해당 폴더가 패키지임을 알려주고, 패키지와 관련된 초기화 처리를 하는 파일이다.<br>\n",
        "`__init__.py`에 `__all__` 이라는 이름의 리스트를 만드는데, 이 리스트에 지정한 모듈들이 `from <패키지 이름> import *` 를 할 때 전부 읽어 들여진다."
      ],
      "metadata": {
        "id": "jFbQf6-9KiuF"
      }
    },
    {
      "cell_type": "markdown",
      "source": [
        "# 좀 더 알아보기"
      ],
      "metadata": {
        "id": "ihOM95kFLayb"
      }
    },
    {
      "cell_type": "markdown",
      "source": [
        "## 텍스트 데이터\n",
        ": 컴퓨터는 내부적으로 모든 처리를 0과 1로 이루어진 이진 숫자로 수행한다. 따라서 원래 컴퓨터 내부에 있는 모든 것들은 이진 숫자로 구성되어 있다.\n",
        "\n",
        "* 실제로 \"Hello Pyhton\" 이라는 글자를 메모장에 적고 저장하면 **내부적으로는 앞서 언급한 2진수로 저장된다**\n",
        "\n",
        "우리가 쉽게 읽을 수 있는 형태의 데이터를 '텍스트 데이터'라고 부른다. 텍스트 데이터는 쉽게 읽을 수 있는 것은 물론이고, 텍스트 에디터만 있으면 쉽게 편집할 수도 있다. 우리가 입력해 왔던 모든 코드 역시 텍스트 데이터이다."
      ],
      "metadata": {
        "id": "ziRzzRfcLd13"
      }
    },
    {
      "cell_type": "markdown",
      "source": [
        "## 바이너리 데이터\n",
        ": 텍스트 에디터에서 '100'이라는 숫자를 표현하는 경우, '1','0','0' 이라는 글자로 이루어져 있다. ASCII 코드표를 보면 '49','48','48'로 변환할 수 있다.\n",
        "\n",
        "* 3바이트를 차지하는 텍스트 데이터 100[49 48 48]\n",
        "00110001  00110000  00110000\n",
        "* 1바이트를 차지하는 바이너리 데이터 100[100]\n",
        "01100100\n",
        "\n",
        "100이라는 숫자는 ASCII 코드표에서 'd'에 해당한다. 따라서 텍스트 에디터로 이러한 내용의 파일을 읽어들이면 'd'라는 내용이 들어 있을 것이다. 즉 텍스트 데이터로 표현할 경우 의미를 알 수 없는 데이터가 되어버린다.<br>\n",
        "컴퓨터에서는 이처럼 텍스트 에디터로 열었을 때 의미를 이해할 수 없는 데이터를 **바이너리 데이터** 라고 부른다.\n",
        "\n",
        "대표적인 예는 '이미지'와 '동영상'이다. 이미지를 메모장으로 열어보면 무슨 말인지 전혀 이해할 수가 없다."
      ],
      "metadata": {
        "id": "Nv330WSwMLek"
      }
    },
    {
      "cell_type": "markdown",
      "source": [
        "# 텍스트 데이터와 바이너리 데이터 비교\n",
        "\n",
        "## **텍스트 데이터**\n",
        "* 구분 방법<br>\n",
        " : 텍스트 에디터로 열었을 때 읽을 수 있다.\n",
        "* 장점<br>\n",
        " : 사람이 쉽게 읽을 수 있다.<br>\n",
        " : 텍스트 에디터로 쉽게 편집할 수 있다.<br>\n",
        "* 단점<br>\n",
        " : 용량이 크다.<br><br>\n",
        "\n",
        "## **바이너리 데이터**\n",
        "* 구분 방법<br>\n",
        " : 텍스트 에디터로 열어도 읽을 수 없다.\n",
        "* 장점<br>\n",
        " : 용량이 적다.<br>\n",
        "* 단점<br>\n",
        " : 사람이 쉽게 읽을 수 없다.<br>\n",
        " : 일반적으로는 텍스트 에디터로 편집할 수 없다."
      ],
      "metadata": {
        "id": "6-CwkB0DNdMb"
      }
    },
    {
      "cell_type": "markdown",
      "source": [
        "# **인코딩과 디코딩**\n",
        "텍스트 데이터도, 바이너리 데이터도 2진수의 집합일 뿐이다.<br>\n",
        "텍스트 데이터를 맞춰 우리가 읽기 쉬운 글자로 보여 주려면, 그리고 바이너리 데이터를 읽어서 이미지로 보여 주려면 변환을 해야한다.\n",
        "\n",
        "이를 인코딩(encoding)방식이라고 부른다.<br><br>\n",
        "**텍스트 데이터**의 경우<br>\n",
        "ASCII, UTF-8, UTF-16, EUC-KR, Shift_JIS 등이 있다.<br>,<br>\n",
        "**바이너리 데이터**의 경우<br>\n",
        "이미지만 해도 JPEG, PNG, GIF 등이 있다.<br><br>\n",
        "인코딩 방식을 기반으로 A라는 형식을 B라는 형식으로 변환하는 것을 **인코딩(encoding)**이라고 부르며,<br>\n",
        "인코딩된 데이터를 반대로 돌리는 것을 **디코딩(decoding)**이라 부른다."
      ],
      "metadata": {
        "id": "j3RFKcznO8eP"
      }
    },
    {
      "cell_type": "markdown",
      "source": [
        "## 인터넷의 이미지 저장하기"
      ],
      "metadata": {
        "id": "v9rTtfa7QVIP"
      }
    },
    {
      "cell_type": "code",
      "source": [
        "# 이미지 읽어 들이고 저장하기\n",
        "\n",
        "# 모듈을 읽어 들인다.\n",
        "from urllib import request\n",
        "\n",
        "# urlopen() 함수로 구글의 메인 페이지를 읽는다.\n",
        "target = request.urlopen(\"https://www.hanbit.co.kr/images/common/logo_hanbit.png\")\n",
        "output = target.read() # 이 시점에 파일이 생겨 저장된다..\n",
        "print(output) # 가져온 output(이미지) 데이터를 코드로 출력해본다.\n",
        "\n",
        "# write binary[바이너리 쓰기] 모드로\n",
        "file = open(\"output.png\", \"wb\") # 'b' -> 바이너리 형식으로 쓴다\n",
        "file.write(output) # 파일에 데이터 코드를 쓰고, # png형식의 파일로 열어보면 이미지가 보인다.\n",
        "file.close()"
      ],
      "metadata": {
        "id": "fJDbFHdRj8vf",
        "colab": {
          "base_uri": "https://localhost:8080/"
        },
        "outputId": "6df0e161-0762-429c-d00f-13c49e257d9f"
      },
      "execution_count": 13,
      "outputs": [
        {
          "output_type": "stream",
          "name": "stdout",
          "text": [
            "b'\\x89PNG\\r\\n\\x1a\\n\\x00\\x00\\x00\\rIHDR\\x00\\x00\\x01\\x04\\x00\\x00\\x00,\\x08\\x06\\x00\\x00\\x00\\x83\\x80\\xc6\\xe5\\x00\\x00\\x00\\x19tEXtSoftware\\x00Adobe ImageReadyq\\xc9e<\\x00\\x00\\x0f/IDATx\\xda\\xec]\\ttU\\xc5\\x19\\xfe\\xb3\\x11 D\\x11\\x13\\x0cF\\x08\\x11\\x14KEA\\xf6M\\xd0\\xd6\\xa3\\xb8\\xe1\\x12W\\x8a\\xa8\\xc7R\\xac\\xb5`\\x05\\xad\\xed\\xa9\\xbbb\\x17\\n\\xd4\\xa5Pj\\x05\\x11+4*\\n\\x15\\xc4\\xca\\xa2\\xf6\\x00Q\\x9b`+\\xa2\\xa0$\\x10%l\\x91%\\t!\\x81\\xd0\\xff\\xcb\\xfb\\x9f\\x99\\xdc\\xdc\\xfb\\xee\\xf2\\xeeM^\\xc2\\xfc\\xe7\\xcc\\xbb\\xef\\xbe\\x99;3w\\x96o\\xfem\\xe6\\xc5\\x1d;v\\x8c4i\\xd2\\xa4\\t\\x94\\x88\\x8f\\xb8\\xb88O\\x0fg,\\x9a\\x93\\xc4\\x97\\x81\\x1cFr\\xe8\\xcb\\xe1L\\x0e\\x99\\x1cN\\x94$U\\x1c\\xf6s\\xd8\\xcc\\xe13\\x0e\\x1fpXUr\\xfd\\x8f\\x8bt\\xd3k\\xd2\\x14[\\x04\\xe6 \\xae\\xf6\\xc3% 0\\x10\\xf4\\xe4\\xcb\\x04\\x0e7rH\\xf7P\\xf6z\\x0e\\xf38\\xccep8\\xa4\\xbbB\\x93\\xa6f\\x08\\x08\\x0c\\x04g\\xf1e*\\x87\\xd1`,|\\xa8\\xc3^\\x0e\\xbf\\xe30\\x93\\x81\\xe1\\xb0\\xee\\x12M\\x9a\\x9a\\x01 0\\x10\\xb4\\xe2\\xcb\\xc3\\x1c&sH\\n\\xa0.[8\\xdc\\xc1\\xa0\\xb0Fw\\x8b&M1\\x0c\\x08\\x0c\\x06\\xd9|Y\\xc8\\xa1\\x7f\\xc0\\xf5\\xa9\\xe1\\xf0\\x18\\x87G\\x18\\x18\\xb4\\xa6S\\x93\\xa6X\\x03\\x04\\x06\\x83\\xf3\\xf8\\xb2\\x8cC\\xc7F\\xac\\xd7\"\\x0ec\\x19\\x14\\xaat\\x17i\\xd2\\x14#\\x80\\xc0`\\x00\\xab\\xc1J\\x0e\\'4A\\xdd\\xfe\\xc9\\xe1\\x1a\\r\\n\\x9a45. $Zp\\x06\\xdd\\xf9\\xb2\\xbc\\x89\\xc0\\x00t\\x19\\x87\\xbfr\\xb8\\xc5\\x8f\\xcc\\xbaeu\\xfd\\x03_r\\xe4\\xf6\\xd2/\\x8b\\n7\\xb6\\xb4\\xce\\xe4w\\xfc$\\xdc_\\xfc~]\\xf5\\xf0\\xd6\\xe4\\x85\\x12M\\xc0\\xa05_r9\\xa45q\\xdd\\xc6r]\\xf2\\x98Kx\\xc6\\x87\\xbc\\xf0.Y\\xf2\\xbd\\x95\\xc3\\t\\xb6\\x9a/#\\xe4\\xf6$\\x9ed\\xfb\\x0c\\xf1\\x88\\xeb#\\xb7\\xb9\\x1c_l\\x91O\\x1f%\\x9f\\x15f`\\xc4i\\x907|7\\x8a\\xa2\\x98\\xcc]\\xa8\\xce\\xff\\xc3\\x0b\\xa0$\\xf3\\xe5N\\x0f\\x8f\\xe6s\\x9d\\xd7\\x18\\xf2\\n\\xeb\\x806p\\\\o\\x93\\xb2\\xc6\\x90\\x98\\xab9~\\x86\\x83\\xba\\x01\\xe8>\\x91\\xdbu\\xfc\\xcc\\x8d\\xf2;\\xf2\\xce\\x97\\xdf\\xe7\\xf1\\xef\\xb7\\x1a\\x9e\\xeb\\xc6\\x97+\\x02\\x18\\x9b\\x7f\\xe3\\xb2\\x0eX\\xd4\\xb5-_\\xc6Q\\xc8\\x12w\\x8e\\xf4I\\x19\\x85\\xfcp ~\\xcf\\xe1gK#\\xbc\\xebby\\x16\\x94\\xcdi\\x0b\\xad\\xda\\xceG\\xfa\\x92\\xcbYb\\n\\x08\\x142+\\x9e\\x1b#\\x805\\x8dAa%\\x83\\xc2F\\x87\\x83:\\x85\\xcc\\xad *\\x08\\xa4r\\xba\\xf6&i*\\xb9Q*]\\xd4\\xedj\\x0e\\x13\\xe5{\\x01\\x87b\\x8bt\\x00\\x83\\xe9\\xf2\\xfd6\\x0e\\x1b]N\\xd4T\\xbe\\xbc\\xef i\\xaa\\xf2L\\x81\\x83\\xf4\\x0f\\xf2\\xfb\\xbe\\xa9\\xdc\\xb7Q\\xea\\xe9\\x86frpk\\x1d\\x9a\\xa2\\x8c\\xb1\\x19\\x0e\\xd2\\xc7+\\x80^\\xe8\\xa2\\x9c^\\x1e\\xdf\\xc9\\x8e0i\\x0f\\x98\\xf4\\xd5p\\xbe\\xfc\\x9dB\\xcey*\\x01$:\\xcaXx\\x80\\xd3\\x8d\\xe7\\xb6_\\xe4\\xb1\\xec)\\x01\\xcc\\xcf784\\x04\\x04\\x9e|X\\xcd\\xee\\x8e\\xf4\\xe4\\x80\\xb4\\x0c\\x1a\\x95\\x99E\\xfb\\xab\\xaa\\xe8\\xa5\\xaf6\\xd1\\x9e\\xc3!\\xbf\"h!\\xae\\xea\\xd2\\x8d\\xfatH\\xa7\\xa2\\xb2\\x834\\x9f\\xe3\\xaaj\\x8eRZr\\x1bj\\x93h*\\x99\\xd0\\x91\\x9a\\x1a\\xdaYYA5\\xd6\\xee\\xd3\\x98\\xc8\\xb3\\xb8^#\\x1cZ\\x1e\\x16(\\xe8jE\\xefY\\xfc\\xfe\\x08\\x85L\\xab\\xb1F\\t\\x1e\\x06\\x80\\x93\\xf4\\x1d4\\x83\\xec\\xab\\xc8\\x06+\\xdc\\xdb\\x02\\xac \\xf8\\xd5\\xac\\xe5\\xb0]V\\xf4a\\x1c\\xda\\t\\xc7\\xb0\\x90\\xd3\\xc71(,\\x8cu\\x91a\\xaa\\x0c@S\\xba\\x84\\x81\\xe0\\x85!\\x17}w\\x7fs\\xf6\\x99t\\xc1\\x8a\\xd7\\xa8\\xfcH5\\xdd\\x7fv?\\x9a\\xf8\\xbd:\\xeepDF&\\xdd\\xf2\\xc1\\n:z\\xac\\x86\\xa6\\xf7;\\x9f\\x86v\\xecd\\x9agQ\\xf9A\\xfa\\xc9\\xdawi\\xc3\\xb7{\\xac\\x8a\\x1d.\\x93|\\xf1q:\\xd6\\x8e\\x82\\xf5v2&e\\xc0\\x81\\xaa\\x1dp\"F\\xb6\\xb5\\\\\\xb8\\x1e\\xd7\\xecf3iGL\\xbeW|\\xcak\\x97\\x01\\x0c\\xc0\\xc1<\\xaf\\x80\\x01\\x80\\xe16\\x9e\\xf0;\\x944\\xed\\x85\\x1b\\x1a\\'?=\\xcd\\xbf-\\xb3\\x12=\"\\xd0=\\xd1\\x88\\x86\\n\\x81c\\x99m\\t\\x08\\xbc\\ncO\\xc2\\xc5\\x91r\\xb8\\xa9k\\x8fz\\xf7\\x9dSRiHz\\x06\\xbd\\xb3c;\\xdd\\x94]?\\xee\\xa2N]j\\xb9\\x03p\\x10\\xe3\\xd7\\xbdKkG]O\\'$5\\x14\\xdf\\xb38\\x8f\\xf9\\xc3.\\xa6a\\xcb\\xffA\\x07\\xaa-\\x8d\\n\\x0f8\\x04\\x84%.YJ\\x95\\xd6E\\xd1\\xb8\\xafp\\xe7Z\\x89\\x1bQ)fy\\xc0\\x1c\\xe4K\\xef\\x08+\\x13D\\xa4_A\\x04P\\x81\\x9d\\x9f{\\xc8e9\\xd5-\\x1ct7\\xf1;\\x06\\xf5~\\xc3D<\\x01}\\x0e`\\xe5\\xb2\\x0e\\x19\\xdaw\\x1f\\xf7\\xd5\\xed\\xa2\\xeb\\xb9@\\xb8\\x86\\xeb\\x04H\\xdc\\xf4\\xd3*\\x9f8\\x9a\\xaev\\x1c\\xc2\\x04[!5\\xa9\\xa1x\\x9e\\x10\\x1f_{m\\x9d\\xd0\\x90\\xb1\\xa8\\x15\\x15\\x98q*=\\\\I\\xb9E[\\xe8\\xf6\\xee=M\\xf3Mo\\xdd\\x86\\xb9\\x8d\\x1e4\\xeb\\x8b\\xffZJ*0\\x83\\xb2\\xd8\\xf0\\xb1Mc=o\\xf1\\xf2\\xf1\\xc2\"Wp\\x9a\\x8a\\x00\\x06\\xc4)M\\xc0\\xa2\\xe2\\x9d\\xae\\xe4\\xf08\\x87\\xef\\x1b\\xa2\\x7f\\xcd\\xf1p(\\x9b\\xc9\\xef\\xfb\\xb1\\xcb|\\xbf\\xe1\\x0b\\xd8\\xb9\\xdd\\xfclG\\x93\\xf8G\\xf9\\xf2\\x1b\\xb9\\xbd2\\xac\\x8c:\\xcei\\x84\\xf2}\\xba\\x11\\x0c\\x94\\xf1Y\\xc3\\xed\\xf7\\xa4\\x00B\\x98\\xfb}>\\x96^$Q\\xb8\\x03\\xb0:9A\\x16\\x94\\xb7\\xa7\\xc4\\x12\\x10@C;\\x9e\\x1a\\t\\x10@c9\\xb8\\x1d\\xdcW\\x89N\\x04\\r\\x9f$\\xbfm\\xa3\\x90\\x15\\xe5\\xf7\\xdcA%>\\xbd\\x1eX\\xfa}\\x16q\\xa7\\t;\\xef\\x07\\x08\\x00u\\x07@z\\x93\\xf6\\xc8V\\xa2\\xb7r\\xf8HV\\x9d\\x04\\x89\\x1f\\xcb\\xcf|\\xc1\\xd7\\xb7\\x84\\x03\\x82F~\\x0b\\x06f\\x84b\\xb6\\x0b \\xa4\\xc3\\xf2\\xc0i\\x8d{LT\\xeb\\xd3\\x1e\\x8d\\x05\\xa15M\\xf9n\\'\\xaa}j\\xf1\\\\L\\xe9\\x10\\xceW\\xe4\\xcf@hwe\\xe4M\\x8d\\xa7\\xb4nc\\x97\\xc5\\xe5\\x1c&9\\x9c8\\x90M^\\xe4p\\x83I4X\\xb6_@\\xc6\\xe3t\\xd7\\xfa\\xc4\\x82M\\xe2|V[\\xd4\\x05u\\x9e\\x1e\\x05\\x08\\xdc, \\x80\\xad\\xe5\\x03\\xa9\\xa12\\xb0Rd\\xd3\\'\\xb8\\x0ee\\x9c~\\x10\\x7f\\xbf_\\xb8\\x87xy\\xeeL5=\\xa7\\x01\\x10\\x82\\x13\\xb8\\xc2\\xc4\\x04\\xb6C\\xf9\\xde\\xc9D\\x04k\\xae\\x80\\xd0\\xda\\xc2\\xba\\xe4\\x85\\x0e\\x18@\\xb5\\xcc\\xa2}\\xec\\xb8\\xc9\\x83\\xb1\\n\\x08\\x17\\x06]PjRd\\xf3\\x7fi\\x95\\xedf\\xc7n\\xcc\\xc9d\\xb2\\xd8\\xf0\\xb5\\x83\\xe2\\xa6)`\\x00e\\xd9K\\x82\\xdc\\x00\\xbd\\xd12\\xc1N\\x82\\xcc\\x0c[6w\\xeeV\\x9b\\xfc\\xa6r\\xbap\\x05\\xf38\\xfd\\xcb\\x8d\\xd8G\\x00\\xb0\\x89&\\xbf\\xe3L\\tl!\\x7f\\x96\\xeb\\xb3KaK\\xc1\\t\\\\\\xcd\\xf5=M\\xda\\x00\\xc0\\xd0_Qx\\xc1\\xcf\\x04\\xf2\\xe3J\\x0b{\\xf87\\xca\\xf7SM\\x00A]\\xd5v\\xdb\\xd4\\xbd\\'\\xd7C}~2\\x97\\x99\\xdbDc\\xfd~\\t~P\\xb6\\xa1]T\\xd6\\x16~\\x02\\xafGx\\xf6&\\x17\\xdcD\\x93\\x01\\xc29A\\x17\\x04sd$*(\\xdd\\xed(\\x1b\\x0e_\\xdb\\xac\\xa8\\xa7S\\x9d\\x83\\r4\\xb8\\x83Ug \\x8e\\x87%\\xe5i\\x0ewQH\\xe1\\x07s\\xa3\\x9dG\\xa4\\xaa_\\xc1$lL@xF\\x00\\x01\\xab\\xc9&\\n\\x99M\\xe1\\xe0\\xf4\\x89\\x8d>\\xa5X\\x80q\\x1a\\xbf3\\xfa\\x19\\x8a\\xc9sE\\x84\\xc9\\x14\\xdd\\x83\\x19\\x15\\x1b\\xc4\\x1d#\\x85\\xf5\\n\\xd5Fg-\\x13\\x82\\x98\\x96\\xa5\\xdc\\xb7\\xa3\\x96Io\\xc9X\\xc3x\\xba\\x96\\xdb{\"\\xb7\\xcdL\\x0b\\x11\\xf6^\\xb9\\x85\\x19}Q\\xac\\x02\\xc2YA\\x16\\xd2*>\\x81\\xae\\xcb:\\xc32\\x1e\\xfe\\n/o\\xfd\\xdcIV0e,\\xb5Is\\x19\\xd5\\x99N\\xa7\\x19=\\x03\\xf9\\xfe\\x18w\\xcc\\x14Aj\\xb0\\xdf\\xa3\\xc5&\\x1c\\xcd\\x0e\\xcb[9\\x8f\\x91\\x16q\\x83\\xa2\\x10\\x17\\xd2e\\xf2\\x8e2D\\xc5\\x8b\\x97\\x9e\\x1b:\":\\x98\\xb0\\x1e\\xa6\\x03D+~\\xef-6\"\\x03Y\\x88\\x0c{\\x1d\\x94\\tqF\\xed\\xd8R\\x07\\xef\\x0c_\\x92\\x14\\x13`\\xf1C\\xcfS\\xe0\\xd3\\x90.3\\x8c\\xa9\\xfd\\\\\\xef\\x87\\x14\\xd1p\\x06\\xc4Q\\xbe\\xbe*\\xed\\x99&}x\\xb9\\xf2\\xd8l~nS\\xac\\x02\\x82\\'\\xe5\\xc6\\x92\\xe2\\xad\\xb4\\xa6$\\xb4`\\xdf\\xfb\\xd1\\xfb4k\\xd0\\x85\\x94`\\xd8(\\x15\\xcf\\xf7\\x8f\\xf6\\x1eD\\xa7\\xb6M1\\xcd\\xa3\\xba\\xa6\\x86\\xee\\xf9\\xf0=\\xdaV\\xeeH\\x9cr\\xb2\\xebR]\\x91\\xfem\\xb1z\\x1e\\xe2\\x0e\\xcb\\xa3\\x90r\\xee\\x04\\xc9wg\\x84<\\xcf\\xa5:\\xcf\\xb42\\x93\\xf8q\\x01\\xf5\\xcf\\x18\\n\\xc6\\xd3.L\\xf00\\x1ci#2\\x18\\xe9d\\x87\\xe2\\x02\\xe8s3\\xd7e\\x07\\x80~b\\x00\\xef\\xba\\x98\\xeb\\xf2p\\x80m9S\\xc4\\xbb{\\xe4~\\xb8\\x043zS\\xf4X^\\x16\\x89\\x85\\xb20F\\xbdNG\\x02\\x84\\x14/9>X\\xb0\\x96\\x0e\\x1d=R\\xfb})\\xc0ag1]\\x98\\xd1\\xb9\\xfe\\xecLI\\xa5\\xd5\\xfc;\\x82\\x91\\xe0\\xa0\\x08\\x87\\xa4\\x92C\\xe5N\\x8bt\\xc2rV9L\\xaf\\x0e:;S\\xe46\\x07\\xecqK!\\xb5\\xa32\\r\\x831M\\xe1\\xbev\\x91\\xa6z\\x9c\\'&9\\xb7\\xd1\\n\\n\\xf9\\x85\\xc07\\xc1\\xb8\\x8d\\xb8@\\xc4\\xb8\\x05Qp\\xa4=(\\xc0\\xad\\x05\\x89\\xd1<\\x1cgx\\xdfx\\x93S\\xd5\\x90\\xe6@\\x95\\xb9\\xc3Q\\xf5\\xb1\\x1a*\\xab\\xf6}\\x87s\\xbe\\xf2\\xfdG\\x14\\xf2\\xd36\\xa2,\\x1au\\x80\\xdc~%\\xce?n\\t\\xf6\\xf8\\x19.\\x9fq\\xab\\x95_\\':\\x0e\\'4I@\\x0e\\xca\\xcf\\xa7\\x1c>S\\xa8\\xb4I\\x17\\x11\\xa1NR\\xe2\\xbb\\x1bD\\x93.\\xca\\xf7\\x1a%n#\\xb7a\\x95O\\x13\\xab\\xbdI\\x7f\\xe1\\xb7o\\x9b\\t0`\\x97\\xf0r\\xae3\\xda\\xb1\\xa7\\xb4)\\x16\\x93\\xcd>\\x99\\xb9\\xc1\\xc1\\xb5\\xf7i\\xeegZ\\x01B\\xb9\\x17.\\xe1\\x89>\\x83\\xe9\\xee\\xbc5\\xb5\\xae\\xcbWu\\xeeF#2\\x1a\\xea\\xa0\\x8a+\\xca\\xe8\\xbe\\xb3\\xfb\\xd2\\xe8\\xce\\xa7\\x9b\\xe6\\x01\\xef\\xc4\\t\\xebV\\xd2\\xaa\\x92b\\xd7\\xb2\\x9b\\x05-\\x93\\xd5\\x0bb@\\x0ew\\x0c\\xcel|<\\xec\"\\xca\\xf7\\x00\\x82\\x97\\x94\\x95n\\xb6\\xc7\\x8e/u\"\\x13+\\x83\\xbav\\xe3\\x95\\x0c\\xee\\n\\xc3\\x04\\xda&\\xa2K\\xb1\\xa1\\x8cu\\xe4\\xd0\\x83\\x92\\xf3\\xbdU\\x00\\xa1\\xd2#k\\xfc\\xa8\\x89\\xe83\\xd0\\x00\\xb0*]\\xa4\\xc4\\x19\\xb5\\xee\\x9ac(*\\xfc\\xd6Jd\\x8d2\\xdfK\\xfd\\xc8G<\\x15\\xb7Z\\x01\\xc2n/\\x800*\\xb3+\\r?e3-\\xff\\xba\\x88~\\xdbw\\xa8\\xe9\\xa9\\xabP\\x18B\\xbf0$\\xbdS\\xadG\\xa2\\x91\\xe0\\xce<g\\xf0\\x0fh\\xc8\\xb2E\\xb4\\xab\\xd2\\xf6\\x00\\xe6]\\x0e\\x1a\\x0c\\xb6xX\\x19r\\x85e\\x83\\x02q\\x92x\\xe0\\xb55\\xe8K\\xa0G\\xf8S#\\x8d\\x11u\\xe3\\x15v=\\xceU\\xea|N\\x84\\x8e\\x83\\x99\\xf0\\x97\\x0e\\xf2\\x0f\\xaf\\x1a\\xb0\\xb7;\\x01\\x04\\xc8\\xd4\\x05\\xc7\\xd1\\x1c\\xbd\\xc4G?\\x84\\xd7\\xc3[\\xbe\\xa3\\xf53Q\\xa8\\xc1V\\xe7\\xa6\\xa00 @\\xdb\\xd95\\xa8B\\xc0A\\xc0u\\xf9\\xce\\x1e\\xbdL\\xe3S\\x12\\x93h\\xcc\\xe9g\\xd1\\xf4\\x8d\\xf9\\xb6J*\\x87(\\xfa\\x9ahy\\xe7\\x88\\x12\\xcch\\xfe\"\\x01\\x8c\\xf1.\\xb7<\\xdb\\xa1.\\xb8\\x8ev\\xd0:{|\\xfe\\x0c~v\\xb3\\xe1g\\x00\\x82\\x9b}\\t\\xc9\\x0e\\xd3\\x17R}\\xad\\xfb\\xe2(V\\xf9\\xe6\\xa0_\\x19(\\xc1\\x0fB;\\xb5\\xc8\\x03\\x81\\xc3\\x80\\x00\\x9b\\xf6%A\\x16\\xf4\\xe1\\xde\\x9dt\\'\\xf5\\xb2\\x8c\\xef\\x7f\\xb2\\xa3\\xed\\x00\\xf9N\\xcb\\xe3\\x89\\xf5:O\\xb0w(\\xe4\\x92=TD\\x88J\\x01\\xbfW\\xed\\xec\\xf8\\x1e\\t>\\xed\\xcb\\xb8\\xdcU\\xa2\\xbbx\\x83\\xcb\\xf9&\\x02\\x00\\xc4\\x8b.\\x03u\\xc4N\\xc3l8\\x14Ez&@\\x16w1\\x1d\\xbf;J\\xa3\\xa1b\\x0bp\\x80B\\xbb\\xaf|\\xdf)\\xe3.\\x12U\\xc6\\x12 \\xe0\\xec\\xc4\\xfb\\x82,h\\xbf\\x8d\\'bZrk\\xdb1\\xeb\\xd0K\\xb1\\x9e\\xf8 \\xac\\xf9\\xdcFjOLj\\x98s.\\x96\\xf0\\x9c\\x9871\\xd1R\\x95t\\xf0\\xe0{V\\xd2\\x1bm\\xfdp^yN\\xb9\\x87\\xc2\\xb3\\x8fO\\xf5\\x83\\x19sr\\x04\\x80\\x82\\xcfD\\xd8ob\\t\\xb7\\xdf\\x97\\xcd|\\xb2\\xae\\xa0\\xfa\\xfb=\\xfc\\xa2Re\\x8c\\xe5\\n\\xb7ilK\\xf54\\xa7\\xe5\\xc6\\xd3\\x9cb\\x9dC\\x80\\xf7[\\x19\\x05\\xe8I\\xd6\\xbeUr\\xc4\\xf8=\\x87m\\x01r\\xa9\\xd3\\xb2d/C\\xd8\\x86^\\xc6\\x9d\\xd1X>\\xf7\\xfdL~\\x1b@u\\x16\\x8d0M\\xb1x\\x1e6\\xdc.M)g+\\xe2\\x06\\xd8\\xe2f\\r\\x08\\xb2\\xb3\\xb5\\x904\\xb9\\x03\\x04\\xfc\\x9dZ\\xc6\\xa29@\\xb9\\xc0Pl`ZF\\xc4\\xf8\\xf5{l-2\\xf3]\\x14\\xd7SA\\xe7y\\x1e\\xdf\\x0b\\x1e|a%\\xd4Q\\x87\\x03p0\\x83\\xd1y\\xb2\\xca#\\xf4r\\xf0\\x18\\x90\\x10\\xa2\\xcd\\xab\\xb2*\\x1b-\\x17\\xa9nD\\xa5\\x18\\xa1\\xb0\\xa9\\xb4DO1\\xd3\\x05\\x0b{\\x87~\\x1eA\\xd7\\xd1\\x18TAu&\\xf9\\xf5F\\x0e\\x014+(@\\xc09\\n9Y\\xdd-\\xe3\\xcb\\x8eT\\xdb\\xb9.\\xe7\\xd9\\x9d\\x85\\x10\\xc0\\xear\\x87\\xc7\\xe7\\xfe\\xc3\\x17\\x84\\x07\\xe5L\\x02\\xe4\\x03\\xffu#\\x8b\\x84\\xcdI\\xb0\\x1e,\\x15\\xd1\\xa6\\xc5P\\xc0\\x1e\\x81-\\x81\\xc0\\x05\\x8en\\xe2>\\xda%\\x8b\\x96\\xa9\\xc8\\x00.a=s\\to\\x93\\xcd\\xa9In)9!\\x81\\xfe\\xd8\\xef|\\xea`\\xa1#\\xd8Wu\\xb8\\xd6\\x0f\\xc1f{\\xf4\\xd4f\\xda\\xf1\\xb0:\\x8c3\\x01\\x03\\x10\\xac\\x1eP&\\xbe\\xe6\"\\xbf\"\\x1f\\xf5!\\x05z^j\\xb2\\x04\\x04!\\x1cU\\xf6C\\xb28W\\xf1\\xa9\\xff}\\xcc\\x13\\xbb\\xfe\\xd8\\xce\\xdf\\x1bri\\xbfk\\xfd*J\\x94\\xd3\\x93\\xbe\\xd3\\x0b\\xf0$?\\xadm;za\\xcb\\xc6\\xda`$\\xf8(|\\xba\\xaf\\xf4;\\xf7g\\x0bz\\x9fL\\xbc\\r\\x9b\\x01[\\x08\\x96h5\\xd5\\xf7\\x06\\x03\\x9b\\x08\\x87\\x9e\\xf0\\xd1\\xe00\\x8d\\xe6r\\xda\\x1c\\x87\\x9e~\\x85-m\\xf5\\xb59!\\x1a{!n\\xf0\\x98/|\\x03.\\x08\\xb0\\xea\\xb3\\xb8n\\xb3<\\xae\\xces\\xad\\x80\\xddp\\x0c\\xbb\\xfa;\\xbck\\x83>\\x94\\xb5w=@`.!\\x9f\\xb9\\x04l\\r6=\\x88$/\\x82\\x9c\\xff\\xaf\\x1d\\xdb\\xcd_\\xfe\\xe0\\xfe\\xda\\xe0\\x910I&D\\xf9_\\x8f9\\x11v\":%\\xfc\\xef\\xc2\\xe4(\\xc0\\x00\\x87i\\xfc\\x94\\xf3\\x98\\xcdq\\xf0\\x8c\\xccU@\\xe1\\n\\x17\\xa00\\xc8p\\xbe@4\\x84-\\xd4\\xe3#\\xc4\\xff\\x85\\xcb\\x9a\\xe1C9vg \\x04\\xe5\\x97\\x9fM\\xc1\\xfe\\x9d@F#cg\\x1bj\\x84\\xbfG0\\xdb\\xcb\\xf0\\x80 k,\\xfc7\\xc3\\xbdN\\xff\\x93!\\x02\\xa5\\x90\\xc7\\xcd[\\n\\xa5\\xb9\\x00\\x03(4W\\x18\\xc0\\xe0\\x16\\x9e\\x14\\x0bdu\\xa8\\xc2\\xe4\\xf7\\x08\\n\\xc9\\xd4\\xd0\\xc1\\xca+\\xd9\\xed\\x1c\\xf5\\xebx/3\\xcb\\x15L\\xa9NV\\x89hN\\x14*wX\\x86Wjl\\xbf\\x81\\xa3\\x01\\xbf\\x8f9 \\xf0\\x04\\xacd.\\x01\\x03v-5\\xed\\xbf7\\xcd\\x8f\\xe2_\\x9b\\xa0\\x90\\xd8\\xe0c]\\xb69\\x04\\x03\\xb8J/\\xb0\\x02\\x03\\x85e\\x04(\\\\C!\\x0b\\xc8\\xcd\\n(`K\\xecS&\\x03aC\\x00\\xedkvJTI\\x00e\\x95\\x9a\\xb0\\xcc\\xc3=L\\x86p\\xbd\\xb68d\\xcb\\xc7\\xb4$\\xd1\\x8a\\xdf\\x07\\xa72\\xb5\\x0f\\xba\\x1c\\xfdg\\xaf\\xc1\\xe9\\x0e:\\x99\\x81\\x81!-t5/\\n(\\xe0\\xf4\\xe2\\x1c\\xbfv\\r\\x1e\\x0f\\xd4\\x84\\xfe&\\x81\\xd5\\x8d\\x9f\\x03\\xe7\\xd6Vn\\x8b\\xf9\\xb9#\\x8dUg\\xfdw\\xf0\\xc1\\x82Bo\\'\\xe7\\x07\\n(\\xfc\\x8c\\xc3\\x9f5\\x18hjJ\\xb2\\x05\\x04\\x01\\x05(g\\xa0\\xdd\\xec\\x1fp}\\xc0^?\\xc6\\xe1\\x91(\\x95\\x88\\x9a4i\\n\\n\\x10\\x04\\x14\\xc0\\xfe<L!?\\xf8\\xa4\\x00\\xea\\x02\\xb9\\xf0\\x0e\\x06\\x825\\xba[4i\\x8aq@P\\x80\\x01\\x87\\xb1\\xc2I\\x08v\\xd28\\x1f\\xea\\x80\\x83:q\\x80\\xc9L\\x06\\x83\\xc3\\xbaK4ijF\\x80\\xa0\\x00\\x03Lk8\\x84\\x04N#^\\xccS\\xf0\\x9d\\x86\\x86}\\x1e\\x03A\\x85\\xee\\nM\\x9a\\x9a1 (\\xc0\\x00\\xf1\\x01\\x9b1FRh\\xef7\\xbc\\xa9\\xa0Y\\r\\x1f`\\n%\\x19l\\xa78\\xf4\\xe33\\x0e\\x1fpX\\xc5 P\\xa4\\x9b_\\x93\\xa6\\x18\\x05\\x04M\\x9a4i\\x02\\xfd_\\x80\\x01\\x00\\xed$ky]PVU\\x00\\x00\\x00\\x00IEND\\xaeB`\\x82'\n"
          ]
        }
      ]
    },
    {
      "cell_type": "code",
      "source": [
        "# 파일을 열 때 'wb'가 아닌 'w'로만 했을 때는 어떻게 될까?\n",
        "\n",
        "# 모듈을 읽어 들인다.\n",
        "from urllib import request\n",
        "\n",
        "# urlopen() 함수로 구글의 메인 페이지를 읽는다.\n",
        "target = request.urlopen(\"https://www.hanbit.co.kr/images/common/logo_hanbit.png\")\n",
        "output = target.read() # 이 시점에 파일이 생겨 저장된다..\n",
        "print(output)\n",
        "\n",
        "# write binary[바이너리 쓰기] 모드로\n",
        "file = open(\"output.png\", \"w\") # --> '텍스트 형식'으로 쓰면 어떻게 될까?\n",
        "file.write(output) # 가져온 output(이미지) 데이터를 코드로 출력해본다.\n",
        "file.close()\n",
        "\n",
        "\n",
        "# write() 함수의 매개변수에 'bytes(바이너리)'가 아니라 'str(문자열)'을 넣어 달라는 오류가 발생!!\n",
        "# 바이너리를 사용할 때는 꼭 \"b\"를 붙여야 한다!!! **"
      ],
      "metadata": {
        "colab": {
          "base_uri": "https://localhost:8080/",
          "height": 278
        },
        "id": "Vzu6pSBfRIk7",
        "outputId": "791c15f4-c618-4e20-ed17-b34b698d677c"
      },
      "execution_count": null,
      "outputs": [
        {
          "output_type": "stream",
          "name": "stdout",
          "text": [
            "b'\\x89PNG\\r\\n\\x1a\\n\\x00\\x00\\x00\\rIHDR\\x00\\x00\\x01\\x04\\x00\\x00\\x00,\\x08\\x06\\x00\\x00\\x00\\x83\\x80\\xc6\\xe5\\x00\\x00\\x00\\x19tEXtSoftware\\x00Adobe ImageReadyq\\xc9e<\\x00\\x00\\x0f/IDATx\\xda\\xec]\\ttU\\xc5\\x19\\xfe\\xb3\\x11 D\\x11\\x13\\x0cF\\x08\\x11\\x14KEA\\xf6M\\xd0\\xd6\\xa3\\xb8\\xe1\\x12W\\x8a\\xa8\\xc7R\\xac\\xb5`\\x05\\xad\\xed\\xa9\\xbbb\\x17\\n\\xd4\\xa5Pj\\x05\\x11+4*\\n\\x15\\xc4\\xca\\xa2\\xf6\\x00Q\\x9b`+\\xa2\\xa0$\\x10%l\\x91%\\t!\\x81\\xd0\\xff\\xcb\\xfb\\x9f\\x99\\xdc\\xdc\\xfb\\xee\\xf2\\xeeM^\\xc2\\xfc\\xe7\\xcc\\xbb\\xef\\xbe\\x99;3w\\x96o\\xfem\\xe6\\xc5\\x1d;v\\x8c4i\\xd2\\xa4\\t\\x94\\x88\\x8f\\xb8\\xb88O\\x0fg,\\x9a\\x93\\xc4\\x97\\x81\\x1cFr\\xe8\\xcb\\xe1L\\x0e\\x99\\x1cN\\x94$U\\x1c\\xf6s\\xd8\\xcc\\xe13\\x0e\\x1fpXUr\\xfd\\x8f\\x8bt\\xd3k\\xd2\\x14[\\x04\\xe6 \\xae\\xf6\\xc3% 0\\x10\\xf4\\xe4\\xcb\\x04\\x0e7rH\\xf7P\\xf6z\\x0e\\xf38\\xccep8\\xa4\\xbbB\\x93\\xa6f\\x08\\x08\\x0c\\x04g\\xf1e*\\x87\\xd1`,|\\xa8\\xc3^\\x0e\\xbf\\xe30\\x93\\x81\\xe1\\xb0\\xee\\x12M\\x9a\\x9a\\x01 0\\x10\\xb4\\xe2\\xcb\\xc3\\x1c&sH\\n\\xa0.[8\\xdc\\xc1\\xa0\\xb0Fw\\x8b&M1\\x0c\\x08\\x0c\\x06\\xd9|Y\\xc8\\xa1\\x7f\\xc0\\xf5\\xa9\\xe1\\xf0\\x18\\x87G\\x18\\x18\\xb4\\xa6S\\x93\\xa6X\\x03\\x04\\x06\\x83\\xf3\\xf8\\xb2\\x8cC\\xc7F\\xac\\xd7\"\\x0ec\\x19\\x14\\xaat\\x17i\\xd2\\x14#\\x80\\xc0`\\x00\\xab\\xc1J\\x0e\\'4A\\xdd\\xfe\\xc9\\xe1\\x1a\\r\\n\\x9a45. $Zp\\x06\\xdd\\xf9\\xb2\\xbc\\x89\\xc0\\x00t\\x19\\x87\\xbfr\\xb8\\xc5\\x8f\\xcc\\xbaeu\\xfd\\x03_r\\xe4\\xf6\\xd2/\\x8b\\n7\\xb6\\xb4\\xce\\xe4w\\xfc$\\xdc_\\xfc~]\\xf5\\xf0\\xd6\\xe4\\x85\\x12M\\xc0\\xa05_r9\\xa45q\\xdd\\xc6r]\\xf2\\x98Kx\\xc6\\x87\\xbc\\xf0.Y\\xf2\\xbd\\x95\\xc3\\t\\xb6\\x9a/#\\xe4\\xf6$\\x9ed\\xfb\\x0c\\xf1\\x88\\xeb#\\xb7\\xb9\\x1c_l\\x91O\\x1f%\\x9f\\x15f`\\xc4i\\x907|7\\x8a\\xa2\\x98\\xcc]\\xa8\\xce\\xff\\xc3\\x0b\\xa0$\\xf3\\xe5N\\x0f\\x8f\\xe6s\\x9d\\xd7\\x18\\xf2\\n\\xeb\\x806p\\\\o\\x93\\xb2\\xc6\\x90\\x98\\xab9~\\x86\\x83\\xba\\x01\\xe8>\\x91\\xdbu\\xfc\\xcc\\x8d\\xf2;\\xf2\\xce\\x97\\xdf\\xe7\\xf1\\xef\\xb7\\x1a\\x9e\\xeb\\xc6\\x97+\\x02\\x18\\x9b\\x7f\\xe3\\xb2\\x0eX\\xd4\\xb5-_\\xc6Q\\xc8\\x12w\\x8e\\xf4I\\x19\\x85\\xfcp ~\\xcf\\xe1gK#\\xbc\\xebby\\x16\\x94\\xcdi\\x0b\\xad\\xda\\xceG\\xfa\\x92\\xcbYb\\n\\x08\\x142+\\x9e\\x1b#\\x805\\x8dAa%\\x83\\xc2F\\x87\\x83:\\x85\\xcc\\xad *\\x08\\xa4r\\xba\\xf6&i*\\xb9Q*]\\xd4\\xedj\\x0e\\x13\\xe5{\\x01\\x87b\\x8bt\\x00\\x83\\xe9\\xf2\\xfd6\\x0e\\x1b]N\\xd4T\\xbe\\xbc\\xef i\\xaa\\xf2L\\x81\\x83\\xf4\\x0f\\xf2\\xfb\\xbe\\xa9\\xdc\\xb7Q\\xea\\xe9\\x86frpk\\x1d\\x9a\\xa2\\x8c\\xb1\\x19\\x0e\\xd2\\xc7+\\x80^\\xe8\\xa2\\x9c^\\x1e\\xdf\\xc9\\x8e0i\\x0f\\x98\\xf4\\xd5p\\xbe\\xfc\\x9dB\\xcey*\\x01$:\\xcaXx\\x80\\xd3\\x8d\\xe7\\xb6_\\xe4\\xb1\\xec)\\x01\\xcc\\xcf784\\x04\\x04\\x9e|X\\xcd\\xee\\x8e\\xf4\\xe4\\x80\\xb4\\x0c\\x1a\\x95\\x99E\\xfb\\xab\\xaa\\xe8\\xa5\\xaf6\\xd1\\x9e\\xc3!\\xbf\"h!\\xae\\xea\\xd2\\x8d\\xfatH\\xa7\\xa2\\xb2\\x834\\x9f\\xe3\\xaaj\\x8eRZr\\x1bj\\x93h*\\x99\\xd0\\x91\\x9a\\x1a\\xdaYYA5\\xd6\\xee\\xd3\\x98\\xc8\\xb3\\xb8^#\\x1cZ\\x1e\\x16(\\xe8jE\\xefY\\xfc\\xfe\\x08\\x85L\\xab\\xb1F\\t\\x1e\\x06\\x80\\x93\\xf4\\x1d4\\x83\\xec\\xab\\xc8\\x06+\\xdc\\xdb\\x02\\xac \\xf8\\xd5\\xac\\xe5\\xb0]V\\xf4a\\x1c\\xda\\t\\xc7\\xb0\\x90\\xd3\\xc71(,\\x8cu\\x91a\\xaa\\x0c@S\\xba\\x84\\x81\\xe0\\x85!\\x17}w\\x7fs\\xf6\\x99t\\xc1\\x8a\\xd7\\xa8\\xfcH5\\xdd\\x7fv?\\x9a\\xf8\\xbd:\\xeepDF&\\xdd\\xf2\\xc1\\n:z\\xac\\x86\\xa6\\xf7;\\x9f\\x86v\\xecd\\x9agQ\\xf9A\\xfa\\xc9\\xdawi\\xc3\\xb7{\\xac\\x8a\\x1d.\\x93|\\xf1q:\\xd6\\x8e\\x82\\xf5v2&e\\xc0\\x81\\xaa\\x1dp\"F\\xb6\\xb5\\\\\\xb8\\x1e\\xd7\\xecf3iGL\\xbeW|\\xcak\\x97\\x01\\x0c\\xc0\\xc1<\\xaf\\x80\\x01\\x80\\xe16\\x9e\\xf0;\\x944\\xed\\x85\\x1b\\x1a\\'?=\\xcd\\xbf-\\xb3\\x12=\"\\xd0=\\xd1\\x88\\x86\\n\\x81c\\x99m\\t\\x08\\xbc\\ncO\\xc2\\xc5\\x91r\\xb8\\xa9k\\x8fz\\xf7\\x9dSRiHz\\x06\\xbd\\xb3c;\\xdd\\x94]?\\xee\\xa2N]j\\xb9\\x03p\\x10\\xe3\\xd7\\xbdKkG]O\\'$5\\x14\\xdf\\xb38\\x8f\\xf9\\xc3.\\xa6a\\xcb\\xffA\\x07\\xaa-\\x8d\\n\\x0f8\\x04\\x84%.YJ\\x95\\xd6E\\xd1\\xb8\\xafp\\xe7Z\\x89\\x1bQ)fy\\xc0\\x1c\\xe4K\\xef\\x08+\\x13D\\xa4_A\\x04P\\x81\\x9d\\x9f{\\xc8e9\\xd5-\\x1ct7\\xf1;\\x06\\xf5~\\xc3D<\\x01}\\x0e`\\xe5\\xb2\\x0e\\x19\\xdaw\\x1f\\xf7\\xd5\\xed\\xa2\\xeb\\xb9@\\xb8\\x86\\xeb\\x04H\\xdc\\xf4\\xd3*\\x9f8\\x9a\\xaev\\x1c\\xc2\\x04[!5\\xa9\\xa1x\\x9e\\x10\\x1f_{m\\x9d\\xd0\\x90\\xb1\\xa8\\x15\\x15\\x98q*=\\\\I\\xb9E[\\xe8\\xf6\\xee=M\\xf3Mo\\xdd\\x86\\xb9\\x8d\\x1e4\\xeb\\x8b\\xffZJ*0\\x83\\xb2\\xd8\\xf0\\xb1Mc=o\\xf1\\xf2\\xf1\\xc2\"Wp\\x9a\\x8a\\x00\\x06\\xc4)M\\xc0\\xa2\\xe2\\x9d\\xae\\xe4\\xf08\\x87\\xef\\x1b\\xa2\\x7f\\xcd\\xf1p(\\x9b\\xc9\\xef\\xfb\\xb1\\xcb|\\xbf\\xe1\\x0b\\xd8\\xb9\\xdd\\xfclG\\x93\\xf8G\\xf9\\xf2\\x1b\\xb9\\xbd2\\xac\\x8c:\\xcei\\x84\\xf2}\\xba\\x11\\x0c\\x94\\xf1Y\\xc3\\xed\\xf7\\xa4\\x00B\\x98\\xfb}>\\x96^$Q\\xb8\\x03\\xb0:9A\\x16\\x94\\xb7\\xa7\\xc4\\x12\\x10@C;\\x9e\\x1a\\t\\x10@c9\\xb8\\x1d\\xdcW\\x89N\\x04\\r\\x9f$\\xbfm\\xa3\\x90\\x15\\xe5\\xf7\\xdcA%>\\xbd\\x1eX\\xfa}\\x16q\\xa7\\t;\\xef\\x07\\x08\\x00u\\x07@z\\x93\\xf6\\xc8V\\xa2\\xb7r\\xf8HV\\x9d\\x04\\x89\\x1f\\xcb\\xcf|\\xc1\\xd7\\xb7\\x84\\x03\\x82F~\\x0b\\x06f\\x84b\\xb6\\x0b \\xa4\\xc3\\xf2\\xc0i\\x8d{LT\\xeb\\xd3\\x1e\\x8d\\x05\\xa15M\\xf9n\\'\\xaa}j\\xf1\\\\L\\xe9\\x10\\xceW\\xe4\\xcf@hwe\\xe4M\\x8d\\xa7\\xb4nc\\x97\\xc5\\xe5\\x1c&9\\x9c8\\x90M^\\xe4p\\x83I4X\\xb6_@\\xc6\\xe3t\\xd7\\xfa\\xc4\\x82M\\xe2|V[\\xd4\\x05u\\x9e\\x1e\\x05\\x08\\xdc, \\x80\\xad\\xe5\\x03\\xa9\\xa12\\xb0Rd\\xd3\\'\\xb8\\x0ee\\x9c~\\x10\\x7f\\xbf_\\xb8\\x87xy\\xeeL5=\\xa7\\x01\\x10\\x82\\x13\\xb8\\xc2\\xc4\\x04\\xb6C\\xf9\\xde\\xc9D\\x04k\\xae\\x80\\xd0\\xda\\xc2\\xba\\xe4\\x85\\x0e\\x18@\\xb5\\xcc\\xa2}\\xec\\xb8\\xc9\\x83\\xb1\\n\\x08\\x17\\x06]PjRd\\xf3\\x7fi\\x95\\xedf\\xc7n\\xcc\\xc9d\\xb2\\xd8\\xf0\\xb5\\x83\\xe2\\xa6)`\\x00e\\xd9K\\x82\\xdc\\x00\\xbd\\xd12\\xc1N\\x82\\xcc\\x0c[6w\\xeeV\\x9b\\xfc\\xa6r\\xbap\\x05\\xf38\\xfd\\xcb\\x8d\\xd8G\\x00\\xb0\\x89&\\xbf\\xe3L\\tl!\\x7f\\x96\\xeb\\xb3KaK\\xc1\\t\\\\\\xcd\\xf5=M\\xda\\x00\\xc0\\xd0_Qx\\xc1\\xcf\\x04\\xf2\\xe3J\\x0b{\\xf87\\xca\\xf7SM\\x00A]\\xd5v\\xdb\\xd4\\xbd\\'\\xd7C}~2\\x97\\x99\\xdbDc\\xfd~\\t~P\\xb6\\xa1]T\\xd6\\x16~\\x02\\xafGx\\xf6&\\x17\\xdcD\\x93\\x01\\xc29A\\x17\\x04sd$*(\\xdd\\xed(\\x1b\\x0e_\\xdb\\xac\\xa8\\xa7S\\x9d\\x83\\r4\\xb8\\x83Ug \\x8e\\x87%\\xe5i\\x0ewQH\\xe1\\x07s\\xa3\\x9dG\\xa4\\xaa_\\xc1$lL@xF\\x00\\x01\\xab\\xc9&\\n\\x99M\\xe1\\xe0\\xf4\\x89\\x8d>\\xa5X\\x80q\\x1a\\xbf3\\xfa\\x19\\x8a\\xc9sE\\x84\\xc9\\x14\\xdd\\x83\\x19\\x15\\x1b\\xc4\\x1d#\\x85\\xf5\\n\\xd5Fg-\\x13\\x82\\x98\\x96\\xa5\\xdc\\xb7\\xa3\\x96Io\\xc9X\\xc3x\\xba\\x96\\xdb{\"\\xb7\\xcdL\\x0b\\x11\\xf6^\\xb9\\x85\\x19}Q\\xac\\x02\\xc2YA\\x16\\xd2*>\\x81\\xae\\xcb:\\xc32\\x1e\\xfe\\n/o\\xfd\\xdcIV0e,\\xb5Is\\x19\\xd5\\x99N\\xa7\\x19=\\x03\\xf9\\xfe\\x18w\\xcc\\x14Aj\\xb0\\xdf\\xa3\\xc5&\\x1c\\xcd\\x0e\\xcb[9\\x8f\\x91\\x16q\\x83\\xa2\\x10\\x17\\xd2e\\xf2\\x8e2D\\xc5\\x8b\\x97\\x9e\\x1b:\":\\x98\\xb0\\x1e\\xa6\\x03D+~\\xef-6\"\\x03Y\\x88\\x0c{\\x1d\\x94\\tqF\\xed\\xd8R\\x07\\xef\\x0c_\\x92\\x14\\x13`\\xf1C\\xcfS\\xe0\\xd3\\x90.3\\x8c\\xa9\\xfd\\\\\\xef\\x87\\x14\\xd1p\\x06\\xc4Q\\xbe\\xbe*\\xed\\x99&}x\\xb9\\xf2\\xd8l~nS\\xac\\x02\\x82\\'\\xe5\\xc6\\x92\\xe2\\xad\\xb4\\xa6$\\xb4`\\xdf\\xfb\\xd1\\xfb4k\\xd0\\x85\\x94`\\xd8(\\x15\\xcf\\xf7\\x8f\\xf6\\x1eD\\xa7\\xb6M1\\xcd\\xa3\\xba\\xa6\\x86\\xee\\xf9\\xf0=\\xdaV\\xeeH\\x9cr\\xb2\\xebR]\\x91\\xfem\\xb1z\\x1e\\xe2\\x0e\\xcb\\xa3\\x90r\\xee\\x04\\xc9wg\\x84<\\xcf\\xa5:\\xcf\\xb42\\x93\\xf8q\\x01\\xf5\\xcf\\x18\\n\\xc6\\xd3.L\\xf00\\x1ci#2\\x18\\xe9d\\x87\\xe2\\x02\\xe8s3\\xd7e\\x07\\x80~b\\x00\\xef\\xba\\x98\\xeb\\xf2p\\x80m9S\\xc4\\xbb{\\xe4~\\xb8\\x043zS\\xf4X^\\x16\\x89\\x85\\xb20F\\xbdNG\\x02\\x84\\x14/9>X\\xb0\\x96\\x0e\\x1d=R\\xfb})\\xc0ag1]\\x98\\xd1\\xb9\\xfe\\xecLI\\xa5\\xd5\\xfc;\\x82\\x91\\xe0\\xa0\\x08\\x87\\xa4\\x92C\\xe5N\\x8bt\\xc2rV9L\\xaf\\x0e:;S\\xe46\\x07\\xecqK!\\xb5\\xa32\\r\\x831M\\xe1\\xbev\\x91\\xa6z\\x9c\\'&9\\xb7\\xd1\\n\\n\\xf9\\x85\\xc07\\xc1\\xb8\\x8d\\xb8@\\xc4\\xb8\\x05Qp\\xa4=(\\xc0\\xad\\x05\\x89\\xd1<\\x1cgx\\xdfx\\x93S\\xd5\\x90\\xe6@\\x95\\xb9\\xc3Q\\xf5\\xb1\\x1a*\\xab\\xf6}\\x87s\\xbe\\xf2\\xfdG\\x14\\xf2\\xd36\\xa2,\\x1au\\x80\\xdc~%\\xce?n\\t\\xf6\\xf8\\x19.\\x9fq\\xab\\x95_\\':\\x0e\\'4I@\\x0e\\xca\\xcf\\xa7\\x1c>S\\xa8\\xb4I\\x17\\x11\\xa1NR\\xe2\\xbb\\x1bD\\x93.\\xca\\xf7\\x1a%n#\\xb7a\\x95O\\x13\\xab\\xbdI\\x7f\\xe1\\xb7o\\x9b\\t0`\\x97\\xf0r\\xae3\\xda\\xb1\\xa7\\xb4)\\x16\\x93\\xcd>\\x99\\xb9\\xc1\\xc1\\xb5\\xf7i\\xeegZ\\x01B\\xb9\\x17.\\xe1\\x89>\\x83\\xe9\\xee\\xbc5\\xb5\\xae\\xcbWu\\xeeF#2\\x1a\\xea\\xa0\\x8a+\\xca\\xe8\\xbe\\xb3\\xfb\\xd2\\xe8\\xce\\xa7\\x9b\\xe6\\x01\\xef\\xc4\\t\\xebV\\xd2\\xaa\\x92b\\xd7\\xb2\\x9b\\x05-\\x93\\xd5\\x0bb@\\x0ew\\x0c\\xcel|<\\xec\"\\xca\\xf7\\x00\\x82\\x97\\x94\\x95n\\xb6\\xc7\\x8e/u\"\\x13+\\x83\\xbav\\xe3\\x95\\x0c\\xee\\n\\xc3\\x04\\xda&\\xa2K\\xb1\\xa1\\x8cu\\xe4\\xd0\\x83\\x92\\xf3\\xbdU\\x00\\xa1\\xd2#k\\xfc\\xa8\\x89\\xe83\\xd0\\x00\\xb0*]\\xa4\\xc4\\x19\\xb5\\xee\\x9ac(*\\xfc\\xd6Jd\\x8d2\\xdfK\\xfd\\xc8G<\\x15\\xb7Z\\x01\\xc2n/\\x800*\\xb3+\\r?e3-\\xff\\xba\\x88~\\xdbw\\xa8\\xe9\\xa9\\xabP\\x18B\\xbf0$\\xbdS\\xadG\\xa2\\x91\\xe0\\xce<g\\xf0\\x0fh\\xc8\\xb2E\\xb4\\xab\\xd2\\xf6\\x00\\xe6]\\x0e\\x1a\\x0c\\xb6xX\\x19r\\x85e\\x83\\x02q\\x92x\\xe0\\xb55\\xe8K\\xa0G\\xf8S#\\x8d\\x11u\\xe3\\x15v=\\xceU\\xea|N\\x84\\x8e\\x83\\x99\\xf0\\x97\\x0e\\xf2\\x0f\\xaf\\x1a\\xb0\\xb7;\\x01\\x04\\xc8\\xd4\\x05\\xc7\\xd1\\x1c\\xbd\\xc4G?\\x84\\xd7\\xc3[\\xbe\\xa3\\xf53Q\\xa8\\xc1V\\xe7\\xa6\\xa00 @\\xdb\\xd95\\xa8B\\xc0A\\xc0u\\xf9\\xce\\x1e\\xbdL\\xe3S\\x12\\x93h\\xcc\\xe9g\\xd1\\xf4\\x8d\\xf9\\xb6J*\\x87(\\xfa\\x9ahy\\xe7\\x88\\x12\\xcch\\xfe\"\\x01\\x8c\\xf1.\\xb7<\\xdb\\xa1.\\xb8\\x8ev\\xd0:{|\\xfe\\x0c~v\\xb3\\xe1g\\x00\\x82\\x9b}\\t\\xc9\\x0e\\xd3\\x17R}\\xad\\xfb\\xe2(V\\xf9\\xe6\\xa0_\\x19(\\xc1\\x0fB;\\xb5\\xc8\\x03\\x81\\xc3\\x80\\x00\\x9b\\xf6%A\\x16\\xf4\\xe1\\xde\\x9dt\\'\\xf5\\xb2\\x8c\\xef\\x7f\\xb2\\xa3\\xed\\x00\\xf9N\\xcb\\xe3\\x89\\xf5:O\\xb0w(\\xe4\\x92=TD\\x88J\\x01\\xbfW\\xed\\xec\\xf8\\x1e\\t>\\xed\\xcb\\xb8\\xdcU\\xa2\\xbbx\\x83\\xcb\\xf9&\\x02\\x00\\xc4\\x8b.\\x03u\\xc4N\\xc3l8\\x14Ez&@\\x16w1\\x1d\\xbf;J\\xa3\\xa1b\\x0bp\\x80B\\xbb\\xaf|\\xdf)\\xe3.\\x12U\\xc6\\x12 \\xe0\\xec\\xc4\\xfb\\x82,h\\xbf\\x8d\\'bZrk\\xdb1\\xeb\\xd0K\\xb1\\x9e\\xf8 \\xac\\xf9\\xdcFjOLj\\x98s.\\x96\\xf0\\x9c\\x9871\\xd1R\\x95t\\xf0\\xe0{V\\xd2\\x1bm\\xfdp^yN\\xb9\\x87\\xc2\\xb3\\x8fO\\xf5\\x83\\x19sr\\x04\\x80\\x82\\xcfD\\xd8ob\\t\\xb7\\xdf\\x97\\xcd|\\xb2\\xae\\xa0\\xfa\\xfb=\\xfc\\xa2Re\\x8c\\xe5\\n\\xb7ilK\\xf54\\xa7\\xe5\\xc6\\xd3\\x9cb\\x9dC\\x80\\xf7[\\x19\\x05\\xe8I\\xd6\\xbeUr\\xc4\\xf8=\\x87m\\x01r\\xa9\\xd3\\xb2d/C\\xd8\\x86^\\xc6\\x9d\\xd1X>\\xf7\\xfdL~\\x1b@u\\x16\\x8d0M\\xb1x\\x1e6\\xdc.M)g+\\xe2\\x06\\xd8\\xe2f\\r\\x08\\xb2\\xb3\\xb5\\x904\\xb9\\x03\\x04\\xfc\\x9dZ\\xc6\\xa29@\\xb9\\xc0Pl`ZF\\xc4\\xf8\\xf5{l-2\\xf3]\\x14\\xd7SA\\xe7y\\x1e\\xdf\\x0b\\x1e|a%\\xd4Q\\x87\\x03p0\\x83\\xd1y\\xb2\\xca#\\xf4r\\xf0\\x18\\x90\\x10\\xa2\\xcd\\xab\\xb2*\\x1b-\\x17\\xa9nD\\xa5\\x18\\xa1\\xb0\\xa9\\xb4DO1\\xd3\\x05\\x0b{\\x87~\\x1eA\\xd7\\xd1\\x18TAu&\\xf9\\xf5F\\x0e\\x014+(@\\xc09\\n9Y\\xdd-\\xe3\\xcb\\x8eT\\xdb\\xb9.\\xe7\\xd9\\x9d\\x85\\x10\\xc0\\xear\\x87\\xc7\\xe7\\xfe\\xc3\\x17\\x84\\x07\\xe5L\\x02\\xe4\\x03\\xffu#\\x8b\\x84\\xcdI\\xb0\\x1e,\\x15\\xd1\\xa6\\xc5P\\xc0\\x1e\\x81-\\x81\\xc0\\x05\\x8en\\xe2>\\xda%\\x8b\\x96\\xa9\\xc8\\x00.a=s\\to\\x93\\xcd\\xa9In)9!\\x81\\xfe\\xd8\\xef|\\xea`\\xa1#\\xd8Wu\\xb8\\xd6\\x0f\\xc1f{\\xf4\\xd4f\\xda\\xf1\\xb0:\\x8c3\\x01\\x03\\x10\\xac\\x1eP&\\xbe\\xe6\"\\xbf\"\\x1f\\xf5!\\x05z^j\\xb2\\x04\\x04!\\x1cU\\xf6C\\xb28W\\xf1\\xa9\\xff}\\xcc\\x13\\xbb\\xfe\\xd8\\xce\\xdf\\x1bri\\xbfk\\xfd*J\\x94\\xd3\\x93\\xbe\\xd3\\x0b\\xf0$?\\xadm;za\\xcb\\xc6\\xda`$\\xf8(|\\xba\\xaf\\xf4;\\xf7g\\x0bz\\x9fL\\xbc\\r\\x9b\\x01[\\x08\\x96h5\\xd5\\xf7\\x06\\x03\\x9b\\x08\\x87\\x9e\\xf0\\xd1\\xe00\\x8d\\xe6r\\xda\\x1c\\x87\\x9e~\\x85-m\\xf5\\xb59!\\x1a{!n\\xf0\\x98/|\\x03.\\x08\\xb0\\xea\\xb3\\xb8n\\xb3<\\xae\\xces\\xad\\x80\\xddp\\x0c\\xbb\\xfa;\\xbck\\x83>\\x94\\xb5w=@`.!\\x9f\\xb9\\x04l\\r6=\\x88$/\\x82\\x9c\\xff\\xaf\\x1d\\xdb\\xcd_\\xfe\\xe0\\xfe\\xda\\xe0\\x910I&D\\xf9_\\x8f9\\x11v\":%\\xfc\\xef\\xc2\\xe4(\\xc0\\x00\\x87i\\xfc\\x94\\xf3\\x98\\xcdq\\xf0\\x8c\\xccU@\\xe1\\n\\x17\\xa00\\xc8p\\xbe@4\\x84-\\xd4\\xe3#\\xc4\\xff\\x85\\xcb\\x9a\\xe1C9vg \\x04\\xe5\\x97\\x9fM\\xc1\\xfe\\x9d@F#cg\\x1bj\\x84\\xbfG0\\xdb\\xcb\\xf0\\x80 k,\\xfc7\\xc3\\xbdN\\xff\\x93!\\x02\\xa5\\x90\\xc7\\xcd[\\n\\xa5\\xb9\\x00\\x03(4W\\x18\\xc0\\xe0\\x16\\x9e\\x14\\x0bdu\\xa8\\xc2\\xe4\\xf7\\x08\\n\\xc9\\xd4\\xd0\\xc1\\xca+\\xd9\\xed\\x1c\\xf5\\xebx/3\\xcb\\x15L\\xa9NV\\x89hN\\x14*wX\\x86Wjl\\xbf\\x81\\xa3\\x01\\xbf\\x8f9 \\xf0\\x04\\xacd.\\x01\\x03v-5\\xed\\xbf7\\xcd\\x8f\\xe2_\\x9b\\xa0\\x90\\xd8\\xe0c]\\xb69\\x04\\x03\\xb8J/\\xb0\\x02\\x03\\x85e\\x04(\\\\C!\\x0b\\xc8\\xcd\\n(`K\\xecS&\\x03aC\\x00\\xedkvJTI\\x00e\\x95\\x9a\\xb0\\xcc\\xc3=L\\x86p\\xbd\\xb68d\\xcb\\xc7\\xb4$\\xd1\\x8a\\xdf\\x07\\xa72\\xb5\\x0f\\xba\\x1c\\xfdg\\xaf\\xc1\\xe9\\x0e:\\x99\\x81\\x81!-t5/\\n(\\xe0\\xf4\\xe2\\x1c\\xbfv\\r\\x1e\\x0f\\xd4\\x84\\xfe&\\x81\\xd5\\x8d\\x9f\\x03\\xe7\\xd6Vn\\x8b\\xf9\\xb9#\\x8dUg\\xfdw\\xf0\\xc1\\x82Bo\\'\\xe7\\x07\\n(\\xfc\\x8c\\xc3\\x9f5\\x18hjJ\\xb2\\x05\\x04\\x01\\x05(g\\xa0\\xdd\\xec\\x1fp}\\xc0^?\\xc6\\xe1\\x91(\\x95\\x88\\x9a4i\\n\\n\\x10\\x04\\x14\\xc0\\xfe<L!?\\xf8\\xa4\\x00\\xea\\x02\\xb9\\xf0\\x0e\\x06\\x825\\xba[4i\\x8aq@P\\x80\\x01\\x87\\xb1\\xc2I\\x08v\\xd28\\x1f\\xea\\x80\\x83:q\\x80\\xc9L\\x06\\x83\\xc3\\xbaK4ijF\\x80\\xa0\\x00\\x03Lk8\\x84\\x04N#^\\xccS\\xf0\\x9d\\x86\\x86}\\x1e\\x03A\\x85\\xee\\nM\\x9a\\x9a1 (\\xc0\\x00\\xf1\\x01\\x9b1FRh\\xef7\\xbc\\xa9\\xa0Y\\r\\x1f`\\n%\\x19l\\xa78\\xf4\\xe33\\x0e\\x1fpX\\xc5 P\\xa4\\x9b_\\x93\\xa6\\x18\\x05\\x04M\\x9a4i\\x02\\xfd_\\x80\\x01\\x00\\xed$ky]PVU\\x00\\x00\\x00\\x00IEND\\xaeB`\\x82'\n"
          ]
        },
        {
          "output_type": "error",
          "ename": "TypeError",
          "evalue": "ignored",
          "traceback": [
            "\u001b[0;31m---------------------------------------------------------------------------\u001b[0m",
            "\u001b[0;31mTypeError\u001b[0m                                 Traceback (most recent call last)",
            "\u001b[0;32m<ipython-input-2-752da611fcc5>\u001b[0m in \u001b[0;36m<cell line: 13>\u001b[0;34m()\u001b[0m\n\u001b[1;32m     11\u001b[0m \u001b[0;31m# write binary[바이너리 쓰기] 모드로\u001b[0m\u001b[0;34m\u001b[0m\u001b[0;34m\u001b[0m\u001b[0m\n\u001b[1;32m     12\u001b[0m \u001b[0mfile\u001b[0m \u001b[0;34m=\u001b[0m \u001b[0mopen\u001b[0m\u001b[0;34m(\u001b[0m\u001b[0;34m\"output.png\"\u001b[0m\u001b[0;34m,\u001b[0m \u001b[0;34m\"w\"\u001b[0m\u001b[0;34m)\u001b[0m\u001b[0;34m\u001b[0m\u001b[0;34m\u001b[0m\u001b[0m\n\u001b[0;32m---> 13\u001b[0;31m \u001b[0mfile\u001b[0m\u001b[0;34m.\u001b[0m\u001b[0mwrite\u001b[0m\u001b[0;34m(\u001b[0m\u001b[0moutput\u001b[0m\u001b[0;34m)\u001b[0m \u001b[0;31m# 가져온 output(이미지) 데이터를 코드로 출력해본다.\u001b[0m\u001b[0;34m\u001b[0m\u001b[0;34m\u001b[0m\u001b[0m\n\u001b[0m\u001b[1;32m     14\u001b[0m \u001b[0mfile\u001b[0m\u001b[0;34m.\u001b[0m\u001b[0mclose\u001b[0m\u001b[0;34m(\u001b[0m\u001b[0;34m)\u001b[0m\u001b[0;34m\u001b[0m\u001b[0;34m\u001b[0m\u001b[0m\n",
            "\u001b[0;31mTypeError\u001b[0m: write() argument must be str, not bytes"
          ]
        }
      ]
    },
    {
      "cell_type": "code",
      "source": [
        "pip list # 컴퓨터에 설치된 모듈을 찾아보기."
      ],
      "metadata": {
        "id": "HgjevjvIR_HY",
        "colab": {
          "base_uri": "https://localhost:8080/"
        },
        "outputId": "f1316879-8fcc-430d-97f4-50bd5d0f16dc"
      },
      "execution_count": 14,
      "outputs": [
        {
          "output_type": "stream",
          "name": "stdout",
          "text": [
            "Package                          Version\n",
            "-------------------------------- ---------------------\n",
            "absl-py                          1.4.0\n",
            "aiohttp                          3.8.5\n",
            "aiosignal                        1.3.1\n",
            "alabaster                        0.7.13\n",
            "albumentations                   1.3.1\n",
            "altair                           4.2.2\n",
            "annotated-types                  0.5.0\n",
            "anyio                            3.7.1\n",
            "appdirs                          1.4.4\n",
            "argon2-cffi                      23.1.0\n",
            "argon2-cffi-bindings             21.2.0\n",
            "array-record                     0.4.1\n",
            "arviz                            0.15.1\n",
            "astropy                          5.3.2\n",
            "astunparse                       1.6.3\n",
            "async-timeout                    4.0.3\n",
            "attrs                            23.1.0\n",
            "audioread                        3.0.0\n",
            "autograd                         1.6.2\n",
            "Babel                            2.12.1\n",
            "backcall                         0.2.0\n",
            "beautifulsoup4                   4.11.2\n",
            "bleach                           6.0.0\n",
            "blinker                          1.4\n",
            "blis                             0.7.10\n",
            "blosc2                           2.0.0\n",
            "bokeh                            3.2.2\n",
            "branca                           0.6.0\n",
            "build                            0.10.0\n",
            "CacheControl                     0.13.1\n",
            "cachetools                       5.3.1\n",
            "catalogue                        2.0.9\n",
            "certifi                          2023.7.22\n",
            "cffi                             1.15.1\n",
            "chardet                          5.2.0\n",
            "charset-normalizer               3.2.0\n",
            "chex                             0.1.7\n",
            "click                            8.1.7\n",
            "click-plugins                    1.1.1\n",
            "cligj                            0.7.2\n",
            "cloudpickle                      2.2.1\n",
            "cmake                            3.27.2\n",
            "cmdstanpy                        1.1.0\n",
            "colorcet                         3.0.1\n",
            "colorlover                       0.3.0\n",
            "community                        1.0.0b1\n",
            "confection                       0.1.1\n",
            "cons                             0.4.6\n",
            "contextlib2                      21.6.0\n",
            "contourpy                        1.1.0\n",
            "convertdate                      2.4.0\n",
            "cryptography                     41.0.3\n",
            "cufflinks                        0.17.3\n",
            "cvxopt                           1.3.2\n",
            "cvxpy                            1.3.2\n",
            "cycler                           0.11.0\n",
            "cymem                            2.0.7\n",
            "Cython                           0.29.36\n",
            "dask                             2023.8.1\n",
            "datascience                      0.17.6\n",
            "db-dtypes                        1.1.1\n",
            "dbus-python                      1.2.18\n",
            "debugpy                          1.6.6\n",
            "decorator                        4.4.2\n",
            "defusedxml                       0.7.1\n",
            "distributed                      2023.8.1\n",
            "distro                           1.7.0\n",
            "dlib                             19.24.2\n",
            "dm-tree                          0.1.8\n",
            "docutils                         0.18.1\n",
            "dopamine-rl                      4.0.6\n",
            "duckdb                           0.8.1\n",
            "earthengine-api                  0.1.364\n",
            "easydict                         1.10\n",
            "ecos                             2.0.12\n",
            "editdistance                     0.6.2\n",
            "en-core-web-sm                   3.6.0\n",
            "entrypoints                      0.4\n",
            "ephem                            4.1.4\n",
            "et-xmlfile                       1.1.0\n",
            "etils                            1.4.1\n",
            "etuples                          0.3.9\n",
            "exceptiongroup                   1.1.3\n",
            "fastai                           2.7.12\n",
            "fastcore                         1.5.29\n",
            "fastdownload                     0.0.7\n",
            "fastjsonschema                   2.18.0\n",
            "fastprogress                     1.0.3\n",
            "fastrlock                        0.8.1\n",
            "filelock                         3.12.2\n",
            "Fiona                            1.9.4.post1\n",
            "firebase-admin                   5.3.0\n",
            "Flask                            2.2.5\n",
            "flatbuffers                      23.5.26\n",
            "flax                             0.7.2\n",
            "folium                           0.14.0\n",
            "fonttools                        4.42.1\n",
            "frozendict                       2.3.8\n",
            "frozenlist                       1.4.0\n",
            "fsspec                           2023.6.0\n",
            "future                           0.18.3\n",
            "gast                             0.4.0\n",
            "gcsfs                            2023.6.0\n",
            "GDAL                             3.4.3\n",
            "gdown                            4.6.6\n",
            "gensim                           4.3.1\n",
            "geographiclib                    2.0\n",
            "geopandas                        0.13.2\n",
            "geopy                            2.3.0\n",
            "gin-config                       0.5.0\n",
            "glob2                            0.7\n",
            "google                           2.0.3\n",
            "google-api-core                  2.11.1\n",
            "google-api-python-client         2.84.0\n",
            "google-auth                      2.17.3\n",
            "google-auth-httplib2             0.1.0\n",
            "google-auth-oauthlib             1.0.0\n",
            "google-cloud-bigquery            3.10.0\n",
            "google-cloud-bigquery-connection 1.12.1\n",
            "google-cloud-bigquery-storage    2.22.0\n",
            "google-cloud-core                2.3.3\n",
            "google-cloud-datastore           2.15.2\n",
            "google-cloud-firestore           2.11.1\n",
            "google-cloud-functions           1.13.2\n",
            "google-cloud-language            2.9.1\n",
            "google-cloud-storage             2.8.0\n",
            "google-cloud-translate           3.11.3\n",
            "google-colab                     1.0.0\n",
            "google-crc32c                    1.5.0\n",
            "google-pasta                     0.2.0\n",
            "google-resumable-media           2.5.0\n",
            "googleapis-common-protos         1.60.0\n",
            "googledrivedownloader            0.4\n",
            "graphviz                         0.20.1\n",
            "greenlet                         2.0.2\n",
            "grpc-google-iam-v1               0.12.6\n",
            "grpcio                           1.57.0\n",
            "grpcio-status                    1.48.2\n",
            "gspread                          3.4.2\n",
            "gspread-dataframe                3.3.1\n",
            "gym                              0.25.2\n",
            "gym-notices                      0.0.8\n",
            "h5netcdf                         1.2.0\n",
            "h5py                             3.9.0\n",
            "holidays                         0.31\n",
            "holoviews                        1.17.1\n",
            "html5lib                         1.1\n",
            "httpimport                       1.3.1\n",
            "httplib2                         0.22.0\n",
            "humanize                         4.7.0\n",
            "hyperopt                         0.2.7\n",
            "idna                             3.4\n",
            "imageio                          2.31.1\n",
            "imageio-ffmpeg                   0.4.8\n",
            "imagesize                        1.4.1\n",
            "imbalanced-learn                 0.10.1\n",
            "imgaug                           0.4.0\n",
            "importlib-metadata               6.8.0\n",
            "importlib-resources              6.0.1\n",
            "imutils                          0.5.4\n",
            "inflect                          7.0.0\n",
            "iniconfig                        2.0.0\n",
            "intel-openmp                     2023.2.0\n",
            "ipykernel                        5.5.6\n",
            "ipython                          7.34.0\n",
            "ipython-genutils                 0.2.0\n",
            "ipython-sql                      0.5.0\n",
            "ipywidgets                       7.7.1\n",
            "itsdangerous                     2.1.2\n",
            "jax                              0.4.14\n",
            "jaxlib                           0.4.14+cuda11.cudnn86\n",
            "jeepney                          0.7.1\n",
            "jieba                            0.42.1\n",
            "Jinja2                           3.1.2\n",
            "joblib                           1.3.2\n",
            "jsonpickle                       3.0.2\n",
            "jsonschema                       4.19.0\n",
            "jsonschema-specifications        2023.7.1\n",
            "jupyter-client                   6.1.12\n",
            "jupyter-console                  6.1.0\n",
            "jupyter_core                     5.3.1\n",
            "jupyter-server                   1.24.0\n",
            "jupyterlab-pygments              0.2.2\n",
            "jupyterlab-widgets               3.0.8\n",
            "kaggle                           1.5.16\n",
            "keras                            2.12.0\n",
            "keyring                          23.5.0\n",
            "kiwisolver                       1.4.4\n",
            "langcodes                        3.3.0\n",
            "launchpadlib                     1.10.16\n",
            "lazr.restfulclient               0.14.4\n",
            "lazr.uri                         1.0.6\n",
            "lazy_loader                      0.3\n",
            "libclang                         16.0.6\n",
            "librosa                          0.10.1\n",
            "lightgbm                         4.0.0\n",
            "linkify-it-py                    2.0.2\n",
            "lit                              16.0.6\n",
            "llvmlite                         0.39.1\n",
            "locket                           1.0.0\n",
            "logical-unification              0.4.6\n",
            "LunarCalendar                    0.0.9\n",
            "lxml                             4.9.3\n",
            "Markdown                         3.4.4\n",
            "markdown-it-py                   3.0.0\n",
            "MarkupSafe                       2.1.3\n",
            "matplotlib                       3.7.1\n",
            "matplotlib-inline                0.1.6\n",
            "matplotlib-venn                  0.11.9\n",
            "mdit-py-plugins                  0.4.0\n",
            "mdurl                            0.1.2\n",
            "miniKanren                       1.0.3\n",
            "missingno                        0.5.2\n",
            "mistune                          0.8.4\n",
            "mizani                           0.9.2\n",
            "mkl                              2023.2.0\n",
            "ml-dtypes                        0.2.0\n",
            "mlxtend                          0.22.0\n",
            "more-itertools                   10.1.0\n",
            "moviepy                          1.0.3\n",
            "mpmath                           1.3.0\n",
            "msgpack                          1.0.5\n",
            "multidict                        6.0.4\n",
            "multipledispatch                 1.0.0\n",
            "multitasking                     0.0.11\n",
            "murmurhash                       1.0.9\n",
            "music21                          9.1.0\n",
            "natsort                          8.4.0\n",
            "nbclassic                        1.0.0\n",
            "nbclient                         0.8.0\n",
            "nbconvert                        6.5.4\n",
            "nbformat                         5.9.2\n",
            "nest-asyncio                     1.5.7\n",
            "networkx                         3.1\n",
            "nibabel                          4.0.2\n",
            "nltk                             3.8.1\n",
            "notebook                         6.5.5\n",
            "notebook_shim                    0.2.3\n",
            "numba                            0.56.4\n",
            "numexpr                          2.8.5\n",
            "numpy                            1.23.5\n",
            "oauth2client                     4.1.3\n",
            "oauthlib                         3.2.2\n",
            "opencv-contrib-python            4.8.0.76\n",
            "opencv-python                    4.8.0.76\n",
            "opencv-python-headless           4.8.0.76\n",
            "openpyxl                         3.1.2\n",
            "opt-einsum                       3.3.0\n",
            "optax                            0.1.7\n",
            "orbax-checkpoint                 0.3.5\n",
            "osqp                             0.6.2.post8\n",
            "packaging                        23.1\n",
            "pandas                           1.5.3\n",
            "pandas-datareader                0.10.0\n",
            "pandas-gbq                       0.17.9\n",
            "pandocfilters                    1.5.0\n",
            "panel                            1.2.1\n",
            "param                            1.13.0\n",
            "parso                            0.8.3\n",
            "partd                            1.4.0\n",
            "pathlib                          1.0.1\n",
            "pathy                            0.10.2\n",
            "patsy                            0.5.3\n",
            "pexpect                          4.8.0\n",
            "pickleshare                      0.7.5\n",
            "Pillow                           9.4.0\n",
            "pip                              23.1.2\n",
            "pip-tools                        6.13.0\n",
            "platformdirs                     3.10.0\n",
            "plotly                           5.15.0\n",
            "plotnine                         0.12.2\n",
            "pluggy                           1.2.0\n",
            "polars                           0.17.3\n",
            "pooch                            1.7.0\n",
            "portpicker                       1.5.2\n",
            "prefetch-generator               1.0.3\n",
            "preshed                          3.0.8\n",
            "prettytable                      3.8.0\n",
            "primePy                          1.3\n",
            "proglog                          0.1.10\n",
            "progressbar2                     4.2.0\n",
            "prometheus-client                0.17.1\n",
            "promise                          2.3\n",
            "prompt-toolkit                   3.0.39\n",
            "prophet                          1.1.4\n",
            "proto-plus                       1.22.3\n",
            "protobuf                         3.20.3\n",
            "psutil                           5.9.5\n",
            "psycopg2                         2.9.7\n",
            "ptyprocess                       0.7.0\n",
            "py-cpuinfo                       9.0.0\n",
            "py4j                             0.10.9.7\n",
            "pyarrow                          9.0.0\n",
            "pyasn1                           0.5.0\n",
            "pyasn1-modules                   0.3.0\n",
            "pycocotools                      2.0.7\n",
            "pycparser                        2.21\n",
            "pyct                             0.5.0\n",
            "pydantic                         2.2.1\n",
            "pydantic_core                    2.6.1\n",
            "pydata-google-auth               1.8.2\n",
            "pydot                            1.4.2\n",
            "pydot-ng                         2.0.0\n",
            "pydotplus                        2.0.2\n",
            "PyDrive                          1.3.1\n",
            "PyDrive2                         1.6.3\n",
            "pyerfa                           2.0.0.3\n",
            "pygame                           2.5.1\n",
            "Pygments                         2.16.1\n",
            "PyGObject                        3.42.1\n",
            "PyJWT                            2.3.0\n",
            "pymc                             5.7.2\n",
            "PyMeeus                          0.5.12\n",
            "pymystem3                        0.2.0\n",
            "PyOpenGL                         3.1.7\n",
            "pyOpenSSL                        23.2.0\n",
            "pyparsing                        3.1.1\n",
            "pyproj                           3.6.0\n",
            "pyproject_hooks                  1.0.0\n",
            "PySocks                          1.7.1\n",
            "pytensor                         2.14.2\n",
            "pytest                           7.4.0\n",
            "python-apt                       0.0.0\n",
            "python-dateutil                  2.8.2\n",
            "python-louvain                   0.16\n",
            "python-slugify                   8.0.1\n",
            "python-utils                     3.7.0\n",
            "pytz                             2023.3\n",
            "pyviz_comms                      3.0.0\n",
            "PyWavelets                       1.4.1\n",
            "PyYAML                           6.0.1\n",
            "pyzmq                            23.2.1\n",
            "qdldl                            0.1.7.post0\n",
            "qudida                           0.0.4\n",
            "referencing                      0.30.2\n",
            "regex                            2023.6.3\n",
            "requests                         2.31.0\n",
            "requests-oauthlib                1.3.1\n",
            "requirements-parser              0.5.0\n",
            "rich                             13.5.2\n",
            "rpds-py                          0.9.2\n",
            "rpy2                             3.4.2\n",
            "rsa                              4.9\n",
            "scikit-image                     0.19.3\n",
            "scikit-learn                     1.2.2\n",
            "scipy                            1.10.1\n",
            "scs                              3.2.3\n",
            "seaborn                          0.12.2\n",
            "SecretStorage                    3.3.1\n",
            "Send2Trash                       1.8.2\n",
            "setuptools                       67.7.2\n",
            "shapely                          2.0.1\n",
            "six                              1.16.0\n",
            "sklearn-pandas                   2.2.0\n",
            "smart-open                       6.3.0\n",
            "sniffio                          1.3.0\n",
            "snowballstemmer                  2.2.0\n",
            "sortedcontainers                 2.4.0\n",
            "soundfile                        0.12.1\n",
            "soupsieve                        2.4.1\n",
            "soxr                             0.3.6\n",
            "spacy                            3.6.1\n",
            "spacy-legacy                     3.0.12\n",
            "spacy-loggers                    1.0.4\n",
            "Sphinx                           5.0.2\n",
            "sphinxcontrib-applehelp          1.0.7\n",
            "sphinxcontrib-devhelp            1.0.5\n",
            "sphinxcontrib-htmlhelp           2.0.4\n",
            "sphinxcontrib-jsmath             1.0.1\n",
            "sphinxcontrib-qthelp             1.0.6\n",
            "sphinxcontrib-serializinghtml    1.1.9\n",
            "SQLAlchemy                       2.0.20\n",
            "sqlparse                         0.4.4\n",
            "srsly                            2.4.7\n",
            "statsmodels                      0.14.0\n",
            "sympy                            1.12\n",
            "tables                           3.8.0\n",
            "tabulate                         0.9.0\n",
            "tbb                              2021.10.0\n",
            "tblib                            2.0.0\n",
            "tenacity                         8.2.3\n",
            "tensorboard                      2.12.3\n",
            "tensorboard-data-server          0.7.1\n",
            "tensorflow                       2.12.0\n",
            "tensorflow-datasets              4.9.2\n",
            "tensorflow-estimator             2.12.0\n",
            "tensorflow-gcs-config            2.12.0\n",
            "tensorflow-hub                   0.14.0\n",
            "tensorflow-io-gcs-filesystem     0.33.0\n",
            "tensorflow-metadata              1.14.0\n",
            "tensorflow-probability           0.20.1\n",
            "tensorstore                      0.1.41\n",
            "termcolor                        2.3.0\n",
            "terminado                        0.17.1\n",
            "text-unidecode                   1.3\n",
            "textblob                         0.17.1\n",
            "tf-slim                          1.1.0\n",
            "thinc                            8.1.12\n",
            "threadpoolctl                    3.2.0\n",
            "tifffile                         2023.8.12\n",
            "tinycss2                         1.2.1\n",
            "toml                             0.10.2\n",
            "tomli                            2.0.1\n",
            "toolz                            0.12.0\n",
            "torch                            2.0.1+cu118\n",
            "torchaudio                       2.0.2+cu118\n",
            "torchdata                        0.6.1\n",
            "torchsummary                     1.5.1\n",
            "torchtext                        0.15.2\n",
            "torchvision                      0.15.2+cu118\n",
            "tornado                          6.3.2\n",
            "tqdm                             4.66.1\n",
            "traitlets                        5.7.1\n",
            "triton                           2.0.0\n",
            "tweepy                           4.13.0\n",
            "typer                            0.9.0\n",
            "types-setuptools                 68.1.0.1\n",
            "typing_extensions                4.7.1\n",
            "tzlocal                          5.0.1\n",
            "uc-micro-py                      1.0.2\n",
            "uritemplate                      4.1.1\n",
            "urllib3                          2.0.4\n",
            "vega-datasets                    0.9.0\n",
            "wadllib                          1.3.6\n",
            "wasabi                           1.1.2\n",
            "wcwidth                          0.2.6\n",
            "webcolors                        1.13\n",
            "webencodings                     0.5.1\n",
            "websocket-client                 1.6.2\n",
            "Werkzeug                         2.3.7\n",
            "wheel                            0.41.2\n",
            "widgetsnbextension               3.6.5\n",
            "wordcloud                        1.9.2\n",
            "wrapt                            1.14.1\n",
            "xarray                           2023.7.0\n",
            "xarray-einstats                  0.6.0\n",
            "xgboost                          1.7.6\n",
            "xlrd                             2.0.1\n",
            "xyzservices                      2023.7.0\n",
            "yarl                             1.9.2\n",
            "yellowbrick                      1.5\n",
            "yfinance                         0.2.28\n",
            "zict                             3.0.0\n",
            "zipp                             3.16.2\n"
          ]
        }
      ]
    },
    {
      "cell_type": "code",
      "source": [
        "pip show beautifulsoup4 # 모듈이 설치된 위치를 확인해보기."
      ],
      "metadata": {
        "colab": {
          "base_uri": "https://localhost:8080/"
        },
        "id": "9UdqiAK7TK6D",
        "outputId": "14456a92-038c-4c6e-8b08-7f8629846da6"
      },
      "execution_count": 15,
      "outputs": [
        {
          "output_type": "stream",
          "name": "stdout",
          "text": [
            "Name: beautifulsoup4\n",
            "Version: 4.11.2\n",
            "Summary: Screen-scraping library\n",
            "Home-page: https://www.crummy.com/software/BeautifulSoup/bs4/\n",
            "Author: Leonard Richardson\n",
            "Author-email: leonardr@segfault.org\n",
            "License: MIT\n",
            "Location: /usr/local/lib/python3.10/dist-packages\n",
            "Requires: soupsieve\n",
            "Required-by: gdown, google, nbconvert, yfinance\n"
          ]
        }
      ]
    },
    {
      "cell_type": "code",
      "source": [
        "# location에 모듈이 설치되어 있다.ㄴ\n",
        "# 처음 모듈을 분석할 때 일단 코드가 기니까 오랜 시간을 갖고 차근차근 분석해보자.\n",
        "# 모듈들이 꼬리를 문다고 그런 모듈들을 모두 타고 올라가며 분석할 필요는 없다.\n",
        "# '이런 코드가 이런 기능을 하는구나', '이런 기능을 구현할 때 조건문과 반복문이 아니라 리스트와 클래스를 활용했구나' 라는 형태로\n",
        "# 스스로 생각하기 힘들었던 부분들을 찾을 수 있으면 그것으로 충분하다."
      ],
      "metadata": {
        "id": "v-e2NsOPTeuw"
      },
      "execution_count": null,
      "outputs": []
    }
  ]
}