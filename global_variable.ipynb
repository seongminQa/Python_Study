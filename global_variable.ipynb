{
  "nbformat": 4,
  "nbformat_minor": 0,
  "metadata": {
    "colab": {
      "provenance": [],
      "authorship_tag": "ABX9TyOb6pdRdusVIe9oygFIxsEp",
      "include_colab_link": true
    },
    "kernelspec": {
      "name": "python3",
      "display_name": "Python 3"
    },
    "language_info": {
      "name": "python"
    }
  },
  "cells": [
    {
      "cell_type": "markdown",
      "metadata": {
        "id": "view-in-github",
        "colab_type": "text"
      },
      "source": [
        "<a href=\"https://colab.research.google.com/github/seongminQa/Python_Study/blob/main/global_variable.ipynb\" target=\"_parent\"><img src=\"https://colab.research.google.com/assets/colab-badge.svg\" alt=\"Open In Colab\"/></a>"
      ]
    },
    {
      "cell_type": "markdown",
      "source": [
        "## 프로그래밍 언어에서 변수를 분류하는 방법은 여러가지가 있다.\n",
        " 그 중에 하나로 전역변수와 지역변수의 개념이 있다. 일반적으로 전역변수는 프로그램에 혼란을 주기 때문에 사용을 권장하지 않는다. 하지만, 코딩을 하다보면 전역변수를 사용하면 더 쉽게 코딩할 수 있는 경우가 있다. 그 외에도 유용하게 사용할 수 있는 방법이 있다.\n",
        "\n"
      ],
      "metadata": {
        "id": "fivnZoio1iIb"
      }
    },
    {
      "cell_type": "code",
      "execution_count": 2,
      "metadata": {
        "colab": {
          "base_uri": "https://localhost:8080/",
          "height": 242
        },
        "id": "KEjhtcAk1Ypf",
        "outputId": "1ed5e100-ba45-48c8-98e4-84c9194d2782"
      },
      "outputs": [
        {
          "output_type": "stream",
          "name": "stdout",
          "text": [
            "5\n"
          ]
        },
        {
          "output_type": "error",
          "ename": "NameError",
          "evalue": "ignored",
          "traceback": [
            "\u001b[0;31m---------------------------------------------------------------------------\u001b[0m",
            "\u001b[0;31mNameError\u001b[0m                                 Traceback (most recent call last)",
            "\u001b[0;32m<ipython-input-2-d6fe5a14bf3b>\u001b[0m in \u001b[0;36m<cell line: 8>\u001b[0;34m()\u001b[0m\n\u001b[1;32m      6\u001b[0m \u001b[0;34m\u001b[0m\u001b[0m\n\u001b[1;32m      7\u001b[0m \u001b[0mprint\u001b[0m\u001b[0;34m(\u001b[0m\u001b[0mtest\u001b[0m\u001b[0;34m(\u001b[0m\u001b[0;34m)\u001b[0m\u001b[0;34m)\u001b[0m\u001b[0;34m\u001b[0m\u001b[0;34m\u001b[0m\u001b[0m\n\u001b[0;32m----> 8\u001b[0;31m \u001b[0mprint\u001b[0m\u001b[0;34m(\u001b[0m\u001b[0ma\u001b[0m\u001b[0;34m)\u001b[0m    \u001b[0;31m# 함수 안의 변수들은 지역변수로 함수 영역 밖에서는 호출하여 사용할 수 없다\u001b[0m\u001b[0;34m\u001b[0m\u001b[0;34m\u001b[0m\u001b[0m\n\u001b[0m",
            "\u001b[0;31mNameError\u001b[0m: name 'a' is not defined"
          ]
        }
      ],
      "source": [
        "def test():\n",
        "    a = 3\n",
        "    b = 2\n",
        "\n",
        "    return a + b\n",
        "\n",
        "print(test())\n",
        "print(a)    # 함수 안의 변수들은 지역변수로 함수 영역 밖에서는 호출하여 사용할 수 없다"
      ]
    },
    {
      "cell_type": "markdown",
      "source": [
        "# 전역변수를 선언하는 방법은?\n",
        "전역변수를 선언하는 방법은 변수명 앞에 global을 붙이는 것이다. 아래와 같이 함수 안에서 global을 붙여도 되고, 함수 밖에서 global을 붙여도 된다. 하지만 함수 밖에서 선언하였다면 함수 안에서 사용을 명시해주어야 한다."
      ],
      "metadata": {
        "id": "ppF4TSjI18o0"
      }
    },
    {
      "cell_type": "markdown",
      "source": [
        "1) 함수 안에서 global로 전역변수 선언하기"
      ],
      "metadata": {
        "id": "p4Ogf1o-2Ds5"
      }
    },
    {
      "cell_type": "code",
      "source": [
        "def test():\n",
        "    global a\n",
        "    a = 3\n",
        "    b = 2\n",
        "\n",
        "    return a + b\n",
        "\n",
        "print(test())\n",
        "print(a)"
      ],
      "metadata": {
        "colab": {
          "base_uri": "https://localhost:8080/"
        },
        "id": "8L3woh4W1uYl",
        "outputId": "724f352a-4157-4ffe-f014-6e8bc2a1dde6"
      },
      "execution_count": 3,
      "outputs": [
        {
          "output_type": "stream",
          "name": "stdout",
          "text": [
            "5\n",
            "3\n"
          ]
        }
      ]
    },
    {
      "cell_type": "markdown",
      "source": [
        "2) 함수 밖에서 global로 전역변수 선언하기<br><br>\n",
        "\n",
        "함수 밖에서 global로 전역변수 선언을 하였어도, 함수 안에도 전역변수 사용을 또 명시해 주어야 한다. 함수 안에서 전역변수 사용을 명시해주지 않으면 해당 변수는 지역변수로 처리되고 만다. 아래 코드에서 함수 안에 global a를 삭제하면, a값은 1이 된다."
      ],
      "metadata": {
        "id": "SvSY4I_J2Ich"
      }
    },
    {
      "cell_type": "code",
      "source": [
        "global a\n",
        "a = 1\n",
        "\n",
        "def test():\n",
        "    global a\n",
        "    a = 3\n",
        "    b = 2\n",
        "\n",
        "    return a + b\n",
        "\n",
        "\n",
        "print(test())\n",
        "print(a)"
      ],
      "metadata": {
        "colab": {
          "base_uri": "https://localhost:8080/"
        },
        "id": "gE7o5f_N2HCR",
        "outputId": "331e7016-5d02-47ac-d648-21fa95f86596"
      },
      "execution_count": 4,
      "outputs": [
        {
          "output_type": "stream",
          "name": "stdout",
          "text": [
            "5\n",
            "3\n"
          ]
        }
      ]
    },
    {
      "cell_type": "markdown",
      "source": [
        "## 정리를 하고 보니 함수 안이나 밖에서 전역변수를 선언하는 것보다, 함수 안에서 전역변수 사용을 명시해 주는 것이 중요하겠다."
      ],
      "metadata": {
        "id": "QKXn9RZj2aIV"
      }
    },
    {
      "cell_type": "markdown",
      "source": [
        "# 유용하게 사용할 수 있는 방법은?\n",
        "전체 코드에서 체크해야 하는 값이 있을 때 전역변수를 사용하면 편리하다. 특히 함수가 있는 코드를 실행하거나 수정할 때, 에러가 발생하거나 값이 안 맞으면 확인하기가 곤란하다. 이럴 때 함수 안의 변수를 전역변수로 선언하면, 코드를 실행하며 함수 안의 값들을 체크할 수 있기 때문에 유용하다. 프로그램을 디버깅할 때 편리한 방법인 듯 하다."
      ],
      "metadata": {
        "id": "RFJu76eN2zL0"
      }
    },
    {
      "cell_type": "code",
      "source": [],
      "metadata": {
        "id": "bu1xigzt2J5W"
      },
      "execution_count": null,
      "outputs": []
    }
  ]
}