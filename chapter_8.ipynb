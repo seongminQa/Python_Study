{
  "nbformat": 4,
  "nbformat_minor": 0,
  "metadata": {
    "colab": {
      "provenance": [],
      "authorship_tag": "ABX9TyOqWvC3NiCqSM8sH3KcPQ9C"
    },
    "kernelspec": {
      "name": "python3",
      "display_name": "Python 3"
    },
    "language_info": {
      "name": "python"
    }
  },
  "cells": [
    {
      "cell_type": "markdown",
      "source": [
        "# 8-1 클래스의 기본\n",
        "클래스와 객체에 대해 다룬다.\n",
        "\n",
        "* 객체 : 클래스를 기반으로 속성과 메소드를 갖는 것\n",
        "* 객체 지향 프로그래밍 : 객체를 만들고 객체들의 상호작용을 중심으로 개발하는 방법론\n",
        "\n",
        "* 추상화 : 필요한 요소만을 사용해서 객체를 표현하는 것<br>\n",
        "(핵심적인 개념 또는 기능을 간추려 내는 것)"
      ],
      "metadata": {
        "id": "LhWkzA1DXA3N"
      }
    },
    {
      "cell_type": "markdown",
      "source": [
        "### 객체 만들기"
      ],
      "metadata": {
        "id": "ZEPU-Aj0Y2JI"
      }
    },
    {
      "cell_type": "code",
      "execution_count": null,
      "metadata": {
        "colab": {
          "base_uri": "https://localhost:8080/"
        },
        "id": "mIws4GOiUdae",
        "outputId": "2fc4030b-fecd-479e-b079-55a1b1b162db"
      },
      "outputs": [
        {
          "output_type": "stream",
          "name": "stdout",
          "text": [
            "이름\t총점\t평균\n",
            "윤인성\t368\t92.0\n",
            "연하진\t384\t96.0\n",
            "구지연\t356\t89.0\n",
            "나선주\t378\t94.5\n",
            "윤아린\t389\t97.25\n",
            "윤명월\t336\t84.0\n"
          ]
        }
      ],
      "source": [
        "# 학생 리스트를 선언한다.\n",
        "students = [\n",
        "    { \"name\" : \"윤인성\", \"korean\": 87, \"math\": 98, \"english\": 88, \"science\": 95},   # 딕셔너리 안의 딕셔너리 하나가 학생에 대한 정보.. 객체라 볼 수 있다.\n",
        "    { \"name\" : \"연하진\", \"korean\": 92, \"math\": 98, \"english\": 96, \"science\": 98},\n",
        "    { \"name\" : \"구지연\", \"korean\": 76, \"math\": 96, \"english\": 94, \"science\": 90},\n",
        "    { \"name\" : \"나선주\", \"korean\": 98, \"math\": 92, \"english\": 96, \"science\": 92},\n",
        "    { \"name\" : \"윤아린\", \"korean\": 95, \"math\": 98, \"english\": 98, \"science\": 98},\n",
        "    { \"name\" : \"윤명월\", \"korean\": 64, \"math\": 88, \"english\": 92, \"science\": 92}\n",
        "]\n",
        "\n",
        "# 학생을 한 명씩 반복한다.\n",
        "print(\"이름\", \"총점\", \"평균\", sep=\"\\t\")\n",
        "\n",
        "for student in students:\n",
        "  # 점수의 총합과 평균을 구한다.\n",
        "  score_sum = student[\"korean\"] + student[\"math\"] + \\\n",
        "              student[\"english\"] + student[\"science\"]\n",
        "  score_average = score_sum / 4\n",
        "\n",
        "  # 출력\n",
        "  print(student[\"name\"], score_sum, score_average, sep=\"\\t\")"
      ]
    },
    {
      "cell_type": "markdown",
      "source": [
        "### 객체를 만드는 함수(1)"
      ],
      "metadata": {
        "id": "ARVDAvR0a2T_"
      }
    },
    {
      "cell_type": "code",
      "source": [
        "# 딕셔너리를 리턴하는 함수를 선언\n",
        "def create_student(name, korean, math, english, science):   # 하나의 객체를 만들어주는 함수라 볼 수 있다.\n",
        "  return {\n",
        "      \"name\": name,\n",
        "      \"korean\": korean,\n",
        "      \"math\": math,\n",
        "      \"english\": english,\n",
        "      \"science\": science\n",
        "  }\n",
        "\n",
        "# 학생 리스트를 위의 함수를 활용하여 선언\n",
        "students = [\n",
        "    create_student(\"윤인성\", 87, 98, 88, 95), # 객체를 만들어 나감\n",
        "    create_student(\"연하진\", 98, 98, 96, 98),\n",
        "    create_student(\"구지연\", 76, 96, 94, 90),\n",
        "    create_student(\"나선주\", 98, 92, 96, 92),\n",
        "    create_student(\"윤아린\", 95, 98, 98, 98),\n",
        "    create_student(\"윤명월\", 64, 88, 92, 92)\n",
        "]\n",
        "\n",
        "# 학생을 한명씩 반복\n",
        "print(\"이름\", \"총점\", \"평균\", sep=\"\\t\")\n",
        "\n",
        "for student in students:\n",
        "  # 점수의 총합과 평균을 구한다.\n",
        "  score_sum = student[\"korean\"] + student[\"math\"] + \\\n",
        "              student[\"english\"] + student[\"science\"]\n",
        "  score_average = score_sum / 4\n",
        "\n",
        "  # 출력\n",
        "  print(student[\"name\"], score_sum, score_average, sep=\"\\t\")"
      ],
      "metadata": {
        "colab": {
          "base_uri": "https://localhost:8080/"
        },
        "id": "aOnNGxSMaKYg",
        "outputId": "358ab6c5-a74c-424c-ce92-497d03175a96"
      },
      "execution_count": null,
      "outputs": [
        {
          "output_type": "stream",
          "name": "stdout",
          "text": [
            "이름\t총점\t평균\n",
            "윤인성\t368\t92.0\n",
            "연하진\t390\t97.5\n",
            "구지연\t356\t89.0\n",
            "나선주\t378\t94.5\n",
            "윤아린\t389\t97.25\n",
            "윤명월\t336\t84.0\n"
          ]
        }
      ]
    },
    {
      "cell_type": "markdown",
      "source": [
        "### 객체를 처리하는 함수(2)"
      ],
      "metadata": {
        "id": "oqwm6IJ8cFOf"
      }
    },
    {
      "cell_type": "code",
      "source": [
        "# 딕셔너리를 리턴하는 함수를 선언\n",
        "def create_student(name, korean, math, english, science):\n",
        "  return {\n",
        "      \"name\": name,\n",
        "      \"korean\": korean,\n",
        "      \"math\": math,\n",
        "      \"english\": english,\n",
        "      \"science\": science\n",
        "  }\n",
        "\n",
        "# 학생을 처리하는 함수를 선언\n",
        "\n",
        "# 학생의 총점을 반환하는 함수\n",
        "def student_get_sum(student):\n",
        "  return student[\"korean\"] + student[\"math\"] + \\\n",
        "         student[\"english\"] + student[\"science\"]\n",
        "\n",
        "# 학생의 평균 점수를 반환하는 함수\n",
        "def student_get_average(student):\n",
        "  return student_get_sum(student) / 4\n",
        "\n",
        "# 학생의 이름과 총점, 평균을 보여주는 함수\n",
        "def student_to_string(student):\n",
        "  return \"{}\\t{}\\t{}\".format(\n",
        "                        student[\"name\"],\n",
        "                        student_get_sum(student),\n",
        "                        student_get_average(student)\n",
        "                      )\n",
        "\n",
        "# 학생 리스트를 위의 함수를 활용하여 선언\n",
        "students = [\n",
        "    create_student(\"윤인성\", 87, 98, 88, 95),\n",
        "    create_student(\"연하진\", 98, 98, 96, 98),\n",
        "    create_student(\"구지연\", 76, 96, 94, 90),\n",
        "    create_student(\"나선주\", 98, 92, 96, 92),\n",
        "    create_student(\"윤아린\", 95, 98, 98, 98),\n",
        "    create_student(\"윤명월\", 64, 88, 92, 92)\n",
        "]\n",
        "\n",
        "# 학생을 한명씩 반복\n",
        "print(\"이름\", \"총점\", \"평균\", sep=\"\\t\")\n",
        "\n",
        "for student in students:\n",
        "  print(student_to_string(student))"
      ],
      "metadata": {
        "colab": {
          "base_uri": "https://localhost:8080/"
        },
        "id": "Jh4v67G1bwM5",
        "outputId": "cc23a69e-6b30-47d1-ac4a-a8be4334df35"
      },
      "execution_count": null,
      "outputs": [
        {
          "output_type": "stream",
          "name": "stdout",
          "text": [
            "이름\t총점\t평균\n",
            "윤인성\t368\t92.0\n",
            "연하진\t390\t97.5\n",
            "구지연\t356\t89.0\n",
            "나선주\t378\t94.5\n",
            "윤아린\t389\t97.25\n",
            "윤명월\t336\t84.0\n"
          ]
        }
      ]
    },
    {
      "cell_type": "markdown",
      "source": [
        "학생이라는 객체와 관련된 기능이 위로 올라갔고, 이러한 객체를 사용하는 처리가 아래로 내려갔다.<br>\n",
        "이렇게 만들면 **'학생 객체와 관련된 기능'을 별도의 모듈로 빼서 관리할 수도 있다.**<br>\n",
        "이처럼 객체와 관련된 코드를 분리할 수 있게 하는 것이 객체 지향 프로그래밍의 핵심이다.<br><br>\n",
        "\n",
        "이런 코드가 너무 자주 사용되다 보니, 개발자들은 **클래스**라는 구조를 만들게 되었다."
      ],
      "metadata": {
        "id": "BdZPlDd1dkH6"
      }
    },
    {
      "cell_type": "markdown",
      "source": [
        "## 클래스 선언하기\n",
        "```\n",
        "class 클래스 이름:\n",
        "  클래스 내용\n",
        "```\n",
        "BeautifulSoup( )처럼 단어의 앞글자를 대문자로 만들고 이를 합쳐서 이름을 만드는 '**캐멀 케이스**'규칙을 지켜서 클래스 이름을 짓는 것이 다른 개발자들도 구분한 수 있는 관례이다.<br><br>\n",
        "\n",
        "이렇게 만들어진 클래스는 클래스 이름과 같은 함수(생성자)를 사용해서 객체를 만든다.\n",
        "```\n",
        "인스턴스 이름(변수 이름) = 클래스 이름() --> 생성자 함수라고 부른다\n",
        "```\n",
        "<br><br>\n",
        "\n",
        "인스턴스는 하나의 객체이자 클래스를 이용하여 만든 객체이다."
      ],
      "metadata": {
        "id": "bh90wyPCeXlS"
      }
    },
    {
      "cell_type": "code",
      "source": [
        "# 예시\n",
        "\n",
        "# 클래스를 선언\n",
        "class Student:\n",
        "  pass\n",
        "\n",
        "# 학생 선언\n",
        "student = Student() # 인스턴스 생성 # 여기서 Student()는 '생성자 함수'\n",
        "\n",
        "# 학생 리스트를 선언\n",
        "students = [\n",
        "    Student(),\n",
        "    Student(),\n",
        "    Student(),\n",
        "    Student(),\n",
        "    Student(),\n",
        "    Student()\n",
        "]"
      ],
      "metadata": {
        "id": "5GVlM7ECc7ay"
      },
      "execution_count": null,
      "outputs": []
    },
    {
      "cell_type": "markdown",
      "source": [
        "## 생성자\n",
        "클래스 이름과 같은 함수를 **생성자**라고 부른다.<br>\n",
        "클래스 내부에 __init__라는 함수를 만들면 객체를 생성할 때 처리할 내용을 작성할 수 있다.<br>\n",
        "```\n",
        "class 클래스 이름:\n",
        "  def __init__(self, 추가적인 매개변수):\n",
        "    pass\n",
        "```\n",
        "클래스 내부의 함수는 첫 번째 매개변수로 반드시 self를 입력해야 한다.<br>\n",
        "이때 **self는 '자기 자신'**을 나타내는 딕셔너리라고 생각하면 된다.<br>\n",
        "다만, self가 가지고 있는 속성과 기능에 접근할 때는 self.<식별자> 형태로 접근한다.\n",
        "* 참고 : https://velog.io/@magnoliarfsit/RePython-1.-self-%EC%9D%B4%ED%95%B4%ED%95%98%EA%B8%B0<br><br>\n",
        "\n",
        "\n",
        "self는 키워드가 아니라 단순한 식별자이므로, 변수 이름으로 활용해도 된다. 하지만 거의 모든 파이썬 개발자가 self라는 이름을 사용하고 있으므로 기본 규칙을 지키는 것이 좋다.<br><br>\n",
        "\n",
        "복습 결과, **인스턴스들을 생성하면 그 인스턴스들의 정보가 각기 다르고 구분해야하기 때문에 서로 다른 주소에 할당되고, 이를 구분하는 것이 self라고 봐도 무방하다.**<br>\n",
        " -> 따라서 self는 각각의 인스턴스 그 자체라고 볼 수 있다!!\n",
        "<br><br>\n",
        " **인스턴스화**란 설계도를 바탕으로 소프트웨어 세계에 구현된 구체적인 실체라 보면 된다"
      ],
      "metadata": {
        "id": "btc9RAljgbfB"
      }
    },
    {
      "cell_type": "code",
      "source": [
        "# 클래스 선언\n",
        "class Student:\n",
        "  def __init__(self, name, korean, math, english, science):\n",
        "    self.name = name\n",
        "    self.korean = korean\n",
        "    self.math = math\n",
        "    self.english = english\n",
        "    self.science = science\n",
        "\n",
        "# 학생 리스트 선언\n",
        "students = [\n",
        "    Student(\"윤인성\", 87, 98, 88, 95),\n",
        "    Student(\"연하진\", 98, 98, 96, 98),\n",
        "    Student(\"구지연\", 76, 96, 94, 90),\n",
        "    Student(\"나선주\", 98, 92, 96, 92),\n",
        "    Student(\"윤아린\", 95, 98, 98, 98),\n",
        "    Student(\"윤명월\", 64, 88, 92, 92)\n",
        "]\n",
        "\n",
        "# Student 인스턴스의 속성에 접근하는 방법\n",
        "print(students[0].name)\n",
        "print(students[0].korean)\n",
        "print(students[0].math)\n",
        "print(students[0].english)\n",
        "print(students[0].science)"
      ],
      "metadata": {
        "colab": {
          "base_uri": "https://localhost:8080/"
        },
        "id": "1qYxYMSegORi",
        "outputId": "6cd832be-ead8-464e-abd7-4dcc9d8b4445"
      },
      "execution_count": null,
      "outputs": [
        {
          "output_type": "stream",
          "name": "stdout",
          "text": [
            "윤인성\n",
            "87\n",
            "98\n",
            "88\n",
            "95\n"
          ]
        }
      ]
    },
    {
      "cell_type": "markdown",
      "source": [
        "## 메소드\n",
        "클래스가 가지고 있는 함수.\n",
        "```\n",
        "class 클래스 이름:\n",
        "  def 메소드 이름(self, 추가적인 매개변수):\n",
        "    pass\n",
        "```\n",
        "생성자를 선언하는 방법과 같다.<br>\n",
        "다만, 첫 번째 매개변수로 self를 넣어야 한다는 것을 기억하자"
      ],
      "metadata": {
        "id": "K61-sunAjbDQ"
      }
    },
    {
      "cell_type": "markdown",
      "source": [
        "### 클래스 내부에 함수(메소드) 선언하기"
      ],
      "metadata": {
        "id": "m38-i2MkkLFw"
      }
    },
    {
      "cell_type": "code",
      "source": [
        "# 클래스 선언\n",
        "class Student:\n",
        "  def __init__(self, name, korean, math, english, science):\n",
        "    self.name = name\n",
        "    self.korean = korean\n",
        "    self.math = math\n",
        "    self.english = english\n",
        "    self.science = science\n",
        "\n",
        "  def get_sum(self):\n",
        "    return self.korean + self.math + \\\n",
        "           self.english + self.science\n",
        "\n",
        "  def get_average(self):\n",
        "    return (self.get_sum) / 4\n",
        "\n",
        "  def to_string(self):\n",
        "    return \"{}\\t{}\\t{}\".format(\\\n",
        "                               self.name,\\\n",
        "                               self.get_sum(),\\\n",
        "                               self.get_average())\n",
        "\n",
        "\n",
        "# 학생 리스트 선언\n",
        "students = [\n",
        "    Student(\"윤인성\", 87, 98, 88, 95),\n",
        "    Student(\"연하진\", 98, 98, 96, 98),\n",
        "    Student(\"구지연\", 76, 96, 94, 90),\n",
        "    Student(\"나선주\", 98, 92, 96, 92),\n",
        "    Student(\"윤아린\", 95, 98, 98, 98),\n",
        "    Student(\"윤명월\", 64, 88, 92, 92)\n",
        "]\n",
        "\n",
        "# 학생을 한명씩 반복\n",
        "print(\"이름\", \"총점\", \"평균\", sep=\"\\t\")\n",
        "\n",
        "for student in students:      # students 리스트의 각각의 인자들은 객체!!\n",
        "  print(student.to_string())"
      ],
      "metadata": {
        "colab": {
          "base_uri": "https://localhost:8080/"
        },
        "id": "l4DPQH3PiBAe",
        "outputId": "7dfee3e8-aab7-454f-d59a-4a736e1e7e68"
      },
      "execution_count": null,
      "outputs": [
        {
          "output_type": "stream",
          "name": "stdout",
          "text": [
            "이름\t총점\t평균\n",
            "윤인성\t368\t92.0\n",
            "연하진\t390\t97.5\n",
            "구지연\t356\t89.0\n",
            "나선주\t378\t94.5\n",
            "윤아린\t389\t97.25\n",
            "윤명월\t336\t84.0\n"
          ]
        }
      ]
    },
    {
      "cell_type": "markdown",
      "source": [
        "# 정리\n",
        "* 객체 : 속성을 가질 수 있는 모든 것을 의미\n",
        "* 객체 지향 프로그래밍 : 객체를 기반으로 프로그램을 만드는 것\n",
        "* 추상화 : 복잡한 자료, 모듈, 시스템 등에서 핵심적인 개념 또는 기능을 간추려 내는 것\n",
        "* 클래스 : 객체를 쉽고 편리하게 생성하기 위해 만들어진 구문\n",
        "* 인스턴스 : 클래스를 기반으로 생성한 객체\n",
        "* 메소드 : 클래스가 가진 함수\n",
        "<br><br>\n",
        "* 참고 : https://gmlwjd9405.github.io/2018/09/17/class-object-instance.html\n",
        "* 참고 : https://velog.io/@dongvelop/Java-%ED%81%B4%EB%9E%98%EC%8A%A4-%EA%B0%9D%EC%B2%B4-%EC%9D%B8%EC%8A%A4%ED%84%B4%EC%8A%A4%EC%9D%98-%EC%B0%A8%EC%9D%B4"
      ],
      "metadata": {
        "id": "xR8RUivAT4uF"
      }
    },
    {
      "cell_type": "markdown",
      "source": [
        "# 이해를 돕기 위한 예제\n",
        "```\n",
        "class Human():  # 인간이란 클래스를 생성..\n",
        " pass\n",
        "\n",
        "teacher = Human()   # 인간이란 클래스를 이용한 객체를 만듦 (인스턴스화하는 코드)\n",
        "# self에 teacher가 들어간다고 생각하면 된다\n",
        "student = Human()   # 인간이란 클래스를 이용한 객체를 만듦 (인스턴스화하는 코드)\n",
        "# self에 student가 들어간다고 생각하면 된다\n",
        "\n",
        "# 인스턴스화를 하면 힙에 위치하게 됨\n",
        "# 여기서 teacher와 student는 Human()이란 클래스를 이용하여 만든 객체지만,\n",
        "# teacher와 student는 같지 않다.(이름, 나이, 성별 등 각기 정보가 다르다)\n",
        "\n",
        "teacher.name = '선생님'\n",
        "student.name = '학생'\n",
        "teacher.age = 32\n",
        "student.age = 18\n",
        "\n",
        "def intro(person):\n",
        "    print(\"{}의 나이는 {}입니다.\" .format(person.name, person.age))\n",
        "\n",
        "intro(teacher) # 선생님의 나이는 32입니다.\n",
        "intro(student) # 학생의 나이는 18입니다.\n",
        "```"
      ],
      "metadata": {
        "id": "4m9JRosliYmf"
      }
    },
    {
      "cell_type": "markdown",
      "source": [
        "# 8-1 확인문제"
      ],
      "metadata": {
        "id": "AiwS1PXpUVgC"
      }
    },
    {
      "cell_type": "markdown",
      "source": [
        "## 1번\n",
        "여러 가지 프로그램에 들어 있는 객체를 생각해보자.<br>\n",
        "예를 들어,<br><br>\n",
        "\n",
        "프로그램 <br>\n",
        "= 페이스북\n",
        "\n",
        "---\n",
        "\n",
        "객체 <br>\n",
        "= 개인정보  <br>\n",
        "= 타임라인 글  <br>\n",
        "= 그룹 정보\n",
        "\n",
        "---\n",
        "\n",
        "속성 <br>\n",
        "= 이름,이메일,비밀번호,프로필 사진,프로필 설명,친구 목록,타임라인 글 목록 등  <br>\n",
        "= 작성자,게시 시간, 좋아요를 누른 친구,댓글 등  <br>\n",
        "= 이름,설명,멤버 목록 등\n",
        "<br><br><br>\n",
        "데이터 설계를 배우지 않은 상태이지만,<br>\n",
        "기본 키와 외부키를 연결해서 데이터 설계가 어떻게 이루어질까? 생각해보자."
      ],
      "metadata": {
        "id": "UOrpiKzKUZLT"
      }
    },
    {
      "cell_type": "markdown",
      "source": [
        "## 2번\n",
        "같은 객체라도 사용되는 프로그램에 따라 속성이 달라질 수 있다.<br>\n",
        "예를 들어,<br>\n",
        "**'음식 주문 애플리케이션'**에서 가게 정보를 저장한다면,<br>\n",
        ": 가게 이름, 전화번호, 주소, 메뉴, 리뷰 목록 등을 저장할 것이다.<br>\n",
        "**'세금 관리 애플리케이션'**에서 가게 정보를 저장한다면,<br>\n",
        ": 사업자등록증번호, 매출 상세 목록 등의 속성을 저장할 것이다.\n",
        "<br><br>\n",
        "이와 같이 같은 객체라도 다른 속성을 갖게 되는 경우 세 종류 정도를 생각해 적어보자."
      ],
      "metadata": {
        "id": "wSUVa4JUjbj6"
      }
    },
    {
      "cell_type": "markdown",
      "source": [
        "## 3번\n",
        "모든 객체에는 속성과 직접 행위가 따라온다. 예를 들어, <br>\n",
        "음식 주문 애플리케이션의 가게 정보를 생각해보면, '이 버튼을 누르면 전화가 걸리고, 이 버튼을 누르면 원하는 메뉴를 주문할 수 있고, 이 버튼을 누르면 리뷰 목록에 리뷰를 추가할 수 있으며, 이 버튼을 누르면 가게의 위치를 보여주는' 등의 어떠한 자극에 대응되는 행위가 있다.<br>\n",
        "1번에서 찾아본 객체 중 두 가지를 선택해 그 행위를 다섯 가지씩 생각해 적어 보자."
      ],
      "metadata": {
        "id": "Ufp59edLkCZF"
      }
    },
    {
      "cell_type": "markdown",
      "source": [
        "# 8-2 클래스의 추가적인 구문\n",
        "클래스를 사용하는 것<br>\n",
        "= 작정하고 속성과 기능을 가진 객체를 만들겠단 의미"
      ],
      "metadata": {
        "id": "1ZDnDYZXtHj2"
      }
    },
    {
      "cell_type": "markdown",
      "source": [
        "### 어떤 클래스의 인스턴스인지 확인하기\n",
        "```\n",
        "isinstance(인스턴스, 클래스)\n",
        "```\n",
        "인스턴스가해당 클래스를 기반으로 만들어졌다면 True 반환<br>\n",
        "아니라면 False 반환"
      ],
      "metadata": {
        "id": "hshfZucDtVtG"
      }
    },
    {
      "cell_type": "code",
      "source": [
        "# 예제\n",
        "\n",
        "# 클래스 선언\n",
        "class Student:\n",
        "  def __init__(self):\n",
        "    pass\n",
        "\n",
        "# 학생 선언\n",
        "student = Student()  # 생성자로 student 객체를 인스턴스화\n",
        "\n",
        "# 인스턴스 확인하기\n",
        "print(\"isinstance(student, Student):\", isinstance(student, Student))"
      ],
      "metadata": {
        "id": "-hVQOkW_lDUp",
        "colab": {
          "base_uri": "https://localhost:8080/"
        },
        "outputId": "80a96369-ca65-468c-ecaa-bd76cce1f2d0"
      },
      "execution_count": null,
      "outputs": [
        {
          "output_type": "stream",
          "name": "stdout",
          "text": [
            "isinstance(student, Student): True\n"
          ]
        }
      ]
    },
    {
      "cell_type": "code",
      "source": [
        "# 단순한 인스턴스 확인\n",
        "type(student) == Student"
      ],
      "metadata": {
        "colab": {
          "base_uri": "https://localhost:8080/"
        },
        "id": "eX6Ypwxpt1AX",
        "outputId": "de1337a3-3c85-45df-d0fb-314808392c99"
      },
      "execution_count": null,
      "outputs": [
        {
          "output_type": "execute_result",
          "data": {
            "text/plain": [
              "True"
            ]
          },
          "metadata": {},
          "execution_count": 3
        }
      ]
    },
    {
      "cell_type": "markdown",
      "source": [
        "### isinstance()함수와 type()함수로 확인하는 것의 차이"
      ],
      "metadata": {
        "id": "RHzvfi9YuTEG"
      }
    },
    {
      "cell_type": "code",
      "source": [
        "# 클래스 선언\n",
        "class Human:\n",
        "  def __init__(self):\n",
        "    pass\n",
        "\n",
        "class Student(Human):   # Student는 Human 클래스의 상속을 받은 것.\n",
        "  def __init__(self):\n",
        "    pass\n",
        "\n",
        "# 학생 선언\n",
        "student = Student()\n",
        "\n",
        "# 인스턴스 확인\n",
        "print(\"isinstance(student, Human):\", isinstance(student, Human))\n",
        "print(\"type(student) == Human:\", type(student) == Human)\n",
        "print(\"type(type(student) == Human):\", type(type(student) == Human))\n",
        "\n",
        "\n",
        "# Student 클래스는 Human 클래스를 상속받아서 만들었다.\n",
        "# isinstance() 함수는 이러한 상속 관계까지 확인한다.**\n",
        "# 반면 type() 함수를 사용한 확인은 이러한 상속 관계를 확인하지 않는다."
      ],
      "metadata": {
        "colab": {
          "base_uri": "https://localhost:8080/"
        },
        "id": "MxcE7zG5uJK1",
        "outputId": "23b4d437-e066-43bc-e5e4-dddd0676b0bd"
      },
      "execution_count": null,
      "outputs": [
        {
          "output_type": "stream",
          "name": "stdout",
          "text": [
            "isinstance(student, Human): True\n",
            "type(student) == Human: False\n",
            "type(type(student) == Human): <class 'bool'>\n"
          ]
        }
      ]
    },
    {
      "cell_type": "markdown",
      "source": [
        "### isinstance() 함수 활용"
      ],
      "metadata": {
        "id": "CbFD90ArvRsU"
      }
    },
    {
      "cell_type": "code",
      "source": [
        "# 학생 클래스 선언\n",
        "class Student:\n",
        "  def study(self):\n",
        "    print(\"공부를 합니다.\")\n",
        "\n",
        "# 선생님 클래스 선언\n",
        "class Teacher:\n",
        "  def teach(self):\n",
        "    print(\"학생을 가르칩니다.\")\n",
        "\n",
        "# 교실 내부의 객체 리스트를 생성\n",
        "classroom = [Student(), Student(), Teacher(), Student(), Student()]\n",
        "\n",
        "# 반복을 적용하여 적절한 함수를 호출\n",
        "for person in classroom:\n",
        "  if isinstance(person, Student):\n",
        "    person.study()\n",
        "  elif isinstance(person, Teacher):\n",
        "    person.teach()"
      ],
      "metadata": {
        "colab": {
          "base_uri": "https://localhost:8080/"
        },
        "id": "f2RyzkDhu2Qz",
        "outputId": "11f7b247-578a-4a3d-99f9-b77882efe577"
      },
      "execution_count": null,
      "outputs": [
        {
          "output_type": "stream",
          "name": "stdout",
          "text": [
            "공부를 합니다.\n",
            "공부를 합니다.\n",
            "학생을 가르칩니다.\n",
            "공부를 합니다.\n",
            "공부를 합니다.\n"
          ]
        }
      ]
    },
    {
      "cell_type": "markdown",
      "source": [
        "## 특수한 이름의 메소드"
      ],
      "metadata": {
        "id": "f_-dkbKj8G8W"
      }
    },
    {
      "cell_type": "markdown",
      "source": [
        "### ```__str__() 함수```"
      ],
      "metadata": {
        "id": "InfjxxCbwjaP"
      }
    },
    {
      "cell_type": "code",
      "source": [
        "# 클래스 선언\n",
        "class Student:\n",
        "  def __init__(self, name, korean, math, english, science):\n",
        "    self.name = name\n",
        "    self.korean = korean\n",
        "    self.math = math\n",
        "    self.english = english\n",
        "    self.science = science\n",
        "\n",
        "  def get_sum(self):\n",
        "    return self.korean + self.math + \\\n",
        "           self.english + self.science\n",
        "\n",
        "  def get_average(self):\n",
        "    return self.get_sum() / 4\n",
        "\n",
        "  def __str__(self):\n",
        "    return \"{}\\t{}\\t{}\".format(\\\n",
        "                               self.name,\\\n",
        "                               self.get_sum(),\\\n",
        "                               self.get_average())\n",
        "\n",
        "# 학생 리스트 선언\n",
        "students = [\n",
        "    Student(\"윤인성\", 87, 98, 88, 95),\n",
        "    Student(\"연하진\", 98, 98, 96, 98),\n",
        "    Student(\"구지연\", 76, 96, 94, 90),\n",
        "    Student(\"나선주\", 98, 92, 96, 92),\n",
        "    Student(\"윤아린\", 95, 98, 98, 98),\n",
        "    Student(\"윤명월\", 64, 88, 92, 92)\n",
        "]\n",
        "\n",
        "# 학생을 한명씩 반복\n",
        "print(\"이름\", \"총점\", \"평균\", sep=\"\\t\")\n",
        "\n",
        "for student in students:\n",
        "  print(str(student))     # 클래스 내에서 만든 함수 __str__을 바로 사용할 수 있음"
      ],
      "metadata": {
        "colab": {
          "base_uri": "https://localhost:8080/"
        },
        "id": "Ri3geYoFv4iY",
        "outputId": "d1931d3b-c69d-4a82-95df-f54bed4bb121"
      },
      "execution_count": null,
      "outputs": [
        {
          "output_type": "stream",
          "name": "stdout",
          "text": [
            "이름\t총점\t평균\n",
            "윤인성\t368\t92.0\n",
            "연하진\t390\t97.5\n",
            "구지연\t356\t89.0\n",
            "나선주\t378\t94.5\n",
            "윤아린\t389\t97.25\n",
            "윤명월\t336\t84.0\n"
          ]
        }
      ]
    },
    {
      "cell_type": "markdown",
      "source": [
        "### 크기 비교 함수\n",
        "* 참고 : https://docs.python.org/ko/3.7/library/operator.html"
      ],
      "metadata": {
        "id": "DeF48oFiyu6x"
      }
    },
    {
      "cell_type": "code",
      "source": [
        "# 클래스 선언\n",
        "class Student:\n",
        "  def __init__(self, name, korean, math, english, science):\n",
        "    self.name = name\n",
        "    self.korean = korean\n",
        "    self.math = math\n",
        "    self.english = english\n",
        "    self.science = science\n",
        "\n",
        "  def get_sum(self):\n",
        "    return self.korean + self.math + \\\n",
        "           self.english + self.science\n",
        "\n",
        "  def get_average(self):\n",
        "    return self.get_sum() / 4\n",
        "\n",
        "  def __str__(self):\n",
        "    return \"{}\\t{}\\t{}\".format(\\\n",
        "                               self.name,\\\n",
        "                               self.get_sum(),\\\n",
        "                               self.get_average())\n",
        "\n",
        "  def __eq__(self, value):\n",
        "    return self.get_sum() == value.get_sum()\n",
        "\n",
        "  def __ne__(self, value):\n",
        "    return self.get_sum() != value.get_sum()\n",
        "\n",
        "  def __gt__(self, value):\n",
        "    return self.get_sum() > value.get_sum()\n",
        "\n",
        "  def __ge__(self, value):\n",
        "    return self.get_sum() >= value.get_sum()\n",
        "\n",
        "  def __lt__(self, value):\n",
        "    return self.get_sum() < value.get_sum()\n",
        "\n",
        "  def __le__(self, value):\n",
        "    return self.get_sum() <= value.get_sum()\n",
        "\n",
        "# 학생 리스트 선언\n",
        "students = [\n",
        "    Student(\"윤인성\", 87, 98, 88, 95),\n",
        "    Student(\"연하진\", 98, 98, 96, 98),\n",
        "    Student(\"구지연\", 76, 96, 94, 90),\n",
        "    Student(\"나선주\", 98, 92, 96, 92),\n",
        "    Student(\"윤아린\", 95, 98, 98, 98),\n",
        "    Student(\"윤명월\", 64, 88, 92, 92)\n",
        "]\n",
        "\n",
        "# 학생 두명만 선언\n",
        "student_a = Student(\"윤인성\", 87, 98, 88, 95)\n",
        "student_b = Student(\"연하진\", 98, 98, 96, 98)\n",
        "\n",
        "# 출력\n",
        "print(\"student_a == student_b = \", student_a == student_b)\n",
        "print(\"student_a != student_b = \", student_a != student_b)\n",
        "print(\"student_a > student_b = \", student_a > student_b)\n",
        "print(\"student_a >= student_b = \", student_a >= student_b)\n",
        "print(\"student_a < student_b = \", student_a < student_b)\n",
        "print(\"student_a <= student_b = \", student_a <= student_b)"
      ],
      "metadata": {
        "colab": {
          "base_uri": "https://localhost:8080/"
        },
        "id": "OkDJMhEPxBnM",
        "outputId": "5df69db3-2aa8-4268-a305-aabf2fa872a1"
      },
      "execution_count": null,
      "outputs": [
        {
          "output_type": "stream",
          "name": "stdout",
          "text": [
            "student_a == student_b =  False\n",
            "student_a != student_b =  True\n",
            "student_a > student_b =  False\n",
            "student_a >= student_b =  False\n",
            "student_a < student_b =  True\n",
            "student_a <= student_b =  True\n"
          ]
        }
      ]
    },
    {
      "cell_type": "markdown",
      "source": [
        "### **예외 처리**\n",
        "클래스 내에 내가 선언한 함수들\n",
        "```\n",
        "def __eq__ / def __nq__\n",
        "```\n",
        "등을 선언하게 되면 <br>\n",
        "이후 =, !=, >, >=, <, <= 을 사용할 때 곧바로 위에 정의한 함수가 호출된다!!!<br>\n",
        "서로 다른 자료형을 비교할 때도 마찬가지다.<br><br>\n",
        "\n",
        "만약 비교할 때 사용되는 자료형을 한정하고 싶다면 자료형을 한정하고 이외의 자료형을 사용할 때 예외를 발생시켜주자!!!\n",
        "```\n",
        "class Student:\n",
        "  # 생략 ..\n",
        "\n",
        "\n",
        "  def __eq__(self, value):\n",
        "    if not isinstance(value, Student):\n",
        "      raise TypeError(\"Student 클래스의 인스턴스만 비교할 수 있습니다\")\n",
        "    return self.get_sum() == value.get_sum()\n",
        "```\n",
        "이렇게 하면, Student의 인스턴스인 것들에 한정하여 비교할 수 있다."
      ],
      "metadata": {
        "id": "9ts_RfDQ5cAn"
      }
    },
    {
      "cell_type": "markdown",
      "source": [
        "## 클래스 변수와 메소드\n",
        "클래스 변수는 class 구문 바로 아래의 단계에 변수를 선언하기만 하면 된다.\n",
        "```\n",
        "class 클래스 이름:\n",
        "  클래스 변수 = 값\n",
        "```\n",
        "클래스 변수에 접근할 때\n",
        "```\n",
        "클래스 이름.변수 이름\n",
        "```"
      ],
      "metadata": {
        "id": "0E_XmCHx8Kb0"
      }
    },
    {
      "cell_type": "code",
      "source": [
        "# 클래스 선언\n",
        "class Student:\n",
        "  count = 0\n",
        "\n",
        "  def __init__(self, name, korean, math, english, science):\n",
        "    self.name = name\n",
        "    self.korean = korean\n",
        "    self.math = math\n",
        "    self.english = english\n",
        "    self.science = science\n",
        "\n",
        "    # 클래스 변수 설정\n",
        "    Student.count += 1\n",
        "    print(\"{}번째 학생이 생성되었습니다.\".format(Student.count))\n",
        "\n",
        "# 학생 리스트 선언\n",
        "students = [\n",
        "    Student(\"윤인성\", 87, 98, 88, 95),\n",
        "    Student(\"연하진\", 98, 98, 96, 98),\n",
        "    Student(\"구지연\", 76, 96, 94, 90),\n",
        "    Student(\"나선주\", 98, 92, 96, 92),\n",
        "    Student(\"윤아린\", 95, 98, 98, 98),\n",
        "    Student(\"윤명월\", 64, 88, 92, 92)\n",
        "]\n",
        "\n",
        "# 출력\n",
        "print()\n",
        "print(\"현재 생성된 총 학생 수는 {}명입니다.\".format(Student.count))"
      ],
      "metadata": {
        "colab": {
          "base_uri": "https://localhost:8080/"
        },
        "id": "U59H8F3l1pYt",
        "outputId": "cded68af-2eae-419e-eb4b-b191fad2b019"
      },
      "execution_count": null,
      "outputs": [
        {
          "output_type": "stream",
          "name": "stdout",
          "text": [
            "1번째 학생이 생성되었습니다.\n",
            "2번째 학생이 생성되었습니다.\n",
            "3번째 학생이 생성되었습니다.\n",
            "4번째 학생이 생성되었습니다.\n",
            "5번째 학생이 생성되었습니다.\n",
            "6번째 학생이 생성되었습니다.\n",
            "\n",
            "현재 생성된 총 학생 수는 6명입니다.\n"
          ]
        }
      ]
    },
    {
      "cell_type": "markdown",
      "source": [
        "### 클래스 함수 만들기\n",
        "```\n",
        "class 클래스 이름:\n",
        "  @classmethod\n",
        "  def 클래스 함수(cls, 매개변수):\n",
        "    pass\n",
        "```\n",
        "cls --> 관례적으로 사용<br>\n",
        "@ --> 파이썬에서 '데코레이터'라고 한다.<br><br>\n",
        "\n",
        "호출 방법\n",
        "```\n",
        "클래스 이름.함수 이름(매개변수)\n",
        "```"
      ],
      "metadata": {
        "id": "gOcH_-dV-bDg"
      }
    },
    {
      "cell_type": "markdown",
      "source": [
        "### 사용 방법, 상시 복습"
      ],
      "metadata": {
        "id": "hZGd-YlI9M9b"
      }
    },
    {
      "cell_type": "code",
      "source": [
        "# 클래스 선언\n",
        "class Student:\n",
        "  # 클래스 변수\n",
        "  count = 0\n",
        "  students = []\n",
        "\n",
        "  # 클래스 함수\n",
        "  @classmethod\n",
        "  def print(cls):\n",
        "    print(\"------ 학생 목록 ------\")\n",
        "    print(\"이름\\t총점\\t평균\")\n",
        "\n",
        "    for student in cls.students:\n",
        "      print(str(student))\n",
        "\n",
        "    print(\"------  ------  ------\")\n",
        "\n",
        "  def __init__(self, name, korean, math, english, science):\n",
        "    self.name = name\n",
        "    self.korean = korean\n",
        "    self.math = math\n",
        "    self.english = english\n",
        "    self.science = science\n",
        "    Student.count += 1\n",
        "    Student.students.append(self)\n",
        "\n",
        "  def get_sum(self):\n",
        "    return self.korean + self.math + \\\n",
        "           self.english + self.science\n",
        "\n",
        "  def get_average(self):\n",
        "    return self.get_sum() / 4\n",
        "\n",
        "  def __str__(self):\n",
        "    return \"{}\\t{}\\t{}\".format(\\\n",
        "                               self.name,\\\n",
        "                               self.get_sum(),\\\n",
        "                               self.get_average())\n",
        "\n",
        "# 학생 리스트 선언\n",
        "students = [\n",
        "    Student(\"윤인성\", 87, 98, 88, 95),\n",
        "    Student(\"연하진\", 98, 98, 96, 98),\n",
        "    Student(\"구지연\", 76, 96, 94, 90),\n",
        "    Student(\"나선주\", 98, 92, 96, 92),\n",
        "    Student(\"윤아린\", 95, 98, 98, 98),\n",
        "    Student(\"윤명월\", 64, 88, 92, 92)\n",
        "]\n",
        "\n",
        "# 출력\n",
        "Student.print()"
      ],
      "metadata": {
        "colab": {
          "base_uri": "https://localhost:8080/"
        },
        "id": "RSwNP8A-9_M1",
        "outputId": "406f9425-0c9a-42dc-a686-af3ca6c98971"
      },
      "execution_count": null,
      "outputs": [
        {
          "output_type": "stream",
          "name": "stdout",
          "text": [
            "------ 학생 목록 ------\n",
            "이름\t총점\t평균\n",
            "윤인성\t368\t92.0\n",
            "연하진\t390\t97.5\n",
            "구지연\t356\t89.0\n",
            "나선주\t378\t94.5\n",
            "윤아린\t389\t97.25\n",
            "윤명월\t336\t84.0\n",
            "------  ------  ------\n"
          ]
        }
      ]
    },
    {
      "cell_type": "markdown",
      "source": [
        "# 가비지 컬렉터(garbage collector)\n",
        "프로그램 내부에서 무언가를 생성한다는 것은 **메모리 위에 올린다는 의미** 이다.<br>\n",
        "- 메모리가 부족해지면 컴퓨터는 하드디스크를 메모리처럼 사용하여 무언가를 올리기 시작한다. 이러한 동작을 **스왑(swap)**이라 하는데, 하드디스크는 메모리보다 훨씬 느리므로 스왑을 처리하는 속도도 느리다.\n",
        "프로그램에서 데이터를 만들면 메모리에 올라가고, 계속 만들다보면 가득 차버릴 것이다.<br>\n",
        "\n",
        "'가비지 컬렉터'는 더 사용할 가능성이 없는 데이터를 메모리에서 제거하는 역할을 한다.<br><br>\n",
        "'더 사용할 가능성이 없는 데이터'란 무엇일까?<br>\n",
        "- 변수에 저장되지 않거나, 함수 등에서 나오면서 변수를 활용할 수 없게 되는 경우 등등\n"
      ],
      "metadata": {
        "id": "0M_2D1OzcQjq"
      }
    },
    {
      "cell_type": "markdown",
      "source": [
        "### 가비지 컬렉터 : 변수에 저장하지 않은 경우"
      ],
      "metadata": {
        "id": "smTp9fa1ihi0"
      }
    },
    {
      "cell_type": "code",
      "source": [
        "class Test:\n",
        "  def __init__(self, name):\n",
        "    self.name = name\n",
        "    print(\"{} - 생성되었습니다\".format(self.name))\n",
        "\n",
        "  def __del__(self):\n",
        "    print(\"{} - 파괴되었습니다\".format(self.name))\n",
        "\n",
        "Test(\"A\")\n",
        "Test(\"B\")\n",
        "Test(\"C\")\n",
        "print()\n",
        "\n",
        "a = Test(\"A\")\n",
        "b = Test(\"B\")\n",
        "c = Test(\"C\")\n",
        "a"
      ],
      "metadata": {
        "id": "Vhmc-9_7_4Nr",
        "colab": {
          "base_uri": "https://localhost:8080/"
        },
        "outputId": "824261e3-0181-48e4-bf87-cf8001843e10"
      },
      "execution_count": 5,
      "outputs": [
        {
          "output_type": "stream",
          "name": "stdout",
          "text": [
            "A - 생성되었습니다\n",
            "A - 파괴되었습니다\n",
            "B - 생성되었습니다\n",
            "B - 파괴되었습니다\n",
            "C - 생성되었습니다\n",
            "C - 파괴되었습니다\n",
            "\n",
            "A - 생성되었습니다\n",
            "B - 생성되었습니다\n",
            "C - 생성되었습니다\n"
          ]
        },
        {
          "output_type": "execute_result",
          "data": {
            "text/plain": [
              "<__main__.Test at 0x7d987df33970>"
            ]
          },
          "metadata": {},
          "execution_count": 5
        }
      ]
    },
    {
      "cell_type": "markdown",
      "source": [
        "### 가비지 컬렉터 : 변수에 저장한 경우"
      ],
      "metadata": {
        "id": "mA8BsNFtj0y7"
      }
    },
    {
      "cell_type": "code",
      "source": [
        "class Test:\n",
        "  def __init__(self, name):\n",
        "    self.name = name\n",
        "    print(\"{} - 생성되었습니다\".format(self.name))\n",
        "  def __del__(self):\n",
        "    print(\"{} - 파괴되었습니다\".format(self.name))\n",
        "\n",
        "a = Test(\"A\")\n",
        "b = Test(\"B\")\n",
        "c = Test(\"C\")"
      ],
      "metadata": {
        "colab": {
          "base_uri": "https://localhost:8080/"
        },
        "id": "4uGiaG6Zi4GO",
        "outputId": "e3518a87-4a1f-48c5-c082-e216d7fda0cf"
      },
      "execution_count": null,
      "outputs": [
        {
          "output_type": "stream",
          "name": "stdout",
          "text": [
            "A - 생성되었습니다\n",
            "B - 생성되었습니다\n",
            "C - 생성되었습니다\n"
          ]
        }
      ]
    },
    {
      "cell_type": "code",
      "source": [
        "a"
      ],
      "metadata": {
        "colab": {
          "base_uri": "https://localhost:8080/"
        },
        "id": "1XU6gdrcj7Br",
        "outputId": "5e0a16dc-2a45-40e8-8a60-2285495bac78"
      },
      "execution_count": null,
      "outputs": [
        {
          "output_type": "execute_result",
          "data": {
            "text/plain": [
              "<__main__.Test at 0x7edeb37c2710>"
            ]
          },
          "metadata": {},
          "execution_count": 3
        }
      ]
    },
    {
      "cell_type": "markdown",
      "source": [
        "# **프라이빗 변수와 게터 / 세터**\n",
        "객체 지향 프로그래밍의 최종 목표는 객체를 효율적으로 만들고 사용하는 것이다."
      ],
      "metadata": {
        "id": "-H6R9rcRu2ST"
      }
    },
    {
      "cell_type": "markdown",
      "source": [
        "### 원의 둘레와 넓이를 구하는 객체 지향 프로그램"
      ],
      "metadata": {
        "id": "YCtLOf9q8W8b"
      }
    },
    {
      "cell_type": "code",
      "source": [
        "# 모듈 가져오기\n",
        "import math\n",
        "\n",
        "# 클래스 선언\n",
        "class Circle:\n",
        "    def __init__(self, radius):\n",
        "      self.radius = radius\n",
        "\n",
        "    def get_circumference(self):\n",
        "      return 2 * math.pi * self.radius\n",
        "\n",
        "    def get_area(self):\n",
        "      return math.pi * (self.radius ** 2)\n",
        "\n",
        "# 원의 둘레와 넓이를 구한다.\n",
        "circle = Circle(10)\n",
        "print(\"원의 둘레:\", circle.get_circumference())\n",
        "print(\"원의 넓이:\", circle.get_area())"
      ],
      "metadata": {
        "id": "KlgMRj2rj8hH",
        "colab": {
          "base_uri": "https://localhost:8080/"
        },
        "outputId": "dd491b6a-4d17-4179-c5dd-cc723edceb5b"
      },
      "execution_count": null,
      "outputs": [
        {
          "output_type": "stream",
          "name": "stdout",
          "text": [
            "원의 둘레: 62.83185307179586\n",
            "원의 넓이: 314.1592653589793\n"
          ]
        }
      ]
    },
    {
      "cell_type": "markdown",
      "source": [
        "위의 코드에서 Circle 클래스의 radius 속성이 음수라면?<br>\n",
        "원의 넓이는 제곱해서 괜찮지만, 둘레는 음수가 나온다.<br>\n",
        "따라서 길이를 음수로 넣는 것을 막는 방법이 필요하다.<br><br>\n",
        "\n",
        "사실 꼭 막을 필요는 없지만, 이 코드를 다른 사람에게 전달하거나, 내가 몇 개월 후에 다시 재사용할 때 세부적 규칙을 잊어버리고 잘못 사용할 수도 있기 때문에, 미연에 방지하는 것이 좋다."
      ],
      "metadata": {
        "id": "tjpLA4hn7CPo"
      }
    },
    {
      "cell_type": "markdown",
      "source": [
        "# **프라이빗 변수**\n",
        "변수를 마음대로 사용하는 것을 막는다. <br>\n",
        "클래스 내부의 변수를 외부에서 사용하는 것을 막고 싶을 때,<br><br>\n",
        "인스턴스 변수 이름을 __<변수 이름> 형태로 선언한다."
      ],
      "metadata": {
        "id": "d4ghN1q67fvd"
      }
    },
    {
      "cell_type": "code",
      "source": [
        "# 모듈을 가져온다\n",
        "import math\n",
        "\n",
        "# 클래스 선언\n",
        "class Circle:\n",
        "  def __init__(self, radius):\n",
        "    self.__radius = radius\n",
        "\n",
        "  def get_circumference(self):\n",
        "    return 2 * math.pi * self.__radius\n",
        "\n",
        "  def get_area(self):\n",
        "    return math.pi * (self.__radius ** 2)\n",
        "\n",
        "# 원의 둘레와 넓이를 구한다\n",
        "circle = Circle(10)\n",
        "print(\"원의 둘레:\", circle.get_circumference())\n",
        "print(\"원의 넓이:\", circle.get_area())\n",
        "print()\n",
        "\n",
        "# __radius 에 접근\n",
        "print(\"# __radius에 접근한다.\")\n",
        "print(circle.__radius)"
      ],
      "metadata": {
        "colab": {
          "base_uri": "https://localhost:8080/",
          "height": 295
        },
        "id": "1NbgEqTF66x8",
        "outputId": "314c5204-dbdd-4065-9e61-6e950b431caa"
      },
      "execution_count": null,
      "outputs": [
        {
          "output_type": "stream",
          "name": "stdout",
          "text": [
            "원의 둘레: 62.83185307179586\n",
            "원의 넓이: 314.1592653589793\n",
            "\n",
            "# __radius에 접근한다.\n"
          ]
        },
        {
          "output_type": "error",
          "ename": "AttributeError",
          "evalue": "ignored",
          "traceback": [
            "\u001b[0;31m---------------------------------------------------------------------------\u001b[0m",
            "\u001b[0;31mAttributeError\u001b[0m                            Traceback (most recent call last)",
            "\u001b[0;32m<ipython-input-3-c0b1a6818fad>\u001b[0m in \u001b[0;36m<cell line: 23>\u001b[0;34m()\u001b[0m\n\u001b[1;32m     21\u001b[0m \u001b[0;31m# __radius 에 접근\u001b[0m\u001b[0;34m\u001b[0m\u001b[0;34m\u001b[0m\u001b[0m\n\u001b[1;32m     22\u001b[0m \u001b[0mprint\u001b[0m\u001b[0;34m(\u001b[0m\u001b[0;34m\"# __radius에 접근한다.\"\u001b[0m\u001b[0;34m)\u001b[0m\u001b[0;34m\u001b[0m\u001b[0;34m\u001b[0m\u001b[0m\n\u001b[0;32m---> 23\u001b[0;31m \u001b[0mprint\u001b[0m\u001b[0;34m(\u001b[0m\u001b[0mcircle\u001b[0m\u001b[0;34m.\u001b[0m\u001b[0m__radius\u001b[0m\u001b[0;34m)\u001b[0m\u001b[0;34m\u001b[0m\u001b[0;34m\u001b[0m\u001b[0m\n\u001b[0m",
            "\u001b[0;31mAttributeError\u001b[0m: 'Circle' object has no attribute '__radius'"
          ]
        }
      ]
    },
    {
      "cell_type": "markdown",
      "source": [
        "# **게터와 세터**\n",
        "중간에 원의 둘레를 변경하고 싶다면 어떻게 해야할까?<br><br>\n",
        "게터(getter)와 세터(setter)는 프라이빗 변수의 값을 추출하거나 변경할 목적으로,<br>\n",
        "간접적으로 속성에 접근하도록 해주는 함수이다."
      ],
      "metadata": {
        "id": "uZkxoCcd8f8z"
      }
    },
    {
      "cell_type": "code",
      "source": [
        "# 모듈을 가져온다\n",
        "import math\n",
        "\n",
        "# 클래스 선언\n",
        "class Circle:\n",
        "  def __init__(self, radius):\n",
        "    self.__radius = radius\n",
        "\n",
        "  def get_circumference(self):\n",
        "    return 2 * math.pi * self.__radius\n",
        "\n",
        "  def get_area(self):\n",
        "    return math.pi * (self.__radius ** 2)\n",
        "\n",
        "  def get_radius(self):\n",
        "    return self.__radius\n",
        "\n",
        "  def set_radius(self, value):\n",
        "    self.__radius = value\n",
        "\n",
        "# 원의 둘레와 넓이를 구한다\n",
        "circle = Circle(10)\n",
        "print(\"원의 둘레:\", circle.get_circumference())\n",
        "print(\"원의 넓이:\", circle.get_area())\n",
        "print()\n",
        "\n",
        "# __radius 에 접근\n",
        "print(\"# __radius에 접근한다.\")\n",
        "print(circle.get_radius())\n",
        "print()\n",
        "\n",
        "# 원의 둘레와 넓이를 구한다.\n",
        "circle.set_radius(2)\n",
        "print(\"# 반지름을 변경하고 원의 둘레와 넓이를 구한다.\")\n",
        "print(\"원의 둘레:\", circle.get_circumference())\n",
        "print(\"원의 넓이:\", circle.get_area())\n",
        "\n",
        "#### 게터 세터로 변수를 안전하게 사용하기 EX)\n",
        "# def set_radius(self, value):\n",
        "#   if value <= 0:\n",
        "#     raise TypeError(\"길이는 양의 숫자여야 합니다.\")\n",
        "#   self.__radius = value"
      ],
      "metadata": {
        "colab": {
          "base_uri": "https://localhost:8080/"
        },
        "id": "_-FtJaaP8KZ5",
        "outputId": "be31e139-3e40-4cd8-a342-78a39af22362"
      },
      "execution_count": null,
      "outputs": [
        {
          "output_type": "stream",
          "name": "stdout",
          "text": [
            "원의 둘레: 62.83185307179586\n",
            "원의 넓이: 314.1592653589793\n",
            "\n",
            "# __radius에 접근한다.\n",
            "10\n",
            "\n",
            "# 반지름을 변경하고 원의 둘레와 넓이를 구한다.\n",
            "원의 둘레: 12.566370614359172\n",
            "원의 넓이: 12.566370614359172\n"
          ]
        }
      ]
    },
    {
      "cell_type": "markdown",
      "source": [
        "# 데코레이터를 사용한 게터와 세터\n",
        "게터와 세터를 함수로 만드는 일이 많아져서 파이썬 프로그래밍 언어는 게터와 세터를 쉽게 만들고 사용할 수 있게 하는 기능을 제공한다.<br><br>\n",
        "변수 이름과 같은 함수를 정의하고 위에 **@property와 @<게터 함수 이름>.setter** 라는 데코레이터를 붙여준다."
      ],
      "metadata": {
        "id": "idsqpO0E_SHq"
      }
    },
    {
      "cell_type": "code",
      "source": [
        "# 모듈을 가져온다\n",
        "import math\n",
        "\n",
        "# 클래스 선언\n",
        "class Circle:\n",
        "  def __init__(self, radius):\n",
        "    self.__radius = radius\n",
        "\n",
        "  def get_circumference(self):\n",
        "    return 2 * math.pi * self.__radius\n",
        "\n",
        "  def get_area(self):\n",
        "    return math.pi * (self.__radius ** 2)\n",
        "\n",
        "  # 게터와 세터를 선언\n",
        "  @property\n",
        "  def radius(self):\n",
        "    return self.__radius\n",
        "\n",
        "  @radius.setter\n",
        "  def radius(self, value):\n",
        "    if value <= 0:\n",
        "      raise TypeError(\"길이는 양의 숫자여야 합니다.\")\n",
        "    self.__radius = value\n",
        "\n",
        "# 원의 둘레와 넓이를 구한다.\n",
        "print(\"# 데코레이터를 사용한 Getter와 Setter\")\n",
        "circle = Circle(10)\n",
        "print(\"원래 원의 반지름 : \", circle.radius)\n",
        "circle.radius = 2\n",
        "print(\"변경된 원의 반지름 : \", circle.radius)\n",
        "print()\n",
        "\n",
        "# 강제로 예외 발생시키기\n",
        "print(\"# 강제로 예외를 발생시킨다.\")\n",
        "circle.radius = -10"
      ],
      "metadata": {
        "colab": {
          "base_uri": "https://localhost:8080/",
          "height": 442
        },
        "id": "Ws8JuyJ59Y3P",
        "outputId": "1312dfa2-9a52-4bdd-f1ba-088c00803996"
      },
      "execution_count": null,
      "outputs": [
        {
          "output_type": "stream",
          "name": "stdout",
          "text": [
            "# 데코레이터를 사용한 Getter와 Setter\n",
            "원래 원의 반지름 :  10\n",
            "변경된 원의 반지름 :  2\n",
            "\n",
            "# 강제로 예외를 발생시킨다.\n"
          ]
        },
        {
          "output_type": "error",
          "ename": "TypeError",
          "evalue": "ignored",
          "traceback": [
            "\u001b[0;31m---------------------------------------------------------------------------\u001b[0m",
            "\u001b[0;31mTypeError\u001b[0m                                 Traceback (most recent call last)",
            "\u001b[0;32m<ipython-input-7-11f302248523>\u001b[0m in \u001b[0;36m<cell line: 36>\u001b[0;34m()\u001b[0m\n\u001b[1;32m     34\u001b[0m \u001b[0;31m# 강제로 예외 발생시키기\u001b[0m\u001b[0;34m\u001b[0m\u001b[0;34m\u001b[0m\u001b[0m\n\u001b[1;32m     35\u001b[0m \u001b[0mprint\u001b[0m\u001b[0;34m(\u001b[0m\u001b[0;34m\"# 강제로 예외를 발생시킨다.\"\u001b[0m\u001b[0;34m)\u001b[0m\u001b[0;34m\u001b[0m\u001b[0;34m\u001b[0m\u001b[0m\n\u001b[0;32m---> 36\u001b[0;31m \u001b[0mcircle\u001b[0m\u001b[0;34m.\u001b[0m\u001b[0mradius\u001b[0m \u001b[0;34m=\u001b[0m \u001b[0;34m-\u001b[0m\u001b[0;36m10\u001b[0m\u001b[0;34m\u001b[0m\u001b[0;34m\u001b[0m\u001b[0m\n\u001b[0m",
            "\u001b[0;32m<ipython-input-7-11f302248523>\u001b[0m in \u001b[0;36mradius\u001b[0;34m(self, value)\u001b[0m\n\u001b[1;32m     21\u001b[0m   \u001b[0;32mdef\u001b[0m \u001b[0mradius\u001b[0m\u001b[0;34m(\u001b[0m\u001b[0mself\u001b[0m\u001b[0;34m,\u001b[0m \u001b[0mvalue\u001b[0m\u001b[0;34m)\u001b[0m\u001b[0;34m:\u001b[0m\u001b[0;34m\u001b[0m\u001b[0;34m\u001b[0m\u001b[0m\n\u001b[1;32m     22\u001b[0m     \u001b[0;32mif\u001b[0m \u001b[0mvalue\u001b[0m \u001b[0;34m<=\u001b[0m \u001b[0;36m0\u001b[0m\u001b[0;34m:\u001b[0m\u001b[0;34m\u001b[0m\u001b[0;34m\u001b[0m\u001b[0m\n\u001b[0;32m---> 23\u001b[0;31m       \u001b[0;32mraise\u001b[0m \u001b[0mTypeError\u001b[0m\u001b[0;34m(\u001b[0m\u001b[0;34m\"길이는 양의 숫자여야 합니다.\"\u001b[0m\u001b[0;34m)\u001b[0m\u001b[0;34m\u001b[0m\u001b[0;34m\u001b[0m\u001b[0m\n\u001b[0m\u001b[1;32m     24\u001b[0m     \u001b[0mself\u001b[0m\u001b[0;34m.\u001b[0m\u001b[0m__radius\u001b[0m \u001b[0;34m=\u001b[0m \u001b[0mvalue\u001b[0m\u001b[0;34m\u001b[0m\u001b[0;34m\u001b[0m\u001b[0m\n\u001b[1;32m     25\u001b[0m \u001b[0;34m\u001b[0m\u001b[0m\n",
            "\u001b[0;31mTypeError\u001b[0m: 길이는 양의 숫자여야 합니다."
          ]
        }
      ]
    },
    {
      "cell_type": "markdown",
      "source": [
        "### 상속\n",
        "클래스 기반의 객체 지향 언어들은 **상속**이라는 기능을 지원한다.\n",
        "* 다른 누군가가 만들어 놓은 기본 형태에 내가 원하는 것만 추가하거나 교체하는 것\n",
        "\n",
        "\n",
        "### 다중 상속\n",
        "* 다른 누군가가 만들어 놓은 형태들을 조립해서 내가 원하는 것을 만드는 것\n",
        "\n",
        "\n",
        "기반이 되는 것을 **부모** <br>\n",
        "이를 기반으로 생성한 것을 **자식**<br>"
      ],
      "metadata": {
        "id": "9o85HYyvDOwC"
      }
    },
    {
      "cell_type": "code",
      "source": [
        "# 상속의 활용\n",
        "\n",
        "# 부모 클래스를 선언한다.\n",
        "class Parent:\n",
        "  def __init__(self):\n",
        "    self.value = \"테스트\"\n",
        "    print(\"Parent 클래스의 __init()__ 메소드가 호출되었습니다.\")\n",
        "\n",
        "  def test(self):\n",
        "    print(\"Parent 클래스의 test() 메소드입니다.\")\n",
        "\n",
        "# 자식 클래스를 선언한다.\n",
        "class Child(Parent):\n",
        "  def __init__(self):\n",
        "    super().__init__()    # 부모의 __init__() 함수를 호출한다.\n",
        "    print(\"Child 클래스의 __init()__ 메소드가 호출되었습니다.\")\n",
        "\n",
        "# 자식 클래스의 인스턴스를 생성하고 부모의 메소드를 호출한다.\n",
        "print(\"1\")\n",
        "child = Child()\n",
        "print(\"2\")\n",
        "child.test()\n",
        "print(\"3\")\n",
        "print(child.value)\n",
        "\n",
        "# 이처럼 상속을 받는 자식 클래스는 부모 클래스의 메소드들을 사용할 수 있다."
      ],
      "metadata": {
        "colab": {
          "base_uri": "https://localhost:8080/"
        },
        "id": "SeUi4P31AVv3",
        "outputId": "cd4e7425-b1e2-4cbd-ca1c-d2242943816e"
      },
      "execution_count": 8,
      "outputs": [
        {
          "output_type": "stream",
          "name": "stdout",
          "text": [
            "1\n",
            "Parent 클래스의 __init()__ 메소드가 호출되었습니다.\n",
            "Child 클래스의 __init()__ 메소드가 호출되었습니다.\n",
            "2\n",
            "Parent 클래스의 test() 메소드입니다.\n",
            "3\n",
            "테스트\n"
          ]
        }
      ]
    },
    {
      "cell_type": "markdown",
      "source": [
        "## **예외 클래스 만들기**\n",
        "상속은 기존에 있는 클래스를 기반으로 조금 수정해서 내가 원하는 클래스를 만들 때 사용한다.<br>\n",
        "Exception 이라는 기존 클래스를 조금 수정해서 CustomException이라는 클래스를 만들어보자."
      ],
      "metadata": {
        "id": "c26wIwCuFKC4"
      }
    },
    {
      "cell_type": "code",
      "source": [
        "# 사용자 정의 예외 클래스 만들기\n",
        "\n",
        "class CustomException(Exception):\n",
        "  def __init__(self):\n",
        "    super().__init__()\n",
        "\n",
        "raise CustomException\n",
        "\n",
        "# Exception 클래스와 이름만 다르지 같은 클래스이다."
      ],
      "metadata": {
        "colab": {
          "base_uri": "https://localhost:8080/",
          "height": 258
        },
        "id": "DhpnXGvgA83U",
        "outputId": "6594cdc0-78f1-40ce-803e-e9636d5e28e7"
      },
      "execution_count": null,
      "outputs": [
        {
          "output_type": "error",
          "ename": "CustomException",
          "evalue": "ignored",
          "traceback": [
            "\u001b[0;31m---------------------------------------------------------------------------\u001b[0m",
            "\u001b[0;31mCustomException\u001b[0m                           Traceback (most recent call last)",
            "\u001b[0;32m<ipython-input-11-61e0ec6c5e34>\u001b[0m in \u001b[0;36m<cell line: 7>\u001b[0;34m()\u001b[0m\n\u001b[1;32m      5\u001b[0m     \u001b[0msuper\u001b[0m\u001b[0;34m(\u001b[0m\u001b[0;34m)\u001b[0m\u001b[0;34m.\u001b[0m\u001b[0m__init__\u001b[0m\u001b[0;34m(\u001b[0m\u001b[0;34m)\u001b[0m\u001b[0;34m\u001b[0m\u001b[0;34m\u001b[0m\u001b[0m\n\u001b[1;32m      6\u001b[0m \u001b[0;34m\u001b[0m\u001b[0m\n\u001b[0;32m----> 7\u001b[0;31m \u001b[0;32mraise\u001b[0m \u001b[0mCustomException\u001b[0m\u001b[0;34m\u001b[0m\u001b[0;34m\u001b[0m\u001b[0m\n\u001b[0m\u001b[1;32m      8\u001b[0m \u001b[0;34m\u001b[0m\u001b[0m\n\u001b[1;32m      9\u001b[0m \u001b[0;31m# Exception 클래스와 이름만 다르지 같은 클래스이다.\u001b[0m\u001b[0;34m\u001b[0m\u001b[0;34m\u001b[0m\u001b[0m\n",
            "\u001b[0;31mCustomException\u001b[0m: "
          ]
        }
      ]
    },
    {
      "cell_type": "markdown",
      "source": [
        "### 자식 클래스로써 부모의 함수 재정의(오버라이드)하기"
      ],
      "metadata": {
        "id": "PwF7R5ANGOi-"
      }
    },
    {
      "cell_type": "code",
      "source": [
        "class CustomException(Exception):\n",
        "  def __init__(self):\n",
        "    super().__init__()\n",
        "    print(\"##### 내가 만든 오류가 생성되었어요! #####\")\n",
        "\n",
        "  def __str__(self):\n",
        "    return \"오류가 발생했습니다.\"\n",
        "\n",
        "raise CustomException"
      ],
      "metadata": {
        "colab": {
          "base_uri": "https://localhost:8080/",
          "height": 239
        },
        "id": "pWGig_-bFe3P",
        "outputId": "a88cb57d-e518-4645-d1c3-3f51a4ce72db"
      },
      "execution_count": null,
      "outputs": [
        {
          "output_type": "stream",
          "name": "stdout",
          "text": [
            "##### 내가 만든 오류가 생성되었어요! #####\n"
          ]
        },
        {
          "output_type": "error",
          "ename": "CustomException",
          "evalue": "ignored",
          "traceback": [
            "\u001b[0;31m---------------------------------------------------------------------------\u001b[0m",
            "\u001b[0;31mCustomException\u001b[0m                           Traceback (most recent call last)",
            "\u001b[0;32m<ipython-input-13-16eab2d5816f>\u001b[0m in \u001b[0;36m<cell line: 9>\u001b[0;34m()\u001b[0m\n\u001b[1;32m      7\u001b[0m     \u001b[0;32mreturn\u001b[0m \u001b[0;34m\"오류가 발생했습니다.\"\u001b[0m\u001b[0;34m\u001b[0m\u001b[0;34m\u001b[0m\u001b[0m\n\u001b[1;32m      8\u001b[0m \u001b[0;34m\u001b[0m\u001b[0m\n\u001b[0;32m----> 9\u001b[0;31m \u001b[0;32mraise\u001b[0m \u001b[0mCustomException\u001b[0m\u001b[0;34m\u001b[0m\u001b[0;34m\u001b[0m\u001b[0m\n\u001b[0m",
            "\u001b[0;31mCustomException\u001b[0m: 오류가 발생했습니다."
          ]
        }
      ]
    },
    {
      "cell_type": "markdown",
      "source": [
        "--> 참고로 `__str__()` 함수는 부모(Exception 클래스)에도 정의되어 있다. 이처럼 부모에 정의되어 있는 함수를 자식에서 다시 정의하는 것을 **재정의** 또는 **오버라이드(overide)**라고 부른다."
      ],
      "metadata": {
        "id": "C4M81kVVIjz6"
      }
    },
    {
      "cell_type": "markdown",
      "source": [
        "### 자식 클래스로써 부모에 없는 새로운 함수 정의하기"
      ],
      "metadata": {
        "id": "OnusXKVBI5NP"
      }
    },
    {
      "cell_type": "code",
      "source": [
        "class CustomException(Exception):\n",
        "  def __init__(self, message, value):\n",
        "    super().__init__()\n",
        "    self.message = message\n",
        "    self.value = value\n",
        "\n",
        "  def __str__(self):\n",
        "    return self.message\n",
        "\n",
        "  def print(self):\n",
        "    print(\"###### 오류 정보 ######\")\n",
        "    print(\"메시지:\", self.message)\n",
        "    print(\"값:\", self.value)\n",
        "\n",
        "# 예외를 발생시켜 본다.\n",
        "try:\n",
        "  raise CustomException(\"딱히 이유 없음\", 273)\n",
        "except CustomException as e:\n",
        "  e.print()"
      ],
      "metadata": {
        "colab": {
          "base_uri": "https://localhost:8080/"
        },
        "id": "ztL0pSidIMtQ",
        "outputId": "2564596e-fb66-43c2-b83a-03cdb83cc2d8"
      },
      "execution_count": null,
      "outputs": [
        {
          "output_type": "stream",
          "name": "stdout",
          "text": [
            "###### 오류 정보 ######\n",
            "메시지: 딱히 이유 없음\n",
            "값: 273\n"
          ]
        }
      ]
    },
    {
      "cell_type": "markdown",
      "source": [
        "# 8-2 확인문제"
      ],
      "metadata": {
        "id": "lexsWuXxKTAo"
      }
    },
    {
      "cell_type": "markdown",
      "source": [
        "### 1번\n",
        "Student 객체를 숫자와 비교했을 때 학생의 성적 평균과 비교가 일어나게 해보아라. 예를 들어\n",
        "```\n",
        "test = Student(\"A\", 90, 90, 90, 90)\n",
        "print(test == 90) # -> True\n",
        "print(test != 90) # -> False\n",
        "print(test > 90) # -> False\n",
        "print(test >= 90) # -> True\n",
        "print(test < 90) # -> False\n",
        "print(test <= 90) # -> True\n",
        "```\n",
        "보기\n",
        "```\n",
        "# 클래스 선언\n",
        "class Student:\n",
        "  def __init__(self, name, korean, math, english, science):\n",
        "    self.name = name\n",
        "    self.korean = korean\n",
        "    self.math = math\n",
        "    self.english = english\n",
        "    self.science = science\n",
        "\n",
        "  def get_sum(self):\n",
        "    return self.korean + self.math + \\\n",
        "           self.english + self.science\n",
        "\n",
        "  def get_average(self):\n",
        "    return self.get_sum() / 4\n",
        "\n",
        "  def __  __(self, value):\n",
        "    return self.get_average() __________\n",
        "\n",
        "  def __  __(self, value):\n",
        "    return self.get_average() __________\n",
        "\n",
        "  def __  __(self, value):\n",
        "    return self.get_average() __________\n",
        "\n",
        "  def __  __(self, value):\n",
        "    return self.get_average() __________\n",
        "\n",
        "  def __  __(self, value):\n",
        "    return self.get_average() __________\n",
        "\n",
        "  def __  __(self, value):\n",
        "    return self.get_average() __________\n",
        "\n",
        "# 학생 선언\n",
        "test = Student(\"A\", 90, 90, 90, 90)\n",
        "\n",
        "# 출력\n",
        "print(\"test == 90 :\", test == 90)\n",
        "print(\"test != 90 :\", test != 90)\n",
        "print(\"test > 90 :\", test > 90)\n",
        "print(\"test >= 90 :\", test >= 90)\n",
        "print(\"test < 90 :\", test < 90)\n",
        "print(\"test <= 90 :\", test <= 90)\n",
        "```"
      ],
      "metadata": {
        "id": "zE8N1HGCKehL"
      }
    },
    {
      "cell_type": "code",
      "source": [
        "# 클래스 선언\n",
        "# 학생 성적 조금 변경시켜 봄\n",
        "class Student:\n",
        "  def __init__(self, name, korean, math, english, science):\n",
        "    self.name = name\n",
        "    self.korean = korean\n",
        "    self.math = math\n",
        "    self.english = english\n",
        "    self.science = science\n",
        "\n",
        "  def get_sum(self):\n",
        "    return self.korean + self.math + \\\n",
        "           self.english + self.science\n",
        "\n",
        "  def get_average(self):\n",
        "    return self.get_sum() / 4\n",
        "\n",
        "  def __eq__(self, value):\n",
        "    return self.get_average() == value.get_average()\n",
        "\n",
        "  def __ne__(self, value):\n",
        "    return self.get_average() != value.get_average()\n",
        "\n",
        "  def __gt__(self, value):\n",
        "    return self.get_average() > value.get_average()\n",
        "\n",
        "  def __ge__(self, value):\n",
        "    return self.get_average() >= value.get_average()\n",
        "\n",
        "  def __lt__(self, value):\n",
        "    return self.get_average() < value.get_average()\n",
        "\n",
        "  def __le__(self, value):\n",
        "    return self.get_average() <= value.get_average()\n",
        "\n",
        "# 학생 선언\n",
        "test = Student(\"A\", 89, 87, 95, 88)\n",
        "test2 = Student(\"B\", 90, 90, 90, 90)\n",
        "\n",
        "# 출력\n",
        "print(\"test == test2 :\", test == test2)\n",
        "print(\"test != test2 :\", test != test2)\n",
        "print(\"test > test2 :\", test > test2)\n",
        "print(\"test >= test2 :\", test >= test2)\n",
        "print(\"test < test2 :\", test < test2)\n",
        "print(\"test <= test2 :\", test <= test2)"
      ],
      "metadata": {
        "colab": {
          "base_uri": "https://localhost:8080/"
        },
        "id": "nYV6uE05Jgu_",
        "outputId": "03aeb1fb-6404-43c0-f013-4a6e220c9f23"
      },
      "execution_count": null,
      "outputs": [
        {
          "output_type": "stream",
          "name": "stdout",
          "text": [
            "test == test2 : False\n",
            "test != test2 : True\n",
            "test > test2 : False\n",
            "test >= test2 : False\n",
            "test < test2 : True\n",
            "test <= test2 : True\n"
          ]
        }
      ]
    },
    {
      "cell_type": "markdown",
      "source": [
        "# 8장 도전문제\n",
        "<br>\n",
        "\n",
        "파이썬은 클래스의 사용 비중이 다른 객체 지향 프로그래밍 언어에 비해 높지 않다.<br>\n",
        "\n",
        "그래서 간단하게 **구성** 이라는 중요 개념을 알아볼 수 있는 문제를 소개한다.<br><br>\n",
        "\n",
        "* 상속 : 다른 클래스의 모든 것을 물려 받아서 새로운 클래스를 만듦 (IS-A 관계)\n",
        "* 구성 : 다른 클래스를 갖고, 필요할 때 활용하는 것 (HAS-A 관계)"
      ],
      "metadata": {
        "id": "RRNU59t_YPmR"
      }
    },
    {
      "cell_type": "markdown",
      "source": [
        "### 1. StudentList 클래스 구현하기\n",
        "```\n",
        "class Student:\n",
        "  def __init__(self, name, score):\n",
        "    self.name = name\n",
        "    self.score = score\n",
        "\n",
        "class StudentList:\n",
        "  def __init__(self):\n",
        "    # 구성을 사용했습니다.\n",
        "    self.students = []\n",
        "\n",
        "  def append(self, student):\n",
        "    ______\n",
        "\n",
        "  def get_average(self):\n",
        "    ______\n",
        "\n",
        "  def get_first_by_score(self):\n",
        "    ______\n",
        "\n",
        "  def get_last_by_score(self):\n",
        "    ______\n",
        "\n",
        "students = StudentList()\n",
        "\n",
        "students.append(Student(\"구름\", 100))\n",
        "students.append(Student(\"별\", 49))\n",
        "students.append(Student(\"초코\", 81))\n",
        "students.append(Student(\"아지\", 90))\n",
        "\n",
        "print(f\"학급의 평균 점수는 {students.get_average()}입니다.\")\n",
        "print(f\"가장 성적이 높은 학생은 {students.get_first_by_score().name}입니다.\")\n",
        "print(f\"가장 성적이 낮은 학생은 {students.get_last_by_score().name}입니다.\")\n",
        "```\n",
        "\n",
        "실행 결과 화면\n",
        "```\n",
        "학급의 평균 점수는 80.0입니다.\n",
        "가장 성적이 높은 학생은 구름입니다.\n",
        "가장 성적이 낮은 학생은 별입니다.\n",
        "```"
      ],
      "metadata": {
        "id": "RiwdjWRJY01k"
      }
    },
    {
      "cell_type": "code",
      "source": [
        "class Student:\n",
        "  def __init__(self, name, score):\n",
        "    self.name = name\n",
        "    self.score = score\n",
        "\n",
        "class StudentList:\n",
        "  def __init__(self):\n",
        "    # 구성을 사용했습니다.\n",
        "    self.students = []\n",
        "    self.count = 0\n",
        "\n",
        "  def append(self, student):\n",
        "    self.students.append(student)\n",
        "    self.count += 1\n",
        "\n",
        "  def get_average(self):\n",
        "    return sum([\n",
        "        student.score\n",
        "        for student in self.students\n",
        "    ]) / len(self.students)\n",
        "\n",
        "  def get_first_by_score(self):\n",
        "    return max(self.students, key = lambda x : x.score)\n",
        "\n",
        "  def get_last_by_score(self):\n",
        "    return min(self.students, key = lambda x : x.score)\n",
        "\n",
        "students = StudentList()\n",
        "\n",
        "students.append(Student(\"구름\", 100))\n",
        "students.append(Student(\"별\", 49))\n",
        "students.append(Student(\"초코\", 81))\n",
        "students.append(Student(\"아지\", 90))\n",
        "\n",
        "print(f\"학급의 평균 점수는 {students.get_average()}입니다.\")\n",
        "print(f\"가장 성적이 높은 학생은 {students.get_first_by_score().name}입니다.\")\n",
        "print(f\"가장 성적이 낮은 학생은 {students.get_last_by_score().name}입니다.\")\n",
        "print(f\"students 의 총 인원은 {students.count}명 입니다.\")\n",
        "\n",
        "students2 = StudentList()\n",
        "print(f\"students2 의 총 인원은 {students2.count}명 입니다.\")"
      ],
      "metadata": {
        "colab": {
          "base_uri": "https://localhost:8080/"
        },
        "id": "COG6EkIfTYok",
        "outputId": "f89ee2d1-e8b2-4537-ead0-d2a777ac0161"
      },
      "execution_count": null,
      "outputs": [
        {
          "output_type": "stream",
          "name": "stdout",
          "text": [
            "학급의 평균 점수는 80.0입니다.\n",
            "가장 성적이 높은 학생은 구름입니다.\n",
            "가장 성적이 낮은 학생은 별입니다.\n",
            "students 의 총 인원은 4명 입니다.\n",
            "students2 의 총 인원은 0명 입니다.\n"
          ]
        }
      ]
    },
    {
      "cell_type": "markdown",
      "source": [
        "### 2. 스택 구현하기\n",
        "* 참고 : https://velog.io/@sbinha/%EC%8A%A4%ED%83%9D-%ED%81%90\n",
        "* 스택 : push / pop --> First In Last Out 방식\n",
        "* 큐 : enqueue / dequeue --> First In First Out 방식\n",
        "\n",
        "\n",
        "파이썬의 리스트는 스택과 큐의 기능을 모두 갖고 있다.<br>\n",
        "\n",
        "하지만 기능이 너무 많기 때문에 리스트를 스택처럼 써야 하는 상황에서 스택처럼 쓰지 않을 수도 있다.<br>\n",
        "\n",
        "이러한 경우 Stack이라는 새로운 클래스를 만들어서 사용하는 방법이 있다.<br>\n",
        "\n",
        "Stack 클래스가 리스트를 갖게 코드를 구성하고(Stack has-a List), 리스트를 스택으로만 사용하게 제한하는 것이다. 빈칸을 채워 Stack 클래스를 구현해보자.\n",
        "\n",
        "```\n",
        "class Stack:\n",
        "  def __init__(self):\n",
        "    self.list = []\n",
        "\n",
        "  def push(self, item):\n",
        "    ______\n",
        "\n",
        "  def pop(self):\n",
        "    ______\n",
        "\n",
        "stack = Stack()\n",
        "stack.push(10)\n",
        "stack.push(20)\n",
        "stack.push(30)\n",
        "\n",
        "print(stack.pop())\n",
        "print(stack.pop())\n",
        "print(stack.pop())\n",
        "```\n",
        "\n",
        "실행 결과\n",
        "\n",
        "```\n",
        "30\n",
        "20\n",
        "10\n",
        "```"
      ],
      "metadata": {
        "id": "sPwD0saqagI1"
      }
    },
    {
      "cell_type": "code",
      "source": [
        "class Stack:\n",
        "  def __init__(self):\n",
        "    self.list = []\n",
        "\n",
        "  def push(self, item):\n",
        "    self.list.append(item)\n",
        "\n",
        "  def pop(self):\n",
        "    return self.list.pop()  # 리턴을 어느때에 해주어야 하는지 잊지말자!!\n",
        "\n",
        "stack = Stack()\n",
        "stack.push(10)\n",
        "stack.push(20)\n",
        "stack.push(30)\n",
        "\n",
        "print(stack.pop())\n",
        "print(stack.pop())\n",
        "print(stack.pop())"
      ],
      "metadata": {
        "id": "BTCEFBlpMpp6",
        "colab": {
          "base_uri": "https://localhost:8080/"
        },
        "outputId": "7153d84e-2076-4967-9885-f604b1893a9b"
      },
      "execution_count": null,
      "outputs": [
        {
          "output_type": "stream",
          "name": "stdout",
          "text": [
            "30\n",
            "20\n",
            "10\n"
          ]
        }
      ]
    },
    {
      "cell_type": "markdown",
      "source": [
        "### 3. 큐 구현하기\n",
        "빈칸을 채워서 Queue 클래스를 직접 구현해보자.\n",
        "```\n",
        "class Queue:\n",
        "  def __init__(self):\n",
        "    self.list = []\n",
        "\n",
        "  def enqueue(self, item):\n",
        "    ______\n",
        "\n",
        "  def dequeue(self):\n",
        "    ______\n",
        "\n",
        "queue = Queue()\n",
        "queue.enqueue(10)\n",
        "queue.enqueue(20)\n",
        "queue.enqueue(30)\n",
        "\n",
        "print(queue.dequeue())\n",
        "print(queue.dequeue())\n",
        "print(queue.dequeue())\n",
        "```"
      ],
      "metadata": {
        "id": "FDdLYJhvcj5B"
      }
    },
    {
      "cell_type": "code",
      "source": [
        "class Queue:\n",
        "  def __init__(self):\n",
        "    self.list = []\n",
        "\n",
        "  def enqueue(self, item):\n",
        "    self.list.insert(0, item)\n",
        "\n",
        "  def dequeue(self):\n",
        "    return self.list.pop()\n",
        "\n",
        "queue = Queue()\n",
        "queue.enqueue(10)\n",
        "queue.enqueue(20)\n",
        "queue.enqueue(30)\n",
        "\n",
        "print(queue.dequeue())\n",
        "print(queue.dequeue())\n",
        "print(queue.dequeue())"
      ],
      "metadata": {
        "id": "TFb8qEXzc93W",
        "colab": {
          "base_uri": "https://localhost:8080/"
        },
        "outputId": "deb36068-1004-4c35-f1b3-4e1eb722110e"
      },
      "execution_count": null,
      "outputs": [
        {
          "output_type": "stream",
          "name": "stdout",
          "text": [
            "10\n",
            "20\n",
            "30\n"
          ]
        }
      ]
    }
  ]
}